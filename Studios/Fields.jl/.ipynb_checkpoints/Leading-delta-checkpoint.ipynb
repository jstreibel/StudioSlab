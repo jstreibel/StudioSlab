{
 "cells": [
  {
   "cell_type": "markdown",
   "metadata": {
    "tags": []
   },
   "source": [
    "# The $\\delta$-driven signum-KleinGordon model in 2+1 dimensions"
   ]
  },
  {
   "cell_type": "markdown",
   "metadata": {},
   "source": [
    "## Model parameters:"
   ]
  },
  {
   "cell_type": "markdown",
   "metadata": {},
   "source": [
    "$\\varepsilon$:    the triangle Dirac-$\\delta$-like function's regularization parameter; \\\n",
    "$W_0$:    the discontinuity value at the wave front; \\\n",
    "$C_n=\\dfrac{W_0}2$: the $\\delta$ multiplier"
   ]
  },
  {
   "cell_type": "code",
   "execution_count": null,
   "metadata": {
    "tags": []
   },
   "outputs": [],
   "source": [
    "ε = 0.012\n",
    "W₀ = 2//3\n",
    "Cₙ = Float64(W₀/2)\n",
    "\n",
    "println(\"ε = $ε\")\n",
    "println(\"W₀ = $W₀\")\n",
    "println(\"Cₙ = $Cₙ\")"
   ]
  },
  {
   "cell_type": "markdown",
   "metadata": {
    "tags": []
   },
   "source": [
    "# Notebook options"
   ]
  },
  {
   "cell_type": "code",
   "execution_count": null,
   "metadata": {
    "jupyter": {
     "source_hidden": true
    },
    "tags": []
   },
   "outputs": [],
   "source": [
    "plot_GLMakie = true\n",
    "plot_PlotlyJS = false\n",
    "show_IC = false\n",
    "reclaim_gpu_mem_at_end = true\n",
    "\n",
    "n_plots = 6\n",
    "\n",
    "model = (\"signum-KleinGordon with driving delta\", \"regular signum-KleinGordon\")[1]\n",
    "\n",
    "\n",
    "will = plot_GLMakie ? \"\" : \" NOT\"\n",
    "println(\"Will$will plot with GLMakie\")\n",
    "will = plot_PlotlyJS ? \"\" : \" NOT\"\n",
    "println(\"Will$will plot with PlotlyJS\")\n",
    "will = show_IC ? \"\" : \" NOT\"\n",
    "println(\"Will$will show IC\")\n",
    "will = reclaim_gpu_mem_at_end ? \"\" : \" NOT\"\n",
    "println(\"Will$will reclaim GPU memory at the end\")\n",
    "\n",
    "println(\"Will plot $n_plots plots\")\n",
    "\n",
    "println(\"\\nModel is $model\")"
   ]
  },
  {
   "cell_type": "markdown",
   "metadata": {
    "tags": []
   },
   "source": [
    "# Setup"
   ]
  },
  {
   "cell_type": "code",
   "execution_count": null,
   "metadata": {
    "jupyter": {
     "source_hidden": true
    },
    "tags": []
   },
   "outputs": [],
   "source": [
    "using DifferentialEquations, CUDA\n",
    "using Fields\n",
    "\n",
    "function reclaim()\n",
    "    global sol\n",
    "    sol = nothing\n",
    "    GC.gc()\n",
    "    CUDA.reclaim()\n",
    "end\n",
    "\n",
    "reclaim()\n"
   ]
  },
  {
   "cell_type": "markdown",
   "metadata": {
    "tags": []
   },
   "source": [
    "## Sim params"
   ]
  },
  {
   "cell_type": "code",
   "execution_count": null,
   "metadata": {
    "tags": []
   },
   "outputs": [],
   "source": [
    "L = 2.4\n",
    "N = 2^10\n",
    "h = L/(N-1)\n",
    "tmax = L/2 - ε\n",
    "xₘᵢₙ = -L/2\n",
    "xy₀ = (xₘᵢₙ, xₘᵢₙ)\n",
    "\n",
    "@assert N%32 ≡ 0 && N ≥ 32 \"N must be multiple of 32\"\n",
    "\n",
    "εh⁻¹ = ε/h\n",
    "\n",
    "println(\"L = $L\")\n",
    "N² = N^2\n",
    "N²2 = 2N^2\n",
    "println(\"N = $N\")\n",
    "println(\"h = $h\")\n",
    "println(\"N² = $N²\")\n",
    "println(\"2N² = $N²2\")\n",
    "println(\"tmax = $tmax\")\n",
    "println(\"xₘᵢₙ = $xₘᵢₙ\")\n",
    "println(\"ε/h = $εh⁻¹\")\n"
   ]
  },
  {
   "cell_type": "markdown",
   "metadata": {
    "tags": []
   },
   "source": [
    "## Output params"
   ]
  },
  {
   "cell_type": "code",
   "execution_count": null,
   "metadata": {
    "jupyter": {
     "source_hidden": true
    },
    "tags": []
   },
   "outputs": [],
   "source": [
    "n_tsaves = 100\n",
    "n_output_resolution_max = 2^10\n",
    "\n",
    "@assert n_plots ≤ n_tsaves \"n_plots must be ≤ n_tsaves\"\n",
    "\n",
    "n = N ≤ n_output_resolution_max ? N : n_output_resolution_max # tamanho do espaço que tudo vai ser salvo (n^3)\n",
    "\n",
    "frac = Float32(N)/n\n",
    "idxs = [Integer( floor(i*frac + (j-1)*frac*N) ) for i in 1:n, j in 1:n];\n",
    "rsave_idxs = repeat(idxs, 1, 2)\n",
    "\n",
    "\n",
    "GB =  (n^2 * n_tsaves * 8) * 10^-9\n",
    "\n",
    "println(\"Output time resolution: $n_tsaves instants\")\n",
    "println(\"Total saved size: $GB GB\")\n",
    "println(\"Output space resolution: $n x $n\")"
   ]
  },
  {
   "cell_type": "markdown",
   "metadata": {
    "tags": []
   },
   "source": [
    "## Other declarations"
   ]
  },
  {
   "cell_type": "code",
   "execution_count": null,
   "metadata": {
    "jupyter": {
     "source_hidden": true
    },
    "tags": []
   },
   "outputs": [],
   "source": [
    "tsave = range(0.0, stop=tmax, length=n_tsaves)\n",
    "\n",
    "xy = [((i-1)h, (j-1)h).+xy₀ for j in 1:N, i in 1:N]\n",
    "r = [sqrt(x^2+y^2) for (x,y) in xy]\n",
    "t = 0.0:h/10:tmax\n",
    "\n",
    "arr = collect(range(xₘᵢₙ, stop = xₘᵢₙ+L, length = N))\n",
    "\n",
    "x = repeat(arr, 1, N) \n",
    "y = repeat(arr', N, 1)\n",
    "\n",
    "arr = collect(range(xₘᵢₙ, stop = xₘᵢₙ+L, length = n))\n",
    "\n",
    "X = repeat(arr, 1, n)  # used for plots and dealing with saved instants\n",
    "Y = repeat(arr', n, 1);"
   ]
  },
  {
   "cell_type": "markdown",
   "metadata": {
    "tags": []
   },
   "source": [
    "# Initial conditions + allocs."
   ]
  },
  {
   "cell_type": "markdown",
   "metadata": {
    "tags": []
   },
   "source": [
    "## Setup IC"
   ]
  },
  {
   "cell_type": "code",
   "execution_count": null,
   "metadata": {
    "jupyter": {
     "source_hidden": true
    },
    "tags": []
   },
   "outputs": [],
   "source": [
    "φ₀   = zero(r)\n",
    "\n",
    "if model == \"signum-KleinGordon with driving delta\"\n",
    "    ∂ₜφ₀ = zero(r)\n",
    "elseif model == \"regular signum-KleinGordon\"\n",
    "    _t = 0.0\n",
    "    println(\"ε = $ε\")\n",
    "    println(\"xₘᵢₙ = $xₘᵢₙ\")\n",
    "    ∂ₜφ₀ = Array(δ_ring!(CuArray{Float64}(zero(r)), _t, ε, N, xₘᵢₙ, h, Cₙ))\n",
    "end\n",
    "\n",
    "uₕₒₛₜ = cat(φ₀, ∂ₜφ₀; dims=3)\n",
    "u₀  = CuArray{Float64}(uₕₒₛₜ);"
   ]
  },
  {
   "cell_type": "markdown",
   "metadata": {
    "tags": []
   },
   "source": [
    "## Plot IC"
   ]
  },
  {
   "cell_type": "code",
   "execution_count": null,
   "metadata": {
    "jupyter": {
     "source_hidden": true
    },
    "tags": []
   },
   "outputs": [],
   "source": [
    "if show_IC\n",
    "    using Plots\n",
    "\n",
    "    φ₀_plot   = Plots.plot(x, y, φ₀,  st=:surface, title=\"\\$\\\\phi\\$\")\n",
    "    ∂ₜφ₀_plot = Plots.plot(x, y, ∂ₜφ₀,st=:surface, title=\"\\$\\\\phi_{t}\\$\")\n",
    "\n",
    "    Plots.plot(φ₀_plot, ∂ₜφ₀_plot, layout=(1, 2), size=(1300, 400)) \n",
    "else\n",
    "    println(\"To view IC, set 'show_IC' to true\")\n",
    "end"
   ]
  },
  {
   "cell_type": "markdown",
   "metadata": {},
   "source": [
    "# Problem + solution"
   ]
  },
  {
   "cell_type": "code",
   "execution_count": null,
   "metadata": {
    "jupyter": {
     "source_hidden": true
    },
    "tags": []
   },
   "outputs": [],
   "source": [
    "if model == \"signum-KleinGordon with driving delta\"\n",
    "    eq = signumGordon_δ_2d!\n",
    "    params = (N, h, CuArray{Float64}(zero(r)), CuArray{Float64}(zero(r)), ε, xₘᵢₙ, Cₙ)\n",
    "elseif model == \"regular signum-KleinGordon\"\n",
    "    eq = signumGordon_2d!\n",
    "    params = (N, h, CuArray{Float64}(zero(r)))\n",
    "end\n",
    "\n",
    "prob = ODEProblem(eq, u₀, (0.0, tmax), params);\n",
    "method = RK4()\n",
    "\n",
    "println(\"Running sim...\")\n",
    "@time sol = solve(prob, method; saveat=tsave, save_idxs=rsave_idxs, adaptive=false, dt=h/10);"
   ]
  },
  {
   "cell_type": "markdown",
   "metadata": {},
   "source": [
    "# Plots"
   ]
  },
  {
   "cell_type": "markdown",
   "metadata": {
    "tags": []
   },
   "source": [
    "## Organize data"
   ]
  },
  {
   "cell_type": "code",
   "execution_count": null,
   "metadata": {
    "jupyter": {
     "source_hidden": true
    },
    "tags": []
   },
   "outputs": [],
   "source": [
    "function nearest(target::Float64) \n",
    "    global tsave\n",
    "    return tsave[argmin(abs.(tsave .- target))]\n",
    "end\n",
    "\n",
    "function nearest_idx(target::Float64) \n",
    "    global tsave\n",
    "    \n",
    "    t_near = tsave[argmin(abs.(tsave .- target))]    \n",
    "    return Integer(round(t_near ./ step(tsave), digits=6)) + 1\n",
    "end\n",
    "\n",
    "uₐₗₗ = [reshape(Array(sol.u[i]), n, 2n) for i in 1:n_tsaves];"
   ]
  },
  {
   "cell_type": "markdown",
   "metadata": {},
   "source": [
    "## Section"
   ]
  },
  {
   "cell_type": "code",
   "execution_count": null,
   "metadata": {
    "tags": []
   },
   "outputs": [],
   "source": [
    "using Plots, Interact\n",
    "\n",
    "function PlotSectionAt(t_)    \n",
    "    y_  = uₐₗₗ[nearest_idx(t_)][Integer(end/2),   1 : n]\n",
    "    y_t = uₐₗₗ[nearest_idx(t_)][Integer(end/2), n+1 : 2n]\n",
    "\n",
    "    x_ = range(xₘᵢₙ, xₘᵢₙ+L, n)\n",
    "    t__ = round(t_, digits=3)\n",
    "    \n",
    "    p1 = Plots.plot(x_, y_,  \n",
    "        ylimits=(-0.2,0.2), \n",
    "        title=\"\\$\\\\phi\\\\,|_{t=$t__}\\$\", \n",
    "        label=\"\\$\\\\phi\\$\")\n",
    "    p2 = Plots.plot(x_, y_t,\n",
    "        #ylimits=(-1.2,1.5),\n",
    "        title=\"\\$\\\\partial_t\\\\phi\\\\,|_{t=$t__}\\$\", \n",
    "        label=\"\\$\\\\phi\\$\")\n",
    "    \n",
    "    #Plots.plot(p1,p2, layout=(2,1), size=(800,480))\n",
    "    Plots.plot(p2, layout=(1,1), size=(800,240))\n",
    "end\n",
    "\n",
    "@manipulate for t_ ∈ tsave\n",
    "    PlotSectionAt(t_)    \n",
    "end"
   ]
  },
  {
   "cell_type": "markdown",
   "metadata": {
    "tags": []
   },
   "source": [
    "## $\\phi$ static surface"
   ]
  },
  {
   "cell_type": "code",
   "execution_count": null,
   "metadata": {
    "tags": []
   },
   "outputs": [],
   "source": [
    "lims = 20\n",
    "z_limits = -lims,lims\n",
    "\n",
    "println(\"z_limits = $z_limits\")"
   ]
  },
  {
   "cell_type": "code",
   "execution_count": null,
   "metadata": {
    "jupyter": {
     "source_hidden": true
    },
    "tags": []
   },
   "outputs": [],
   "source": [
    "using GLMakie\n",
    "\n",
    "function MakiePlotAt(t, plot_ϕₜ=false)\n",
    "    if !plot_GLMakie\n",
    "        println(\"To plot with GLMakie, set 'plot_GLMakie' to true.\")\n",
    "        return\n",
    "    end\n",
    "    \n",
    "    if t > tmax\n",
    "        println(\":)\")\n",
    "        return\n",
    "    end\n",
    "    \n",
    "    t = nearest(t)\n",
    "    println(\"Nearest t = $t_plot\")\n",
    "    \n",
    "    idx = Integer(round(t ./ step(tsave), digits=4)) + 1\n",
    "\n",
    "    Z = nothing\n",
    "    if plot_ϕₜ\n",
    "        ϕₜ = @views uₐₗₗ[idx][:,n+1:2n];\n",
    "        Z = @views ϕₜ\n",
    "    else\n",
    "        ϕ = @views uₐₗₗ[idx][:,1:n];\n",
    "        Z = @views ϕ\n",
    "    end\n",
    "\n",
    "    fig =  GLMakie.Figure()\n",
    "    ax  =  GLMakie.Axis3(fig[1,1])\n",
    "    \n",
    "    if z_limits ≠ (0.0, 0.0)\n",
    "        GLMakie.zlims!(ax, z_limits)    \n",
    "    end\n",
    "    \n",
    "    surf = GLMakie.surface!(ax, X, Y, Z)\n",
    "\n",
    "    return fig\n",
    "end"
   ]
  },
  {
   "cell_type": "code",
   "execution_count": null,
   "metadata": {
    "jupyter": {
     "source_hidden": true
    },
    "tags": []
   },
   "outputs": [],
   "source": [
    "Δt_plot = tmax/n_plots;\n",
    "t_plot = -Δt_plot/2\n",
    "println(\"Total of $n_plots plots\")"
   ]
  },
  {
   "cell_type": "code",
   "execution_count": null,
   "metadata": {
    "jupyter": {
     "source_hidden": true
    },
    "tags": []
   },
   "outputs": [],
   "source": [
    "t_plot = t_plot + Δt_plot\n",
    "MakiePlotAt(t_plot)"
   ]
  },
  {
   "cell_type": "code",
   "execution_count": null,
   "metadata": {
    "jupyter": {
     "source_hidden": true
    },
    "tags": []
   },
   "outputs": [],
   "source": [
    "t_plot = t_plot + Δt_plot\n",
    "MakiePlotAt(t_plot)"
   ]
  },
  {
   "cell_type": "code",
   "execution_count": null,
   "metadata": {
    "jupyter": {
     "source_hidden": true
    },
    "tags": []
   },
   "outputs": [],
   "source": [
    "t_plot = t_plot + Δt_plot\n",
    "MakiePlotAt(t_plot)"
   ]
  },
  {
   "cell_type": "code",
   "execution_count": null,
   "metadata": {
    "jupyter": {
     "source_hidden": true
    },
    "tags": []
   },
   "outputs": [],
   "source": [
    "t_plot = t_plot + Δt_plot\n",
    "MakiePlotAt(t_plot)"
   ]
  },
  {
   "cell_type": "code",
   "execution_count": null,
   "metadata": {
    "jupyter": {
     "source_hidden": true
    },
    "tags": []
   },
   "outputs": [],
   "source": [
    "t_plot = t_plot + Δt_plot\n",
    "MakiePlotAt(t_plot)"
   ]
  },
  {
   "cell_type": "code",
   "execution_count": null,
   "metadata": {
    "jupyter": {
     "source_hidden": true
    },
    "tags": []
   },
   "outputs": [],
   "source": [
    "t_plot = t_plot + Δt_plot\n",
    "MakiePlotAt(t_plot)"
   ]
  },
  {
   "cell_type": "code",
   "execution_count": null,
   "metadata": {
    "jupyter": {
     "source_hidden": true
    },
    "tags": []
   },
   "outputs": [],
   "source": [
    "t_plot = t_plot + Δt_plot\n",
    "MakiePlotAt(t_plot)"
   ]
  },
  {
   "cell_type": "code",
   "execution_count": null,
   "metadata": {
    "jupyter": {
     "source_hidden": true
    }
   },
   "outputs": [],
   "source": [
    "t_plot = t_plot + Δt_plot\n",
    "MakiePlotAt(t_plot)"
   ]
  },
  {
   "cell_type": "code",
   "execution_count": null,
   "metadata": {
    "jupyter": {
     "source_hidden": true
    }
   },
   "outputs": [],
   "source": [
    "t_plot = t_plot + Δt_plot\n",
    "MakiePlotAt(t_plot)"
   ]
  },
  {
   "cell_type": "code",
   "execution_count": null,
   "metadata": {
    "jupyter": {
     "source_hidden": true
    }
   },
   "outputs": [],
   "source": [
    "t_plot = t_plot + Δt_plot\n",
    "MakiePlotAt(t_plot)"
   ]
  },
  {
   "cell_type": "code",
   "execution_count": null,
   "metadata": {
    "jupyter": {
     "source_hidden": true
    }
   },
   "outputs": [],
   "source": [
    "t_plot = t_plot + Δt_plot\n",
    "MakiePlotAt(t_plot)"
   ]
  },
  {
   "cell_type": "code",
   "execution_count": null,
   "metadata": {
    "jupyter": {
     "source_hidden": true
    }
   },
   "outputs": [],
   "source": [
    "t_plot = t_plot + Δt_plot\n",
    "MakiePlotAt(t_plot)"
   ]
  },
  {
   "cell_type": "code",
   "execution_count": null,
   "metadata": {
    "jupyter": {
     "source_hidden": true
    }
   },
   "outputs": [],
   "source": [
    "t_plot = t_plot + Δt_plot\n",
    "MakiePlotAt(t_plot)"
   ]
  },
  {
   "cell_type": "code",
   "execution_count": null,
   "metadata": {
    "jupyter": {
     "source_hidden": true
    }
   },
   "outputs": [],
   "source": [
    "t_plot = t_plot + Δt_plot\n",
    "MakiePlotAt(t_plot)"
   ]
  },
  {
   "cell_type": "code",
   "execution_count": null,
   "metadata": {
    "jupyter": {
     "source_hidden": true
    }
   },
   "outputs": [],
   "source": [
    "t_plot = t_plot + Δt_plot\n",
    "MakiePlotAt(t_plot)"
   ]
  },
  {
   "cell_type": "code",
   "execution_count": null,
   "metadata": {
    "jupyter": {
     "source_hidden": true
    }
   },
   "outputs": [],
   "source": [
    "t_plot = t_plot + Δt_plot\n",
    "MakiePlotAt(t_plot)"
   ]
  },
  {
   "cell_type": "code",
   "execution_count": null,
   "metadata": {
    "jupyter": {
     "source_hidden": true
    }
   },
   "outputs": [],
   "source": [
    "t_plot = t_plot + Δt_plot\n",
    "MakiePlotAt(t_plot)"
   ]
  },
  {
   "cell_type": "code",
   "execution_count": null,
   "metadata": {
    "jupyter": {
     "source_hidden": true
    }
   },
   "outputs": [],
   "source": [
    "t_plot = t_plot + Δt_plot\n",
    "MakiePlotAt(t_plot)"
   ]
  },
  {
   "cell_type": "code",
   "execution_count": null,
   "metadata": {
    "jupyter": {
     "source_hidden": true
    }
   },
   "outputs": [],
   "source": [
    "t_plot = t_plot + Δt_plot\n",
    "MakiePlotAt(t_plot)"
   ]
  },
  {
   "cell_type": "code",
   "execution_count": null,
   "metadata": {
    "jupyter": {
     "source_hidden": true
    }
   },
   "outputs": [],
   "source": [
    "t_plot = t_plot + Δt_plot\n",
    "MakiePlotAt(t_plot)"
   ]
  },
  {
   "cell_type": "markdown",
   "metadata": {},
   "source": [
    "## $\\phi$ interactive surface"
   ]
  },
  {
   "cell_type": "code",
   "execution_count": null,
   "metadata": {
    "jupyter": {
     "source_hidden": true
    },
    "tags": []
   },
   "outputs": [],
   "source": [
    "using PlotlyJS\n",
    "#    p1 = plot(ϕ ,st=:surface,title=\"\\$\\\\phi\\$\")\n",
    "#    p2 = plot(ϕₜ,st=:surface,title=\"\\$\\\\dfrac{\\\\partial\\\\phi}{\\\\partial t}\\$\")\n",
    "#    plot(p1, p2, layout=(1, 2), size=(1300, 400))\n",
    "    \n",
    "function PlotlyJSPlotAt(t, force_plot=false)\n",
    "    if !plot_PlotlyJS && !force_plot\n",
    "        println(\":D\")\n",
    "        return\n",
    "    end\n",
    "    \n",
    "    if t > tmax\n",
    "        println(\":)\")\n",
    "        return\n",
    "    end\n",
    "\n",
    "    t = nearest(t)\n",
    "    \n",
    "\n",
    "    println(\"Nearest: t = $t_plot\")\n",
    "\n",
    "    idx = Integer(t ./ step(tsave)) + 1\n",
    "\n",
    "    ϕ = @views uₐₗₗ[idx][:,1:n];\n",
    "    ϕₜ = @views uₐₗₗ[idx][:,n+1:2n];\n",
    "    \n",
    "    Z = ϕ\n",
    "\n",
    "    trace = PlotlyJS.surface(\n",
    "        x=X, \n",
    "        y=Y, \n",
    "        z=Z,\n",
    "    #    colorscale = \"Viridis\",\n",
    "    )\n",
    "\n",
    "    layout = PlotlyJS.Layout(\n",
    "        title=\"ϕ(t=$t)\",\n",
    "        autosize=false,\n",
    "        width=1000,\n",
    "        height=1000 \n",
    "    )\n",
    "\n",
    "    p = PlotlyJS.plot(trace, layout)\n",
    "\n",
    "    return p\n",
    "\n",
    "end\n",
    "\n",
    "# PlotlyJS.savefig(p, \"my_surface_plot.html\")\n",
    "\n",
    ";"
   ]
  },
  {
   "cell_type": "code",
   "execution_count": null,
   "metadata": {
    "jupyter": {
     "source_hidden": true
    },
    "tags": []
   },
   "outputs": [],
   "source": [
    "PlotlyJSPlotAt(4.2, true)"
   ]
  },
  {
   "cell_type": "code",
   "execution_count": null,
   "metadata": {
    "jupyter": {
     "source_hidden": true
    },
    "tags": []
   },
   "outputs": [],
   "source": [
    "t_plot = 0.0"
   ]
  },
  {
   "cell_type": "code",
   "execution_count": null,
   "metadata": {
    "jupyter": {
     "source_hidden": true
    },
    "tags": []
   },
   "outputs": [],
   "source": [
    "t_plot = t_plot + Δt_plot\n",
    "PlotlyJSPlotAt(t_plot)"
   ]
  },
  {
   "cell_type": "code",
   "execution_count": null,
   "metadata": {
    "jupyter": {
     "source_hidden": true
    },
    "tags": []
   },
   "outputs": [],
   "source": [
    "t_plot = t_plot + Δt_plot\n",
    "PlotlyJSPlotAt(t_plot)"
   ]
  },
  {
   "cell_type": "code",
   "execution_count": null,
   "metadata": {
    "jupyter": {
     "source_hidden": true
    },
    "tags": []
   },
   "outputs": [],
   "source": [
    "t_plot = t_plot + Δt_plot\n",
    "PlotlyJSPlotAt(t_plot)"
   ]
  },
  {
   "cell_type": "code",
   "execution_count": null,
   "metadata": {
    "jupyter": {
     "source_hidden": true
    },
    "tags": []
   },
   "outputs": [],
   "source": [
    "t_plot = t_plot + Δt_plot\n",
    "PlotlyJSPlotAt(t_plot)"
   ]
  },
  {
   "cell_type": "code",
   "execution_count": null,
   "metadata": {
    "jupyter": {
     "source_hidden": true
    },
    "tags": []
   },
   "outputs": [],
   "source": [
    "t_plot = t_plot + Δt_plot\n",
    "PlotlyJSPlotAt(t_plot)"
   ]
  },
  {
   "cell_type": "code",
   "execution_count": null,
   "metadata": {
    "jupyter": {
     "source_hidden": true
    },
    "tags": []
   },
   "outputs": [],
   "source": [
    "t_plot = t_plot + Δt_plot\n",
    "PlotlyJSPlotAt(t_plot)"
   ]
  },
  {
   "cell_type": "code",
   "execution_count": null,
   "metadata": {
    "jupyter": {
     "source_hidden": true
    },
    "tags": []
   },
   "outputs": [],
   "source": [
    "t_plot = t_plot + Δt_plot\n",
    "PlotlyJSPlotAt(t_plot)"
   ]
  },
  {
   "cell_type": "code",
   "execution_count": null,
   "metadata": {
    "jupyter": {
     "source_hidden": true
    },
    "tags": []
   },
   "outputs": [],
   "source": [
    "t_plot = t_plot + Δt_plot\n",
    "PlotlyJSPlotAt(t_plot)"
   ]
  },
  {
   "cell_type": "code",
   "execution_count": null,
   "metadata": {
    "jupyter": {
     "source_hidden": true
    },
    "tags": []
   },
   "outputs": [],
   "source": [
    "t_plot = t_plot + Δt_plot\n",
    "PlotlyJSPlotAt(t_plot)"
   ]
  },
  {
   "cell_type": "code",
   "execution_count": null,
   "metadata": {
    "jupyter": {
     "source_hidden": true
    },
    "tags": []
   },
   "outputs": [],
   "source": [
    "t_plot = t_plot + Δt_plot\n",
    "PlotlyJSPlotAt(t_plot)"
   ]
  },
  {
   "cell_type": "code",
   "execution_count": null,
   "metadata": {
    "jupyter": {
     "source_hidden": true
    },
    "tags": []
   },
   "outputs": [],
   "source": [
    "t_plot = t_plot + Δt_plot\n",
    "PlotlyJSPlotAt(t_plot)"
   ]
  },
  {
   "cell_type": "code",
   "execution_count": null,
   "metadata": {
    "jupyter": {
     "source_hidden": true
    },
    "tags": []
   },
   "outputs": [],
   "source": [
    "t_plot = t_plot + Δt_plot\n",
    "PlotlyJSPlotAt(t_plot)"
   ]
  },
  {
   "cell_type": "code",
   "execution_count": null,
   "metadata": {
    "jupyter": {
     "source_hidden": true
    },
    "tags": []
   },
   "outputs": [],
   "source": [
    "t_plot = t_plot + Δt_plot\n",
    "PlotlyJSPlotAt(t_plot)"
   ]
  },
  {
   "cell_type": "code",
   "execution_count": null,
   "metadata": {
    "jupyter": {
     "source_hidden": true
    },
    "tags": []
   },
   "outputs": [],
   "source": [
    "t_plot = t_plot + Δt_plot\n",
    "PlotlyJSPlotAt(t_plot)"
   ]
  },
  {
   "cell_type": "code",
   "execution_count": null,
   "metadata": {
    "jupyter": {
     "source_hidden": true
    },
    "tags": []
   },
   "outputs": [],
   "source": [
    "t_plot = t_plot + Δt_plot\n",
    "PlotlyJSPlotAt(t_plot)"
   ]
  },
  {
   "cell_type": "code",
   "execution_count": null,
   "metadata": {
    "jupyter": {
     "source_hidden": true
    },
    "tags": []
   },
   "outputs": [],
   "source": [
    "t_plot = t_plot + Δt_plot\n",
    "PlotlyJSPlotAt(t_plot)"
   ]
  },
  {
   "cell_type": "code",
   "execution_count": null,
   "metadata": {
    "jupyter": {
     "source_hidden": true
    },
    "tags": []
   },
   "outputs": [],
   "source": [
    "t_plot = t_plot + Δt_plot\n",
    "PlotlyJSPlotAt(t_plot)"
   ]
  },
  {
   "cell_type": "code",
   "execution_count": null,
   "metadata": {
    "jupyter": {
     "source_hidden": true
    },
    "tags": []
   },
   "outputs": [],
   "source": [
    "t_plot = t_plot + Δt_plot\n",
    "PlotlyJSPlotAt(t_plot)"
   ]
  },
  {
   "cell_type": "code",
   "execution_count": null,
   "metadata": {
    "jupyter": {
     "source_hidden": true
    },
    "tags": []
   },
   "outputs": [],
   "source": [
    "t_plot = t_plot + Δt_plot\n",
    "PlotlyJSPlotAt(t_plot)"
   ]
  },
  {
   "cell_type": "code",
   "execution_count": null,
   "metadata": {
    "jupyter": {
     "source_hidden": true
    },
    "tags": []
   },
   "outputs": [],
   "source": [
    "t_plot = t_plot + Δt_plot\n",
    "PlotlyJSPlotAt(t_plot)"
   ]
  },
  {
   "cell_type": "markdown",
   "metadata": {
    "tags": []
   },
   "source": [
    "# Reclaim GPU"
   ]
  },
  {
   "cell_type": "code",
   "execution_count": null,
   "metadata": {
    "jupyter": {
     "source_hidden": true
    },
    "tags": []
   },
   "outputs": [],
   "source": [
    "if reclaim_gpu_mem_at_end\n",
    "    reclaim()\n",
    "end\n",
    "\n",
    "reclaim_gpu_mem_at_end"
   ]
  },
  {
   "cell_type": "code",
   "execution_count": null,
   "metadata": {},
   "outputs": [],
   "source": []
  },
  {
   "cell_type": "code",
   "execution_count": null,
   "metadata": {},
   "outputs": [],
   "source": []
  }
 ],
 "metadata": {
  "@webio": {
   "lastCommId": "335365f1-8468-4b09-bdd0-d46c82a0cb62",
   "lastKernelId": "9eea493a-afe7-442c-ae4e-897d5f9e27b1"
  },
  "kernelspec": {
   "display_name": "Julia 1.9.1",
   "language": "julia",
   "name": "julia-1.9"
  },
  "language_info": {
   "file_extension": ".jl",
   "mimetype": "application/julia",
   "name": "julia",
   "version": "1.9.1"
  },
  "toc-autonumbering": true,
  "toc-showmarkdowntxt": false,
  "toc-showtags": true
 },
 "nbformat": 4,
 "nbformat_minor": 4
}

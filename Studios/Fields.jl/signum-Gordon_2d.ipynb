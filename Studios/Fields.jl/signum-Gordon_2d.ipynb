{
 "cells": [
  {
   "cell_type": "code",
   "execution_count": null,
   "metadata": {
    "ExecuteTime": {
     "end_time": "2023-06-17T21:36:31.780069338Z",
     "start_time": "2023-06-17T21:36:31.774521745Z"
    }
   },
   "outputs": [],
   "source": [
    "using DifferentialEquations, CUDA"
   ]
  },
  {
   "cell_type": "code",
   "execution_count": null,
   "metadata": {
    "ExecuteTime": {
     "start_time": "2023-06-17T21:36:31.779355721Z"
    }
   },
   "outputs": [],
   "source": [
    "using Fields"
   ]
  },
  {
   "cell_type": "markdown",
   "metadata": {},
   "source": [
    "# Parameters"
   ]
  },
  {
   "cell_type": "code",
   "execution_count": null,
   "metadata": {},
   "outputs": [],
   "source": [
    "L = 2\n",
    "N = 2^10\n",
    "\n",
    "tmax = 1.0\n",
    "\n",
    "x₀ = (L/2, L/2)\n",
    "\n",
    "n = 2^7\n",
    "tsave = range(0.0, stop=tmax, length=n)\n",
    "frac = Float32(N)/n\n",
    "\n",
    "rsave_idxs = [Integer( floor(i*frac + (j-1)*frac*N) ) + 1 for i in 1:n, j in 1:n]\n",
    ";"
   ]
  },
  {
   "cell_type": "code",
   "execution_count": null,
   "metadata": {},
   "outputs": [],
   "source": [
    "h = L/(N-1)\n",
    "\n",
    "x = [((i-1)h, (j-1)h).-x₀ for j in 1:N, i in 1:N]\n",
    "r = [sqrt(x^2+y^2) for (x,y) in x]\n",
    "t = 0.0:h/10:tmax\n",
    ";"
   ]
  },
  {
   "cell_type": "markdown",
   "metadata": {},
   "source": [
    "### Total saved values:"
   ]
  },
  {
   "cell_type": "code",
   "execution_count": null,
   "metadata": {},
   "outputs": [],
   "source": [
    "MB =  (n^3 * 8) * 10^-6\n",
    "print(\"$MB MB\")"
   ]
  },
  {
   "cell_type": "markdown",
   "metadata": {},
   "source": [
    "# Initial conditions + allocs."
   ]
  },
  {
   "cell_type": "markdown",
   "metadata": {},
   "source": [
    "### Clean mem"
   ]
  },
  {
   "cell_type": "code",
   "execution_count": null,
   "metadata": {},
   "outputs": [],
   "source": [
    "sol = nothing\n",
    "GC.gc()\n",
    "\n",
    "CUDA.reclaim()"
   ]
  },
  {
   "cell_type": "markdown",
   "metadata": {},
   "source": [
    "### Setup IC"
   ]
  },
  {
   "cell_type": "code",
   "execution_count": null,
   "metadata": {},
   "outputs": [],
   "source": [
    "φ₀   = sin(r)\n",
    "∂ₜφ₀ = zero(r)\n",
    "uₕₒₛₜ = cat(φ₀, ∂ₜφ₀; dims=3)\n",
    "u₀ = CuArray(uₕₒₛₜ)\n",
    "∇²ϕ  = CuArray(zero(r))\n",
    ";"
   ]
  },
  {
   "cell_type": "markdown",
   "metadata": {
    "tags": []
   },
   "source": [
    "### View IC"
   ]
  },
  {
   "cell_type": "code",
   "execution_count": null,
   "metadata": {},
   "outputs": [],
   "source": [
    "#using Plots\n",
    "\n",
    "#φ₀_plot   = plot(φ₀,  st=:surface)\n",
    "#∂ₜφ₀_plot = plot(∂ₜφ₀,st=:surface)\n",
    "\n",
    "#plot(φ₀_plot, ∂ₜφ₀_plot, layout=(1, 2), size=(1300, 400))\n"
   ]
  },
  {
   "cell_type": "markdown",
   "metadata": {},
   "source": [
    "# Problem"
   ]
  },
  {
   "cell_type": "code",
   "execution_count": 44,
   "metadata": {},
   "outputs": [
    {
     "data": {
      "text/plain": [
       "ring_δ (generic function with 1 method)"
      ]
     },
     "execution_count": 44,
     "metadata": {},
     "output_type": "execute_result"
    }
   ],
   "source": [
    "using CUDA\n",
    "\n",
    "function δ!(x::CuDeviceVector{Float64}, ε::Float64, out::CuDeviceVector{Float64})\n",
    "    index = threadIdx().x\n",
    "    \n",
    "    absx = abs(x[index])\n",
    "    \n",
    "    @inbounds begin\n",
    "        out[index] = (absx < ε) * (1 - absx/ε)\n",
    "    end\n",
    "\n",
    "    return\n",
    "end\n",
    "\n",
    "function ring_δ(x, eps)\n",
    "    x_d = CuArray(x)\n",
    "    y_d = similar(x_d)\n",
    "    \n",
    "    N = length(x_d)\n",
    "    \n",
    "    @cuda threads=N δ!(x_d, eps, y_d)\n",
    "    \n",
    "    return Array(y_d)\n",
    "end"
   ]
  },
  {
   "cell_type": "code",
   "execution_count": 47,
   "metadata": {},
   "outputs": [
    {
     "data": {
      "application/vnd.webio.node+json": {
       "children": [
        {
         "children": [
          {
           "children": [
            {
             "children": [
              {
               "children": [
                {
                 "children": [
                  "ε"
                 ],
                 "instanceArgs": {
                  "namespace": "html",
                  "tag": "label"
                 },
                 "nodeType": "DOM",
                 "props": {
                  "className": "interact ",
                  "style": {
                   "padding": "5px 10px 0px 10px"
                  }
                 },
                 "type": "node"
                }
               ],
               "instanceArgs": {
                "namespace": "html",
                "tag": "div"
               },
               "nodeType": "DOM",
               "props": {
                "className": "interact-flex-row-left"
               },
               "type": "node"
              },
              {
               "children": [
                {
                 "children": [],
                 "instanceArgs": {
                  "namespace": "html",
                  "tag": "input"
                 },
                 "nodeType": "DOM",
                 "props": {
                  "attributes": {
                   "data-bind": "numericValue: index, valueUpdate: 'input', event: {change: function (){this.changes(this.changes()+1)}}",
                   "orient": "horizontal",
                   "type": "range"
                  },
                  "className": "slider slider is-fullwidth",
                  "max": 56,
                  "min": 1,
                  "step": 1,
                  "style": {}
                 },
                 "type": "node"
                }
               ],
               "instanceArgs": {
                "namespace": "html",
                "tag": "div"
               },
               "nodeType": "DOM",
               "props": {
                "className": "interact-flex-row-center"
               },
               "type": "node"
              },
              {
               "children": [
                {
                 "children": [],
                 "instanceArgs": {
                  "namespace": "html",
                  "tag": "p"
                 },
                 "nodeType": "DOM",
                 "props": {
                  "attributes": {
                   "data-bind": "text: formatted_val"
                  }
                 },
                 "type": "node"
                }
               ],
               "instanceArgs": {
                "namespace": "html",
                "tag": "div"
               },
               "nodeType": "DOM",
               "props": {
                "className": "interact-flex-row-right"
               },
               "type": "node"
              }
             ],
             "instanceArgs": {
              "namespace": "html",
              "tag": "div"
             },
             "nodeType": "DOM",
             "props": {
              "className": "interact-flex-row interact-widget"
             },
             "type": "node"
            }
           ],
           "instanceArgs": {
            "handlers": {
             "changes": [
              "(function (val){return (val!=this.model[\"changes\"]()) ? (this.valueFromJulia[\"changes\"]=true, this.model[\"changes\"](val)) : undefined})"
             ],
             "index": [
              "(function (val){return (val!=this.model[\"index\"]()) ? (this.valueFromJulia[\"index\"]=true, this.model[\"index\"](val)) : undefined})"
             ]
            },
            "id": "3671966373342809421",
            "imports": {
             "data": [
              {
               "name": "knockout",
               "type": "js",
               "url": "/assetserver/73837b4dfd56accdcb1215a684921b2ef3eac20a-knockout.js"
              },
              {
               "name": "knockout_punches",
               "type": "js",
               "url": "/assetserver/92cd359686a293b9c70a4b7760c6c67bd1013214-knockout_punches.js"
              },
              {
               "name": null,
               "type": "js",
               "url": "/assetserver/f4d145e0b20c957c0f64be966a044a83bfc8b058-all.js"
              },
              {
               "name": null,
               "type": "css",
               "url": "/assetserver/2c412db78c37c82c697e43fa6ce539fa95433b66-style.css"
              },
              {
               "name": null,
               "type": "css",
               "url": "/assetserver/35790a4607e963c2228faabafa9c3d3f0c1eb9a5-bulma_confined.min.css"
              }
             ],
             "type": "async_block"
            },
            "mount_callbacks": [
             "function () {\n    var handler = (function (ko, koPunches) {\n    ko.punches.enableAll();\n    ko.bindingHandlers.numericValue = {\n        init: function(element, valueAccessor, allBindings, data, context) {\n            var stringified = ko.observable(ko.unwrap(valueAccessor()));\n            stringified.subscribe(function(value) {\n                var val = parseFloat(value);\n                if (!isNaN(val)) {\n                    valueAccessor()(val);\n                }\n            });\n            valueAccessor().subscribe(function(value) {\n                var str = JSON.stringify(value);\n                if ((str == \"0\") && ([\"-0\", \"-0.\"].indexOf(stringified()) >= 0))\n                     return;\n                 if ([\"null\", \"\"].indexOf(str) >= 0)\n                     return;\n                stringified(str);\n            });\n            ko.applyBindingsToNode(\n                element,\n                {\n                    value: stringified,\n                    valueUpdate: allBindings.get('valueUpdate'),\n                },\n                context,\n            );\n        }\n    };\n    var json_data = {\"formatted_vals\":[\"0.1\",\"0.12\",\"0.14\",\"0.16\",\"0.18\",\"0.2\",\"0.22\",\"0.24\",\"0.26\",\"0.28\",\"0.3\",\"0.32\",\"0.34\",\"0.36\",\"0.38\",\"0.4\",\"0.42\",\"0.44\",\"0.46\",\"0.48\",\"0.5\",\"0.52\",\"0.54\",\"0.56\",\"0.58\",\"0.6\",\"0.62\",\"0.64\",\"0.66\",\"0.68\",\"0.7\",\"0.72\",\"0.74\",\"0.76\",\"0.78\",\"0.8\",\"0.82\",\"0.84\",\"0.86\",\"0.88\",\"0.9\",\"0.92\",\"0.94\",\"0.96\",\"0.98\",\"1.0\",\"1.02\",\"1.04\",\"1.06\",\"1.08\",\"1.1\",\"1.12\",\"1.14\",\"1.16\",\"1.18\",\"1.2\"],\"changes\":WebIO.getval({\"name\":\"changes\",\"scope\":\"3671966373342809421\",\"id\":\"6476306462286584704\",\"type\":\"observable\"}),\"index\":WebIO.getval({\"name\":\"index\",\"scope\":\"3671966373342809421\",\"id\":\"15819070665811073060\",\"type\":\"observable\"})};\n    var self = this;\n    function AppViewModel() {\n        for (var key in json_data) {\n            var el = json_data[key];\n            this[key] = Array.isArray(el) ? ko.observableArray(el) : ko.observable(el);\n        }\n        \n        [this[\"formatted_val\"]=ko.computed(    function(){\n        return this.formatted_vals()[parseInt(this.index())-(1)];\n    }\n,this)]\n        [this[\"changes\"].subscribe((function (val){!(this.valueFromJulia[\"changes\"]) ? (WebIO.setval({\"name\":\"changes\",\"scope\":\"3671966373342809421\",\"id\":\"6476306462286584704\",\"type\":\"observable\"},val)) : undefined; return this.valueFromJulia[\"changes\"]=false}),self),this[\"index\"].subscribe((function (val){!(this.valueFromJulia[\"index\"]) ? (WebIO.setval({\"name\":\"index\",\"scope\":\"3671966373342809421\",\"id\":\"15819070665811073060\",\"type\":\"observable\"},val)) : undefined; return this.valueFromJulia[\"index\"]=false}),self)]\n        \n    }\n    self.model = new AppViewModel();\n    self.valueFromJulia = {};\n    for (var key in json_data) {\n        self.valueFromJulia[key] = false;\n    }\n    ko.applyBindings(self.model, self.dom);\n}\n);\n    (WebIO.importBlock({\"data\":[{\"name\":\"knockout\",\"type\":\"js\",\"url\":\"/assetserver/73837b4dfd56accdcb1215a684921b2ef3eac20a-knockout.js\"},{\"name\":\"knockout_punches\",\"type\":\"js\",\"url\":\"/assetserver/92cd359686a293b9c70a4b7760c6c67bd1013214-knockout_punches.js\"}],\"type\":\"async_block\"})).then((imports) => handler.apply(this, imports));\n}\n"
            ],
            "observables": {
             "changes": {
              "id": "6476306462286584704",
              "sync": false,
              "value": 0
             },
             "index": {
              "id": "15819070665811073060",
              "sync": true,
              "value": 28
             }
            },
            "systemjs_options": null
           },
           "nodeType": "Scope",
           "props": {},
           "type": "node"
          }
         ],
         "instanceArgs": {
          "namespace": "html",
          "tag": "div"
         },
         "nodeType": "DOM",
         "props": {
          "className": "field interact-widget"
         },
         "type": "node"
        },
        {
         "children": [
          {
           "children": [
            {
             "children": [
              {
               "children": [
                {
                 "children": [
                  "t"
                 ],
                 "instanceArgs": {
                  "namespace": "html",
                  "tag": "label"
                 },
                 "nodeType": "DOM",
                 "props": {
                  "className": "interact ",
                  "style": {
                   "padding": "5px 10px 0px 10px"
                  }
                 },
                 "type": "node"
                }
               ],
               "instanceArgs": {
                "namespace": "html",
                "tag": "div"
               },
               "nodeType": "DOM",
               "props": {
                "className": "interact-flex-row-left"
               },
               "type": "node"
              },
              {
               "children": [
                {
                 "children": [],
                 "instanceArgs": {
                  "namespace": "html",
                  "tag": "input"
                 },
                 "nodeType": "DOM",
                 "props": {
                  "attributes": {
                   "data-bind": "numericValue: index, valueUpdate: 'input', event: {change: function (){this.changes(this.changes()+1)}}",
                   "orient": "horizontal",
                   "type": "range"
                  },
                  "className": "slider slider is-fullwidth",
                  "max": 51,
                  "min": 1,
                  "step": 1,
                  "style": {}
                 },
                 "type": "node"
                }
               ],
               "instanceArgs": {
                "namespace": "html",
                "tag": "div"
               },
               "nodeType": "DOM",
               "props": {
                "className": "interact-flex-row-center"
               },
               "type": "node"
              },
              {
               "children": [
                {
                 "children": [],
                 "instanceArgs": {
                  "namespace": "html",
                  "tag": "p"
                 },
                 "nodeType": "DOM",
                 "props": {
                  "attributes": {
                   "data-bind": "text: formatted_val"
                  }
                 },
                 "type": "node"
                }
               ],
               "instanceArgs": {
                "namespace": "html",
                "tag": "div"
               },
               "nodeType": "DOM",
               "props": {
                "className": "interact-flex-row-right"
               },
               "type": "node"
              }
             ],
             "instanceArgs": {
              "namespace": "html",
              "tag": "div"
             },
             "nodeType": "DOM",
             "props": {
              "className": "interact-flex-row interact-widget"
             },
             "type": "node"
            }
           ],
           "instanceArgs": {
            "handlers": {
             "changes": [
              "(function (val){return (val!=this.model[\"changes\"]()) ? (this.valueFromJulia[\"changes\"]=true, this.model[\"changes\"](val)) : undefined})"
             ],
             "index": [
              "(function (val){return (val!=this.model[\"index\"]()) ? (this.valueFromJulia[\"index\"]=true, this.model[\"index\"](val)) : undefined})"
             ]
            },
            "id": "12352508471339811563",
            "imports": {
             "data": [
              {
               "name": "knockout",
               "type": "js",
               "url": "/assetserver/73837b4dfd56accdcb1215a684921b2ef3eac20a-knockout.js"
              },
              {
               "name": "knockout_punches",
               "type": "js",
               "url": "/assetserver/92cd359686a293b9c70a4b7760c6c67bd1013214-knockout_punches.js"
              },
              {
               "name": null,
               "type": "js",
               "url": "/assetserver/f4d145e0b20c957c0f64be966a044a83bfc8b058-all.js"
              },
              {
               "name": null,
               "type": "css",
               "url": "/assetserver/2c412db78c37c82c697e43fa6ce539fa95433b66-style.css"
              },
              {
               "name": null,
               "type": "css",
               "url": "/assetserver/35790a4607e963c2228faabafa9c3d3f0c1eb9a5-bulma_confined.min.css"
              }
             ],
             "type": "async_block"
            },
            "mount_callbacks": [
             "function () {\n    var handler = (function (ko, koPunches) {\n    ko.punches.enableAll();\n    ko.bindingHandlers.numericValue = {\n        init: function(element, valueAccessor, allBindings, data, context) {\n            var stringified = ko.observable(ko.unwrap(valueAccessor()));\n            stringified.subscribe(function(value) {\n                var val = parseFloat(value);\n                if (!isNaN(val)) {\n                    valueAccessor()(val);\n                }\n            });\n            valueAccessor().subscribe(function(value) {\n                var str = JSON.stringify(value);\n                if ((str == \"0\") && ([\"-0\", \"-0.\"].indexOf(stringified()) >= 0))\n                     return;\n                 if ([\"null\", \"\"].indexOf(str) >= 0)\n                     return;\n                stringified(str);\n            });\n            ko.applyBindingsToNode(\n                element,\n                {\n                    value: stringified,\n                    valueUpdate: allBindings.get('valueUpdate'),\n                },\n                context,\n            );\n        }\n    };\n    var json_data = {\"formatted_vals\":[\"0.0\",\"0.02\",\"0.04\",\"0.06\",\"0.08\",\"0.1\",\"0.12\",\"0.14\",\"0.16\",\"0.18\",\"0.2\",\"0.22\",\"0.24\",\"0.26\",\"0.28\",\"0.3\",\"0.32\",\"0.34\",\"0.36\",\"0.38\",\"0.4\",\"0.42\",\"0.44\",\"0.46\",\"0.48\",\"0.5\",\"0.52\",\"0.54\",\"0.56\",\"0.58\",\"0.6\",\"0.62\",\"0.64\",\"0.66\",\"0.68\",\"0.7\",\"0.72\",\"0.74\",\"0.76\",\"0.78\",\"0.8\",\"0.82\",\"0.84\",\"0.86\",\"0.88\",\"0.9\",\"0.92\",\"0.94\",\"0.96\",\"0.98\",\"1.0\"],\"changes\":WebIO.getval({\"name\":\"changes\",\"scope\":\"12352508471339811563\",\"id\":\"6640972426852799025\",\"type\":\"observable\"}),\"index\":WebIO.getval({\"name\":\"index\",\"scope\":\"12352508471339811563\",\"id\":\"1275865781188444811\",\"type\":\"observable\"})};\n    var self = this;\n    function AppViewModel() {\n        for (var key in json_data) {\n            var el = json_data[key];\n            this[key] = Array.isArray(el) ? ko.observableArray(el) : ko.observable(el);\n        }\n        \n        [this[\"formatted_val\"]=ko.computed(    function(){\n        return this.formatted_vals()[parseInt(this.index())-(1)];\n    }\n,this)]\n        [this[\"changes\"].subscribe((function (val){!(this.valueFromJulia[\"changes\"]) ? (WebIO.setval({\"name\":\"changes\",\"scope\":\"12352508471339811563\",\"id\":\"6640972426852799025\",\"type\":\"observable\"},val)) : undefined; return this.valueFromJulia[\"changes\"]=false}),self),this[\"index\"].subscribe((function (val){!(this.valueFromJulia[\"index\"]) ? (WebIO.setval({\"name\":\"index\",\"scope\":\"12352508471339811563\",\"id\":\"1275865781188444811\",\"type\":\"observable\"},val)) : undefined; return this.valueFromJulia[\"index\"]=false}),self)]\n        \n    }\n    self.model = new AppViewModel();\n    self.valueFromJulia = {};\n    for (var key in json_data) {\n        self.valueFromJulia[key] = false;\n    }\n    ko.applyBindings(self.model, self.dom);\n}\n);\n    (WebIO.importBlock({\"data\":[{\"name\":\"knockout\",\"type\":\"js\",\"url\":\"/assetserver/73837b4dfd56accdcb1215a684921b2ef3eac20a-knockout.js\"},{\"name\":\"knockout_punches\",\"type\":\"js\",\"url\":\"/assetserver/92cd359686a293b9c70a4b7760c6c67bd1013214-knockout_punches.js\"}],\"type\":\"async_block\"})).then((imports) => handler.apply(this, imports));\n}\n"
            ],
            "observables": {
             "changes": {
              "id": "6640972426852799025",
              "sync": false,
              "value": 0
             },
             "index": {
              "id": "1275865781188444811",
              "sync": true,
              "value": 26
             }
            },
            "systemjs_options": null
           },
           "nodeType": "Scope",
           "props": {},
           "type": "node"
          }
         ],
         "instanceArgs": {
          "namespace": "html",
          "tag": "div"
         },
         "nodeType": "DOM",
         "props": {
          "className": "field interact-widget"
         },
         "type": "node"
        },
        {
         "children": [
          {
           "children": [],
           "instanceArgs": {
            "id": "5784345623236734441",
            "name": "obs-node"
           },
           "nodeType": "ObservableNode",
           "props": {},
           "type": "node"
          }
         ],
         "instanceArgs": {
          "handlers": {},
          "id": "10438352333159875804",
          "imports": {
           "data": [],
           "type": "async_block"
          },
          "mount_callbacks": [],
          "observables": {
           "obs-node": {
            "id": "5784345623236734441",
            "sync": false,
            "value": {
             "children": [
              {
               "children": [],
               "instanceArgs": {
                "namespace": "html",
                "tag": "div"
               },
               "nodeType": "DOM",
               "props": {
                "setInnerHtml": "<?xml version=\"1.0\" encoding=\"utf-8\"?>\n<svg xmlns=\"http://www.w3.org/2000/svg\" xmlns:xlink=\"http://www.w3.org/1999/xlink\" width=\"600\" height=\"400\" viewBox=\"0 0 2400 1600\">\n<defs>\n  <clipPath id=\"clip280\">\n    <rect x=\"0\" y=\"0\" width=\"2400\" height=\"1600\"/>\n  </clipPath>\n</defs>\n<path clip-path=\"url(#clip280)\" d=\"M0 1600 L2400 1600 L2400 0 L0 0  Z\" fill=\"#ffffff\" fill-rule=\"evenodd\" fill-opacity=\"1\"/>\n<defs>\n  <clipPath id=\"clip281\">\n    <rect x=\"480\" y=\"0\" width=\"1681\" height=\"1600\"/>\n  </clipPath>\n</defs>\n<path clip-path=\"url(#clip280)\" d=\"M186.274 1486.45 L2352.76 1486.45 L2352.76 47.2441 L186.274 47.2441  Z\" fill=\"#ffffff\" fill-rule=\"evenodd\" fill-opacity=\"1\"/>\n<defs>\n  <clipPath id=\"clip282\">\n    <rect x=\"186\" y=\"47\" width=\"2167\" height=\"1440\"/>\n  </clipPath>\n</defs>\n<polyline clip-path=\"url(#clip282)\" style=\"stroke:#000000; stroke-linecap:round; stroke-linejoin:round; stroke-width:2; stroke-opacity:0.1; fill:none\" points=\"247.59,1486.45 247.59,47.2441 \"/>\n<polyline clip-path=\"url(#clip282)\" style=\"stroke:#000000; stroke-linecap:round; stroke-linejoin:round; stroke-width:2; stroke-opacity:0.1; fill:none\" points=\"758.552,1486.45 758.552,47.2441 \"/>\n<polyline clip-path=\"url(#clip282)\" style=\"stroke:#000000; stroke-linecap:round; stroke-linejoin:round; stroke-width:2; stroke-opacity:0.1; fill:none\" points=\"1269.51,1486.45 1269.51,47.2441 \"/>\n<polyline clip-path=\"url(#clip282)\" style=\"stroke:#000000; stroke-linecap:round; stroke-linejoin:round; stroke-width:2; stroke-opacity:0.1; fill:none\" points=\"1780.48,1486.45 1780.48,47.2441 \"/>\n<polyline clip-path=\"url(#clip282)\" style=\"stroke:#000000; stroke-linecap:round; stroke-linejoin:round; stroke-width:2; stroke-opacity:0.1; fill:none\" points=\"2291.44,1486.45 2291.44,47.2441 \"/>\n<polyline clip-path=\"url(#clip280)\" style=\"stroke:#000000; stroke-linecap:round; stroke-linejoin:round; stroke-width:4; stroke-opacity:1; fill:none\" points=\"186.274,1486.45 2352.76,1486.45 \"/>\n<polyline clip-path=\"url(#clip280)\" style=\"stroke:#000000; stroke-linecap:round; stroke-linejoin:round; stroke-width:4; stroke-opacity:1; fill:none\" points=\"247.59,1486.45 247.59,1467.55 \"/>\n<polyline clip-path=\"url(#clip280)\" style=\"stroke:#000000; stroke-linecap:round; stroke-linejoin:round; stroke-width:4; stroke-opacity:1; fill:none\" points=\"758.552,1486.45 758.552,1467.55 \"/>\n<polyline clip-path=\"url(#clip280)\" style=\"stroke:#000000; stroke-linecap:round; stroke-linejoin:round; stroke-width:4; stroke-opacity:1; fill:none\" points=\"1269.51,1486.45 1269.51,1467.55 \"/>\n<polyline clip-path=\"url(#clip280)\" style=\"stroke:#000000; stroke-linecap:round; stroke-linejoin:round; stroke-width:4; stroke-opacity:1; fill:none\" points=\"1780.48,1486.45 1780.48,1467.55 \"/>\n<polyline clip-path=\"url(#clip280)\" style=\"stroke:#000000; stroke-linecap:round; stroke-linejoin:round; stroke-width:4; stroke-opacity:1; fill:none\" points=\"2291.44,1486.45 2291.44,1467.55 \"/>\n<path clip-path=\"url(#clip280)\" d=\"M217.532 1532.02 L247.208 1532.02 L247.208 1535.95 L217.532 1535.95 L217.532 1532.02 Z\" fill=\"#000000\" fill-rule=\"nonzero\" fill-opacity=\"1\" /><path clip-path=\"url(#clip280)\" d=\"M261.328 1544.91 L277.647 1544.91 L277.647 1548.85 L255.703 1548.85 L255.703 1544.91 Q258.365 1542.16 262.948 1537.53 Q267.555 1532.88 268.735 1531.53 Q270.981 1529.01 271.86 1527.27 Q272.763 1525.51 272.763 1523.82 Q272.763 1521.07 270.819 1519.33 Q268.897 1517.6 265.795 1517.6 Q263.596 1517.6 261.143 1518.36 Q258.712 1519.13 255.934 1520.68 L255.934 1515.95 Q258.758 1514.82 261.212 1514.24 Q263.666 1513.66 265.703 1513.66 Q271.073 1513.66 274.268 1516.35 Q277.462 1519.03 277.462 1523.52 Q277.462 1525.65 276.652 1527.57 Q275.865 1529.47 273.758 1532.07 Q273.18 1532.74 270.078 1535.95 Q266.976 1539.15 261.328 1544.91 Z\" fill=\"#000000\" fill-rule=\"nonzero\" fill-opacity=\"1\" /><path clip-path=\"url(#clip280)\" d=\"M728.309 1532.02 L757.985 1532.02 L757.985 1535.95 L728.309 1535.95 L728.309 1532.02 Z\" fill=\"#000000\" fill-rule=\"nonzero\" fill-opacity=\"1\" /><path clip-path=\"url(#clip280)\" d=\"M768.888 1544.91 L776.527 1544.91 L776.527 1518.55 L768.217 1520.21 L768.217 1515.95 L776.48 1514.29 L781.156 1514.29 L781.156 1544.91 L788.795 1544.91 L788.795 1548.85 L768.888 1548.85 L768.888 1544.91 Z\" fill=\"#000000\" fill-rule=\"nonzero\" fill-opacity=\"1\" /><path clip-path=\"url(#clip280)\" d=\"M1269.51 1517.37 Q1265.9 1517.37 1264.08 1520.93 Q1262.27 1524.47 1262.27 1531.6 Q1262.27 1538.71 1264.08 1542.27 Q1265.9 1545.82 1269.51 1545.82 Q1273.15 1545.82 1274.95 1542.27 Q1276.78 1538.71 1276.78 1531.6 Q1276.78 1524.47 1274.95 1520.93 Q1273.15 1517.37 1269.51 1517.37 M1269.51 1513.66 Q1275.33 1513.66 1278.38 1518.27 Q1281.46 1522.85 1281.46 1531.6 Q1281.46 1540.33 1278.38 1544.94 Q1275.33 1549.52 1269.51 1549.52 Q1263.7 1549.52 1260.63 1544.94 Q1257.57 1540.33 1257.57 1531.6 Q1257.57 1522.85 1260.63 1518.27 Q1263.7 1513.66 1269.51 1513.66 Z\" fill=\"#000000\" fill-rule=\"nonzero\" fill-opacity=\"1\" /><path clip-path=\"url(#clip280)\" d=\"M1770.86 1544.91 L1778.5 1544.91 L1778.5 1518.55 L1770.19 1520.21 L1770.19 1515.95 L1778.45 1514.29 L1783.13 1514.29 L1783.13 1544.91 L1790.77 1544.91 L1790.77 1548.85 L1770.86 1548.85 L1770.86 1544.91 Z\" fill=\"#000000\" fill-rule=\"nonzero\" fill-opacity=\"1\" /><path clip-path=\"url(#clip280)\" d=\"M2286.09 1544.91 L2302.41 1544.91 L2302.41 1548.85 L2280.47 1548.85 L2280.47 1544.91 Q2283.13 1542.16 2287.71 1537.53 Q2292.32 1532.88 2293.5 1531.53 Q2295.75 1529.01 2296.63 1527.27 Q2297.53 1525.51 2297.53 1523.82 Q2297.53 1521.07 2295.58 1519.33 Q2293.66 1517.6 2290.56 1517.6 Q2288.36 1517.6 2285.91 1518.36 Q2283.48 1519.13 2280.7 1520.68 L2280.7 1515.95 Q2283.52 1514.82 2285.98 1514.24 Q2288.43 1513.66 2290.47 1513.66 Q2295.84 1513.66 2299.03 1516.35 Q2302.23 1519.03 2302.23 1523.52 Q2302.23 1525.65 2301.42 1527.57 Q2300.63 1529.47 2298.52 1532.07 Q2297.94 1532.74 2294.84 1535.95 Q2291.74 1539.15 2286.09 1544.91 Z\" fill=\"#000000\" fill-rule=\"nonzero\" fill-opacity=\"1\" /><polyline clip-path=\"url(#clip282)\" style=\"stroke:#000000; stroke-linecap:round; stroke-linejoin:round; stroke-width:2; stroke-opacity:0.1; fill:none\" points=\"186.274,1445.72 2352.76,1445.72 \"/>\n<polyline clip-path=\"url(#clip282)\" style=\"stroke:#000000; stroke-linecap:round; stroke-linejoin:round; stroke-width:2; stroke-opacity:0.1; fill:none\" points=\"186.274,1106.28 2352.76,1106.28 \"/>\n<polyline clip-path=\"url(#clip282)\" style=\"stroke:#000000; stroke-linecap:round; stroke-linejoin:round; stroke-width:2; stroke-opacity:0.1; fill:none\" points=\"186.274,766.846 2352.76,766.846 \"/>\n<polyline clip-path=\"url(#clip282)\" style=\"stroke:#000000; stroke-linecap:round; stroke-linejoin:round; stroke-width:2; stroke-opacity:0.1; fill:none\" points=\"186.274,427.411 2352.76,427.411 \"/>\n<polyline clip-path=\"url(#clip282)\" style=\"stroke:#000000; stroke-linecap:round; stroke-linejoin:round; stroke-width:2; stroke-opacity:0.1; fill:none\" points=\"186.274,87.9763 2352.76,87.9763 \"/>\n<polyline clip-path=\"url(#clip280)\" style=\"stroke:#000000; stroke-linecap:round; stroke-linejoin:round; stroke-width:4; stroke-opacity:1; fill:none\" points=\"186.274,1486.45 186.274,47.2441 \"/>\n<polyline clip-path=\"url(#clip280)\" style=\"stroke:#000000; stroke-linecap:round; stroke-linejoin:round; stroke-width:4; stroke-opacity:1; fill:none\" points=\"186.274,1445.72 205.172,1445.72 \"/>\n<polyline clip-path=\"url(#clip280)\" style=\"stroke:#000000; stroke-linecap:round; stroke-linejoin:round; stroke-width:4; stroke-opacity:1; fill:none\" points=\"186.274,1106.28 205.172,1106.28 \"/>\n<polyline clip-path=\"url(#clip280)\" style=\"stroke:#000000; stroke-linecap:round; stroke-linejoin:round; stroke-width:4; stroke-opacity:1; fill:none\" points=\"186.274,766.846 205.172,766.846 \"/>\n<polyline clip-path=\"url(#clip280)\" style=\"stroke:#000000; stroke-linecap:round; stroke-linejoin:round; stroke-width:4; stroke-opacity:1; fill:none\" points=\"186.274,427.411 205.172,427.411 \"/>\n<polyline clip-path=\"url(#clip280)\" style=\"stroke:#000000; stroke-linecap:round; stroke-linejoin:round; stroke-width:4; stroke-opacity:1; fill:none\" points=\"186.274,87.9763 205.172,87.9763 \"/>\n<path clip-path=\"url(#clip280)\" d=\"M62.9365 1431.51 Q59.3254 1431.51 57.4967 1435.08 Q55.6912 1438.62 55.6912 1445.75 Q55.6912 1452.86 57.4967 1456.42 Q59.3254 1459.96 62.9365 1459.96 Q66.5707 1459.96 68.3763 1456.42 Q70.205 1452.86 70.205 1445.75 Q70.205 1438.62 68.3763 1435.08 Q66.5707 1431.51 62.9365 1431.51 M62.9365 1427.81 Q68.7467 1427.81 71.8022 1432.42 Q74.8809 1437 74.8809 1445.75 Q74.8809 1454.48 71.8022 1459.08 Q68.7467 1463.67 62.9365 1463.67 Q57.1264 1463.67 54.0477 1459.08 Q50.9921 1454.48 50.9921 1445.75 Q50.9921 1437 54.0477 1432.42 Q57.1264 1427.81 62.9365 1427.81 Z\" fill=\"#000000\" fill-rule=\"nonzero\" fill-opacity=\"1\" /><path clip-path=\"url(#clip280)\" d=\"M83.0984 1457.12 L87.9827 1457.12 L87.9827 1463 L83.0984 1463 L83.0984 1457.12 Z\" fill=\"#000000\" fill-rule=\"nonzero\" fill-opacity=\"1\" /><path clip-path=\"url(#clip280)\" d=\"M108.168 1431.51 Q104.557 1431.51 102.728 1435.08 Q100.922 1438.62 100.922 1445.75 Q100.922 1452.86 102.728 1456.42 Q104.557 1459.96 108.168 1459.96 Q111.802 1459.96 113.608 1456.42 Q115.436 1452.86 115.436 1445.75 Q115.436 1438.62 113.608 1435.08 Q111.802 1431.51 108.168 1431.51 M108.168 1427.81 Q113.978 1427.81 117.033 1432.42 Q120.112 1437 120.112 1445.75 Q120.112 1454.48 117.033 1459.08 Q113.978 1463.67 108.168 1463.67 Q102.358 1463.67 99.2789 1459.08 Q96.2234 1454.48 96.2234 1445.75 Q96.2234 1437 99.2789 1432.42 Q102.358 1427.81 108.168 1427.81 Z\" fill=\"#000000\" fill-rule=\"nonzero\" fill-opacity=\"1\" /><path clip-path=\"url(#clip280)\" d=\"M138.33 1431.51 Q134.719 1431.51 132.89 1435.08 Q131.084 1438.62 131.084 1445.75 Q131.084 1452.86 132.89 1456.42 Q134.719 1459.96 138.33 1459.96 Q141.964 1459.96 143.769 1456.42 Q145.598 1452.86 145.598 1445.75 Q145.598 1438.62 143.769 1435.08 Q141.964 1431.51 138.33 1431.51 M138.33 1427.81 Q144.14 1427.81 147.195 1432.42 Q150.274 1437 150.274 1445.75 Q150.274 1454.48 147.195 1459.08 Q144.14 1463.67 138.33 1463.67 Q132.519 1463.67 129.441 1459.08 Q126.385 1454.48 126.385 1445.75 Q126.385 1437 129.441 1432.42 Q132.519 1427.81 138.33 1427.81 Z\" fill=\"#000000\" fill-rule=\"nonzero\" fill-opacity=\"1\" /><path clip-path=\"url(#clip280)\" d=\"M63.9319 1092.08 Q60.3208 1092.08 58.4921 1095.64 Q56.6865 1099.19 56.6865 1106.32 Q56.6865 1113.42 58.4921 1116.99 Q60.3208 1120.53 63.9319 1120.53 Q67.5661 1120.53 69.3717 1116.99 Q71.2004 1113.42 71.2004 1106.32 Q71.2004 1099.19 69.3717 1095.64 Q67.5661 1092.08 63.9319 1092.08 M63.9319 1088.38 Q69.742 1088.38 72.7976 1092.98 Q75.8763 1097.57 75.8763 1106.32 Q75.8763 1115.04 72.7976 1119.65 Q69.742 1124.23 63.9319 1124.23 Q58.1217 1124.23 55.043 1119.65 Q51.9875 1115.04 51.9875 1106.32 Q51.9875 1097.57 55.043 1092.98 Q58.1217 1088.38 63.9319 1088.38 Z\" fill=\"#000000\" fill-rule=\"nonzero\" fill-opacity=\"1\" /><path clip-path=\"url(#clip280)\" d=\"M84.0938 1117.68 L88.978 1117.68 L88.978 1123.56 L84.0938 1123.56 L84.0938 1117.68 Z\" fill=\"#000000\" fill-rule=\"nonzero\" fill-opacity=\"1\" /><path clip-path=\"url(#clip280)\" d=\"M103.191 1119.63 L119.51 1119.63 L119.51 1123.56 L97.566 1123.56 L97.566 1119.63 Q100.228 1116.87 104.811 1112.24 Q109.418 1107.59 110.598 1106.25 Q112.844 1103.72 113.723 1101.99 Q114.626 1100.23 114.626 1098.54 Q114.626 1095.78 112.682 1094.05 Q110.76 1092.31 107.658 1092.31 Q105.459 1092.31 103.006 1093.07 Q100.575 1093.84 97.7974 1095.39 L97.7974 1090.67 Q100.621 1089.53 103.075 1088.95 Q105.529 1088.38 107.566 1088.38 Q112.936 1088.38 116.131 1091.06 Q119.325 1093.75 119.325 1098.24 Q119.325 1100.37 118.515 1102.29 Q117.728 1104.19 115.621 1106.78 Q115.043 1107.45 111.941 1110.67 Q108.839 1113.86 103.191 1119.63 Z\" fill=\"#000000\" fill-rule=\"nonzero\" fill-opacity=\"1\" /><path clip-path=\"url(#clip280)\" d=\"M129.371 1089 L147.728 1089 L147.728 1092.94 L133.654 1092.94 L133.654 1101.41 Q134.672 1101.06 135.691 1100.9 Q136.709 1100.71 137.728 1100.71 Q143.515 1100.71 146.894 1103.89 Q150.274 1107.06 150.274 1112.47 Q150.274 1118.05 146.802 1121.15 Q143.33 1124.23 137.01 1124.23 Q134.834 1124.23 132.566 1123.86 Q130.32 1123.49 127.913 1122.75 L127.913 1118.05 Q129.996 1119.19 132.219 1119.74 Q134.441 1120.3 136.918 1120.3 Q140.922 1120.3 143.26 1118.19 Q145.598 1116.08 145.598 1112.47 Q145.598 1108.86 143.26 1106.76 Q140.922 1104.65 136.918 1104.65 Q135.043 1104.65 133.168 1105.07 Q131.316 1105.48 129.371 1106.36 L129.371 1089 Z\" fill=\"#000000\" fill-rule=\"nonzero\" fill-opacity=\"1\" /><path clip-path=\"url(#clip280)\" d=\"M62.9365 752.645 Q59.3254 752.645 57.4967 756.209 Q55.6912 759.751 55.6912 766.881 Q55.6912 773.987 57.4967 777.552 Q59.3254 781.094 62.9365 781.094 Q66.5707 781.094 68.3763 777.552 Q70.205 773.987 70.205 766.881 Q70.205 759.751 68.3763 756.209 Q66.5707 752.645 62.9365 752.645 M62.9365 748.941 Q68.7467 748.941 71.8022 753.547 Q74.8809 758.131 74.8809 766.881 Q74.8809 775.608 71.8022 780.214 Q68.7467 784.797 62.9365 784.797 Q57.1264 784.797 54.0477 780.214 Q50.9921 775.608 50.9921 766.881 Q50.9921 758.131 54.0477 753.547 Q57.1264 748.941 62.9365 748.941 Z\" fill=\"#000000\" fill-rule=\"nonzero\" fill-opacity=\"1\" /><path clip-path=\"url(#clip280)\" d=\"M83.0984 778.246 L87.9827 778.246 L87.9827 784.126 L83.0984 784.126 L83.0984 778.246 Z\" fill=\"#000000\" fill-rule=\"nonzero\" fill-opacity=\"1\" /><path clip-path=\"url(#clip280)\" d=\"M98.2141 749.566 L116.57 749.566 L116.57 753.501 L102.496 753.501 L102.496 761.973 Q103.515 761.626 104.534 761.464 Q105.552 761.279 106.571 761.279 Q112.358 761.279 115.737 764.45 Q119.117 767.621 119.117 773.038 Q119.117 778.617 115.645 781.719 Q112.172 784.797 105.853 784.797 Q103.677 784.797 101.409 784.427 Q99.1632 784.057 96.7558 783.316 L96.7558 778.617 Q98.8391 779.751 101.061 780.307 Q103.284 780.862 105.76 780.862 Q109.765 780.862 112.103 778.756 Q114.441 776.649 114.441 773.038 Q114.441 769.427 112.103 767.321 Q109.765 765.214 105.76 765.214 Q103.885 765.214 102.01 765.631 Q100.159 766.047 98.2141 766.927 L98.2141 749.566 Z\" fill=\"#000000\" fill-rule=\"nonzero\" fill-opacity=\"1\" /><path clip-path=\"url(#clip280)\" d=\"M138.33 752.645 Q134.719 752.645 132.89 756.209 Q131.084 759.751 131.084 766.881 Q131.084 773.987 132.89 777.552 Q134.719 781.094 138.33 781.094 Q141.964 781.094 143.769 777.552 Q145.598 773.987 145.598 766.881 Q145.598 759.751 143.769 756.209 Q141.964 752.645 138.33 752.645 M138.33 748.941 Q144.14 748.941 147.195 753.547 Q150.274 758.131 150.274 766.881 Q150.274 775.608 147.195 780.214 Q144.14 784.797 138.33 784.797 Q132.519 784.797 129.441 780.214 Q126.385 775.608 126.385 766.881 Q126.385 758.131 129.441 753.547 Q132.519 748.941 138.33 748.941 Z\" fill=\"#000000\" fill-rule=\"nonzero\" fill-opacity=\"1\" /><path clip-path=\"url(#clip280)\" d=\"M63.9319 413.21 Q60.3208 413.21 58.4921 416.775 Q56.6865 420.316 56.6865 427.446 Q56.6865 434.552 58.4921 438.117 Q60.3208 441.659 63.9319 441.659 Q67.5661 441.659 69.3717 438.117 Q71.2004 434.552 71.2004 427.446 Q71.2004 420.316 69.3717 416.775 Q67.5661 413.21 63.9319 413.21 M63.9319 409.506 Q69.742 409.506 72.7976 414.113 Q75.8763 418.696 75.8763 427.446 Q75.8763 436.173 72.7976 440.779 Q69.742 445.362 63.9319 445.362 Q58.1217 445.362 55.043 440.779 Q51.9875 436.173 51.9875 427.446 Q51.9875 418.696 55.043 414.113 Q58.1217 409.506 63.9319 409.506 Z\" fill=\"#000000\" fill-rule=\"nonzero\" fill-opacity=\"1\" /><path clip-path=\"url(#clip280)\" d=\"M84.0938 438.812 L88.978 438.812 L88.978 444.691 L84.0938 444.691 L84.0938 438.812 Z\" fill=\"#000000\" fill-rule=\"nonzero\" fill-opacity=\"1\" /><path clip-path=\"url(#clip280)\" d=\"M97.9826 410.131 L120.205 410.131 L120.205 412.122 L107.658 444.691 L102.774 444.691 L114.58 414.066 L97.9826 414.066 L97.9826 410.131 Z\" fill=\"#000000\" fill-rule=\"nonzero\" fill-opacity=\"1\" /><path clip-path=\"url(#clip280)\" d=\"M129.371 410.131 L147.728 410.131 L147.728 414.066 L133.654 414.066 L133.654 422.538 Q134.672 422.191 135.691 422.029 Q136.709 421.844 137.728 421.844 Q143.515 421.844 146.894 425.015 Q150.274 428.187 150.274 433.603 Q150.274 439.182 146.802 442.284 Q143.33 445.362 137.01 445.362 Q134.834 445.362 132.566 444.992 Q130.32 444.622 127.913 443.881 L127.913 439.182 Q129.996 440.316 132.219 440.872 Q134.441 441.427 136.918 441.427 Q140.922 441.427 143.26 439.321 Q145.598 437.214 145.598 433.603 Q145.598 429.992 143.26 427.886 Q140.922 425.779 136.918 425.779 Q135.043 425.779 133.168 426.196 Q131.316 426.613 129.371 427.492 L129.371 410.131 Z\" fill=\"#000000\" fill-rule=\"nonzero\" fill-opacity=\"1\" /><path clip-path=\"url(#clip280)\" d=\"M53.7467 101.321 L61.3856 101.321 L61.3856 74.9555 L53.0754 76.6222 L53.0754 72.3629 L61.3393 70.6963 L66.0152 70.6963 L66.0152 101.321 L73.654 101.321 L73.654 105.256 L53.7467 105.256 L53.7467 101.321 Z\" fill=\"#000000\" fill-rule=\"nonzero\" fill-opacity=\"1\" /><path clip-path=\"url(#clip280)\" d=\"M83.0984 99.3767 L87.9827 99.3767 L87.9827 105.256 L83.0984 105.256 L83.0984 99.3767 Z\" fill=\"#000000\" fill-rule=\"nonzero\" fill-opacity=\"1\" /><path clip-path=\"url(#clip280)\" d=\"M108.168 73.775 Q104.557 73.775 102.728 77.3398 Q100.922 80.8814 100.922 88.011 Q100.922 95.1174 102.728 98.6822 Q104.557 102.224 108.168 102.224 Q111.802 102.224 113.608 98.6822 Q115.436 95.1174 115.436 88.011 Q115.436 80.8814 113.608 77.3398 Q111.802 73.775 108.168 73.775 M108.168 70.0713 Q113.978 70.0713 117.033 74.6777 Q120.112 79.261 120.112 88.011 Q120.112 96.7378 117.033 101.344 Q113.978 105.928 108.168 105.928 Q102.358 105.928 99.2789 101.344 Q96.2234 96.7378 96.2234 88.011 Q96.2234 79.261 99.2789 74.6777 Q102.358 70.0713 108.168 70.0713 Z\" fill=\"#000000\" fill-rule=\"nonzero\" fill-opacity=\"1\" /><path clip-path=\"url(#clip280)\" d=\"M138.33 73.775 Q134.719 73.775 132.89 77.3398 Q131.084 80.8814 131.084 88.011 Q131.084 95.1174 132.89 98.6822 Q134.719 102.224 138.33 102.224 Q141.964 102.224 143.769 98.6822 Q145.598 95.1174 145.598 88.011 Q145.598 80.8814 143.769 77.3398 Q141.964 73.775 138.33 73.775 M138.33 70.0713 Q144.14 70.0713 147.195 74.6777 Q150.274 79.261 150.274 88.011 Q150.274 96.7378 147.195 101.344 Q144.14 105.928 138.33 105.928 Q132.519 105.928 129.441 101.344 Q126.385 96.7378 126.385 88.011 Q126.385 79.261 129.441 74.6777 Q132.519 70.0713 138.33 70.0713 Z\" fill=\"#000000\" fill-rule=\"nonzero\" fill-opacity=\"1\" /><polyline clip-path=\"url(#clip282)\" style=\"stroke:#009af9; stroke-linecap:round; stroke-linejoin:round; stroke-width:4; stroke-opacity:1; fill:none\" points=\"247.59,1445.72 252.699,1445.72 257.809,1445.72 262.918,1445.72 268.028,1445.72 273.138,1445.72 278.247,1445.72 283.357,1445.72 288.467,1445.72 293.576,1445.72 298.686,1445.72 303.795,1445.72 308.905,1445.72 314.015,1445.72 319.124,1445.72 324.234,1445.72 329.344,1445.72 334.453,1445.72 339.563,1445.72 344.672,1445.72 349.782,1445.72 354.892,1445.72 360.001,1445.72 365.111,1445.72 370.221,1445.72 375.33,1445.72 380.44,1445.72 385.549,1445.72 390.659,1445.72 395.769,1445.72 400.878,1445.72 405.988,1445.72 411.098,1445.72 416.207,1445.72 421.317,1445.72 426.426,1445.72 431.536,1445.72 436.646,1445.72 441.755,1445.72 446.865,1445.72 451.975,1445.72 457.084,1445.72 462.194,1445.72 467.303,1445.72 472.413,1445.72 477.523,1445.72 482.632,1445.72 487.742,1445.72 492.852,1445.72 497.961,1445.72 503.071,1445.72 508.181,1445.72 513.29,1445.72 518.4,1445.72 523.509,1445.72 528.619,1445.72 533.729,1445.72 538.838,1445.72 543.948,1445.72 549.058,1445.72 554.167,1445.72 559.277,1445.72 564.386,1445.72 569.496,1445.72 574.606,1445.72 579.715,1445.72 584.825,1445.72 589.935,1445.72 595.044,1445.72 600.154,1445.72 605.263,1445.72 610.373,1445.72 615.483,1445.72 620.592,1445.72 625.702,1445.72 630.812,1445.72 635.921,1445.72 641.031,1445.72 646.14,1445.72 651.25,1445.72 656.36,1445.72 661.469,1445.72 666.579,1445.72 671.689,1445.72 676.798,1445.72 681.908,1445.72 687.017,1445.72 692.127,1445.72 697.237,1445.72 702.346,1445.72 707.456,1445.72 712.566,1445.72 717.675,1445.72 722.785,1445.72 727.894,1445.72 733.004,1445.72 738.114,1445.72 743.223,1445.72 748.333,1445.72 753.443,1445.72 758.552,1445.72 763.662,1445.72 768.771,1445.72 773.881,1445.72 778.991,1445.72 784.1,1445.72 789.21,1445.72 794.32,1445.72 799.429,1445.72 804.539,1445.72 809.649,1445.72 814.758,1445.72 819.868,1445.72 824.977,1445.72 830.087,1445.72 835.197,1445.72 840.306,1445.72 845.416,1445.72 850.526,1445.72 855.635,1445.72 860.745,1445.72 865.854,1445.72 870.964,1445.72 876.074,1445.72 881.183,1445.72 886.293,1445.72 891.403,1445.72 896.512,1445.72 901.622,1445.72 906.731,1445.72 911.841,1445.72 916.951,1445.72 922.06,1445.72 927.17,1445.72 932.28,1445.72 937.389,1445.72 942.499,1445.72 947.608,1445.72 952.718,1445.72 957.828,1445.72 962.937,1445.72 968.047,1445.72 973.157,1445.72 978.266,1445.72 983.376,1445.72 988.485,1445.72 993.595,1445.72 998.705,1445.72 1003.81,1445.72 1008.92,1445.72 1014.03,1445.72 1019.14,1445.72 1024.25,1445.72 1029.36,1445.72 1034.47,1445.72 1039.58,1445.72 1044.69,1445.72 1049.8,1445.72 1054.91,1445.72 1060.02,1445.72 1065.13,1445.72 1070.24,1445.72 1075.35,1445.72 1080.46,1445.72 1085.57,1445.72 1090.68,1445.72 1095.79,1445.72 1100.9,1445.72 1106.01,1445.72 1111.12,1445.72 1116.23,1445.72 1121.34,1445.72 1126.45,1445.72 1131.56,1445.72 1136.66,1445.72 1141.77,1445.72 1146.88,1445.72 1151.99,1445.72 1157.1,1445.72 1162.21,1445.72 1167.32,1445.72 1172.43,1445.72 1177.54,1445.72 1182.65,1445.72 1187.76,1445.72 1192.87,1445.72 1197.98,1445.72 1203.09,1424.5 1208.2,1403.29 1213.31,1382.07 1218.42,1360.86 1223.53,1339.64 1228.64,1318.43 1233.75,1297.21 1238.86,1276 1243.97,1254.78 1249.08,1233.57 1254.19,1212.35 1259.3,1191.14 1264.41,1169.92 1269.51,1148.71 1274.62,1127.5 1279.73,1106.28 1284.84,1085.07 1289.95,1063.85 1295.06,1042.64 1300.17,1021.42 1305.28,1000.21 1310.39,978.993 1315.5,957.778 1320.61,936.563 1325.72,915.349 1330.83,894.134 1335.94,872.919 1341.05,851.705 1346.16,830.49 1351.27,809.275 1356.38,788.061 1361.49,766.846 1366.6,745.631 1371.71,724.417 1376.82,703.202 1381.93,681.987 1387.04,660.773 1392.15,639.558 1397.26,618.343 1402.37,597.129 1407.47,575.914 1412.58,554.699 1417.69,533.485 1422.8,512.27 1427.91,491.055 1433.02,469.84 1438.13,448.626 1443.24,427.411 1448.35,406.196 1453.46,384.982 1458.57,363.767 1463.68,342.552 1468.79,321.338 1473.9,300.123 1479.01,278.908 1484.12,257.694 1489.23,236.479 1494.34,215.264 1499.45,194.05 1504.56,172.835 1509.67,151.62 1514.78,130.406 1519.89,109.191 1525,87.9763 1530.11,109.191 1535.22,130.406 1540.33,151.62 1545.43,172.835 1550.54,194.05 1555.65,215.264 1560.76,236.479 1565.87,257.694 1570.98,278.908 1576.09,300.123 1581.2,321.338 1586.31,342.552 1591.42,363.767 1596.53,384.982 1601.64,406.196 1606.75,427.411 1611.86,448.626 1616.97,469.84 1622.08,491.055 1627.19,512.27 1632.3,533.485 1637.41,554.699 1642.52,575.914 1647.63,597.129 1652.74,618.343 1657.85,639.558 1662.96,660.773 1668.07,681.987 1673.18,703.202 1678.29,724.417 1683.39,745.631 1688.5,766.846 1693.61,788.061 1698.72,809.275 1703.83,830.49 1708.94,851.705 1714.05,872.919 1719.16,894.134 1724.27,915.349 1729.38,936.563 1734.49,957.778 1739.6,978.993 1744.71,1000.21 1749.82,1021.42 1754.93,1042.64 1760.04,1063.85 1765.15,1085.07 1770.26,1106.28 1775.37,1127.5 1780.48,1148.71 1785.59,1169.92 1790.7,1191.14 1795.81,1212.35 1800.92,1233.57 1806.03,1254.78 1811.14,1276 1816.25,1297.21 1821.35,1318.43 1826.46,1339.64 1831.57,1360.86 1836.68,1382.07 1841.79,1403.29 1846.9,1424.5 1852.01,1445.72 1857.12,1445.72 1862.23,1445.72 1867.34,1445.72 1872.45,1445.72 1877.56,1445.72 1882.67,1445.72 1887.78,1445.72 1892.89,1445.72 1898,1445.72 1903.11,1445.72 1908.22,1445.72 1913.33,1445.72 1918.44,1445.72 1923.55,1445.72 1928.66,1445.72 1933.77,1445.72 1938.88,1445.72 1943.99,1445.72 1949.1,1445.72 1954.2,1445.72 1959.31,1445.72 1964.42,1445.72 1969.53,1445.72 1974.64,1445.72 1979.75,1445.72 1984.86,1445.72 1989.97,1445.72 1995.08,1445.72 2000.19,1445.72 2005.3,1445.72 2010.41,1445.72 2015.52,1445.72 2020.63,1445.72 2025.74,1445.72 2030.85,1445.72 2035.96,1445.72 2041.07,1445.72 2046.18,1445.72 2051.29,1445.72 2056.4,1445.72 2061.51,1445.72 2066.62,1445.72 2071.73,1445.72 2076.84,1445.72 2081.95,1445.72 2087.06,1445.72 2092.16,1445.72 2097.27,1445.72 2102.38,1445.72 2107.49,1445.72 2112.6,1445.72 2117.71,1445.72 2122.82,1445.72 2127.93,1445.72 2133.04,1445.72 2138.15,1445.72 2143.26,1445.72 2148.37,1445.72 2153.48,1445.72 2158.59,1445.72 2163.7,1445.72 2168.81,1445.72 2173.92,1445.72 2179.03,1445.72 2184.14,1445.72 2189.25,1445.72 2194.36,1445.72 2199.47,1445.72 2204.58,1445.72 2209.69,1445.72 2214.8,1445.72 2219.91,1445.72 2225.02,1445.72 2230.12,1445.72 2235.23,1445.72 2240.34,1445.72 2245.45,1445.72 2250.56,1445.72 2255.67,1445.72 2260.78,1445.72 2265.89,1445.72 2271,1445.72 2276.11,1445.72 2281.22,1445.72 2286.33,1445.72 2291.44,1445.72 \"/>\n<path clip-path=\"url(#clip280)\" d=\"M2011.46 198.898 L2280.54 198.898 L2280.54 95.2176 L2011.46 95.2176  Z\" fill=\"#ffffff\" fill-rule=\"evenodd\" fill-opacity=\"1\"/>\n<polyline clip-path=\"url(#clip280)\" style=\"stroke:#000000; stroke-linecap:round; stroke-linejoin:round; stroke-width:4; stroke-opacity:1; fill:none\" points=\"2011.46,198.898 2280.54,198.898 2280.54,95.2176 2011.46,95.2176 2011.46,198.898 \"/>\n<polyline clip-path=\"url(#clip280)\" style=\"stroke:#009af9; stroke-linecap:round; stroke-linejoin:round; stroke-width:4; stroke-opacity:1; fill:none\" points=\"2035.53,147.058 2179.97,147.058 \"/>\n<path clip-path=\"url(#clip280)\" d=\"M2217.88 166.745 Q2216.07 171.375 2214.36 172.787 Q2212.65 174.199 2209.78 174.199 L2206.38 174.199 L2206.38 170.634 L2208.88 170.634 Q2210.63 170.634 2211.61 169.8 Q2212.58 168.967 2213.76 165.865 L2214.52 163.921 L2204.04 138.412 L2208.55 138.412 L2216.65 158.689 L2224.76 138.412 L2229.27 138.412 L2217.88 166.745 Z\" fill=\"#000000\" fill-rule=\"nonzero\" fill-opacity=\"1\" /><path clip-path=\"url(#clip280)\" d=\"M2236.56 160.402 L2244.2 160.402 L2244.2 134.037 L2235.89 135.703 L2235.89 131.444 L2244.15 129.778 L2248.83 129.778 L2248.83 160.402 L2256.47 160.402 L2256.47 164.338 L2236.56 164.338 L2236.56 160.402 Z\" fill=\"#000000\" fill-rule=\"nonzero\" fill-opacity=\"1\" /></svg>\n"
               },
               "type": "node"
              }
             ],
             "instanceArgs": {
              "namespace": "html",
              "tag": "div"
             },
             "nodeType": "DOM",
             "props": {
              "className": "interact-flex-row interact-widget"
             },
             "type": "node"
            }
           }
          },
          "systemjs_options": null
         },
         "nodeType": "Scope",
         "props": {},
         "type": "node"
        }
       ],
       "instanceArgs": {
        "namespace": "html",
        "tag": "div"
       },
       "nodeType": "DOM",
       "props": {},
       "type": "node"
      },
      "text/html": [
       "<div\n",
       "    class=\"webio-mountpoint\"\n",
       "    data-webio-mountpoint=\"11863164318209658043\"\n",
       ">\n",
       "    <script>\n",
       "    (function(){\n",
       "    // Some integrations (namely, IJulia/Jupyter) use an alternate render pathway than\n",
       "    // just putting the html on the page. If WebIO isn't defined, then it's pretty likely\n",
       "    // that we're in one of those situations and the integration just isn't installed\n",
       "    // correctly.\n",
       "    if (typeof window.WebIO === \"undefined\") {\n",
       "        document\n",
       "            .querySelector('[data-webio-mountpoint=\"11863164318209658043\"]')\n",
       "            .innerHTML = (\n",
       "                '<div style=\"padding: 1em; background-color: #f8d6da; border: 1px solid #f5c6cb; font-weight: bold;\">' +\n",
       "                '<p><strong>WebIO not detected.</strong></p>' +\n",
       "                '<p>Please read ' +\n",
       "                '<a href=\"https://juliagizmos.github.io/WebIO.jl/latest/troubleshooting/not-detected/\" target=\"_blank\">the troubleshooting guide</a> ' +\n",
       "                'for more information on how to resolve this issue.</p>' +\n",
       "                '<p><a href=\"https://juliagizmos.github.io/WebIO.jl/latest/troubleshooting/not-detected/\" target=\"_blank\">https://juliagizmos.github.io/WebIO.jl/latest/troubleshooting/not-detected/</a></p>' +\n",
       "                '</div>'\n",
       "            );\n",
       "        return;\n",
       "    }\n",
       "    WebIO.mount(\n",
       "        document.querySelector('[data-webio-mountpoint=\"11863164318209658043\"]'),\n",
       "        {\"props\":{},\"nodeType\":\"DOM\",\"type\":\"node\",\"instanceArgs\":{\"namespace\":\"html\",\"tag\":\"div\"},\"children\":[{\"props\":{\"className\":\"field interact-widget\"},\"nodeType\":\"DOM\",\"type\":\"node\",\"instanceArgs\":{\"namespace\":\"html\",\"tag\":\"div\"},\"children\":[{\"props\":{},\"nodeType\":\"Scope\",\"type\":\"node\",\"instanceArgs\":{\"imports\":{\"data\":[{\"name\":\"knockout\",\"type\":\"js\",\"url\":\"\\/assetserver\\/73837b4dfd56accdcb1215a684921b2ef3eac20a-knockout.js\"},{\"name\":\"knockout_punches\",\"type\":\"js\",\"url\":\"\\/assetserver\\/92cd359686a293b9c70a4b7760c6c67bd1013214-knockout_punches.js\"},{\"name\":null,\"type\":\"js\",\"url\":\"\\/assetserver\\/f4d145e0b20c957c0f64be966a044a83bfc8b058-all.js\"},{\"name\":null,\"type\":\"css\",\"url\":\"\\/assetserver\\/2c412db78c37c82c697e43fa6ce539fa95433b66-style.css\"},{\"name\":null,\"type\":\"css\",\"url\":\"\\/assetserver\\/35790a4607e963c2228faabafa9c3d3f0c1eb9a5-bulma_confined.min.css\"}],\"type\":\"async_block\"},\"id\":\"3671966373342809421\",\"handlers\":{\"changes\":[\"(function (val){return (val!=this.model[\\\"changes\\\"]()) ? (this.valueFromJulia[\\\"changes\\\"]=true, this.model[\\\"changes\\\"](val)) : undefined})\"],\"index\":[\"(function (val){return (val!=this.model[\\\"index\\\"]()) ? (this.valueFromJulia[\\\"index\\\"]=true, this.model[\\\"index\\\"](val)) : undefined})\"]},\"systemjs_options\":null,\"mount_callbacks\":[\"function () {\\n    var handler = (function (ko, koPunches) {\\n    ko.punches.enableAll();\\n    ko.bindingHandlers.numericValue = {\\n        init: function(element, valueAccessor, allBindings, data, context) {\\n            var stringified = ko.observable(ko.unwrap(valueAccessor()));\\n            stringified.subscribe(function(value) {\\n                var val = parseFloat(value);\\n                if (!isNaN(val)) {\\n                    valueAccessor()(val);\\n                }\\n            });\\n            valueAccessor().subscribe(function(value) {\\n                var str = JSON.stringify(value);\\n                if ((str == \\\"0\\\") && ([\\\"-0\\\", \\\"-0.\\\"].indexOf(stringified()) >= 0))\\n                     return;\\n                 if ([\\\"null\\\", \\\"\\\"].indexOf(str) >= 0)\\n                     return;\\n                stringified(str);\\n            });\\n            ko.applyBindingsToNode(\\n                element,\\n                {\\n                    value: stringified,\\n                    valueUpdate: allBindings.get('valueUpdate'),\\n                },\\n                context,\\n            );\\n        }\\n    };\\n    var json_data = {\\\"formatted_vals\\\":[\\\"0.1\\\",\\\"0.12\\\",\\\"0.14\\\",\\\"0.16\\\",\\\"0.18\\\",\\\"0.2\\\",\\\"0.22\\\",\\\"0.24\\\",\\\"0.26\\\",\\\"0.28\\\",\\\"0.3\\\",\\\"0.32\\\",\\\"0.34\\\",\\\"0.36\\\",\\\"0.38\\\",\\\"0.4\\\",\\\"0.42\\\",\\\"0.44\\\",\\\"0.46\\\",\\\"0.48\\\",\\\"0.5\\\",\\\"0.52\\\",\\\"0.54\\\",\\\"0.56\\\",\\\"0.58\\\",\\\"0.6\\\",\\\"0.62\\\",\\\"0.64\\\",\\\"0.66\\\",\\\"0.68\\\",\\\"0.7\\\",\\\"0.72\\\",\\\"0.74\\\",\\\"0.76\\\",\\\"0.78\\\",\\\"0.8\\\",\\\"0.82\\\",\\\"0.84\\\",\\\"0.86\\\",\\\"0.88\\\",\\\"0.9\\\",\\\"0.92\\\",\\\"0.94\\\",\\\"0.96\\\",\\\"0.98\\\",\\\"1.0\\\",\\\"1.02\\\",\\\"1.04\\\",\\\"1.06\\\",\\\"1.08\\\",\\\"1.1\\\",\\\"1.12\\\",\\\"1.14\\\",\\\"1.16\\\",\\\"1.18\\\",\\\"1.2\\\"],\\\"changes\\\":WebIO.getval({\\\"name\\\":\\\"changes\\\",\\\"scope\\\":\\\"3671966373342809421\\\",\\\"id\\\":\\\"6476306462286584704\\\",\\\"type\\\":\\\"observable\\\"}),\\\"index\\\":WebIO.getval({\\\"name\\\":\\\"index\\\",\\\"scope\\\":\\\"3671966373342809421\\\",\\\"id\\\":\\\"15819070665811073060\\\",\\\"type\\\":\\\"observable\\\"})};\\n    var self = this;\\n    function AppViewModel() {\\n        for (var key in json_data) {\\n            var el = json_data[key];\\n            this[key] = Array.isArray(el) ? ko.observableArray(el) : ko.observable(el);\\n        }\\n        \\n        [this[\\\"formatted_val\\\"]=ko.computed(    function(){\\n        return this.formatted_vals()[parseInt(this.index())-(1)];\\n    }\\n,this)]\\n        [this[\\\"changes\\\"].subscribe((function (val){!(this.valueFromJulia[\\\"changes\\\"]) ? (WebIO.setval({\\\"name\\\":\\\"changes\\\",\\\"scope\\\":\\\"3671966373342809421\\\",\\\"id\\\":\\\"6476306462286584704\\\",\\\"type\\\":\\\"observable\\\"},val)) : undefined; return this.valueFromJulia[\\\"changes\\\"]=false}),self),this[\\\"index\\\"].subscribe((function (val){!(this.valueFromJulia[\\\"index\\\"]) ? (WebIO.setval({\\\"name\\\":\\\"index\\\",\\\"scope\\\":\\\"3671966373342809421\\\",\\\"id\\\":\\\"15819070665811073060\\\",\\\"type\\\":\\\"observable\\\"},val)) : undefined; return this.valueFromJulia[\\\"index\\\"]=false}),self)]\\n        \\n    }\\n    self.model = new AppViewModel();\\n    self.valueFromJulia = {};\\n    for (var key in json_data) {\\n        self.valueFromJulia[key] = false;\\n    }\\n    ko.applyBindings(self.model, self.dom);\\n}\\n);\\n    (WebIO.importBlock({\\\"data\\\":[{\\\"name\\\":\\\"knockout\\\",\\\"type\\\":\\\"js\\\",\\\"url\\\":\\\"\\/assetserver\\/73837b4dfd56accdcb1215a684921b2ef3eac20a-knockout.js\\\"},{\\\"name\\\":\\\"knockout_punches\\\",\\\"type\\\":\\\"js\\\",\\\"url\\\":\\\"\\/assetserver\\/92cd359686a293b9c70a4b7760c6c67bd1013214-knockout_punches.js\\\"}],\\\"type\\\":\\\"async_block\\\"})).then((imports) => handler.apply(this, imports));\\n}\\n\"],\"observables\":{\"changes\":{\"sync\":false,\"id\":\"6476306462286584704\",\"value\":0},\"index\":{\"sync\":true,\"id\":\"15819070665811073060\",\"value\":28}}},\"children\":[{\"props\":{\"className\":\"interact-flex-row interact-widget\"},\"nodeType\":\"DOM\",\"type\":\"node\",\"instanceArgs\":{\"namespace\":\"html\",\"tag\":\"div\"},\"children\":[{\"props\":{\"className\":\"interact-flex-row-left\"},\"nodeType\":\"DOM\",\"type\":\"node\",\"instanceArgs\":{\"namespace\":\"html\",\"tag\":\"div\"},\"children\":[{\"props\":{\"className\":\"interact \",\"style\":{\"padding\":\"5px 10px 0px 10px\"}},\"nodeType\":\"DOM\",\"type\":\"node\",\"instanceArgs\":{\"namespace\":\"html\",\"tag\":\"label\"},\"children\":[\"ε\"]}]},{\"props\":{\"className\":\"interact-flex-row-center\"},\"nodeType\":\"DOM\",\"type\":\"node\",\"instanceArgs\":{\"namespace\":\"html\",\"tag\":\"div\"},\"children\":[{\"props\":{\"max\":56,\"min\":1,\"attributes\":{\"type\":\"range\",\"data-bind\":\"numericValue: index, valueUpdate: 'input', event: {change: function (){this.changes(this.changes()+1)}}\",\"orient\":\"horizontal\"},\"step\":1,\"className\":\"slider slider is-fullwidth\",\"style\":{}},\"nodeType\":\"DOM\",\"type\":\"node\",\"instanceArgs\":{\"namespace\":\"html\",\"tag\":\"input\"},\"children\":[]}]},{\"props\":{\"className\":\"interact-flex-row-right\"},\"nodeType\":\"DOM\",\"type\":\"node\",\"instanceArgs\":{\"namespace\":\"html\",\"tag\":\"div\"},\"children\":[{\"props\":{\"attributes\":{\"data-bind\":\"text: formatted_val\"}},\"nodeType\":\"DOM\",\"type\":\"node\",\"instanceArgs\":{\"namespace\":\"html\",\"tag\":\"p\"},\"children\":[]}]}]}]}]},{\"props\":{\"className\":\"field interact-widget\"},\"nodeType\":\"DOM\",\"type\":\"node\",\"instanceArgs\":{\"namespace\":\"html\",\"tag\":\"div\"},\"children\":[{\"props\":{},\"nodeType\":\"Scope\",\"type\":\"node\",\"instanceArgs\":{\"imports\":{\"data\":[{\"name\":\"knockout\",\"type\":\"js\",\"url\":\"\\/assetserver\\/73837b4dfd56accdcb1215a684921b2ef3eac20a-knockout.js\"},{\"name\":\"knockout_punches\",\"type\":\"js\",\"url\":\"\\/assetserver\\/92cd359686a293b9c70a4b7760c6c67bd1013214-knockout_punches.js\"},{\"name\":null,\"type\":\"js\",\"url\":\"\\/assetserver\\/f4d145e0b20c957c0f64be966a044a83bfc8b058-all.js\"},{\"name\":null,\"type\":\"css\",\"url\":\"\\/assetserver\\/2c412db78c37c82c697e43fa6ce539fa95433b66-style.css\"},{\"name\":null,\"type\":\"css\",\"url\":\"\\/assetserver\\/35790a4607e963c2228faabafa9c3d3f0c1eb9a5-bulma_confined.min.css\"}],\"type\":\"async_block\"},\"id\":\"12352508471339811563\",\"handlers\":{\"changes\":[\"(function (val){return (val!=this.model[\\\"changes\\\"]()) ? (this.valueFromJulia[\\\"changes\\\"]=true, this.model[\\\"changes\\\"](val)) : undefined})\"],\"index\":[\"(function (val){return (val!=this.model[\\\"index\\\"]()) ? (this.valueFromJulia[\\\"index\\\"]=true, this.model[\\\"index\\\"](val)) : undefined})\"]},\"systemjs_options\":null,\"mount_callbacks\":[\"function () {\\n    var handler = (function (ko, koPunches) {\\n    ko.punches.enableAll();\\n    ko.bindingHandlers.numericValue = {\\n        init: function(element, valueAccessor, allBindings, data, context) {\\n            var stringified = ko.observable(ko.unwrap(valueAccessor()));\\n            stringified.subscribe(function(value) {\\n                var val = parseFloat(value);\\n                if (!isNaN(val)) {\\n                    valueAccessor()(val);\\n                }\\n            });\\n            valueAccessor().subscribe(function(value) {\\n                var str = JSON.stringify(value);\\n                if ((str == \\\"0\\\") && ([\\\"-0\\\", \\\"-0.\\\"].indexOf(stringified()) >= 0))\\n                     return;\\n                 if ([\\\"null\\\", \\\"\\\"].indexOf(str) >= 0)\\n                     return;\\n                stringified(str);\\n            });\\n            ko.applyBindingsToNode(\\n                element,\\n                {\\n                    value: stringified,\\n                    valueUpdate: allBindings.get('valueUpdate'),\\n                },\\n                context,\\n            );\\n        }\\n    };\\n    var json_data = {\\\"formatted_vals\\\":[\\\"0.0\\\",\\\"0.02\\\",\\\"0.04\\\",\\\"0.06\\\",\\\"0.08\\\",\\\"0.1\\\",\\\"0.12\\\",\\\"0.14\\\",\\\"0.16\\\",\\\"0.18\\\",\\\"0.2\\\",\\\"0.22\\\",\\\"0.24\\\",\\\"0.26\\\",\\\"0.28\\\",\\\"0.3\\\",\\\"0.32\\\",\\\"0.34\\\",\\\"0.36\\\",\\\"0.38\\\",\\\"0.4\\\",\\\"0.42\\\",\\\"0.44\\\",\\\"0.46\\\",\\\"0.48\\\",\\\"0.5\\\",\\\"0.52\\\",\\\"0.54\\\",\\\"0.56\\\",\\\"0.58\\\",\\\"0.6\\\",\\\"0.62\\\",\\\"0.64\\\",\\\"0.66\\\",\\\"0.68\\\",\\\"0.7\\\",\\\"0.72\\\",\\\"0.74\\\",\\\"0.76\\\",\\\"0.78\\\",\\\"0.8\\\",\\\"0.82\\\",\\\"0.84\\\",\\\"0.86\\\",\\\"0.88\\\",\\\"0.9\\\",\\\"0.92\\\",\\\"0.94\\\",\\\"0.96\\\",\\\"0.98\\\",\\\"1.0\\\"],\\\"changes\\\":WebIO.getval({\\\"name\\\":\\\"changes\\\",\\\"scope\\\":\\\"12352508471339811563\\\",\\\"id\\\":\\\"6640972426852799025\\\",\\\"type\\\":\\\"observable\\\"}),\\\"index\\\":WebIO.getval({\\\"name\\\":\\\"index\\\",\\\"scope\\\":\\\"12352508471339811563\\\",\\\"id\\\":\\\"1275865781188444811\\\",\\\"type\\\":\\\"observable\\\"})};\\n    var self = this;\\n    function AppViewModel() {\\n        for (var key in json_data) {\\n            var el = json_data[key];\\n            this[key] = Array.isArray(el) ? ko.observableArray(el) : ko.observable(el);\\n        }\\n        \\n        [this[\\\"formatted_val\\\"]=ko.computed(    function(){\\n        return this.formatted_vals()[parseInt(this.index())-(1)];\\n    }\\n,this)]\\n        [this[\\\"changes\\\"].subscribe((function (val){!(this.valueFromJulia[\\\"changes\\\"]) ? (WebIO.setval({\\\"name\\\":\\\"changes\\\",\\\"scope\\\":\\\"12352508471339811563\\\",\\\"id\\\":\\\"6640972426852799025\\\",\\\"type\\\":\\\"observable\\\"},val)) : undefined; return this.valueFromJulia[\\\"changes\\\"]=false}),self),this[\\\"index\\\"].subscribe((function (val){!(this.valueFromJulia[\\\"index\\\"]) ? (WebIO.setval({\\\"name\\\":\\\"index\\\",\\\"scope\\\":\\\"12352508471339811563\\\",\\\"id\\\":\\\"1275865781188444811\\\",\\\"type\\\":\\\"observable\\\"},val)) : undefined; return this.valueFromJulia[\\\"index\\\"]=false}),self)]\\n        \\n    }\\n    self.model = new AppViewModel();\\n    self.valueFromJulia = {};\\n    for (var key in json_data) {\\n        self.valueFromJulia[key] = false;\\n    }\\n    ko.applyBindings(self.model, self.dom);\\n}\\n);\\n    (WebIO.importBlock({\\\"data\\\":[{\\\"name\\\":\\\"knockout\\\",\\\"type\\\":\\\"js\\\",\\\"url\\\":\\\"\\/assetserver\\/73837b4dfd56accdcb1215a684921b2ef3eac20a-knockout.js\\\"},{\\\"name\\\":\\\"knockout_punches\\\",\\\"type\\\":\\\"js\\\",\\\"url\\\":\\\"\\/assetserver\\/92cd359686a293b9c70a4b7760c6c67bd1013214-knockout_punches.js\\\"}],\\\"type\\\":\\\"async_block\\\"})).then((imports) => handler.apply(this, imports));\\n}\\n\"],\"observables\":{\"changes\":{\"sync\":false,\"id\":\"6640972426852799025\",\"value\":0},\"index\":{\"sync\":true,\"id\":\"1275865781188444811\",\"value\":26}}},\"children\":[{\"props\":{\"className\":\"interact-flex-row interact-widget\"},\"nodeType\":\"DOM\",\"type\":\"node\",\"instanceArgs\":{\"namespace\":\"html\",\"tag\":\"div\"},\"children\":[{\"props\":{\"className\":\"interact-flex-row-left\"},\"nodeType\":\"DOM\",\"type\":\"node\",\"instanceArgs\":{\"namespace\":\"html\",\"tag\":\"div\"},\"children\":[{\"props\":{\"className\":\"interact \",\"style\":{\"padding\":\"5px 10px 0px 10px\"}},\"nodeType\":\"DOM\",\"type\":\"node\",\"instanceArgs\":{\"namespace\":\"html\",\"tag\":\"label\"},\"children\":[\"t\"]}]},{\"props\":{\"className\":\"interact-flex-row-center\"},\"nodeType\":\"DOM\",\"type\":\"node\",\"instanceArgs\":{\"namespace\":\"html\",\"tag\":\"div\"},\"children\":[{\"props\":{\"max\":51,\"min\":1,\"attributes\":{\"type\":\"range\",\"data-bind\":\"numericValue: index, valueUpdate: 'input', event: {change: function (){this.changes(this.changes()+1)}}\",\"orient\":\"horizontal\"},\"step\":1,\"className\":\"slider slider is-fullwidth\",\"style\":{}},\"nodeType\":\"DOM\",\"type\":\"node\",\"instanceArgs\":{\"namespace\":\"html\",\"tag\":\"input\"},\"children\":[]}]},{\"props\":{\"className\":\"interact-flex-row-right\"},\"nodeType\":\"DOM\",\"type\":\"node\",\"instanceArgs\":{\"namespace\":\"html\",\"tag\":\"div\"},\"children\":[{\"props\":{\"attributes\":{\"data-bind\":\"text: formatted_val\"}},\"nodeType\":\"DOM\",\"type\":\"node\",\"instanceArgs\":{\"namespace\":\"html\",\"tag\":\"p\"},\"children\":[]}]}]}]}]},{\"props\":{},\"nodeType\":\"Scope\",\"type\":\"node\",\"instanceArgs\":{\"imports\":{\"data\":[],\"type\":\"async_block\"},\"id\":\"3163614050402693040\",\"handlers\":{},\"systemjs_options\":null,\"mount_callbacks\":[],\"observables\":{\"obs-node\":{\"sync\":false,\"id\":\"3592239752956090808\",\"value\":{\"props\":{\"className\":\"interact-flex-row interact-widget\"},\"nodeType\":\"DOM\",\"type\":\"node\",\"instanceArgs\":{\"namespace\":\"html\",\"tag\":\"div\"},\"children\":[{\"props\":{\"setInnerHtml\":\"<?xml version=\\\"1.0\\\" encoding=\\\"utf-8\\\"?>\\n<svg xmlns=\\\"http:\\/\\/www.w3.org\\/2000\\/svg\\\" xmlns:xlink=\\\"http:\\/\\/www.w3.org\\/1999\\/xlink\\\" width=\\\"600\\\" height=\\\"400\\\" viewBox=\\\"0 0 2400 1600\\\">\\n<defs>\\n  <clipPath id=\\\"clip240\\\">\\n    <rect x=\\\"0\\\" y=\\\"0\\\" width=\\\"2400\\\" height=\\\"1600\\\"\\/>\\n  <\\/clipPath>\\n<\\/defs>\\n<path clip-path=\\\"url(#clip240)\\\" d=\\\"M0 1600 L2400 1600 L2400 0 L0 0  Z\\\" fill=\\\"#ffffff\\\" fill-rule=\\\"evenodd\\\" fill-opacity=\\\"1\\\"\\/>\\n<defs>\\n  <clipPath id=\\\"clip241\\\">\\n    <rect x=\\\"480\\\" y=\\\"0\\\" width=\\\"1681\\\" height=\\\"1600\\\"\\/>\\n  <\\/clipPath>\\n<\\/defs>\\n<path clip-path=\\\"url(#clip240)\\\" d=\\\"M186.274 1486.45 L2352.76 1486.45 L2352.76 47.2441 L186.274 47.2441  Z\\\" fill=\\\"#ffffff\\\" fill-rule=\\\"evenodd\\\" fill-opacity=\\\"1\\\"\\/>\\n<defs>\\n  <clipPath id=\\\"clip242\\\">\\n    <rect x=\\\"186\\\" y=\\\"47\\\" width=\\\"2167\\\" height=\\\"1440\\\"\\/>\\n  <\\/clipPath>\\n<\\/defs>\\n<polyline clip-path=\\\"url(#clip242)\\\" style=\\\"stroke:#000000; stroke-linecap:round; stroke-linejoin:round; stroke-width:2; stroke-opacity:0.1; fill:none\\\" points=\\\"247.59,1486.45 247.59,47.2441 \\\"\\/>\\n<polyline clip-path=\\\"url(#clip242)\\\" style=\\\"stroke:#000000; stroke-linecap:round; stroke-linejoin:round; stroke-width:2; stroke-opacity:0.1; fill:none\\\" points=\\\"758.552,1486.45 758.552,47.2441 \\\"\\/>\\n<polyline clip-path=\\\"url(#clip242)\\\" style=\\\"stroke:#000000; stroke-linecap:round; stroke-linejoin:round; stroke-width:2; stroke-opacity:0.1; fill:none\\\" points=\\\"1269.51,1486.45 1269.51,47.2441 \\\"\\/>\\n<polyline clip-path=\\\"url(#clip242)\\\" style=\\\"stroke:#000000; stroke-linecap:round; stroke-linejoin:round; stroke-width:2; stroke-opacity:0.1; fill:none\\\" points=\\\"1780.48,1486.45 1780.48,47.2441 \\\"\\/>\\n<polyline clip-path=\\\"url(#clip242)\\\" style=\\\"stroke:#000000; stroke-linecap:round; stroke-linejoin:round; stroke-width:2; stroke-opacity:0.1; fill:none\\\" points=\\\"2291.44,1486.45 2291.44,47.2441 \\\"\\/>\\n<polyline clip-path=\\\"url(#clip240)\\\" style=\\\"stroke:#000000; stroke-linecap:round; stroke-linejoin:round; stroke-width:4; stroke-opacity:1; fill:none\\\" points=\\\"186.274,1486.45 2352.76,1486.45 \\\"\\/>\\n<polyline clip-path=\\\"url(#clip240)\\\" style=\\\"stroke:#000000; stroke-linecap:round; stroke-linejoin:round; stroke-width:4; stroke-opacity:1; fill:none\\\" points=\\\"247.59,1486.45 247.59,1467.55 \\\"\\/>\\n<polyline clip-path=\\\"url(#clip240)\\\" style=\\\"stroke:#000000; stroke-linecap:round; stroke-linejoin:round; stroke-width:4; stroke-opacity:1; fill:none\\\" points=\\\"758.552,1486.45 758.552,1467.55 \\\"\\/>\\n<polyline clip-path=\\\"url(#clip240)\\\" style=\\\"stroke:#000000; stroke-linecap:round; stroke-linejoin:round; stroke-width:4; stroke-opacity:1; fill:none\\\" points=\\\"1269.51,1486.45 1269.51,1467.55 \\\"\\/>\\n<polyline clip-path=\\\"url(#clip240)\\\" style=\\\"stroke:#000000; stroke-linecap:round; stroke-linejoin:round; stroke-width:4; stroke-opacity:1; fill:none\\\" points=\\\"1780.48,1486.45 1780.48,1467.55 \\\"\\/>\\n<polyline clip-path=\\\"url(#clip240)\\\" style=\\\"stroke:#000000; stroke-linecap:round; stroke-linejoin:round; stroke-width:4; stroke-opacity:1; fill:none\\\" points=\\\"2291.44,1486.45 2291.44,1467.55 \\\"\\/>\\n<path clip-path=\\\"url(#clip240)\\\" d=\\\"M217.532 1532.02 L247.208 1532.02 L247.208 1535.95 L217.532 1535.95 L217.532 1532.02 Z\\\" fill=\\\"#000000\\\" fill-rule=\\\"nonzero\\\" fill-opacity=\\\"1\\\" \\/><path clip-path=\\\"url(#clip240)\\\" d=\\\"M261.328 1544.91 L277.647 1544.91 L277.647 1548.85 L255.703 1548.85 L255.703 1544.91 Q258.365 1542.16 262.948 1537.53 Q267.555 1532.88 268.735 1531.53 Q270.981 1529.01 271.86 1527.27 Q272.763 1525.51 272.763 1523.82 Q272.763 1521.07 270.819 1519.33 Q268.897 1517.6 265.795 1517.6 Q263.596 1517.6 261.143 1518.36 Q258.712 1519.13 255.934 1520.68 L255.934 1515.95 Q258.758 1514.82 261.212 1514.24 Q263.666 1513.66 265.703 1513.66 Q271.073 1513.66 274.268 1516.35 Q277.462 1519.03 277.462 1523.52 Q277.462 1525.65 276.652 1527.57 Q275.865 1529.47 273.758 1532.07 Q273.18 1532.74 270.078 1535.95 Q266.976 1539.15 261.328 1544.91 Z\\\" fill=\\\"#000000\\\" fill-rule=\\\"nonzero\\\" fill-opacity=\\\"1\\\" \\/><path clip-path=\\\"url(#clip240)\\\" d=\\\"M728.309 1532.02 L757.985 1532.02 L757.985 1535.95 L728.309 1535.95 L728.309 1532.02 Z\\\" fill=\\\"#000000\\\" fill-rule=\\\"nonzero\\\" fill-opacity=\\\"1\\\" \\/><path clip-path=\\\"url(#clip240)\\\" d=\\\"M768.888 1544.91 L776.527 1544.91 L776.527 1518.55 L768.217 1520.21 L768.217 1515.95 L776.48 1514.29 L781.156 1514.29 L781.156 1544.91 L788.795 1544.91 L788.795 1548.85 L768.888 1548.85 L768.888 1544.91 Z\\\" fill=\\\"#000000\\\" fill-rule=\\\"nonzero\\\" fill-opacity=\\\"1\\\" \\/><path clip-path=\\\"url(#clip240)\\\" d=\\\"M1269.51 1517.37 Q1265.9 1517.37 1264.08 1520.93 Q1262.27 1524.47 1262.27 1531.6 Q1262.27 1538.71 1264.08 1542.27 Q1265.9 1545.82 1269.51 1545.82 Q1273.15 1545.82 1274.95 1542.27 Q1276.78 1538.71 1276.78 1531.6 Q1276.78 1524.47 1274.95 1520.93 Q1273.15 1517.37 1269.51 1517.37 M1269.51 1513.66 Q1275.33 1513.66 1278.38 1518.27 Q1281.46 1522.85 1281.46 1531.6 Q1281.46 1540.33 1278.38 1544.94 Q1275.33 1549.52 1269.51 1549.52 Q1263.7 1549.52 1260.63 1544.94 Q1257.57 1540.33 1257.57 1531.6 Q1257.57 1522.85 1260.63 1518.27 Q1263.7 1513.66 1269.51 1513.66 Z\\\" fill=\\\"#000000\\\" fill-rule=\\\"nonzero\\\" fill-opacity=\\\"1\\\" \\/><path clip-path=\\\"url(#clip240)\\\" d=\\\"M1770.86 1544.91 L1778.5 1544.91 L1778.5 1518.55 L1770.19 1520.21 L1770.19 1515.95 L1778.45 1514.29 L1783.13 1514.29 L1783.13 1544.91 L1790.77 1544.91 L1790.77 1548.85 L1770.86 1548.85 L1770.86 1544.91 Z\\\" fill=\\\"#000000\\\" fill-rule=\\\"nonzero\\\" fill-opacity=\\\"1\\\" \\/><path clip-path=\\\"url(#clip240)\\\" d=\\\"M2286.09 1544.91 L2302.41 1544.91 L2302.41 1548.85 L2280.47 1548.85 L2280.47 1544.91 Q2283.13 1542.16 2287.71 1537.53 Q2292.32 1532.88 2293.5 1531.53 Q2295.75 1529.01 2296.63 1527.27 Q2297.53 1525.51 2297.53 1523.82 Q2297.53 1521.07 2295.58 1519.33 Q2293.66 1517.6 2290.56 1517.6 Q2288.36 1517.6 2285.91 1518.36 Q2283.48 1519.13 2280.7 1520.68 L2280.7 1515.95 Q2283.52 1514.82 2285.98 1514.24 Q2288.43 1513.66 2290.47 1513.66 Q2295.84 1513.66 2299.03 1516.35 Q2302.23 1519.03 2302.23 1523.52 Q2302.23 1525.65 2301.42 1527.57 Q2300.63 1529.47 2298.52 1532.07 Q2297.94 1532.74 2294.84 1535.95 Q2291.74 1539.15 2286.09 1544.91 Z\\\" fill=\\\"#000000\\\" fill-rule=\\\"nonzero\\\" fill-opacity=\\\"1\\\" \\/><polyline clip-path=\\\"url(#clip242)\\\" style=\\\"stroke:#000000; stroke-linecap:round; stroke-linejoin:round; stroke-width:2; stroke-opacity:0.1; fill:none\\\" points=\\\"186.274,1445.72 2352.76,1445.72 \\\"\\/>\\n<polyline clip-path=\\\"url(#clip242)\\\" style=\\\"stroke:#000000; stroke-linecap:round; stroke-linejoin:round; stroke-width:2; stroke-opacity:0.1; fill:none\\\" points=\\\"186.274,1106.28 2352.76,1106.28 \\\"\\/>\\n<polyline clip-path=\\\"url(#clip242)\\\" style=\\\"stroke:#000000; stroke-linecap:round; stroke-linejoin:round; stroke-width:2; stroke-opacity:0.1; fill:none\\\" points=\\\"186.274,766.846 2352.76,766.846 \\\"\\/>\\n<polyline clip-path=\\\"url(#clip242)\\\" style=\\\"stroke:#000000; stroke-linecap:round; stroke-linejoin:round; stroke-width:2; stroke-opacity:0.1; fill:none\\\" points=\\\"186.274,427.411 2352.76,427.411 \\\"\\/>\\n<polyline clip-path=\\\"url(#clip242)\\\" style=\\\"stroke:#000000; stroke-linecap:round; stroke-linejoin:round; stroke-width:2; stroke-opacity:0.1; fill:none\\\" points=\\\"186.274,87.9763 2352.76,87.9763 \\\"\\/>\\n<polyline clip-path=\\\"url(#clip240)\\\" style=\\\"stroke:#000000; stroke-linecap:round; stroke-linejoin:round; stroke-width:4; stroke-opacity:1; fill:none\\\" points=\\\"186.274,1486.45 186.274,47.2441 \\\"\\/>\\n<polyline clip-path=\\\"url(#clip240)\\\" style=\\\"stroke:#000000; stroke-linecap:round; stroke-linejoin:round; stroke-width:4; stroke-opacity:1; fill:none\\\" points=\\\"186.274,1445.72 205.172,1445.72 \\\"\\/>\\n<polyline clip-path=\\\"url(#clip240)\\\" style=\\\"stroke:#000000; stroke-linecap:round; stroke-linejoin:round; stroke-width:4; stroke-opacity:1; fill:none\\\" points=\\\"186.274,1106.28 205.172,1106.28 \\\"\\/>\\n<polyline clip-path=\\\"url(#clip240)\\\" style=\\\"stroke:#000000; stroke-linecap:round; stroke-linejoin:round; stroke-width:4; stroke-opacity:1; fill:none\\\" points=\\\"186.274,766.846 205.172,766.846 \\\"\\/>\\n<polyline clip-path=\\\"url(#clip240)\\\" style=\\\"stroke:#000000; stroke-linecap:round; stroke-linejoin:round; stroke-width:4; stroke-opacity:1; fill:none\\\" points=\\\"186.274,427.411 205.172,427.411 \\\"\\/>\\n<polyline clip-path=\\\"url(#clip240)\\\" style=\\\"stroke:#000000; stroke-linecap:round; stroke-linejoin:round; stroke-width:4; stroke-opacity:1; fill:none\\\" points=\\\"186.274,87.9763 205.172,87.9763 \\\"\\/>\\n<path clip-path=\\\"url(#clip240)\\\" d=\\\"M62.9365 1431.51 Q59.3254 1431.51 57.4967 1435.08 Q55.6912 1438.62 55.6912 1445.75 Q55.6912 1452.86 57.4967 1456.42 Q59.3254 1459.96 62.9365 1459.96 Q66.5707 1459.96 68.3763 1456.42 Q70.205 1452.86 70.205 1445.75 Q70.205 1438.62 68.3763 1435.08 Q66.5707 1431.51 62.9365 1431.51 M62.9365 1427.81 Q68.7467 1427.81 71.8022 1432.42 Q74.8809 1437 74.8809 1445.75 Q74.8809 1454.48 71.8022 1459.08 Q68.7467 1463.67 62.9365 1463.67 Q57.1264 1463.67 54.0477 1459.08 Q50.9921 1454.48 50.9921 1445.75 Q50.9921 1437 54.0477 1432.42 Q57.1264 1427.81 62.9365 1427.81 Z\\\" fill=\\\"#000000\\\" fill-rule=\\\"nonzero\\\" fill-opacity=\\\"1\\\" \\/><path clip-path=\\\"url(#clip240)\\\" d=\\\"M83.0984 1457.12 L87.9827 1457.12 L87.9827 1463 L83.0984 1463 L83.0984 1457.12 Z\\\" fill=\\\"#000000\\\" fill-rule=\\\"nonzero\\\" fill-opacity=\\\"1\\\" \\/><path clip-path=\\\"url(#clip240)\\\" d=\\\"M108.168 1431.51 Q104.557 1431.51 102.728 1435.08 Q100.922 1438.62 100.922 1445.75 Q100.922 1452.86 102.728 1456.42 Q104.557 1459.96 108.168 1459.96 Q111.802 1459.96 113.608 1456.42 Q115.436 1452.86 115.436 1445.75 Q115.436 1438.62 113.608 1435.08 Q111.802 1431.51 108.168 1431.51 M108.168 1427.81 Q113.978 1427.81 117.033 1432.42 Q120.112 1437 120.112 1445.75 Q120.112 1454.48 117.033 1459.08 Q113.978 1463.67 108.168 1463.67 Q102.358 1463.67 99.2789 1459.08 Q96.2234 1454.48 96.2234 1445.75 Q96.2234 1437 99.2789 1432.42 Q102.358 1427.81 108.168 1427.81 Z\\\" fill=\\\"#000000\\\" fill-rule=\\\"nonzero\\\" fill-opacity=\\\"1\\\" \\/><path clip-path=\\\"url(#clip240)\\\" d=\\\"M138.33 1431.51 Q134.719 1431.51 132.89 1435.08 Q131.084 1438.62 131.084 1445.75 Q131.084 1452.86 132.89 1456.42 Q134.719 1459.96 138.33 1459.96 Q141.964 1459.96 143.769 1456.42 Q145.598 1452.86 145.598 1445.75 Q145.598 1438.62 143.769 1435.08 Q141.964 1431.51 138.33 1431.51 M138.33 1427.81 Q144.14 1427.81 147.195 1432.42 Q150.274 1437 150.274 1445.75 Q150.274 1454.48 147.195 1459.08 Q144.14 1463.67 138.33 1463.67 Q132.519 1463.67 129.441 1459.08 Q126.385 1454.48 126.385 1445.75 Q126.385 1437 129.441 1432.42 Q132.519 1427.81 138.33 1427.81 Z\\\" fill=\\\"#000000\\\" fill-rule=\\\"nonzero\\\" fill-opacity=\\\"1\\\" \\/><path clip-path=\\\"url(#clip240)\\\" d=\\\"M63.9319 1092.08 Q60.3208 1092.08 58.4921 1095.64 Q56.6865 1099.19 56.6865 1106.32 Q56.6865 1113.42 58.4921 1116.99 Q60.3208 1120.53 63.9319 1120.53 Q67.5661 1120.53 69.3717 1116.99 Q71.2004 1113.42 71.2004 1106.32 Q71.2004 1099.19 69.3717 1095.64 Q67.5661 1092.08 63.9319 1092.08 M63.9319 1088.38 Q69.742 1088.38 72.7976 1092.98 Q75.8763 1097.57 75.8763 1106.32 Q75.8763 1115.04 72.7976 1119.65 Q69.742 1124.23 63.9319 1124.23 Q58.1217 1124.23 55.043 1119.65 Q51.9875 1115.04 51.9875 1106.32 Q51.9875 1097.57 55.043 1092.98 Q58.1217 1088.38 63.9319 1088.38 Z\\\" fill=\\\"#000000\\\" fill-rule=\\\"nonzero\\\" fill-opacity=\\\"1\\\" \\/><path clip-path=\\\"url(#clip240)\\\" d=\\\"M84.0938 1117.68 L88.978 1117.68 L88.978 1123.56 L84.0938 1123.56 L84.0938 1117.68 Z\\\" fill=\\\"#000000\\\" fill-rule=\\\"nonzero\\\" fill-opacity=\\\"1\\\" \\/><path clip-path=\\\"url(#clip240)\\\" d=\\\"M103.191 1119.63 L119.51 1119.63 L119.51 1123.56 L97.566 1123.56 L97.566 1119.63 Q100.228 1116.87 104.811 1112.24 Q109.418 1107.59 110.598 1106.25 Q112.844 1103.72 113.723 1101.99 Q114.626 1100.23 114.626 1098.54 Q114.626 1095.78 112.682 1094.05 Q110.76 1092.31 107.658 1092.31 Q105.459 1092.31 103.006 1093.07 Q100.575 1093.84 97.7974 1095.39 L97.7974 1090.67 Q100.621 1089.53 103.075 1088.95 Q105.529 1088.38 107.566 1088.38 Q112.936 1088.38 116.131 1091.06 Q119.325 1093.75 119.325 1098.24 Q119.325 1100.37 118.515 1102.29 Q117.728 1104.19 115.621 1106.78 Q115.043 1107.45 111.941 1110.67 Q108.839 1113.86 103.191 1119.63 Z\\\" fill=\\\"#000000\\\" fill-rule=\\\"nonzero\\\" fill-opacity=\\\"1\\\" \\/><path clip-path=\\\"url(#clip240)\\\" d=\\\"M129.371 1089 L147.728 1089 L147.728 1092.94 L133.654 1092.94 L133.654 1101.41 Q134.672 1101.06 135.691 1100.9 Q136.709 1100.71 137.728 1100.71 Q143.515 1100.71 146.894 1103.89 Q150.274 1107.06 150.274 1112.47 Q150.274 1118.05 146.802 1121.15 Q143.33 1124.23 137.01 1124.23 Q134.834 1124.23 132.566 1123.86 Q130.32 1123.49 127.913 1122.75 L127.913 1118.05 Q129.996 1119.19 132.219 1119.74 Q134.441 1120.3 136.918 1120.3 Q140.922 1120.3 143.26 1118.19 Q145.598 1116.08 145.598 1112.47 Q145.598 1108.86 143.26 1106.76 Q140.922 1104.65 136.918 1104.65 Q135.043 1104.65 133.168 1105.07 Q131.316 1105.48 129.371 1106.36 L129.371 1089 Z\\\" fill=\\\"#000000\\\" fill-rule=\\\"nonzero\\\" fill-opacity=\\\"1\\\" \\/><path clip-path=\\\"url(#clip240)\\\" d=\\\"M62.9365 752.645 Q59.3254 752.645 57.4967 756.209 Q55.6912 759.751 55.6912 766.881 Q55.6912 773.987 57.4967 777.552 Q59.3254 781.094 62.9365 781.094 Q66.5707 781.094 68.3763 777.552 Q70.205 773.987 70.205 766.881 Q70.205 759.751 68.3763 756.209 Q66.5707 752.645 62.9365 752.645 M62.9365 748.941 Q68.7467 748.941 71.8022 753.547 Q74.8809 758.131 74.8809 766.881 Q74.8809 775.608 71.8022 780.214 Q68.7467 784.797 62.9365 784.797 Q57.1264 784.797 54.0477 780.214 Q50.9921 775.608 50.9921 766.881 Q50.9921 758.131 54.0477 753.547 Q57.1264 748.941 62.9365 748.941 Z\\\" fill=\\\"#000000\\\" fill-rule=\\\"nonzero\\\" fill-opacity=\\\"1\\\" \\/><path clip-path=\\\"url(#clip240)\\\" d=\\\"M83.0984 778.246 L87.9827 778.246 L87.9827 784.126 L83.0984 784.126 L83.0984 778.246 Z\\\" fill=\\\"#000000\\\" fill-rule=\\\"nonzero\\\" fill-opacity=\\\"1\\\" \\/><path clip-path=\\\"url(#clip240)\\\" d=\\\"M98.2141 749.566 L116.57 749.566 L116.57 753.501 L102.496 753.501 L102.496 761.973 Q103.515 761.626 104.534 761.464 Q105.552 761.279 106.571 761.279 Q112.358 761.279 115.737 764.45 Q119.117 767.621 119.117 773.038 Q119.117 778.617 115.645 781.719 Q112.172 784.797 105.853 784.797 Q103.677 784.797 101.409 784.427 Q99.1632 784.057 96.7558 783.316 L96.7558 778.617 Q98.8391 779.751 101.061 780.307 Q103.284 780.862 105.76 780.862 Q109.765 780.862 112.103 778.756 Q114.441 776.649 114.441 773.038 Q114.441 769.427 112.103 767.321 Q109.765 765.214 105.76 765.214 Q103.885 765.214 102.01 765.631 Q100.159 766.047 98.2141 766.927 L98.2141 749.566 Z\\\" fill=\\\"#000000\\\" fill-rule=\\\"nonzero\\\" fill-opacity=\\\"1\\\" \\/><path clip-path=\\\"url(#clip240)\\\" d=\\\"M138.33 752.645 Q134.719 752.645 132.89 756.209 Q131.084 759.751 131.084 766.881 Q131.084 773.987 132.89 777.552 Q134.719 781.094 138.33 781.094 Q141.964 781.094 143.769 777.552 Q145.598 773.987 145.598 766.881 Q145.598 759.751 143.769 756.209 Q141.964 752.645 138.33 752.645 M138.33 748.941 Q144.14 748.941 147.195 753.547 Q150.274 758.131 150.274 766.881 Q150.274 775.608 147.195 780.214 Q144.14 784.797 138.33 784.797 Q132.519 784.797 129.441 780.214 Q126.385 775.608 126.385 766.881 Q126.385 758.131 129.441 753.547 Q132.519 748.941 138.33 748.941 Z\\\" fill=\\\"#000000\\\" fill-rule=\\\"nonzero\\\" fill-opacity=\\\"1\\\" \\/><path clip-path=\\\"url(#clip240)\\\" d=\\\"M63.9319 413.21 Q60.3208 413.21 58.4921 416.775 Q56.6865 420.316 56.6865 427.446 Q56.6865 434.552 58.4921 438.117 Q60.3208 441.659 63.9319 441.659 Q67.5661 441.659 69.3717 438.117 Q71.2004 434.552 71.2004 427.446 Q71.2004 420.316 69.3717 416.775 Q67.5661 413.21 63.9319 413.21 M63.9319 409.506 Q69.742 409.506 72.7976 414.113 Q75.8763 418.696 75.8763 427.446 Q75.8763 436.173 72.7976 440.779 Q69.742 445.362 63.9319 445.362 Q58.1217 445.362 55.043 440.779 Q51.9875 436.173 51.9875 427.446 Q51.9875 418.696 55.043 414.113 Q58.1217 409.506 63.9319 409.506 Z\\\" fill=\\\"#000000\\\" fill-rule=\\\"nonzero\\\" fill-opacity=\\\"1\\\" \\/><path clip-path=\\\"url(#clip240)\\\" d=\\\"M84.0938 438.812 L88.978 438.812 L88.978 444.691 L84.0938 444.691 L84.0938 438.812 Z\\\" fill=\\\"#000000\\\" fill-rule=\\\"nonzero\\\" fill-opacity=\\\"1\\\" \\/><path clip-path=\\\"url(#clip240)\\\" d=\\\"M97.9826 410.131 L120.205 410.131 L120.205 412.122 L107.658 444.691 L102.774 444.691 L114.58 414.066 L97.9826 414.066 L97.9826 410.131 Z\\\" fill=\\\"#000000\\\" fill-rule=\\\"nonzero\\\" fill-opacity=\\\"1\\\" \\/><path clip-path=\\\"url(#clip240)\\\" d=\\\"M129.371 410.131 L147.728 410.131 L147.728 414.066 L133.654 414.066 L133.654 422.538 Q134.672 422.191 135.691 422.029 Q136.709 421.844 137.728 421.844 Q143.515 421.844 146.894 425.015 Q150.274 428.187 150.274 433.603 Q150.274 439.182 146.802 442.284 Q143.33 445.362 137.01 445.362 Q134.834 445.362 132.566 444.992 Q130.32 444.622 127.913 443.881 L127.913 439.182 Q129.996 440.316 132.219 440.872 Q134.441 441.427 136.918 441.427 Q140.922 441.427 143.26 439.321 Q145.598 437.214 145.598 433.603 Q145.598 429.992 143.26 427.886 Q140.922 425.779 136.918 425.779 Q135.043 425.779 133.168 426.196 Q131.316 426.613 129.371 427.492 L129.371 410.131 Z\\\" fill=\\\"#000000\\\" fill-rule=\\\"nonzero\\\" fill-opacity=\\\"1\\\" \\/><path clip-path=\\\"url(#clip240)\\\" d=\\\"M53.7467 101.321 L61.3856 101.321 L61.3856 74.9555 L53.0754 76.6222 L53.0754 72.3629 L61.3393 70.6963 L66.0152 70.6963 L66.0152 101.321 L73.654 101.321 L73.654 105.256 L53.7467 105.256 L53.7467 101.321 Z\\\" fill=\\\"#000000\\\" fill-rule=\\\"nonzero\\\" fill-opacity=\\\"1\\\" \\/><path clip-path=\\\"url(#clip240)\\\" d=\\\"M83.0984 99.3767 L87.9827 99.3767 L87.9827 105.256 L83.0984 105.256 L83.0984 99.3767 Z\\\" fill=\\\"#000000\\\" fill-rule=\\\"nonzero\\\" fill-opacity=\\\"1\\\" \\/><path clip-path=\\\"url(#clip240)\\\" d=\\\"M108.168 73.775 Q104.557 73.775 102.728 77.3398 Q100.922 80.8814 100.922 88.011 Q100.922 95.1174 102.728 98.6822 Q104.557 102.224 108.168 102.224 Q111.802 102.224 113.608 98.6822 Q115.436 95.1174 115.436 88.011 Q115.436 80.8814 113.608 77.3398 Q111.802 73.775 108.168 73.775 M108.168 70.0713 Q113.978 70.0713 117.033 74.6777 Q120.112 79.261 120.112 88.011 Q120.112 96.7378 117.033 101.344 Q113.978 105.928 108.168 105.928 Q102.358 105.928 99.2789 101.344 Q96.2234 96.7378 96.2234 88.011 Q96.2234 79.261 99.2789 74.6777 Q102.358 70.0713 108.168 70.0713 Z\\\" fill=\\\"#000000\\\" fill-rule=\\\"nonzero\\\" fill-opacity=\\\"1\\\" \\/><path clip-path=\\\"url(#clip240)\\\" d=\\\"M138.33 73.775 Q134.719 73.775 132.89 77.3398 Q131.084 80.8814 131.084 88.011 Q131.084 95.1174 132.89 98.6822 Q134.719 102.224 138.33 102.224 Q141.964 102.224 143.769 98.6822 Q145.598 95.1174 145.598 88.011 Q145.598 80.8814 143.769 77.3398 Q141.964 73.775 138.33 73.775 M138.33 70.0713 Q144.14 70.0713 147.195 74.6777 Q150.274 79.261 150.274 88.011 Q150.274 96.7378 147.195 101.344 Q144.14 105.928 138.33 105.928 Q132.519 105.928 129.441 101.344 Q126.385 96.7378 126.385 88.011 Q126.385 79.261 129.441 74.6777 Q132.519 70.0713 138.33 70.0713 Z\\\" fill=\\\"#000000\\\" fill-rule=\\\"nonzero\\\" fill-opacity=\\\"1\\\" \\/><polyline clip-path=\\\"url(#clip242)\\\" style=\\\"stroke:#009af9; stroke-linecap:round; stroke-linejoin:round; stroke-width:4; stroke-opacity:1; fill:none\\\" points=\\\"247.59,1445.72 252.699,1445.72 257.809,1445.72 262.918,1445.72 268.028,1445.72 273.138,1445.72 278.247,1445.72 283.357,1445.72 288.467,1445.72 293.576,1445.72 298.686,1445.72 303.795,1445.72 308.905,1445.72 314.015,1445.72 319.124,1445.72 324.234,1445.72 329.344,1445.72 334.453,1445.72 339.563,1445.72 344.672,1445.72 349.782,1445.72 354.892,1445.72 360.001,1445.72 365.111,1445.72 370.221,1445.72 375.33,1445.72 380.44,1445.72 385.549,1445.72 390.659,1445.72 395.769,1445.72 400.878,1445.72 405.988,1445.72 411.098,1445.72 416.207,1445.72 421.317,1445.72 426.426,1445.72 431.536,1445.72 436.646,1445.72 441.755,1445.72 446.865,1445.72 451.975,1445.72 457.084,1445.72 462.194,1445.72 467.303,1445.72 472.413,1445.72 477.523,1445.72 482.632,1445.72 487.742,1445.72 492.852,1445.72 497.961,1445.72 503.071,1445.72 508.181,1445.72 513.29,1445.72 518.4,1445.72 523.509,1445.72 528.619,1445.72 533.729,1445.72 538.838,1445.72 543.948,1445.72 549.058,1445.72 554.167,1445.72 559.277,1445.72 564.386,1445.72 569.496,1445.72 574.606,1445.72 579.715,1445.72 584.825,1445.72 589.935,1445.72 595.044,1445.72 600.154,1445.72 605.263,1445.72 610.373,1445.72 615.483,1445.72 620.592,1445.72 625.702,1445.72 630.812,1445.72 635.921,1445.72 641.031,1445.72 646.14,1445.72 651.25,1445.72 656.36,1445.72 661.469,1445.72 666.579,1445.72 671.689,1445.72 676.798,1445.72 681.908,1445.72 687.017,1445.72 692.127,1445.72 697.237,1445.72 702.346,1445.72 707.456,1445.72 712.566,1445.72 717.675,1445.72 722.785,1445.72 727.894,1445.72 733.004,1445.72 738.114,1445.72 743.223,1445.72 748.333,1445.72 753.443,1445.72 758.552,1445.72 763.662,1445.72 768.771,1445.72 773.881,1445.72 778.991,1445.72 784.1,1445.72 789.21,1445.72 794.32,1445.72 799.429,1445.72 804.539,1445.72 809.649,1445.72 814.758,1445.72 819.868,1445.72 824.977,1445.72 830.087,1445.72 835.197,1445.72 840.306,1445.72 845.416,1445.72 850.526,1445.72 855.635,1445.72 860.745,1445.72 865.854,1445.72 870.964,1445.72 876.074,1445.72 881.183,1445.72 886.293,1445.72 891.403,1445.72 896.512,1445.72 901.622,1445.72 906.731,1445.72 911.841,1445.72 916.951,1445.72 922.06,1445.72 927.17,1445.72 932.28,1445.72 937.389,1445.72 942.499,1445.72 947.608,1445.72 952.718,1445.72 957.828,1445.72 962.937,1445.72 968.047,1445.72 973.157,1445.72 978.266,1445.72 983.376,1445.72 988.485,1445.72 993.595,1445.72 998.705,1445.72 1003.81,1445.72 1008.92,1445.72 1014.03,1445.72 1019.14,1445.72 1024.25,1445.72 1029.36,1445.72 1034.47,1445.72 1039.58,1445.72 1044.69,1445.72 1049.8,1445.72 1054.91,1445.72 1060.02,1445.72 1065.13,1445.72 1070.24,1445.72 1075.35,1445.72 1080.46,1445.72 1085.57,1445.72 1090.68,1445.72 1095.79,1445.72 1100.9,1445.72 1106.01,1445.72 1111.12,1445.72 1116.23,1445.72 1121.34,1445.72 1126.45,1445.72 1131.56,1445.72 1136.66,1445.72 1141.77,1445.72 1146.88,1445.72 1151.99,1445.72 1157.1,1445.72 1162.21,1445.72 1167.32,1445.72 1172.43,1445.72 1177.54,1445.72 1182.65,1445.72 1187.76,1445.72 1192.87,1445.72 1197.98,1445.72 1203.09,1424.5 1208.2,1403.29 1213.31,1382.07 1218.42,1360.86 1223.53,1339.64 1228.64,1318.43 1233.75,1297.21 1238.86,1276 1243.97,1254.78 1249.08,1233.57 1254.19,1212.35 1259.3,1191.14 1264.41,1169.92 1269.51,1148.71 1274.62,1127.5 1279.73,1106.28 1284.84,1085.07 1289.95,1063.85 1295.06,1042.64 1300.17,1021.42 1305.28,1000.21 1310.39,978.993 1315.5,957.778 1320.61,936.563 1325.72,915.349 1330.83,894.134 1335.94,872.919 1341.05,851.705 1346.16,830.49 1351.27,809.275 1356.38,788.061 1361.49,766.846 1366.6,745.631 1371.71,724.417 1376.82,703.202 1381.93,681.987 1387.04,660.773 1392.15,639.558 1397.26,618.343 1402.37,597.129 1407.47,575.914 1412.58,554.699 1417.69,533.485 1422.8,512.27 1427.91,491.055 1433.02,469.84 1438.13,448.626 1443.24,427.411 1448.35,406.196 1453.46,384.982 1458.57,363.767 1463.68,342.552 1468.79,321.338 1473.9,300.123 1479.01,278.908 1484.12,257.694 1489.23,236.479 1494.34,215.264 1499.45,194.05 1504.56,172.835 1509.67,151.62 1514.78,130.406 1519.89,109.191 1525,87.9763 1530.11,109.191 1535.22,130.406 1540.33,151.62 1545.43,172.835 1550.54,194.05 1555.65,215.264 1560.76,236.479 1565.87,257.694 1570.98,278.908 1576.09,300.123 1581.2,321.338 1586.31,342.552 1591.42,363.767 1596.53,384.982 1601.64,406.196 1606.75,427.411 1611.86,448.626 1616.97,469.84 1622.08,491.055 1627.19,512.27 1632.3,533.485 1637.41,554.699 1642.52,575.914 1647.63,597.129 1652.74,618.343 1657.85,639.558 1662.96,660.773 1668.07,681.987 1673.18,703.202 1678.29,724.417 1683.39,745.631 1688.5,766.846 1693.61,788.061 1698.72,809.275 1703.83,830.49 1708.94,851.705 1714.05,872.919 1719.16,894.134 1724.27,915.349 1729.38,936.563 1734.49,957.778 1739.6,978.993 1744.71,1000.21 1749.82,1021.42 1754.93,1042.64 1760.04,1063.85 1765.15,1085.07 1770.26,1106.28 1775.37,1127.5 1780.48,1148.71 1785.59,1169.92 1790.7,1191.14 1795.81,1212.35 1800.92,1233.57 1806.03,1254.78 1811.14,1276 1816.25,1297.21 1821.35,1318.43 1826.46,1339.64 1831.57,1360.86 1836.68,1382.07 1841.79,1403.29 1846.9,1424.5 1852.01,1445.72 1857.12,1445.72 1862.23,1445.72 1867.34,1445.72 1872.45,1445.72 1877.56,1445.72 1882.67,1445.72 1887.78,1445.72 1892.89,1445.72 1898,1445.72 1903.11,1445.72 1908.22,1445.72 1913.33,1445.72 1918.44,1445.72 1923.55,1445.72 1928.66,1445.72 1933.77,1445.72 1938.88,1445.72 1943.99,1445.72 1949.1,1445.72 1954.2,1445.72 1959.31,1445.72 1964.42,1445.72 1969.53,1445.72 1974.64,1445.72 1979.75,1445.72 1984.86,1445.72 1989.97,1445.72 1995.08,1445.72 2000.19,1445.72 2005.3,1445.72 2010.41,1445.72 2015.52,1445.72 2020.63,1445.72 2025.74,1445.72 2030.85,1445.72 2035.96,1445.72 2041.07,1445.72 2046.18,1445.72 2051.29,1445.72 2056.4,1445.72 2061.51,1445.72 2066.62,1445.72 2071.73,1445.72 2076.84,1445.72 2081.95,1445.72 2087.06,1445.72 2092.16,1445.72 2097.27,1445.72 2102.38,1445.72 2107.49,1445.72 2112.6,1445.72 2117.71,1445.72 2122.82,1445.72 2127.93,1445.72 2133.04,1445.72 2138.15,1445.72 2143.26,1445.72 2148.37,1445.72 2153.48,1445.72 2158.59,1445.72 2163.7,1445.72 2168.81,1445.72 2173.92,1445.72 2179.03,1445.72 2184.14,1445.72 2189.25,1445.72 2194.36,1445.72 2199.47,1445.72 2204.58,1445.72 2209.69,1445.72 2214.8,1445.72 2219.91,1445.72 2225.02,1445.72 2230.12,1445.72 2235.23,1445.72 2240.34,1445.72 2245.45,1445.72 2250.56,1445.72 2255.67,1445.72 2260.78,1445.72 2265.89,1445.72 2271,1445.72 2276.11,1445.72 2281.22,1445.72 2286.33,1445.72 2291.44,1445.72 \\\"\\/>\\n<path clip-path=\\\"url(#clip240)\\\" d=\\\"M2011.46 198.898 L2280.54 198.898 L2280.54 95.2176 L2011.46 95.2176  Z\\\" fill=\\\"#ffffff\\\" fill-rule=\\\"evenodd\\\" fill-opacity=\\\"1\\\"\\/>\\n<polyline clip-path=\\\"url(#clip240)\\\" style=\\\"stroke:#000000; stroke-linecap:round; stroke-linejoin:round; stroke-width:4; stroke-opacity:1; fill:none\\\" points=\\\"2011.46,198.898 2280.54,198.898 2280.54,95.2176 2011.46,95.2176 2011.46,198.898 \\\"\\/>\\n<polyline clip-path=\\\"url(#clip240)\\\" style=\\\"stroke:#009af9; stroke-linecap:round; stroke-linejoin:round; stroke-width:4; stroke-opacity:1; fill:none\\\" points=\\\"2035.53,147.058 2179.97,147.058 \\\"\\/>\\n<path clip-path=\\\"url(#clip240)\\\" d=\\\"M2217.88 166.745 Q2216.07 171.375 2214.36 172.787 Q2212.65 174.199 2209.78 174.199 L2206.38 174.199 L2206.38 170.634 L2208.88 170.634 Q2210.63 170.634 2211.61 169.8 Q2212.58 168.967 2213.76 165.865 L2214.52 163.921 L2204.04 138.412 L2208.55 138.412 L2216.65 158.689 L2224.76 138.412 L2229.27 138.412 L2217.88 166.745 Z\\\" fill=\\\"#000000\\\" fill-rule=\\\"nonzero\\\" fill-opacity=\\\"1\\\" \\/><path clip-path=\\\"url(#clip240)\\\" d=\\\"M2236.56 160.402 L2244.2 160.402 L2244.2 134.037 L2235.89 135.703 L2235.89 131.444 L2244.15 129.778 L2248.83 129.778 L2248.83 160.402 L2256.47 160.402 L2256.47 164.338 L2236.56 164.338 L2236.56 160.402 Z\\\" fill=\\\"#000000\\\" fill-rule=\\\"nonzero\\\" fill-opacity=\\\"1\\\" \\/><\\/svg>\\n\"},\"nodeType\":\"DOM\",\"type\":\"node\",\"instanceArgs\":{\"namespace\":\"html\",\"tag\":\"div\"},\"children\":[]}]}}}},\"children\":[{\"props\":{},\"nodeType\":\"ObservableNode\",\"type\":\"node\",\"instanceArgs\":{\"id\":\"3592239752956090808\",\"name\":\"obs-node\"},\"children\":[]}]}]},\n",
       "        window,\n",
       "    );\n",
       "    })()\n",
       "    </script>\n",
       "</div>\n"
      ],
      "text/plain": [
       "Node{WebIO.DOM}(WebIO.DOM(:html, :div), Any[Node{WebIO.DOM}(WebIO.DOM(:html, :div), Any[Scope(Node{WebIO.DOM}(WebIO.DOM(:html, :div), Any[Node{WebIO.DOM}(WebIO.DOM(:html, :div), Any[Node{WebIO.DOM}(WebIO.DOM(:html, :label), Any[\"ε\"], Dict{Symbol, Any}(:className => \"interact \", :style => Dict{Any, Any}(:padding => \"5px 10px 0px 10px\")))], Dict{Symbol, Any}(:className => \"interact-flex-row-left\")), Node{WebIO.DOM}(WebIO.DOM(:html, :div), Any[Node{WebIO.DOM}(WebIO.DOM(:html, :input), Any[], Dict{Symbol, Any}(:max => 56, :min => 1, :attributes => Dict{Any, Any}(:type => \"range\", Symbol(\"data-bind\") => \"numericValue: index, valueUpdate: 'input', event: {change: function (){this.changes(this.changes()+1)}}\", \"orient\" => \"horizontal\"), :step => 1, :className => \"slider slider is-fullwidth\", :style => Dict{Any, Any}()))], Dict{Symbol, Any}(:className => \"interact-flex-row-center\")), Node{WebIO.DOM}(WebIO.DOM(:html, :div), Any[Node{WebIO.DOM}(WebIO.DOM(:html, :p), Any[], Dict{Symbol, Any}(:attributes => Dict(\"data-bind\" => \"text: formatted_val\")))], Dict{Symbol, Any}(:className => \"interact-flex-row-right\"))], Dict{Symbol, Any}(:className => \"interact-flex-row interact-widget\")), Dict{String, Tuple{AbstractObservable, Union{Nothing, Bool}}}(\"changes\" => (Observable(0), nothing), \"index\" => (Observable{Any}(28), nothing)), Set{String}(), nothing, Asset[Asset(\"js\", \"knockout\", \"/home/joao/.julia/packages/Knockout/HReiN/src/../assets/knockout.js\"), Asset(\"js\", \"knockout_punches\", \"/home/joao/.julia/packages/Knockout/HReiN/src/../assets/knockout_punches.js\"), Asset(\"js\", nothing, \"/home/joao/.julia/packages/InteractBase/Qhvxg/src/../assets/all.js\"), Asset(\"css\", nothing, \"/home/joao/.julia/packages/InteractBase/Qhvxg/src/../assets/style.css\"), Asset(\"css\", nothing, \"/home/joao/.julia/packages/Interact/PENUy/src/../assets/bulma_confined.min.css\")], Dict{Any, Any}(\"changes\" => Any[WebIO.JSString(\"(function (val){return (val!=this.model[\\\"changes\\\"]()) ? (this.valueFromJulia[\\\"changes\\\"]=true, this.model[\\\"changes\\\"](val)) : undefined})\")], \"index\" => Any[WebIO.JSString(\"(function (val){return (val!=this.model[\\\"index\\\"]()) ? (this.valueFromJulia[\\\"index\\\"]=true, this.model[\\\"index\\\"](val)) : undefined})\")]), WebIO.ConnectionPool(Channel{Any}(32), Set{AbstractConnection}(), Base.GenericCondition{ReentrantLock}(Base.IntrusiveLinkedList{Task}(Task (runnable) @0x00007f9ef7bfbb70, Task (runnable) @0x00007f9ef7bfbb70), ReentrantLock(nothing, 0x00000000, 0x00, Base.GenericCondition{Base.Threads.SpinLock}(Base.IntrusiveLinkedList{Task}(nothing, nothing), Base.Threads.SpinLock(0)), (4, 94481704943152, 4619804387259671055)))), WebIO.JSString[WebIO.JSString(\"function () {\\n    var handler = (function (ko, koPunches) {\\n    ko.punches.enableAll();\\n    ko.bindingHandlers.numericValue = {\\n        init: function(element, valueAccessor, allBindings, data, context) {\\n            var stringified = ko.observable(ko.unwrap(valueAccessor()));\\n            stringified.subscribe(function(value) {\\n                var val = parseFloat(value);\\n                if (!isNaN(val)) {\\n                    valueAccessor()(val);\\n                }\\n            });\\n            valueAccessor().subscribe(function(value) {\\n                var str = JSON.stringify(value);\\n                if ((str == \\\"0\\\") && ([\\\"-0\\\", \\\"-0.\\\"].indexOf(stringified()) >= 0))\\n                     return;\\n                 if ([\\\"null\\\", \\\"\\\"].indexOf(str) >= 0)\\n                     return;\\n                stringified(str);\\n            });\\n            ko.applyBindingsToNode(\\n                element,\\n                {\\n                    value: stringified,\\n                    valueUpdate: allBindings.get('valueUpdate'),\\n                },\\n                context,\\n            );\\n        }\\n    };\\n    var json_data = {\\\"formatted_vals\\\":[\\\"0.1\\\",\\\"0.12\\\",\\\"0.14\\\",\\\"0.16\\\",\\\"0.18\\\",\\\"0.2\\\",\\\"0.22\\\",\\\"0.24\\\",\\\"0.26\\\",\\\"0.28\\\",\\\"0.3\\\",\\\"0.32\\\",\\\"0.34\\\",\\\"0.36\\\",\\\"0.38\\\",\\\"0.4\\\",\\\"0.42\\\",\\\"0.44\\\",\\\"0.46\\\",\\\"0.48\\\",\\\"0.5\\\",\\\"0.52\\\",\\\"0.54\\\",\\\"0.56\\\",\\\"0.58\\\",\\\"0.6\\\",\\\"0.62\\\",\\\"0.64\\\",\\\"0.66\\\",\\\"0.68\\\",\\\"0.7\\\",\\\"0.72\\\",\\\"0.74\\\",\\\"0.76\\\",\\\"0.78\\\",\\\"0.8\\\",\\\"0.82\\\",\\\"0.84\\\",\\\"0.86\\\",\\\"0.88\\\",\\\"0.9\\\",\\\"0.92\\\",\\\"0.94\\\",\\\"0.96\\\",\\\"0.98\\\",\\\"1.0\\\",\\\"1.02\\\",\\\"1.04\\\",\\\"1.06\\\",\\\"1.08\\\",\\\"1.1\\\",\\\"1.12\\\",\\\"1.14\\\",\\\"1.16\\\",\\\"1.18\\\",\\\"1.2\\\"],\\\"changes\\\":WebIO.getval({\\\"name\\\":\\\"changes\\\",\\\"scope\\\":\\\"3671966373342809421\\\",\\\"id\\\":\\\"6476306462286584704\\\",\\\"type\\\":\\\"observable\\\"}),\\\"index\\\":WebIO.getval({\\\"name\\\":\\\"index\\\",\\\"scope\\\":\\\"3671966373342809421\\\",\\\"id\\\":\\\"15819070665811073060\\\",\\\"type\\\":\\\"observable\\\"})};\\n    var self = this;\\n    function AppViewModel() {\\n        for (var key in json_data) {\\n            var el = json_data[key];\\n            this[key] = Array.isArray(el) ? ko.observableArray(el) : ko.observable(el);\\n        }\\n        \\n        [this[\\\"formatted_val\\\"]=ko.computed(    function(){\\n        return this.formatted_vals()[parseInt(this.index())-(1)];\\n    }\\n,this)]\\n        [this[\\\"changes\\\"].subscribe((function (val){!(this.valueFromJulia[\\\"changes\\\"]) ? (WebIO.setval({\\\"name\\\":\\\"changes\\\",\\\"scope\\\":\\\"3671966373342809421\\\",\\\"id\\\":\\\"6476306462286584704\\\",\\\"type\\\":\\\"observable\\\"},val)) : undefined; return this.valueFromJulia[\\\"changes\\\"]=false}),self),this[\\\"index\\\"].subscribe((function (val){!(this.valueFromJulia[\\\"index\\\"]) ? (WebIO.setval({\\\"name\\\":\\\"index\\\",\\\"scope\\\":\\\"3671966373342809421\\\",\\\"id\\\":\\\"15819070665811073060\\\",\\\"type\\\":\\\"observable\\\"},val)) : undefined; return this.valueFromJulia[\\\"index\\\"]=false}),self)]\\n        \\n    }\\n    self.model = new AppViewModel();\\n    self.valueFromJulia = {};\\n    for (var key in json_data) {\\n        self.valueFromJulia[key] = false;\\n    }\\n    ko.applyBindings(self.model, self.dom);\\n}\\n);\\n    (WebIO.importBlock({\\\"data\\\":[{\\\"name\\\":\\\"knockout\\\",\\\"type\\\":\\\"js\\\",\\\"url\\\":\\\"/assetserver/73837b4dfd56accdcb1215a684921b2ef3eac20a-knockout.js\\\"},{\\\"name\\\":\\\"knockout_punches\\\",\\\"type\\\":\\\"js\\\",\\\"url\\\":\\\"/assetserver/92cd359686a293b9c70a4b7760c6c67bd1013214-knockout_punches.js\\\"}],\\\"type\\\":\\\"async_block\\\"})).then((imports) => handler.apply(this, imports));\\n}\\n\")])], Dict{Symbol, Any}(:className => \"field interact-widget\")), Node{WebIO.DOM}(WebIO.DOM(:html, :div), Any[Scope(Node{WebIO.DOM}(WebIO.DOM(:html, :div), Any[Node{WebIO.DOM}(WebIO.DOM(:html, :div), Any[Node{WebIO.DOM}(WebIO.DOM(:html, :label), Any[\"t\"], Dict{Symbol, Any}(:className => \"interact \", :style => Dict{Any, Any}(:padding => \"5px 10px 0px 10px\")))], Dict{Symbol, Any}(:className => \"interact-flex-row-left\")), Node{WebIO.DOM}(WebIO.DOM(:html, :div), Any[Node{WebIO.DOM}(WebIO.DOM(:html, :input), Any[], Dict{Symbol, Any}(:max => 51, :min => 1, :attributes => Dict{Any, Any}(:type => \"range\", Symbol(\"data-bind\") => \"numericValue: index, valueUpdate: 'input', event: {change: function (){this.changes(this.changes()+1)}}\", \"orient\" => \"horizontal\"), :step => 1, :className => \"slider slider is-fullwidth\", :style => Dict{Any, Any}()))], Dict{Symbol, Any}(:className => \"interact-flex-row-center\")), Node{WebIO.DOM}(WebIO.DOM(:html, :div), Any[Node{WebIO.DOM}(WebIO.DOM(:html, :p), Any[], Dict{Symbol, Any}(:attributes => Dict(\"data-bind\" => \"text: formatted_val\")))], Dict{Symbol, Any}(:className => \"interact-flex-row-right\"))], Dict{Symbol, Any}(:className => \"interact-flex-row interact-widget\")), Dict{String, Tuple{AbstractObservable, Union{Nothing, Bool}}}(\"changes\" => (Observable(0), nothing), \"index\" => (Observable{Any}(26), nothing)), Set{String}(), nothing, Asset[Asset(\"js\", \"knockout\", \"/home/joao/.julia/packages/Knockout/HReiN/src/../assets/knockout.js\"), Asset(\"js\", \"knockout_punches\", \"/home/joao/.julia/packages/Knockout/HReiN/src/../assets/knockout_punches.js\"), Asset(\"js\", nothing, \"/home/joao/.julia/packages/InteractBase/Qhvxg/src/../assets/all.js\"), Asset(\"css\", nothing, \"/home/joao/.julia/packages/InteractBase/Qhvxg/src/../assets/style.css\"), Asset(\"css\", nothing, \"/home/joao/.julia/packages/Interact/PENUy/src/../assets/bulma_confined.min.css\")], Dict{Any, Any}(\"changes\" => Any[WebIO.JSString(\"(function (val){return (val!=this.model[\\\"changes\\\"]()) ? (this.valueFromJulia[\\\"changes\\\"]=true, this.model[\\\"changes\\\"](val)) : undefined})\")], \"index\" => Any[WebIO.JSString(\"(function (val){return (val!=this.model[\\\"index\\\"]()) ? (this.valueFromJulia[\\\"index\\\"]=true, this.model[\\\"index\\\"](val)) : undefined})\")]), WebIO.ConnectionPool(Channel{Any}(32), Set{AbstractConnection}(), Base.GenericCondition{ReentrantLock}(Base.IntrusiveLinkedList{Task}(Task (runnable) @0x00007f9ef7c72590, Task (runnable) @0x00007f9ef7c72590), ReentrantLock(nothing, 0x00000000, 0x00, Base.GenericCondition{Base.Threads.SpinLock}(Base.IntrusiveLinkedList{Task}(nothing, nothing), Base.Threads.SpinLock(0)), (140320771605296, 140324967578704, 140324966314560)))), WebIO.JSString[WebIO.JSString(\"function () {\\n    var handler = (function (ko, koPunches) {\\n    ko.punches.enableAll();\\n    ko.bindingHandlers.numericValue = {\\n        init: function(element, valueAccessor, allBindings, data, context) {\\n            var stringified = ko.observable(ko.unwrap(valueAccessor()));\\n            stringified.subscribe(function(value) {\\n                var val = parseFloat(value);\\n                if (!isNaN(val)) {\\n                    valueAccessor()(val);\\n                }\\n            });\\n            valueAccessor().subscribe(function(value) {\\n                var str = JSON.stringify(value);\\n                if ((str == \\\"0\\\") && ([\\\"-0\\\", \\\"-0.\\\"].indexOf(stringified()) >= 0))\\n                     return;\\n                 if ([\\\"null\\\", \\\"\\\"].indexOf(str) >= 0)\\n                     return;\\n                stringified(str);\\n            });\\n            ko.applyBindingsToNode(\\n                element,\\n                {\\n                    value: stringified,\\n                    valueUpdate: allBindings.get('valueUpdate'),\\n                },\\n                context,\\n            );\\n        }\\n    };\\n    var json_data = {\\\"formatted_vals\\\":[\\\"0.0\\\",\\\"0.02\\\",\\\"0.04\\\",\\\"0.06\\\",\\\"0.08\\\",\\\"0.1\\\",\\\"0.12\\\",\\\"0.14\\\",\\\"0.16\\\",\\\"0.18\\\",\\\"0.2\\\",\\\"0.22\\\",\\\"0.24\\\",\\\"0.26\\\",\\\"0.28\\\",\\\"0.3\\\",\\\"0.32\\\",\\\"0.34\\\",\\\"0.36\\\",\\\"0.38\\\",\\\"0.4\\\",\\\"0.42\\\",\\\"0.44\\\",\\\"0.46\\\",\\\"0.48\\\",\\\"0.5\\\",\\\"0.52\\\",\\\"0.54\\\",\\\"0.56\\\",\\\"0.58\\\",\\\"0.6\\\",\\\"0.62\\\",\\\"0.64\\\",\\\"0.66\\\",\\\"0.68\\\",\\\"0.7\\\",\\\"0.72\\\",\\\"0.74\\\",\\\"0.76\\\",\\\"0.78\\\",\\\"0.8\\\",\\\"0.82\\\",\\\"0.84\\\",\\\"0.86\\\",\\\"0.88\\\",\\\"0.9\\\",\\\"0.92\\\",\\\"0.94\\\",\\\"0.96\\\",\\\"0.98\\\",\\\"1.0\\\"],\\\"changes\\\":WebIO.getval({\\\"name\\\":\\\"changes\\\",\\\"scope\\\":\\\"12352508471339811563\\\",\\\"id\\\":\\\"6640972426852799025\\\",\\\"type\\\":\\\"observable\\\"}),\\\"index\\\":WebIO.getval({\\\"name\\\":\\\"index\\\",\\\"scope\\\":\\\"12352508471339811563\\\",\\\"id\\\":\\\"1275865781188444811\\\",\\\"type\\\":\\\"observable\\\"})};\\n    var self = this;\\n    function AppViewModel() {\\n        for (var key in json_data) {\\n            var el = json_data[key];\\n            this[key] = Array.isArray(el) ? ko.observableArray(el) : ko.observable(el);\\n        }\\n        \\n        [this[\\\"formatted_val\\\"]=ko.computed(    function(){\\n        return this.formatted_vals()[parseInt(this.index())-(1)];\\n    }\\n,this)]\\n        [this[\\\"changes\\\"].subscribe((function (val){!(this.valueFromJulia[\\\"changes\\\"]) ? (WebIO.setval({\\\"name\\\":\\\"changes\\\",\\\"scope\\\":\\\"12352508471339811563\\\",\\\"id\\\":\\\"6640972426852799025\\\",\\\"type\\\":\\\"observable\\\"},val)) : undefined; return this.valueFromJulia[\\\"changes\\\"]=false}),self),this[\\\"index\\\"].subscribe((function (val){!(this.valueFromJulia[\\\"index\\\"]) ? (WebIO.setval({\\\"name\\\":\\\"index\\\",\\\"scope\\\":\\\"12352508471339811563\\\",\\\"id\\\":\\\"1275865781188444811\\\",\\\"type\\\":\\\"observable\\\"},val)) : undefined; return this.valueFromJulia[\\\"index\\\"]=false}),self)]\\n        \\n    }\\n    self.model = new AppViewModel();\\n    self.valueFromJulia = {};\\n    for (var key in json_data) {\\n        self.valueFromJulia[key] = false;\\n    }\\n    ko.applyBindings(self.model, self.dom);\\n}\\n);\\n    (WebIO.importBlock({\\\"data\\\":[{\\\"name\\\":\\\"knockout\\\",\\\"type\\\":\\\"js\\\",\\\"url\\\":\\\"/assetserver/73837b4dfd56accdcb1215a684921b2ef3eac20a-knockout.js\\\"},{\\\"name\\\":\\\"knockout_punches\\\",\\\"type\\\":\\\"js\\\",\\\"url\\\":\\\"/assetserver/92cd359686a293b9c70a4b7760c6c67bd1013214-knockout_punches.js\\\"}],\\\"type\\\":\\\"async_block\\\"})).then((imports) => handler.apply(this, imports));\\n}\\n\")])], Dict{Symbol, Any}(:className => \"field interact-widget\")), Observable(Node{WebIO.DOM}(WebIO.DOM(:html, :div), Any[Plot{Plots.GRBackend() n=1}], Dict{Symbol, Any}(:className => \"interact-flex-row interact-widget\")))], Dict{Symbol, Any}())"
      ]
     },
     "execution_count": 47,
     "metadata": {
      "@webio": {
       "kernelId": "a2523135-bbd3-4901-aca5-11b665b44e60"
      }
     },
     "output_type": "execute_result"
    }
   ],
   "source": [
    "using Plots, Interact\n",
    "\n",
    "x = -2:0.01:2\n",
    "\n",
    "@manipulate for ε ∈ 0.1:0.02:1.2, t ∈ 0.0:0.02:1\n",
    "    y = ring_δ(x.-t, ε)\n",
    "    plot(x,y)\n",
    "end"
   ]
  },
  {
   "cell_type": "code",
   "execution_count": null,
   "metadata": {},
   "outputs": [],
   "source": [
    "function signumGordon_2d!(uₜ, u, (N, h, ∇²ϕ), t)\n",
    "    ϕ  = @views u[:,:,1]\n",
    "    ϕₜ = @views u[:,:,2]\n",
    "\n",
    "    compute_∇²_2d!(∇²ϕ, ϕ, h)\n",
    "\n",
    "    # Eq. system\n",
    "    # φ ≡ ϕₜ\n",
    "    # φₜ ≡ ϕₜₜ\n",
    "    φ  = ϕₜ\n",
    "    φₜ = ∇²ϕ - sign.(ϕ)\n",
    "\n",
    "    # Output\n",
    "    uₜ[:,:,1] = φ\n",
    "    uₜ[:,:,2] = φₜ\n",
    "\n",
    "    nothing\n",
    "end\n",
    "\n",
    "prob = ODEProblem(signumGordon_2d!, u₀, (0.0, tmax), (N, h, ∇²ϕ))\n",
    "\n",
    ";"
   ]
  },
  {
   "cell_type": "markdown",
   "metadata": {},
   "source": [
    "# Solution"
   ]
  },
  {
   "cell_type": "code",
   "execution_count": null,
   "metadata": {},
   "outputs": [],
   "source": [
    "@time sol = solve(prob, RK4(); saveat=tsave, save_idxs=rsave_idxs, adaptive=false, dt=h/10)\n",
    ";"
   ]
  },
  {
   "cell_type": "markdown",
   "metadata": {},
   "source": [
    "# Plots"
   ]
  },
  {
   "cell_type": "code",
   "execution_count": null,
   "metadata": {},
   "outputs": [],
   "source": [
    "#using Plots\n",
    "using Interact, WebIO, PlotlyJS\n"
   ]
  },
  {
   "cell_type": "markdown",
   "metadata": {},
   "source": [
    "### Organize data"
   ]
  },
  {
   "cell_type": "code",
   "execution_count": null,
   "metadata": {},
   "outputs": [],
   "source": [
    "uₕₒₛₜ = similar(sol.u)\n",
    "   \n",
    "copyto!(uₕₒₛₜ, sol.u)\n",
    "\n",
    "ϕ = @views uₕₒₛₜ[100]\n",
    "\n",
    "#ϕₕₒₛₜ  = uₕₒₛₜ[1]\n",
    "#∂ₜϕₕₒₛₜ = [ for _ in 1:n]\n",
    "\n",
    "#ϕ  = uₕₒₛₜ[:,:,1]\n",
    "#ϕₜ = uₕₒₛₜ[:,:,2]\n",
    "\n",
    ";"
   ]
  },
  {
   "cell_type": "code",
   "execution_count": null,
   "metadata": {
    "tags": []
   },
   "outputs": [],
   "source": [
    "@manipulate for t in tsave\n",
    "#    p1 = plot(ϕ ,st=:surface,title=\"\\$\\\\phi\\$\")\n",
    "#    p2 = plot(ϕₜ,st=:surface,title=\"\\$\\\\dfrac{\\\\partial\\\\phi}{\\\\partial t}\\$\")\n",
    "#    plot(p1, p2, layout=(1, 2), size=(1300, 400))\n",
    "    idx = Integer(t ./ step(tsave)) + 1\n",
    "    \n",
    "    ϕ = @views uₕₒₛₜ[idx];\n",
    "    # plot(ϕ ,st=:surface,title=\"\\$\\\\phi\\$\")\n",
    "\n",
    "    # Create a meshgrid for X and Y coordinates\n",
    "    n = size(ϕ, 1) # assuming ϕ is a square matrix\n",
    "    X = repeat(1:n, 1, n)\n",
    "    Y = repeat((1:n)', n, 1)\n",
    "\n",
    "    # Create the surface trace\n",
    "    trace = surface(\n",
    "        x=X, \n",
    "        y=Y, \n",
    "        z=ϕ,\n",
    "    #    colorscale = \"Viridis\",\n",
    "    )\n",
    "\n",
    "    # Create a layout\n",
    "    layout = Layout(\n",
    "        title=\"ϕ(t=$t)\",\n",
    "        autosize=false,\n",
    "        width=600,\n",
    "        height=600 \n",
    "    )\n",
    "\n",
    "    # Create the figure and plot it\n",
    "    p = plot(trace, layout)\n",
    "\n",
    "    # If you want to save the plot as an HTML file, you can do:\n",
    "    # PlotlyJS.savefig(p, \"my_surface_plot.html\")\n",
    "\n",
    "end"
   ]
  },
  {
   "cell_type": "code",
   "execution_count": null,
   "metadata": {},
   "outputs": [],
   "source": [
    "#@manipulate for t in 0:0.1:2π\n",
    "#    p1 = plot(ϕ ,st=:surface,title=\"\\$\\\\phi\\$\")\n",
    "#    p2 = plot(ϕₜ,st=:surface,title=\"\\$\\\\dfrac{\\\\partial\\\\phi}{\\\\partial t}\\$\")\n",
    "#    plot(p1, p2, layout=(1, 2), size=(1300, 400))\n",
    "#end\n"
   ]
  },
  {
   "cell_type": "code",
   "execution_count": null,
   "metadata": {},
   "outputs": [],
   "source": [
    "using PlotlyJS\n",
    "\n",
    "# Generate data for the surface plot\n",
    "x = LinRange(-5, 5, 100)\n",
    "y = LinRange(-5, 5, 100)\n",
    "z = [exp(-(xx^2 + yy^2)/10) for xx in x, yy in y]\n",
    "\n",
    "# Create a surface trace\n",
    "surface = surface(\n",
    "    x = x,\n",
    "    y = y,\n",
    "    z = z,\n",
    "    colorscale = \"Viridis\",\n",
    ")\n",
    "\n",
    "# Create a layout for the plot\n",
    "layout = Layout(\n",
    "    title = \"Surface Plot\",\n",
    "    scene = Scene(\n",
    "        xaxis_title = \"X\",\n",
    "        yaxis_title = \"Y\",\n",
    "        zaxis_title = \"Z\"\n",
    "    )\n",
    ")\n",
    "\n",
    "# Create the plot\n",
    "plot(surface, layout)\n"
   ]
  },
  {
   "cell_type": "code",
   "execution_count": null,
   "metadata": {},
   "outputs": [],
   "source": [
    "using PlotlyJS\n",
    "\n",
    "# Load a heightmap from a file or generate your own data\n",
    "heightmap = ϕ\n",
    "\n",
    "# Get the dimensions of the heightmap\n",
    "width, height = size(heightmap)\n",
    "\n",
    "# Generate the x and y coordinates based on the width and height\n",
    "x = range(0, stop=width, length=width)\n",
    "y = range(0, stop=height, length=height)\n",
    "\n",
    "# Create a surface trace using the heightmap data\n",
    "surface = surface(\n",
    "    x = x,\n",
    "    y = y,\n",
    "    z = heightmap,\n",
    "    colorscale = \"Viridis\",\n",
    ")\n",
    "\n",
    "# Create a layout for the plot\n",
    "layout = Layout(\n",
    "    title = \"Heightmap Surface Plot\",\n",
    "    scene = Scene(\n",
    "        xaxis_title = \"X\",\n",
    "        yaxis_title = \"Y\",\n",
    "        zaxis_title = \"Height\"\n",
    "    )\n",
    ")\n",
    "\n",
    "# Create the plot\n",
    "plot(surface, layout)"
   ]
  },
  {
   "cell_type": "code",
   "execution_count": null,
   "metadata": {},
   "outputs": [],
   "source": [
    "using PlotlyJS\n",
    "\n",
    "\n",
    "# Create a meshgrid for X and Y coordinates\n",
    "n = size(ϕ, 1) # assuming Z is a square matrix\n",
    "X = repeat(1:n, 1, n)\n",
    "Y = repeat((1:n)', n, 1)\n",
    "\n",
    "# Create the surface trace\n",
    "trace = surface(x=X, y=Y, z=ϕ)\n",
    "\n",
    "# Create a layout\n",
    "layout = Layout(\n",
    "    title=\"My Surface Plot\",\n",
    "    autosize=false,\n",
    "    width=600,\n",
    "    height=600 \n",
    ")\n",
    "\n",
    "# Create the figure and plot it\n",
    "p = plot(trace, layout)\n",
    "\n",
    "# If you want to save the plot as an HTML file, you can do:\n",
    "# PlotlyJS.savefig(p, \"my_surface_plot.html\")\n"
   ]
  },
  {
   "cell_type": "code",
   "execution_count": null,
   "metadata": {},
   "outputs": [],
   "source": [
    "using PlotlyJS\n",
    "\n",
    "n = 10\n",
    "\n",
    "# Assume you have an n x n matrix 'Z' representing heights\n",
    "Z_orig = rand(n, n) # Replace this with your actual matrix\n",
    "\n",
    "# Create a meshgrid for X and Y coordinates\n",
    "n = size(Z_orig, 1) # assuming Z is a square matrix\n",
    "X = repeat(1:n, 1, n)\n",
    "Y = repeat((1:n)', n, 1)\n",
    "\n",
    "# Create a vector to hold all the frames\n",
    "frames = []\n",
    "\n",
    "# Create a vector to hold the slider steps\n",
    "steps = []\n",
    "\n",
    "# Generate the surfaces for each time step\n",
    "for t in 1:10\n",
    "    Z = t * Z_orig\n",
    "    trace = surface(x=X, y=Y, z=Z, showscale=false)\n",
    "\n",
    "    # Add the current surface as a frame\n",
    "    push!(frames, attr(name=string(t), data=[trace]))\n",
    "\n",
    "    # Add a step to the slider for the current time step\n",
    "    push!(steps, attr(method=\"animate\", \n",
    "                      args=[[string(t)], attr(frame=attr(duration=0, redraw=true), mode=\"immediate\")], \n",
    "                      label=string(t)))\n",
    "end\n",
    "\n",
    "# Create a layout with the slider\n",
    "layout = Layout(title=\"My Surface Plot\", \n",
    "                width=800, \n",
    "                height=600, \n",
    "                updatemenus=[attr(type=\"buttons\", \n",
    "                                  showactive=false, \n",
    "                                  y=0, \n",
    "                                  x=1.05, \n",
    "                                  xanchor=\"right\", \n",
    "                                  yanchor=\"top\", \n",
    "                                  pad=attr(t=0, r=10), \n",
    "                                  buttons=[attr(label=\"Play\", \n",
    "                                                method=\"animate\", \n",
    "                                                args=[nothing, attr(frame=attr(duration=500, redraw=true), fromcurrent=true, mode=\"immediate\")])])], \n",
    "                sliders=[attr(active=0, \n",
    "                              pad=attr(t=50, b=10), \n",
    "                              steps=steps)])\n",
    "\n",
    "# Create the initial plot\n",
    "initial_trace = surface(x=X, y=Y, z=Z_orig, showscale=false)\n",
    "p = plot(initial_trace, layout)\n",
    "\n",
    "# Add the frames to the plot\n",
    "#p.frames = frames\n",
    "\n",
    "# If you want to save the plot as an HTML file, you can do:\n",
    "#PlotlyJS.savefig(p, \"my_surface_plot.html\")\n"
   ]
  },
  {
   "cell_type": "code",
   "execution_count": null,
   "metadata": {},
   "outputs": [],
   "source": [
    "using Plots\n",
    "plotlyjs()  # Set the backend to PlotlyJS\n",
    "\n",
    "n = 10\n",
    "\n",
    "# Assume you have an n x n matrix 'Z' representing heights\n",
    "Z_orig = rand(n, n) # Replace this with your actual matrix\n",
    "\n",
    "# Create a meshgrid for X and Y coordinates\n",
    "n = size(Z_orig, 1) # assuming Z is a square matrix\n",
    "X = repeat(1:n, 1, n)\n",
    "Y = repeat((1:n)', n, 1)\n",
    "\n",
    "plots = Array{Any}(undef, n)\n",
    "\n",
    "for t in 1:10    \n",
    "    plots[t] = plot()\n",
    "    \n",
    "    p = plots[t]\n",
    "    \n",
    "    Z = t * Z_orig\n",
    "    surface!(p, X, Y, Z, title = \"My Surface Plot\")\n",
    "end\n"
   ]
  },
  {
   "cell_type": "code",
   "execution_count": null,
   "metadata": {},
   "outputs": [],
   "source": [
    "plots[1]"
   ]
  },
  {
   "cell_type": "code",
   "execution_count": null,
   "metadata": {},
   "outputs": [],
   "source": [
    "using Makie\n",
    "\n",
    "n=10\n",
    "\n",
    "t_values = range(0, stop=10, length=100)\n",
    "\n",
    "x = repeat(1:n, 1, n)\n",
    "y = repeat((1:n)', n, 1)\n",
    "\n",
    "# define z as a function of t, x, and y\n",
    "z(t, x, y) = sin.(sqrt.(x^2 + y^2) .+ t)\n",
    "\n",
    "fig = Figure()\n",
    "ax = Axis3(fig[1,1])\n",
    "surface!(ax, x, y, z.(t_values[1], x, y))  # initial plot\n",
    "\n",
    "#for t in t_values\n",
    "#   surface!(ax, x, y, z(t, x, y))  # update plot\n",
    "#   # You can add a pause here if needed\n",
    "#   sleep(0.1)\n",
    "#nd\n",
    "\n",
    "#fig"
   ]
  },
  {
   "cell_type": "code",
   "execution_count": null,
   "metadata": {},
   "outputs": [],
   "source": []
  }
 ],
 "metadata": {
  "@webio": {
   "lastCommId": "45258e32-a91d-4741-9705-a4fccb0d5b4f",
   "lastKernelId": "a2523135-bbd3-4901-aca5-11b665b44e60"
  },
  "kernelspec": {
   "display_name": "Julia 1.9.1",
   "language": "julia",
   "name": "julia-1.9"
  },
  "language_info": {
   "file_extension": ".jl",
   "mimetype": "application/julia",
   "name": "julia",
   "version": "1.9.1"
  }
 },
 "nbformat": 4,
 "nbformat_minor": 4
}

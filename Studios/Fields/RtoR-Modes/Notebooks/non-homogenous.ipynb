{
 "cells": [
  {
   "cell_type": "code",
   "execution_count": 252,
   "metadata": {},
   "outputs": [
    {
     "data": {
      "text/latex": [
       "$$ \\begin{equation}\n",
       "c \\cos\\left( k x - t \\omega \\right) - d \\sin\\left( k x - t \\omega \\right)\n",
       "\\end{equation}\n",
       " $$"
      ],
      "text/plain": [
       "c*cos(k*x - t*ω) - d*sin(k*x - t*ω)"
      ]
     },
     "metadata": {},
     "output_type": "display_data"
    }
   ],
   "source": [
    "using Symbolics\n",
    "\n",
    "@variables n k ω x t a(t) b(t) c d\n",
    "\n",
    "A = a + im*b\n",
    "B = c + im*d\n",
    "\n",
    "# k=2π/L\n",
    "\n",
    "ϕ_base_term = A*exp(im*(k*x-ω*t))\n",
    "F_base_term = B*exp(im*(k*x-ω*t))\n",
    "\n",
    "ϕ_term = expand((ϕ_base_term + conj(ϕ_base_term))/2)\n",
    "F_term = expand((F_base_term + conj(F_base_term))/2)"
   ]
  },
  {
   "cell_type": "code",
   "execution_count": 258,
   "metadata": {},
   "outputs": [
    {
     "ename": "UndefVarError",
     "evalue": "UndefVarError: `collect_factors` not defined",
     "output_type": "error",
     "traceback": [
      "UndefVarError: `collect_factors` not defined\n",
      "\n",
      "Stacktrace:\n",
      " [1] top-level scope\n",
      "   @ ~/Developer/StudioSlab/Studios/Fields/RtoR-Modes/Notebooks/non-homogenous.ipynb:4"
     ]
    }
   ],
   "source": [
    "Dₜ = Differential(t)\n",
    "Dₓ = Differential(x)\n",
    "\n",
    "collect_factors(expand_derivatives(Dₜ(Dₜ(ϕ_term))-Dₓ(Dₓ(ϕ_term))))"
   ]
  },
  {
   "cell_type": "code",
   "execution_count": 254,
   "metadata": {},
   "outputs": [
    {
     "data": {
      "text/latex": [
       "$$ \\begin{align}\n",
       "\\frac{\\mathrm{d}}{\\mathrm{d}t} \\frac{\\mathrm{d} a\\left( t \\right)}{\\mathrm{d}t} + 2 \\frac{\\mathrm{d} b\\left( t \\right)}{\\mathrm{d}t} \\omega - n^{2} b\\left( t \\right) &= c \\\\\n",
       "\\frac{\\mathrm{d}}{\\mathrm{d}t} \\frac{\\mathrm{d} b\\left( t \\right)}{\\mathrm{d}t} - 2 \\frac{\\mathrm{d} a\\left( t \\right)}{\\mathrm{d}t} \\omega + n^{2} a\\left( t \\right) &= d\n",
       "\\end{align}\n",
       " $$"
      ],
      "text/plain": [
       "2-element Vector{Equation}:\n",
       " Differential(t)(Differential(t)(a(t))) + 2Differential(t)(b(t))*ω - (n^2)*b(t) ~ c\n",
       " Differential(t)(Differential(t)(b(t))) - 2Differential(t)(a(t))*ω + (n^2)*a(t) ~ d"
      ]
     },
     "metadata": {},
     "output_type": "display_data"
    }
   ],
   "source": [
    "eqs = Dₜ(Dₜ(A)) - 2im*ω*Dₜ(A) + n^2*im*A ~ B"
   ]
  },
  {
   "cell_type": "code",
   "execution_count": 255,
   "metadata": {},
   "outputs": [
    {
     "ename": "MethodError",
     "evalue": "MethodError: no method matching init(::Equation)\n\nClosest candidates are:\n  init(!Matched::OptimizationProblem, !Matched::Any, !Matched::Any...; kwargs...)\n   @ SciMLBase ~/.julia/packages/SciMLBase/YE50s/src/solve.jl:172\n  init(!Matched::NonlinearProblem{<:Union{Number, var\"#s147\"} where var\"#s147\"<:AbstractArray, iip, <:Union{var\"#s146\", var\"#s145\"} where {var\"#s146\"<:ForwardDiff.Dual{T, V, P}, var\"#s145\"<:(AbstractArray{<:ForwardDiff.Dual{T, V, P}})}}, !Matched::Union{Nothing, SciMLBase.AbstractNonlinearAlgorithm}, !Matched::Any...; kwargs...) where {T, V, P, iip}\n   @ NonlinearSolve ~/.julia/packages/NonlinearSolve/sETeN/src/internal/forward_diff.jl:38\n  init(!Matched::LinearProblem, !Matched::Nothing, !Matched::Any...; assumptions, kwargs...)\n   @ LinearSolve ~/.julia/packages/LinearSolve/Wj6E9/src/default.jl:290\n  ...\n",
     "output_type": "error",
     "traceback": [
      "MethodError: no method matching init(::Equation)\n",
      "\n",
      "Closest candidates are:\n",
      "  init(!Matched::OptimizationProblem, !Matched::Any, !Matched::Any...; kwargs...)\n",
      "   @ SciMLBase ~/.julia/packages/SciMLBase/YE50s/src/solve.jl:172\n",
      "  init(!Matched::NonlinearProblem{<:Union{Number, var\"#s147\"} where var\"#s147\"<:AbstractArray, iip, <:Union{var\"#s146\", var\"#s145\"} where {var\"#s146\"<:ForwardDiff.Dual{T, V, P}, var\"#s145\"<:(AbstractArray{<:ForwardDiff.Dual{T, V, P}})}}, !Matched::Union{Nothing, SciMLBase.AbstractNonlinearAlgorithm}, !Matched::Any...; kwargs...) where {T, V, P, iip}\n",
      "   @ NonlinearSolve ~/.julia/packages/NonlinearSolve/sETeN/src/internal/forward_diff.jl:38\n",
      "  init(!Matched::LinearProblem, !Matched::Nothing, !Matched::Any...; assumptions, kwargs...)\n",
      "   @ LinearSolve ~/.julia/packages/LinearSolve/Wj6E9/src/default.jl:290\n",
      "  ...\n",
      "\n",
      "\n",
      "Stacktrace:\n",
      " [1] solve(args::Equation; kwargs::@Kwargs{})\n",
      "   @ CommonSolve ~/.julia/packages/CommonSolve/JfpfI/src/CommonSolve.jl:23\n",
      " [2] top-level scope\n",
      "   @ ~/Developer/StudioSlab/Studios/Fields/RtoR-Modes/Notebooks/non-homogenous.ipynb:1"
     ]
    }
   ],
   "source": [
    "sols = solve(eqs[1])"
   ]
  },
  {
   "cell_type": "code",
   "execution_count": null,
   "metadata": {},
   "outputs": [],
   "source": []
  }
 ],
 "metadata": {
  "kernelspec": {
   "display_name": "Julia 1.10.5",
   "language": "julia",
   "name": "julia-1.10"
  },
  "language_info": {
   "file_extension": ".jl",
   "mimetype": "application/julia",
   "name": "julia",
   "version": "1.10.5"
  }
 },
 "nbformat": 4,
 "nbformat_minor": 2
}

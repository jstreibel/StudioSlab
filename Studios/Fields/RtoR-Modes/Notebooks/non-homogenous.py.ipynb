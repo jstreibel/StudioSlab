{
 "cells": [
  {
   "cell_type": "code",
   "execution_count": 1,
   "metadata": {},
   "outputs": [],
   "source": [
    "from sympy import *"
   ]
  },
  {
   "cell_type": "code",
   "execution_count": 59,
   "metadata": {},
   "outputs": [],
   "source": [
    "k, omega, m, x, t, c, d, S, C = symbols('k \\\\omega m x t c d S C')\n",
    "\n",
    "a = Function('a')(t)\n",
    "b = Function('b')(t)"
   ]
  },
  {
   "cell_type": "code",
   "execution_count": 33,
   "metadata": {},
   "outputs": [],
   "source": [
    "base_cos = cos(k*x+omega*t)\n",
    "base_sin = sin(k*x+omega*t)\n",
    "\n",
    "phi_term = a*base_cos + b*base_sin\n",
    "F_term = c*base_cos + d*base_sin"
   ]
  },
  {
   "cell_type": "code",
   "execution_count": 34,
   "metadata": {},
   "outputs": [],
   "source": [
    "lhs = Derivative(Derivative(phi_term, t),t)-Derivative(Derivative(phi_term, x),x)"
   ]
  },
  {
   "cell_type": "code",
   "execution_count": 47,
   "metadata": {},
   "outputs": [],
   "source": [
    "lhs = lhs.simplify().factor(base_cos)"
   ]
  },
  {
   "cell_type": "code",
   "execution_count": 55,
   "metadata": {},
   "outputs": [],
   "source": [
    "cos_part = lhs.args[0]\n",
    "sin_part = lhs.args[1:]\n",
    "\n",
    "lhs = cos_part + sum(sin_part).factor(base_sin)"
   ]
  },
  {
   "cell_type": "code",
   "execution_count": 72,
   "metadata": {},
   "outputs": [
    {
     "data": {
      "text/latex": [
       "$\\displaystyle \\left(- 2 k \\frac{d}{d t} a{\\left(t \\right)} + \\frac{d^{2}}{d t^{2}} b{\\left(t \\right)}\\right) \\sin{\\left(k t + k x \\right)} + \\left(2 k \\frac{d}{d t} b{\\left(t \\right)} + \\frac{d^{2}}{d t^{2}} a{\\left(t \\right)}\\right) \\cos{\\left(k t + k x \\right)} = c \\cos{\\left(k t + k x \\right)} + d \\sin{\\left(k t + k x \\right)}$"
      ],
      "text/plain": [
       "Eq((-2*k*Derivative(a(t), t) + Derivative(b(t), (t, 2)))*sin(k*t + k*x) + (2*k*Derivative(b(t), t) + Derivative(a(t), (t, 2)))*cos(k*t + k*x), c*cos(k*t + k*x) + d*sin(k*t + k*x))"
      ]
     },
     "execution_count": 72,
     "metadata": {},
     "output_type": "execute_result"
    }
   ],
   "source": [
    "Eq(lhs, F_term).subs(omega, k)"
   ]
  },
  {
   "cell_type": "code",
   "execution_count": 74,
   "metadata": {},
   "outputs": [
    {
     "data": {
      "text/latex": [
       "$\\displaystyle 2 k \\frac{d}{d t} b{\\left(t \\right)} + \\frac{d^{2}}{d t^{2}} a{\\left(t \\right)} = c$"
      ],
      "text/plain": [
       "Eq(2*k*Derivative(b(t), t) + Derivative(a(t), (t, 2)), c)"
      ]
     },
     "metadata": {},
     "output_type": "display_data"
    },
    {
     "data": {
      "text/latex": [
       "$\\displaystyle - 2 k \\frac{d}{d t} a{\\left(t \\right)} + \\frac{d^{2}}{d t^{2}} b{\\left(t \\right)} = d$"
      ],
      "text/plain": [
       "Eq(-2*k*Derivative(a(t), t) + Derivative(b(t), (t, 2)), d)"
      ]
     },
     "metadata": {},
     "output_type": "display_data"
    }
   ],
   "source": [
    "display(Eq(lhs.args[0].args[0].subs(omega, k), c))\n",
    "display(Eq(lhs.args[1].args[0].subs(omega, k), d))"
   ]
  },
  {
   "cell_type": "code",
   "execution_count": null,
   "metadata": {},
   "outputs": [],
   "source": []
  }
 ],
 "metadata": {
  "kernelspec": {
   "display_name": "Python 3",
   "language": "python",
   "name": "python3"
  },
  "language_info": {
   "codemirror_mode": {
    "name": "ipython",
    "version": 3
   },
   "file_extension": ".py",
   "mimetype": "text/x-python",
   "name": "python",
   "nbconvert_exporter": "python",
   "pygments_lexer": "ipython3",
   "version": "3.12.5"
  }
 },
 "nbformat": 4,
 "nbformat_minor": 2
}

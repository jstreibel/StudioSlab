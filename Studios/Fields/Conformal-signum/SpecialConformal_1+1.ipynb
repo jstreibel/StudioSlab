{
 "cells": [
  {
   "cell_type": "code",
   "execution_count": 48,
   "metadata": {},
   "outputs": [],
   "source": [
    "using Symbolics\n",
    "using LinearAlgebra # for determinant\n",
    "\n",
    "@variables t x b_t b_x\n",
    "@variables τ ξ\n",
    ";"
   ]
  },
  {
   "cell_type": "markdown",
   "metadata": {},
   "source": [
    "##### Mappings\n",
    "$x^0 = t$ \\\n",
    "\\\n",
    "$x^1 = x$ \\\n",
    "\\\n",
    "$x^\\mu \\mapsto x'^\\mu = \\dfrac{x^\\mu-b^\\mu x^2}{1-2b⋅x+b^2x^2}$ \\\n",
    "\\\n",
    "$x'^0 = \\tau$ \\\n",
    "\\\n",
    "$x'^1 = \\xi$"
   ]
  },
  {
   "cell_type": "markdown",
   "metadata": {},
   "source": [
    "#####\n",
    "$\\rightarrow b⋅x = b_\\mu x^\\mu = b_t t - b_x x$ \\\n",
    "\\\n",
    "$\\rightarrow b^2x^2 = (b_t^2 - b_x^2)(t^2 - x^2)$"
   ]
  },
  {
   "cell_type": "code",
   "execution_count": 65,
   "metadata": {},
   "outputs": [
    {
     "data": {
      "text/latex": [
       "$$ \\begin{equation}\n",
       "1 + \\left( b_{t}^{2} - b_{x}^{2} \\right) \\left( t^{2} - x^{2} \\right) - 2 \\left( b_{t} t - b_{x} x \\right)\n",
       "\\end{equation}\n",
       " $$"
      ],
      "text/plain": [
       "1 + (b_t^2 - (b_x^2))*(t^2 - (x^2)) - 2(b_t*t - b_x*x)"
      ]
     },
     "metadata": {},
     "output_type": "display_data"
    }
   ],
   "source": [
    "denom = 1 - 2*(b_t*t - b_x*x) + (b_t^2 - b_x^2)*(t^2 - x^2)"
   ]
  },
  {
   "cell_type": "code",
   "execution_count": 50,
   "metadata": {},
   "outputs": [],
   "source": [
    "τ = (t - b_t*(t^2 - x^2))/denom\n",
    "ξ = (x - b_x*(t^2 - x^2))/denom\n",
    ";"
   ]
  },
  {
   "cell_type": "code",
   "execution_count": 58,
   "metadata": {},
   "outputs": [],
   "source": [
    "Dₜ = Differential(t)\n",
    "Dₓ = Differential(x)\n",
    ";"
   ]
  },
  {
   "cell_type": "code",
   "execution_count": 59,
   "metadata": {},
   "outputs": [
    {
     "data": {
      "text/latex": [
       "$$ \\begin{equation}\n",
       "\\left[\n",
       "\\begin{array}{cc}\n",
       "\\frac{\\mathrm{d}}{\\mathrm{d}t} \\frac{t - b_{t} \\left( t^{2} - x^{2} \\right)}{1 + \\left( b_{t}^{2} - b_{x}^{2} \\right) \\left( t^{2} - x^{2} \\right) - 2 \\left( b_{t} t - b_{x} x \\right)} & \\frac{\\mathrm{d}}{\\mathrm{d}x} \\frac{t - b_{t} \\left( t^{2} - x^{2} \\right)}{1 + \\left( b_{t}^{2} - b_{x}^{2} \\right) \\left( t^{2} - x^{2} \\right) - 2 \\left( b_{t} t - b_{x} x \\right)} \\\\\n",
       "\\frac{\\mathrm{d}}{\\mathrm{d}t} \\frac{x - b_{x} \\left( t^{2} - x^{2} \\right)}{1 + \\left( b_{t}^{2} - b_{x}^{2} \\right) \\left( t^{2} - x^{2} \\right) - 2 \\left( b_{t} t - b_{x} x \\right)} & \\frac{\\mathrm{d}}{\\mathrm{d}x} \\frac{x - b_{x} \\left( t^{2} - x^{2} \\right)}{1 + \\left( b_{t}^{2} - b_{x}^{2} \\right) \\left( t^{2} - x^{2} \\right) - 2 \\left( b_{t} t - b_{x} x \\right)} \\\\\n",
       "\\end{array}\n",
       "\\right]\n",
       "\\end{equation}\n",
       " $$"
      ],
      "text/plain": [
       "2×2 Matrix{Num}:\n",
       " Differential(t)((t - b_t*(t^2 - (x^2))) / (1 + (b_t^2 - (b_x^2))*(t^2 - (x^2)) - 2(b_t*t - b_x*x)))  …  Differential(x)((t - b_t*(t^2 - (x^2))) / (1 + (b_t^2 - (b_x^2))*(t^2 - (x^2)) - 2(b_t*t - b_x*x)))\n",
       " Differential(t)((x - b_x*(t^2 - (x^2))) / (1 + (b_t^2 - (b_x^2))*(t^2 - (x^2)) - 2(b_t*t - b_x*x)))     Differential(x)((x - b_x*(t^2 - (x^2))) / (1 + (b_t^2 - (b_x^2))*(t^2 - (x^2)) - 2(b_t*t - b_x*x)))"
      ]
     },
     "metadata": {},
     "output_type": "display_data"
    }
   ],
   "source": [
    "J = [Dₜ(τ) Dₓ(τ); Dₜ(ξ) Dₓ(ξ)]"
   ]
  },
  {
   "cell_type": "code",
   "execution_count": 64,
   "metadata": {},
   "outputs": [
    {
     "data": {
      "text/latex": [
       "$$ \\begin{equation}\n",
       "\\frac{1}{\\left( 1 + t^{2} b_{t}^{2} + x^{2} b_{x}^{2} - x^{2} b_{t}^{2} - t^{2} b_{x}^{2} - 2 b_{t} t + 2 b_{x} x \\right)^{2}}\n",
       "\\end{equation}\n",
       " $$"
      ],
      "text/plain": [
       "1 / ((1 + (b_t^2)*(t^2) + (b_x^2)*(x^2) + 2b_x*x - (b_t^2)*(x^2) - (b_x^2)*(t^2) - 2b_t*t)^2)"
      ]
     },
     "metadata": {},
     "output_type": "display_data"
    }
   ],
   "source": [
    "expand_derivatives(det(J), true)"
   ]
  },
  {
   "cell_type": "code",
   "execution_count": null,
   "metadata": {},
   "outputs": [],
   "source": []
  }
 ],
 "metadata": {
  "kernelspec": {
   "display_name": "Julia 1.9.3",
   "language": "julia",
   "name": "julia-1.9"
  },
  "language_info": {
   "file_extension": ".jl",
   "mimetype": "application/julia",
   "name": "julia",
   "version": "1.9.3"
  }
 },
 "nbformat": 4,
 "nbformat_minor": 2
}

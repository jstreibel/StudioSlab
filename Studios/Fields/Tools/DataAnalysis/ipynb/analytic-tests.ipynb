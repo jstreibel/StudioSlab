{
 "cells": [
  {
   "cell_type": "code",
   "execution_count": 4,
   "metadata": {},
   "outputs": [],
   "source": [
    "from py_interface import oscillon\n",
    "from matplotlib import pyplot\n",
    "from numpy import linspace"
   ]
  },
  {
   "cell_type": "code",
   "execution_count": 5,
   "metadata": {},
   "outputs": [],
   "source": [
    "N, Lmin, Lmax = int(2**10), -1.5, 1.5\n",
    "osc = oscillon.AnalyticOscillon(N, Lmin, Lmax, mirrored=True, anti_sym=False)\n",
    "x = linspace(Lmin, Lmax, N)"
   ]
  },
  {
   "cell_type": "code",
   "execution_count": 6,
   "metadata": {},
   "outputs": [],
   "source": [
    "from ipywidgets.widgets import interact"
   ]
  },
  {
   "cell_type": "code",
   "execution_count": 9,
   "metadata": {},
   "outputs": [
    {
     "data": {
      "application/vnd.jupyter.widget-view+json": {
       "model_id": "df42853138f443b983f63b88ac2738b3",
       "version_major": 2,
       "version_minor": 0
      },
      "text/plain": [
       "interactive(children=(FloatSlider(value=5.0, description='t', max=10.0), FloatSlider(value=0.45, description='…"
      ]
     },
     "metadata": {},
     "output_type": "display_data"
    }
   ],
   "source": [
    "@interact(t=(0,10,0.1), v=(0.0, 0.99, 0.05), V=(0.0, 0.95, 0.05), alpha=(0, 1, 0.01), d=(-2,2,0.1))\n",
    "def plotOscillon(t, v, V, alpha, d):\n",
    "    pyplot.ylim(-.1,.1)\n",
    "    pyplot.plot(x, osc.get(t, v, V, alpha, d, l=1.))"
   ]
  },
  {
   "cell_type": "code",
   "execution_count": null,
   "metadata": {},
   "outputs": [],
   "source": []
  }
 ],
 "metadata": {
  "kernelspec": {
   "display_name": "Python 3",
   "language": "python",
   "name": "python3"
  },
  "language_info": {
   "codemirror_mode": {
    "name": "ipython",
    "version": 3
   },
   "file_extension": ".py",
   "mimetype": "text/x-python",
   "name": "python",
   "nbconvert_exporter": "python",
   "pygments_lexer": "ipython3",
   "version": "3.8.5"
  }
 },
 "nbformat": 4,
 "nbformat_minor": 4
}

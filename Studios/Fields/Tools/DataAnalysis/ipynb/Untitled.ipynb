{
 "cells": [
  {
   "cell_type": "code",
   "metadata": {
    "ExecuteTime": {
     "end_time": "2024-05-15T21:12:44.582953Z",
     "start_time": "2024-05-15T21:12:44.533137Z"
    }
   },
   "source": [
    "from numpy import log\n"
   ],
   "outputs": [],
   "execution_count": 1
  },
  {
   "cell_type": "code",
   "metadata": {
    "ExecuteTime": {
     "end_time": "2024-05-15T21:12:47.103748Z",
     "start_time": "2024-05-15T21:12:47.100132Z"
    }
   },
   "source": [
    "\n",
    "def a(k) -> float:\n",
    "    if k==0:\n",
    "        return 1\n",
    "    \n",
    "    akm1 = a(k-1)\n",
    "    \n",
    "    return akm1*(1 + b(k)/akm1 * log(a(k)/akm1))\n",
    "\n",
    "def b(k) -> float:\n",
    "    if k==0:\n",
    "        return 0\n",
    "\n",
    "    return 2*a(k-1) - b(k-1)\n",
    "\n"
   ],
   "outputs": [],
   "execution_count": 2
  },
  {
   "cell_type": "code",
   "metadata": {
    "ExecuteTime": {
     "end_time": "2024-05-15T21:12:48.745099Z",
     "start_time": "2024-05-15T21:12:48.594722Z"
    }
   },
   "source": [
    "a(1)"
   ],
   "outputs": [
    {
     "ename": "RecursionError",
     "evalue": "maximum recursion depth exceeded",
     "output_type": "error",
     "traceback": [
      "\u001B[0;31m---------------------------------------------------------------------------\u001B[0m",
      "\u001B[0;31mRecursionError\u001B[0m                            Traceback (most recent call last)",
      "Cell \u001B[0;32mIn[3], line 1\u001B[0m\n\u001B[0;32m----> 1\u001B[0m \u001B[43ma\u001B[49m\u001B[43m(\u001B[49m\u001B[38;5;241;43m1\u001B[39;49m\u001B[43m)\u001B[49m\n",
      "Cell \u001B[0;32mIn[2], line 7\u001B[0m, in \u001B[0;36ma\u001B[0;34m(k)\u001B[0m\n\u001B[1;32m      3\u001B[0m     \u001B[38;5;28;01mreturn\u001B[39;00m \u001B[38;5;241m1\u001B[39m\n\u001B[1;32m      5\u001B[0m akm1 \u001B[38;5;241m=\u001B[39m a(k\u001B[38;5;241m-\u001B[39m\u001B[38;5;241m1\u001B[39m)\n\u001B[0;32m----> 7\u001B[0m \u001B[38;5;28;01mreturn\u001B[39;00m akm1\u001B[38;5;241m*\u001B[39m(\u001B[38;5;241m1\u001B[39m \u001B[38;5;241m+\u001B[39m b(k)\u001B[38;5;241m/\u001B[39makm1 \u001B[38;5;241m*\u001B[39m log(\u001B[43ma\u001B[49m\u001B[43m(\u001B[49m\u001B[43mk\u001B[49m\u001B[43m)\u001B[49m\u001B[38;5;241m/\u001B[39makm1))\n",
      "Cell \u001B[0;32mIn[2], line 7\u001B[0m, in \u001B[0;36ma\u001B[0;34m(k)\u001B[0m\n\u001B[1;32m      3\u001B[0m     \u001B[38;5;28;01mreturn\u001B[39;00m \u001B[38;5;241m1\u001B[39m\n\u001B[1;32m      5\u001B[0m akm1 \u001B[38;5;241m=\u001B[39m a(k\u001B[38;5;241m-\u001B[39m\u001B[38;5;241m1\u001B[39m)\n\u001B[0;32m----> 7\u001B[0m \u001B[38;5;28;01mreturn\u001B[39;00m akm1\u001B[38;5;241m*\u001B[39m(\u001B[38;5;241m1\u001B[39m \u001B[38;5;241m+\u001B[39m b(k)\u001B[38;5;241m/\u001B[39makm1 \u001B[38;5;241m*\u001B[39m log(\u001B[43ma\u001B[49m\u001B[43m(\u001B[49m\u001B[43mk\u001B[49m\u001B[43m)\u001B[49m\u001B[38;5;241m/\u001B[39makm1))\n",
      "    \u001B[0;31m[... skipping similar frames: a at line 7 (2970 times)]\u001B[0m\n",
      "Cell \u001B[0;32mIn[2], line 7\u001B[0m, in \u001B[0;36ma\u001B[0;34m(k)\u001B[0m\n\u001B[1;32m      3\u001B[0m     \u001B[38;5;28;01mreturn\u001B[39;00m \u001B[38;5;241m1\u001B[39m\n\u001B[1;32m      5\u001B[0m akm1 \u001B[38;5;241m=\u001B[39m a(k\u001B[38;5;241m-\u001B[39m\u001B[38;5;241m1\u001B[39m)\n\u001B[0;32m----> 7\u001B[0m \u001B[38;5;28;01mreturn\u001B[39;00m akm1\u001B[38;5;241m*\u001B[39m(\u001B[38;5;241m1\u001B[39m \u001B[38;5;241m+\u001B[39m \u001B[43mb\u001B[49m\u001B[43m(\u001B[49m\u001B[43mk\u001B[49m\u001B[43m)\u001B[49m\u001B[38;5;241m/\u001B[39makm1 \u001B[38;5;241m*\u001B[39m log(a(k)\u001B[38;5;241m/\u001B[39makm1))\n",
      "Cell \u001B[0;32mIn[2], line 13\u001B[0m, in \u001B[0;36mb\u001B[0;34m(k)\u001B[0m\n\u001B[1;32m     10\u001B[0m \u001B[38;5;28;01mif\u001B[39;00m k\u001B[38;5;241m==\u001B[39m\u001B[38;5;241m0\u001B[39m:\n\u001B[1;32m     11\u001B[0m     \u001B[38;5;28;01mreturn\u001B[39;00m \u001B[38;5;241m0\u001B[39m\n\u001B[0;32m---> 13\u001B[0m \u001B[38;5;28;01mreturn\u001B[39;00m \u001B[38;5;241m2\u001B[39m\u001B[38;5;241m*\u001B[39m\u001B[43ma\u001B[49m\u001B[43m(\u001B[49m\u001B[43mk\u001B[49m\u001B[38;5;241;43m-\u001B[39;49m\u001B[38;5;241;43m1\u001B[39;49m\u001B[43m)\u001B[49m \u001B[38;5;241m-\u001B[39m b(k\u001B[38;5;241m-\u001B[39m\u001B[38;5;241m1\u001B[39m)\n",
      "\u001B[0;31mRecursionError\u001B[0m: maximum recursion depth exceeded"
     ]
    }
   ],
   "execution_count": 3
  },
  {
   "cell_type": "code",
   "execution_count": null,
   "metadata": {},
   "outputs": [],
   "source": []
  }
 ],
 "metadata": {
  "kernelspec": {
   "display_name": "Python 3",
   "language": "python",
   "name": "python3"
  },
  "language_info": {
   "codemirror_mode": {
    "name": "ipython",
    "version": 3
   },
   "file_extension": ".py",
   "mimetype": "text/x-python",
   "name": "python",
   "nbconvert_exporter": "python",
   "pygments_lexer": "ipython3",
   "version": "3.8.5"
  }
 },
 "nbformat": 4,
 "nbformat_minor": 4
}

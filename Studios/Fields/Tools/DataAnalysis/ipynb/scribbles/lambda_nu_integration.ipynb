{
 "cells": [
  {
   "cell_type": "code",
   "execution_count": 37,
   "metadata": {},
   "outputs": [],
   "source": [
    "from sympy import *\n",
    "import numpy as np\n",
    "from matplotlib import pyplot"
   ]
  },
  {
   "cell_type": "code",
   "execution_count": 23,
   "metadata": {},
   "outputs": [],
   "source": [
    "N = Symbol('N', positive=True, odd=True)\n",
    "n = Symbol('n', positive=True, odd=True)\n",
    "phi = Symbol('phi', real=True)\n",
    "nu = Symbol('nu', real=True)\n",
    "A = Symbol('A', real=True)"
   ]
  },
  {
   "cell_type": "code",
   "execution_count": 14,
   "metadata": {},
   "outputs": [
    {
     "data": {
      "text/latex": [
       "$\\displaystyle \\frac{\\left(\\frac{1 - \\nu^{2}}{A^{2} \\nu^{2}}\\right)^{\\nu} \\left(\\nu + 1\\right)}{1 - \\nu}$"
      ],
      "text/plain": [
       "((1 - nu**2)/(A**2*nu**2))**nu*(nu + 1)/(1 - nu)"
      ]
     },
     "execution_count": 14,
     "metadata": {},
     "output_type": "execute_result"
    }
   ],
   "source": [
    "lambda_nu = (1+nu)/(1-nu) *((1-nu**2)/A**2/nu**2)**nu\n",
    "lambda_nu"
   ]
  },
  {
   "cell_type": "code",
   "execution_count": 47,
   "metadata": {},
   "outputs": [],
   "source": [
    "def make_potential(A_num, N_num, s_num=1):\n",
    "    lambda_pre = lambda_nu.subs(nu,n/N_num).subs(A,A_num).simplify()\n",
    "    lambda_n = lambdify(n, lambda_pre, 'numpy')\n",
    "\n",
    "    exponent = N_num/2\n",
    "    V_num = Integer(0)\n",
    "    for n_num in range(1, N_num, 2):\n",
    "        lambda_num = lambda_n(n_num)\n",
    "        sig = (-1)**((n_num-1)/2)\n",
    "        V_num = V_num + sig * lambda_num**exponent / (n_num+1)**s_num * phi**(n_num+1)\n",
    "\n",
    "    display(V_num)\n",
    "\n",
    "    return V_num"
   ]
  },
  {
   "cell_type": "code",
   "execution_count": 48,
   "metadata": {},
   "outputs": [
    {
     "data": {
      "text/latex": [
       "$\\displaystyle - 0.0464038481863613 \\phi^{40} + 1.28366097812316 \\phi^{38} - 19.4892938353572 \\phi^{36} + 194.159248961554 \\phi^{34} - 1377.24924385922 \\phi^{32} + 7277.4206032217 \\phi^{30} - 29426.8246404693 \\phi^{28} + 92532.8359178887 \\phi^{26} - 228261.614798333 \\phi^{24} + 443118.30380535 \\phi^{22} - 675828.801313769 \\phi^{20} + 804753.848688348 \\phi^{18} - 739844.497562444 \\phi^{16} + 516293.524318682 \\phi^{14} - 266893.506747863 \\phi^{12} + 98718.3548859598 \\phi^{10} - 24846.3663745264 \\phi^{8} + 3943.36964523496 \\phi^{6} - 347.7689579553 \\phi^{4} + 12.9969750501604 \\phi^{2}$"
      ],
      "text/plain": [
       "-0.0464038481863613*phi**40 + 1.28366097812316*phi**38 - 19.4892938353572*phi**36 + 194.159248961554*phi**34 - 1377.24924385922*phi**32 + 7277.4206032217*phi**30 - 29426.8246404693*phi**28 + 92532.8359178887*phi**26 - 228261.614798333*phi**24 + 443118.30380535*phi**22 - 675828.801313769*phi**20 + 804753.848688348*phi**18 - 739844.497562444*phi**16 + 516293.524318682*phi**14 - 266893.506747863*phi**12 + 98718.3548859598*phi**10 - 24846.3663745264*phi**8 + 3943.36964523496*phi**6 - 347.7689579553*phi**4 + 12.9969750501604*phi**2"
      ]
     },
     "metadata": {},
     "output_type": "display_data"
    },
    {
     "data": {
      "text/plain": [
       "(-0.2, 2.2)"
      ]
     },
     "execution_count": 48,
     "metadata": {},
     "output_type": "execute_result"
    },
    {
     "data": {
      "image/png": "[encoded data removed]",
      "text/plain": [
       "<Figure size 640x480 with 1 Axes>"
      ]
     },
     "metadata": {},
     "output_type": "display_data"
    }
   ],
   "source": [
    "A_num = 2\n",
    "N_num = 41\n",
    "s_num = 2.1\n",
    "\n",
    "phi_num = np.linspace(-A_num, A_num, 200)\n",
    "V_num = lambdify(phi, make_potential(A_num, N_num, s_num), 'numpy')\n",
    "\n",
    "pyplot.plot(phi_num, V_num(phi_num))\n",
    "pyplot.ylim(-0.1*A_num, 1.1*A_num)\n"
   ]
  }
 ],
 "metadata": {
  "kernelspec": {
   "display_name": "Python 3 (ipykernel)",
   "language": "python",
   "name": "python3"
  },
  "language_info": {
   "codemirror_mode": {
    "name": "ipython",
    "version": 3
   },
   "file_extension": ".py",
   "mimetype": "text/x-python",
   "name": "python",
   "nbconvert_exporter": "python",
   "pygments_lexer": "ipython3",
   "version": "3.12.3"
  }
 },
 "nbformat": 4,
 "nbformat_minor": 2
}

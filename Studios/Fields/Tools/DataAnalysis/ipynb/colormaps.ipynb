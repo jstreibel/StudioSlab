{
 "cells": [
  {
   "cell_type": "code",
   "execution_count": 81,
   "metadata": {},
   "outputs": [
    {
     "name": "stdout",
     "output_type": "stream",
     "text": [
      "cmocean:turbid sequential\n"
     ]
    },
    {
     "data": {
      "image/png": "[encoded data removed]",
      "text/html": [
       "<div style=\"vertical-align: middle;\"><strong>cmocean:turbid</strong> </div><div class=\"cmap\"><img alt=\"cmocean:turbid colormap\" title=\"cmocean:turbid\" style=\"border: 1px solid #555;\" src=\"data:image/png;base64,iVBORw0KGgoAAAANSUhEUgAAAgAAAAAwCAYAAABnncJ+AAABmElEQVR4nO3WPVLDMBRG0WdtgxkK9r9HUiSGiRyN5Djdd05DZOuPUHC3n++v36qqbauqqtrq/uFv/PjwGP6Ph/NP7nN13+k5q+dPnq+es3zvT93j/rO9vV/3/vB8dv8Pzevmt+H60e83uvfF9Sef19VzTr6v5fWv/y7D9cvnPe9bi/ev/j6H728fDvbvzn//+bvz+nttp9bN55983/r5s/u9Hg/ntfaZfbY2ue8+np032qct7Xv83p7PO5xz+tzBPQ7f42zdY9wW79WdM9t3/78BAAQRAAAQSAAAQCABAACBBAAABBIAABBIAABAIAEAAIEEAAAEEgAAEEgAAEAgAQAAgQQAAAQSAAAQSAAAQCABAACBBAAABBIAABBIAABAIAEAAIEEAAAEEgAAEEgAAEAgAQAAgQQAAAQSAAAQSAAAQCABAACBBAAABBIAABBIAABAIAEAAIEEAAAEEgAAEEgAAEAgAQAAgQQAAAQSAAAQSAAAQCABAACBBAAABBIAABBIAABAIAEAAIEEAAAEEgAAEEgAAECgG34uA+fKQmu/AAAAAElFTkSuQmCC\"></div>"
      ],
      "text/plain": [
       "Colormap(name='cmocean:turbid', <256 colors>)"
      ]
     },
     "execution_count": 81,
     "metadata": {},
     "output_type": "execute_result"
    }
   ],
   "source": [
    "from cmap import Colormap\n",
    "\n",
    "# more at https://cmap-docs.readthedocs.io/en/latest/catalog/\n",
    "\n",
    "# case insensitive\n",
    "mapped = ('crameri:vikO', 'crameri:corkO', 'crameri:berlin', 'crameri:vik',\n",
    "          'colorbrewer:Blues', 'colorbrewer:BrBG', 'colorbrewer:Spectral',\n",
    "          'matplotlib:coolwarm',\n",
    "          'seaborn:icefire',\n",
    "          'colorcet:CET_C3',\n",
    "          'tol:nightfall', 'tol:sunset',\n",
    "          'vispy:diverging', 'vispy:RdBu', 'vispy:RdYeBuCy', \n",
    "          'cmocean:curl', 'cmocean:thermal', 'cmocean:tarn', 'cmocean:turbid', 'cmocean:topo', 'cmocean:delta', \n",
    "          'cmocean:balance', 'cmocean:diff')\n",
    "\n",
    "map_name = mapped[-2]\n",
    "cm = Colormap(map_name)\n",
    "print(map_name, cm.category)\n",
    "cm"
   ]
  },
  {
   "cell_type": "code",
   "execution_count": 84,
   "metadata": {},
   "outputs": [],
   "source": [
    "import numpy as np\n",
    "\n",
    "categories = {'cyclic': 'ColorMap::Cyclic', \n",
    "              'sequential': 'ColorMap::Sequential', \n",
    "              'diverging': 'ColorMap::Divergent',\n",
    "              'miscellaneous': 'ColorMap::Miscellaneous'}\n",
    "path = \"/home/joao/Developer/StudioSlab/Lib/Graphics/Styles/colormaps/\"\n",
    "\n",
    "def generate_for(map_name):\n",
    "    cm = Colormap(map_name)\n",
    "    print(map_name + \" -> category: \", cm.category)\n",
    "    cm\n",
    "\n",
    "    # Get RGB values for 256 colors\n",
    "    colors = cm(np.linspace(0, 1, 256))\n",
    "\n",
    "    cmap_filename = map_name.replace(':', '_') + '.inl'\n",
    "    full_path_and_filename = path + cmap_filename\n",
    "    file = open(full_path_and_filename, \"w\")\n",
    "\n",
    "    write = file.write\n",
    "    #write = print\n",
    "\n",
    "    write(\"auto {} = New<ColorMap>(\\n\\t\\\"{}\\\",\\n\\t{},\\n\\tColorSequence{{\".format(map_name.replace(':', '_'), map_name, categories[cm.category]))\n",
    "\n",
    "\n",
    "    # Print RGB values\n",
    "    for i, color in enumerate(colors):\n",
    "        color = str(color).replace('[', '\\t\\tColor(').replace(']','),\\n').replace(' 0', ', 0').replace(' 1.', ', 1.')\n",
    "        write(f\"{color}\")\n",
    "\n",
    "    write(\"\\n\\t}\\n);\")\n",
    "\n",
    "    file.close()\n",
    "\n",
    "    print(\"Seems like everything went fine for\", full_path_and_filename)"
   ]
  },
  {
   "cell_type": "code",
   "execution_count": 85,
   "metadata": {},
   "outputs": [
    {
     "name": "stdout",
     "output_type": "stream",
     "text": [
      "Generating for 'crameri:vikO'\n",
      "crameri:vikO -> category:  cyclic\n",
      "Seems like everything went fine for /home/joao/Developer/StudioSlab/Lib/Graphics/Styles/colormaps/crameri_vikO.inl\n",
      "\n",
      "Generating for 'crameri:corkO'\n",
      "crameri:corkO -> category:  cyclic\n",
      "Seems like everything went fine for /home/joao/Developer/StudioSlab/Lib/Graphics/Styles/colormaps/crameri_corkO.inl\n",
      "\n",
      "Generating for 'colorbrewer:Blues'\n",
      "colorbrewer:Blues -> category:  sequential\n",
      "Seems like everything went fine for /home/joao/Developer/StudioSlab/Lib/Graphics/Styles/colormaps/colorbrewer_Blues.inl\n",
      "\n",
      "Generating for 'colorcet:CET_C3'\n",
      "colorcet:CET_C3 -> category:  cyclic\n",
      "Seems like everything went fine for /home/joao/Developer/StudioSlab/Lib/Graphics/Styles/colormaps/colorcet_CET_C3.inl\n",
      "\n",
      "Generating for 'cmocean:curl'\n",
      "cmocean:curl -> category:  diverging\n",
      "Seems like everything went fine for /home/joao/Developer/StudioSlab/Lib/Graphics/Styles/colormaps/cmocean_curl.inl\n",
      "\n",
      "Generating for 'cmocean:thermal'\n",
      "cmocean:thermal -> category:  sequential\n",
      "Seems like everything went fine for /home/joao/Developer/StudioSlab/Lib/Graphics/Styles/colormaps/cmocean_thermal.inl\n",
      "\n",
      "Generating for 'cmocean:tarn'\n",
      "cmocean:tarn -> category:  diverging\n",
      "Seems like everything went fine for /home/joao/Developer/StudioSlab/Lib/Graphics/Styles/colormaps/cmocean_tarn.inl\n",
      "\n",
      "Generating for 'cmocean:turbid'\n",
      "cmocean:turbid -> category:  sequential\n",
      "Seems like everything went fine for /home/joao/Developer/StudioSlab/Lib/Graphics/Styles/colormaps/cmocean_turbid.inl\n",
      "\n",
      "Generating for 'cmocean:topo'\n",
      "cmocean:topo -> category:  miscellaneous\n",
      "Seems like everything went fine for /home/joao/Developer/StudioSlab/Lib/Graphics/Styles/colormaps/cmocean_topo.inl\n",
      "\n"
     ]
    }
   ],
   "source": [
    "for map_name in mapped:\n",
    "    print(\"Generating for '\" + map_name + \"'\")\n",
    "    generate_for(map_name)\n",
    "    print()"
   ]
  },
  {
   "cell_type": "code",
   "execution_count": 87,
   "metadata": {},
   "outputs": [],
   "source": [
    "file = open(path + \"all_colormaps.inl\", 'w')\n",
    "write = file.write\n",
    "#write = print\n",
    "\n",
    "write(\"// Generated automatically from https://github.com/tlambert03/cmap maps. Names are kept original, copyright can be verified at site.\\n\")\n",
    "\n",
    "for map_name in mapped:\n",
    "    cmap_filename = map_name.replace(':', '_') + '.inl'\n",
    "    full_path_and_filename = path + cmap_filename\n",
    "    write('\\n#include \"{}.inl\"'.format(map_name.replace(':', '_')))\n",
    "\n",
    "write('\\n\\nstd::map<Str, Pointer<const ColorMap>> ColorMaps_auto = {')\n",
    "\n",
    "for map_name in mapped:\n",
    "    write('\\n\\tMap({}),'.format(map_name.replace(':', '_')))\n",
    "\n",
    "write(\"};\")\n",
    "\n",
    "file.close()\n"
   ]
  },
  {
   "cell_type": "code",
   "execution_count": null,
   "metadata": {},
   "outputs": [],
   "source": []
  }
 ],
 "metadata": {
  "kernelspec": {
   "display_name": "Python 3 (ipykernel)",
   "language": "python",
   "name": "python3"
  },
  "language_info": {
   "codemirror_mode": {
    "name": "ipython",
    "version": 3
   },
   "file_extension": ".py",
   "mimetype": "text/x-python",
   "name": "python",
   "nbconvert_exporter": "python",
   "pygments_lexer": "ipython3",
   "version": "3.12.3"
  }
 },
 "nbformat": 4,
 "nbformat_minor": 2
}

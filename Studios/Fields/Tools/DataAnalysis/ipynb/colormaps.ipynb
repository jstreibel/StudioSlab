{
 "cells": [
  {
   "cell_type": "code",
   "execution_count": 150,
   "metadata": {},
   "outputs": [],
   "source": [
    "from cmap import Colormap\n",
    "\n",
    "# more at https://cmap-docs.readthedocs.io/en/latest/catalog/\n",
    "\n",
    "# case insensitive\n",
    "mapped = ('crameri:vikO', 'crameri:corkO', 'crameri:berlin', 'crameri:vik',\n",
    "          'colorbrewer:Blues', 'colorbrewer:BrBG', 'colorbrewer:Spectral',\n",
    "          'matplotlib:coolwarm',\n",
    "          'seaborn:icefire',\n",
    "          'colorcet:CET_C3',\n",
    "          'tol:nightfall', 'tol:sunset',\n",
    "          'vispy:diverging', 'vispy:RdBu', 'vispy:RdYeBuCy', \n",
    "          'cmocean:curl', 'cmocean:thermal', 'cmocean:tarn', 'cmocean:turbid', 'cmocean:topo', 'cmocean:delta', \n",
    "          'cmocean:balance', 'cmocean:diff')\n",
    "\n",
    "categories = {'cyclic': 'ColorMap::Cyclic', \n",
    "              'sequential': 'ColorMap::Sequential', \n",
    "              'diverging': 'ColorMap::Divergent',\n",
    "              'miscellaneous': 'ColorMap::Miscellaneous'}\n",
    "\n",
    "path = \"/home/joao/Developer/StudioSlab/Lib/Graphics/Styles/colormaps/\""
   ]
  },
  {
   "cell_type": "code",
   "execution_count": 151,
   "metadata": {},
   "outputs": [],
   "source": [
    "import numpy as np\n",
    "\n",
    "def generate_for(map_name, print_only = False):\n",
    "    cm = Colormap(map_name)\n",
    "    display(cm)\n",
    "\n",
    "    # Get RGB values for 256 colors\n",
    "    colors = cm(np.linspace(0, 1, 256))\n",
    "\n",
    "    write = print\n",
    "    file = None\n",
    "\n",
    "    if not print_only:\n",
    "        cmap_filename = map_name.replace(':', '_') + '.inl'\n",
    "        full_path_and_filename = path + cmap_filename\n",
    "    \n",
    "        file = open(full_path_and_filename, \"w\")\n",
    "        write = file.write\n",
    "    \n",
    "\n",
    "    write(\"auto {} = New<ColorMap>(\\n\\t\\\"{}\\\",\\n\\t{},\\n\\tColorSequence{{\".format(map_name.replace(':', '_'), map_name, categories[cm.category]))\n",
    "\n",
    "\n",
    "    # Print RGB values\n",
    "    for i, color in enumerate(colors):\n",
    "        formatted_string = ', '.join([f\"{x:>1.8f}\" for x in color])\n",
    "        formatted_string = f\"Color({formatted_string})\"\n",
    "        # color = str(color).replace('[', '\\t\\tColor(').replace(']','),\\n').replace(' 0', ', 0').replace(' 1.', ', 1.')\n",
    "        write(f\"\\n\\t\\t{formatted_string},\")\n",
    "\n",
    "    write(\"\\n\\t}\\n);\")\n",
    "\n",
    "    if file is not None: \n",
    "        file.close()\n",
    "    \n",
    "        print(\"Seems like everything went fine enough for\", full_path_and_filename)\n",
    "        "
   ]
  },
  {
   "cell_type": "code",
   "execution_count": 152,
   "metadata": {},
   "outputs": [],
   "source": [
    "def wrap_it_up():\n",
    "    file = open(path + \"all_colormaps.inl\", 'w')\n",
    "    write = file.write\n",
    "    #write = print\n",
    "\n",
    "    write(\"// Generated automatically from https://github.com/tlambert03/cmap maps. Names are kept original, copyright can be verified at site.\\n\")\n",
    "\n",
    "    for map_name in mapped:\n",
    "        cmap_filename = map_name.replace(':', '_') + '.inl'\n",
    "        full_path_and_filename = path + cmap_filename\n",
    "        write('\\n#include \"{}.inl\"'.format(map_name.replace(':', '_')))\n",
    "\n",
    "    write('\\n\\nstd::map<Str, Pointer<const ColorMap>> ColorMaps_auto = {')\n",
    "\n",
    "    for map_name in mapped:\n",
    "        write('\\n\\tMap({}),'.format(map_name.replace(':', '_')))\n",
    "\n",
    "    write(\"};\")\n",
    "\n",
    "    file.close()"
   ]
  },
  {
   "cell_type": "code",
   "execution_count": 153,
   "metadata": {},
   "outputs": [
    {
     "data": {
      "image/png": "[encoded data removed]",
      "text/html": [
       "<div style=\"vertical-align: middle;\"><strong>crameri:viko</strong> </div><div class=\"cmap\"><img alt=\"crameri:viko colormap\" title=\"crameri:viko\" style=\"border: 1px solid #555;\" src=\"data:image/png;base64,iVBORw0KGgoAAAANSUhEUgAAAgAAAAAwCAYAAABnncJ+AAACAElEQVR4nO3WQXajMBAE0BY5xdxlzjD3v4xRFgb8kJHxrOv/Da+rJeIkC1f79+dvr6qqtlRVVa/2fLbns7Znr+WUH/tJ3rf31TDf77+715fJuZv8eP8yfI5h35f99x/eO82v92/5ZG7D52rL9dze5ut8mc5te+3nc8vbfJ3/3Jz/mZ7/dj/kbZKP59tkv/3Z38/V8P467fd/13h/zI+59rlf7pca8m0+nkPexv2Rr+e57/v1NLfpPOTbXH39aj7y9Tqv9THM530/5sdp38f7k7zf5euQDz/39by+97/5+u3+sc+Pyf3zvD4m+fG+fpm/7o/7ybyd62/n7p51nfdz3sdzx/757MO87498n+/2vX3O6zwf+zrfe83X9479XV779+W4nz3r8/l2nustP3+fV7u+vxQAEEcBAIBACgAABFIAACCQAgAAgRQAAAikAABAIAUAAAIpAAAQSAEAgEAKAAAEUgAAIJACAACBFAAACKQAAEAgBQAAAikAABBIAQCAQAoAAARSAAAgkAIAAIEUAAAIpAAAQCAFAAACKQAAEEgBAIBACgAABFIAACCQAgAAgRQAAAikAABAIAUAAAIpAAAQSAEAgEAKAAAEUgAAIJACAACBFAAACKQAAEAgBQAAAikAABBIAQCAQAoAAARSAAAgkAIAAIEUAAAIpAAAQKBf3UZHEYBk6CgAAAAASUVORK5CYII=\"></div>"
      ],
      "text/plain": [
       "Colormap(name='crameri:viko', <256 colors>)"
      ]
     },
     "metadata": {},
     "output_type": "display_data"
    },
    {
     "name": "stdout",
     "output_type": "stream",
     "text": [
      "Seems like everything went fine enough for /home/joao/Developer/StudioSlab/Lib/Graphics/Styles/colormaps/crameri_vikO.inl\n"
     ]
    },
    {
     "data": {
      "image/png": "[encoded data removed]",
      "text/html": [
       "<div style=\"vertical-align: middle;\"><strong>crameri:corko</strong> </div><div class=\"cmap\"><img alt=\"crameri:corko colormap\" title=\"crameri:corko\" style=\"border: 1px solid #555;\" src=\"data:image/png;base64,iVBORw0KGgoAAAANSUhEUgAAAgAAAAAwCAYAAABnncJ+AAACAElEQVR4nO3WS3ajMBAFUIll9SD731RQBgG5KcB0e/runShVJYlz/Ilf//r6M1prrY3efu1rO9an+XEdN/3zuhzrfjPvH9Z92W5bDnWdz3297tv6S93X38+Xcl+p5/zjft+uvZ4v23zWc94P9y5z3h/Ol+fN5/fre/p1fynn6vNe993tv+7f7n/YN9+eu3Pb2/zqX9ev57TSP95/+tj1uv5+/Xanfv2atL0//h7Pes7LvlH7be+vpT72x7jeP8Z62L+Wes63dS33zf7tvn1+vX+eW2/uqev6fl7vOe//PvQfzz3dN/d9X993c8/dfL6ut/NSr+Pt+Tkf7/e32R/lnm3+r/X+MVtLvf+xL+uxnv1x3W/Hx3w8n+v+e/cwf+qP+Xu67/u/+v58eX79/Z0v0/b/qwEAcQQAAAgkAABAIAEAAAIJAAAQSAAAgEACAAAEEgAAIJAAAACBBAAACCQAAEAgAQAAAgkAABBIAACAQAIAAAQSAAAgkAAAAIEEAAAIJAAAQCABAAACCQAAEEgAAIBAAgAABBIAACCQAAAAgQQAAAgkAABAIAEAAAIJAAAQSAAAgEACAAAEEgAAIJAAAACBBAAACCQAAEAgAQAAAgkAABBIAACAQAIAAAQSAAAgkAAAAIEEAAAIJAAAQCABAAACCQAAEEgAAIBAAgAABPoBB0UlI0LY4UkAAAAASUVORK5CYII=\"></div>"
      ],
      "text/plain": [
       "Colormap(name='crameri:corko', <256 colors>)"
      ]
     },
     "metadata": {},
     "output_type": "display_data"
    },
    {
     "name": "stdout",
     "output_type": "stream",
     "text": [
      "Seems like everything went fine enough for /home/joao/Developer/StudioSlab/Lib/Graphics/Styles/colormaps/crameri_corkO.inl\n"
     ]
    },
    {
     "data": {
      "image/png": "[encoded data removed]",
      "text/html": [
       "<div style=\"vertical-align: middle;\"><strong>crameri:berlin</strong> </div><div class=\"cmap\"><img alt=\"crameri:berlin colormap\" title=\"crameri:berlin\" style=\"border: 1px solid #555;\" src=\"data:image/png;base64,iVBORw0KGgoAAAANSUhEUgAAAgAAAAAwCAYAAABnncJ+AAAB5klEQVR4nO3WQRKjIBAFUIz3v8JcYU4YmUXElCjBmu1/b0N107TJ7i9//m61lFK2Uksppbz3s9VbHfTbfB30j/fbs7393HG//a73d9/fs5331cH8aG57n++3bv5y/6nrMdfVk/u6zer9HLwrD/eU+nuuDL536ffzg72X31X7fqvf3Z5uro72nr9fhv93UF/e3//v0Z7vfL2dv9T9udXBfd//1Mvl/r7f6qXV5WG/1MlZJv39XM7916Dfn6/lvn/dM+hP9vT9ft+3Xib3rV5u71/tffvese/c/84Nztdrct/qz9za1cd9t2dt9dHv6v7dfq6XuXauk32zc/35bhl95/I/JvfD9+f+Ov1fz/Y87Q+/N+zf1+v6n3sKABBHAACAQAIAAAQSAAAgkAAAAIEEAAAIJAAAQCABAAACCQAAEEgAAIBAAgAABBIAACCQAAAAgQQAAAgkAABAIAEAAAIJAAAQSAAAgEACAAAEEgAAIJAAAACBBAAACCQAAEAgAQAAAgkAABBIAACAQAIAAAQSAAAgkAAAAIEEAAAIJAAAQCABAAACCQAAEEgAAIBAAgAABBIAACCQAAAAgQQAAAgkAABAIAEAAAIJAAAQSAAAgEACAAAEEgAAIJAAAACBBAAACCQAAECgfxA7Tsb45O+OAAAAAElFTkSuQmCC\"></div>"
      ],
      "text/plain": [
       "Colormap(name='crameri:berlin', <256 colors>)"
      ]
     },
     "metadata": {},
     "output_type": "display_data"
    },
    {
     "name": "stdout",
     "output_type": "stream",
     "text": [
      "Seems like everything went fine enough for /home/joao/Developer/StudioSlab/Lib/Graphics/Styles/colormaps/crameri_berlin.inl\n"
     ]
    },
    {
     "data": {
      "image/png": "[encoded data removed]",
      "text/html": [
       "<div style=\"vertical-align: middle;\"><strong>crameri:vik</strong> </div><div class=\"cmap\"><img alt=\"crameri:vik colormap\" title=\"crameri:vik\" style=\"border: 1px solid #555;\" src=\"data:image/png;base64,iVBORw0KGgoAAAANSUhEUgAAAgAAAAAwCAYAAABnncJ+AAAB6ElEQVR4nO3WQXIaMRAFUAm4gG+Y+98BKQszQ6SZgcFJVv+9jUrdLVlQtuvX8vWrl1JKudTy51rruF/XuV7/zbn/vv/wXH1zbu3Xy+58ne6pB/XL2r88jo/17XrZrV/nel3q47nrNL/2r/v1o/mzc7cfn5vqB++71b+892D+9vbzj+utvu5v1jq/Z6w/92WsT7+Wz/7jz7g8+qXvrrW0731/7Hsb1rLu79/7NtZLuw9rn+q9jef6yfpz3b+vH547Oz/uN+/oJ+cO9mVz/mBu+t62/fldbf/8MteP3nu2v//u8qZ//P2+7rep3u5tt7/U23TfUr9v5vq4TvX7+rGWuYN9L1P/w3rfr/deT869vq+3+tG5Pv+cqb78vwAAgggAABBIAACAQAIAAAQSAAAgkAAAAIEEAAAIJAAAQCABAAACCQAAEEgAAIBAAgAABBIAACCQAAAAgQQAAAgkAABAIAEAAAIJAAAQSAAAgEACAAAEEgAAIJAAAACBBAAACCQAAEAgAQAAAgkAABBIAACAQAIAAAQSAAAgkAAAAIEEAAAIJAAAQCABAAACCQAAEEgAAIBAAgAABBIAACCQAAAAgQQAAAgkAABAIAEAAAIJAAAQSAAAgEACAAAEEgAAIJAAAACBBAAACPQb3CJRznj0s/UAAAAASUVORK5CYII=\"></div>"
      ],
      "text/plain": [
       "Colormap(name='crameri:vik', <256 colors>)"
      ]
     },
     "metadata": {},
     "output_type": "display_data"
    },
    {
     "name": "stdout",
     "output_type": "stream",
     "text": [
      "Seems like everything went fine enough for /home/joao/Developer/StudioSlab/Lib/Graphics/Styles/colormaps/crameri_vik.inl\n"
     ]
    },
    {
     "data": {
      "image/png": "[encoded data removed]",
      "text/html": [
       "<div style=\"vertical-align: middle;\"><strong>colorbrewer:blues</strong> </div><div class=\"cmap\"><img alt=\"colorbrewer:blues colormap\" title=\"colorbrewer:blues\" style=\"border: 1px solid #555;\" src=\"data:image/png;base64,iVBORw0KGgoAAAANSUhEUgAAAgAAAAAwCAYAAABnncJ+AAABkElEQVR4nO3WQW6DMBRFUbf7328HlUwGIVQxfJmItIO+cybIGAxOqXQ/vr6XpbXWlvuhrYe2HrbzbRsfz29XXZwfHlfO/6x3bf7s/v77/Pj79DZ+D8tr88X5x/j8/PF79t17j/PV/tb1x/F2/fH++nYs9jmsM11/cn58j+l15f3F+42/T3H/7u8xzu/2MflOZs+r1iv2cXa93Xcz2c98PNlXf9dzXnvu9XWf//Gq+bPXvWud33peW/rjhudxH8bVdW8f/9Vz7uPPBgDEEQAAEEgAAEAgAQAAgQQAAAQSAAAQSAAAQCABAACBBAAABBIAABBIAABAIAEAAIEEAAAEEgAAEEgAAEAgAQAAgQQAAAQSAAAQSAAAQCABAACBBAAABBIAABBIAABAIAEAAIEEAAAEEgAAEEgAAEAgAQAAgQQAAAQSAAAQSAAAQCABAACBBAAABBIAABBIAABAIAEAAIEEAAAEEgAAEEgAAEAgAQAAgQQAAAQSAAAQSAAAQCABAACBBAAABBIAABBIAABAoBvDghggwzgOGwAAAABJRU5ErkJggg==\"></div>"
      ],
      "text/plain": [
       "Colormap(name='colorbrewer:blues', <9 colors>)"
      ]
     },
     "metadata": {},
     "output_type": "display_data"
    },
    {
     "name": "stdout",
     "output_type": "stream",
     "text": [
      "Seems like everything went fine enough for /home/joao/Developer/StudioSlab/Lib/Graphics/Styles/colormaps/colorbrewer_Blues.inl\n"
     ]
    },
    {
     "data": {
      "image/png": "[encoded data removed]",
      "text/html": [
       "<div style=\"vertical-align: middle;\"><strong>colorbrewer:brbg</strong> </div><div class=\"cmap\"><img alt=\"colorbrewer:brbg colormap\" title=\"colorbrewer:brbg\" style=\"border: 1px solid #555;\" src=\"data:image/png;base64,iVBORw0KGgoAAAANSUhEUgAAAgAAAAAwCAYAAABnncJ+AAAByElEQVR4nO3WUU7jMBQFUDuB/cxi2P9OEvNRBylurEJnAI3uOT/m2e/FbVWqW9/+vLZSSllqKZfrcq7XWi/3x3Xtf3z6eZPzp5/XD5Zjbvnifv3l+V7XZb2t63qql6G+P3+5Pu/rMpmrfW5+Ppkf7rt7feNah/dXb2t5cP5ofjwvfzk/O2+lf+GOe8ryX9atV/uxttbrdtpv434rl3Urj/ra+d52vudx3/Vzj75tvz1p6/1bO9d7G8/b5dy0r+/vk7lp3/i8u/uGvn3o++K6H/X23Pz2j+b34X3s37Uen+MP3VN6/bG2of74h3iy766/TfbH/k++vt53/BoAAEEEAAAIJAAAQCABAAACCQAAEEgAAIBAAgAABBIAACCQAAAAgQQAAAgkAABAIAEAAAIJAAAQSAAAgEACAAAEEgAAIJAAAACBBAAACCQAAEAgAQAAAgkAABBIAACAQAIAAAQSAAAgkAAAAIEEAAAIJAAAQCABAAACCQAAEEgAAIBAAgAABBIAACCQAAAAgQQAAAgkAABAIAEAAAIJAAAQSAAAgEACAAAEEgAAIJAAAACBBAAACCQAAEAgAQAAAgkAABBIAACAQAIAAAR6B0Z4Ttq4J+xVAAAAAElFTkSuQmCC\"></div>"
      ],
      "text/plain": [
       "Colormap(name='colorbrewer:brbg', <11 colors>)"
      ]
     },
     "metadata": {},
     "output_type": "display_data"
    },
    {
     "name": "stdout",
     "output_type": "stream",
     "text": [
      "Seems like everything went fine enough for /home/joao/Developer/StudioSlab/Lib/Graphics/Styles/colormaps/colorbrewer_BrBG.inl\n"
     ]
    },
    {
     "data": {
      "image/png": "[encoded data removed]",
      "text/html": [
       "<div style=\"vertical-align: middle;\"><strong>colorbrewer:spectral</strong> </div><div class=\"cmap\"><img alt=\"colorbrewer:spectral colormap\" title=\"colorbrewer:spectral\" style=\"border: 1px solid #555;\" src=\"data:image/png;base64,iVBORw0KGgoAAAANSUhEUgAAAgAAAAAwCAYAAABnncJ+AAAByUlEQVR4nO3WS3KDMBAFQAluloPmppgsEFQhm5JjktXr3kyNfiDsxavf9WstpZRpKmWrdatz1+/z89bPXT/aPw/Ou+rnq/e5Oq/VevTrqa99X9eX+57WTd26Opi/eM6777WfU9r9Svsutev3+Xr8IIP1x/h0Hj/Oueqnbv8vz526c6bufYfjd/f/zXh9/qO8rn+17r+fV7b7reXR6vY/XNdBv69f+/7ddV1/87mlzS9bKY+j1m68nuaXrr+9vvTz957T32fp6nD88eG+T5/3NN7usbT+Uc91qa/HR/Of7mvf49Nz13aPqV24r3W5GO/Xtx/men60/2L83fm9FgAgjgAAAIEEAAAIJAAAQCABAAACCQAAEEgAAIBAAgAABBIAACCQAAAAgQQAAAgkAABAIAEAAAIJAAAQSAAAgEACAAAEEgAAIJAAAACBBAAACCQAAEAgAQAAAgkAABBIAACAQAIAAAQSAAAgkAAAAIEEAAAIJAAAQCABAAACCQAAEEgAAIBAAgAABBIAACCQAAAAgQQAAAgkAABAIAEAAAIJAAAQSAAAgEACAAAEEgAAIJAAAACBBAAACCQAAEAgAQAAAgkAABBIAACAQD/DlRK9wAZ+8wAAAABJRU5ErkJggg==\"></div>"
      ],
      "text/plain": [
       "Colormap(name='colorbrewer:spectral', <11 colors>)"
      ]
     },
     "metadata": {},
     "output_type": "display_data"
    },
    {
     "name": "stdout",
     "output_type": "stream",
     "text": [
      "Seems like everything went fine enough for /home/joao/Developer/StudioSlab/Lib/Graphics/Styles/colormaps/colorbrewer_Spectral.inl\n"
     ]
    },
    {
     "data": {
      "image/png": "[encoded data removed]",
      "text/html": [
       "<div style=\"vertical-align: middle;\"><strong>matplotlib:coolwarm</strong> </div><div class=\"cmap\"><img alt=\"matplotlib:coolwarm colormap\" title=\"matplotlib:coolwarm\" style=\"border: 1px solid #555;\" src=\"data:image/png;base64,iVBORw0KGgoAAAANSUhEUgAAAgAAAAAwCAYAAABnncJ+AAAB3UlEQVR4nO3WMZLbMAwFUEjHyhly6NxrYzGNVjuGRUsuUv33Gg8BEFTl+cuv339GVdWyLFVVtaxrVVWt6/O595fWX2f923uXvX9eP/oX76wv787u9++vj/a91ut8//ee6f6avPc8f9yfvbf3+77L+vHO+b75XL2fu6jP58bF/XGvXrP5tr8m/erfMc73HnP3+i/vzfo362uv13bvfp8frT62D8/P9epz4/2e6vdH/77zue+9NTlP9x7n93PH3q3vPZ+rrX/Pef3q3tjuzV3e28+jnb/7x/zLnvf3X85b29f2z/b19/v88Tuu5ib3/lN9e7yf/+m3ub2+9f2P7fneY7LvuL/v+9rPf8dn56/n/ysAIIgAAACBBAAACCQAAEAgAQAAAgkAABBIAACAQAIAAAQSAAAgkAAAAIEEAAAIJAAAQCABAAACCQAAEEgAAIBAAgAABBIAACCQAAAAgQQAAAgkAABAIAEAAAIJAAAQSAAAgEACAAAEEgAAIJAAAACBBAAACCQAAEAgAQAAAgkAABBIAACAQAIAAAQSAAAgkAAAAIEEAAAIJAAAQCABAAACCQAAEEgAAIBAAgAABBIAACCQAAAAgQQAAAgkAABAIAEAAAIJAAAQSAAAgED/AKmbVEqWgRwUAAAAAElFTkSuQmCC\"></div>"
      ],
      "text/plain": [
       "Colormap(name='matplotlib:coolwarm', <33 colors>)"
      ]
     },
     "metadata": {},
     "output_type": "display_data"
    },
    {
     "name": "stdout",
     "output_type": "stream",
     "text": [
      "Seems like everything went fine enough for /home/joao/Developer/StudioSlab/Lib/Graphics/Styles/colormaps/matplotlib_coolwarm.inl\n"
     ]
    },
    {
     "data": {
      "image/png": "[encoded data removed]",
      "text/html": [
       "<div style=\"vertical-align: middle;\"><strong>seaborn:icefire</strong> </div><div class=\"cmap\"><img alt=\"seaborn:icefire colormap\" title=\"seaborn:icefire\" style=\"border: 1px solid #555;\" src=\"data:image/png;base64,iVBORw0KGgoAAAANSUhEUgAAAgAAAAAwCAYAAABnncJ+AAACJklEQVR4nO3WwXHjMAwFUFJy/xVtJVtAqojEPYSil7AY+473LghAkNFMJjO//vn620op5ThbKaWU8yzl//7d/Fjttzj/sG/xfLW3ei+ef1j7/hnmn/brWj/aa32vjT7Uo/YLpdefD65HmeY1zLerH/MzzHvf51dfz2Puj+P2vIy93rfvaV7O7zD/qa33LZw/58fch/3nPO4d0965Ou/1PI/f3+l/gLPFvVjP+d3Rn7d75eU81BL2Sgv3el/i+TWfaytx/qNetYX+Td36T6Ov9fZ8u+7VOs/rfP46n/t9cb5/uL+v5v0L4nv74v2X8zEv9/OXe3Fv0b/sv6nj97ep3/of9rnXpjrOr/3t/nzMt/v5tpXQ97rfz+uYl1/ndW+hr9Neve6P+ar2xV5rf/Ca170/2OuqH/Mt7j3C3qPvPRZ7j/DOYz5fzd/dG98X9hffdf3/AQCJCAAAkJAAAAAJCQAAkJAAAAAJCQAAkJAAAAAJCQAAkJAAAAAJCQAAkJAAAAAJCQAAkJAAAAAJCQAAkJAAAAAJCQAAkJAAAAAJCQAAkJAAAAAJCQAAkJAAAAAJCQAAkJAAAAAJCQAAkJAAAAAJCQAAkJAAAAAJCQAAkJAAAAAJCQAAkJAAAAAJCQAAkJAAAAAJCQAAkJAAAAAJCQAAkJAAAAAJCQAAkJAAAAAJCQAAkJAAAAAJCQAAkJAAAAAJCQAAkJAAAAAJCQAAkJAAAAAJ/QMoJjrrzjsdlAAAAABJRU5ErkJggg==\"></div>"
      ],
      "text/plain": [
       "Colormap(name='seaborn:icefire', <256 colors>)"
      ]
     },
     "metadata": {},
     "output_type": "display_data"
    },
    {
     "name": "stdout",
     "output_type": "stream",
     "text": [
      "Seems like everything went fine enough for /home/joao/Developer/StudioSlab/Lib/Graphics/Styles/colormaps/seaborn_icefire.inl\n"
     ]
    },
    {
     "data": {
      "image/png": "[encoded data removed]",
      "text/html": [
       "<div style=\"vertical-align: middle;\"><strong>colorcet:cet_c3</strong> </div><div class=\"cmap\"><img alt=\"colorcet:cet_c3 colormap\" title=\"colorcet:cet_c3\" style=\"border: 1px solid #555;\" src=\"data:image/png;base64,iVBORw0KGgoAAAANSUhEUgAAAgAAAAAwCAYAAABnncJ+AAACJklEQVR4nO3WQY4bIRAFUMCe+x8vUlY5yLjJogELbKadbOu9DfpQtFu2ZvTzn1+/a0oplXqklFLKY328z8eazzUdc86Pdf/7zI/NvTE/z316/q/z9eL+yMtztvfaWnf7u89fzzfPqWM9lrysx3p+5qPvt/UY+3U6P+qZH32/59pze63U99O8pmXd7H+vcy/z+ef5y8/b3F/vffre/zu3ycfH9/Lb+WNzfvSc1nyuNZW2bnLu+XY+oOWxjv35POd5/5nvbWx33vM5l8qS1/lyf/v8MVfm/Dz/+fmpzHP18vziXpnnalmfe3+7v5uv7b3X+2n5Xnsu4/s411v7nW6lTPk+8vn7f5Vzvbd877n9/F95zmPNabNfp3xb9kcuc77lPr/sv8zNubzMt/2LuZHznMvyueXifrm8//45ZXnP1/PN89t8znN+7h9zbv8ZSvv/3f+qAYBAFAAACEgBAICAFAAACEgBAICAFAAACEgBAICAFAAACEgBAICAFAAACEgBAICAFAAACEgBAICAFAAACEgBAICAFAAACEgBAICAFAAACEgBAICAFAAACEgBAICAFAAACEgBAICAFAAACEgBAICAFAAACEgBAICAFAAACEgBAICAFAAACEgBAICAFAAACEgBAICAFAAACEgBAICAFAAACEgBAICAFAAACEgBAICAFAAACEgBAICAFAAACEgBAICAFAAACEgBAICAFAAACEgBAICA/gIgcyUAq+U60AAAAABJRU5ErkJggg==\"></div>"
      ],
      "text/plain": [
       "Colormap(name='colorcet:cet_c3', <256 colors>)"
      ]
     },
     "metadata": {},
     "output_type": "display_data"
    },
    {
     "name": "stdout",
     "output_type": "stream",
     "text": [
      "Seems like everything went fine enough for /home/joao/Developer/StudioSlab/Lib/Graphics/Styles/colormaps/colorcet_CET_C3.inl\n"
     ]
    },
    {
     "data": {
      "image/png": "[encoded data removed]",
      "text/html": [
       "<div style=\"vertical-align: middle;\"><strong>tol:nightfall</strong> </div><div class=\"cmap\"><img alt=\"tol:nightfall colormap\" title=\"tol:nightfall\" style=\"border: 1px solid #555;\" src=\"data:image/png;base64,iVBORw0KGgoAAAANSUhEUgAAAgAAAAAwCAYAAABnncJ+AAACAklEQVR4nO3WMZLbMAwFUNLOCXK4FLn/MSwphUl7DEnxxkmq/16DAUDSanbn9+8/f2yttbb2S2utte1S6/Ved/v7fJ19L+frO/1kPs5fxv3LmNf+Wvcn93bnTu6dn5vvXl/2vfR1/+zrd/1hX+Z9N7/89nyd9935+t33+q23Uvvh/LqbH5+b8+ubd6+lXt7NWz23fe3eaT/uj3d7mT/6VvpRe3v9/fPzoy/f3x/z1/3s225favmOWls/fvdZ17GZdXnp+7b85/3t3o5zs3/OZ7+89uub/Zffmf34vnV811r6x345Prcd33veXw7nbd0+q9s2fvbD++vx/W35cL+cnH+3X9aX+eP9k/nzvfVwPt+rv7eV8/P31zm/lX75R/vbyfnRz7+GZfyF3kat83392/29zv97AEAQAQAAAgkAABBIAACAQAIAAAQSAAAgkAAAAIEEAAAIJAAAQCABAAACCQAAEEgAAIBAAgAABBIAACCQAAAAgQQAAAgkAABAIAEAAAIJAAAQSAAAgEACAAAEEgAAIJAAAACBBAAACCQAAEAgAQAAAgkAABBIAACAQAIAAAQSAAAgkAAAAIEEAAAIJAAAQCABAAACCQAAEEgAAIBAAgAABBIAACCQAAAAgQQAAAgkAABAIAEAAAIJAAAQSAAAgEACAAAEEgAAIJAAAACBfgElki45QJndowAAAABJRU5ErkJggg==\"></div>"
      ],
      "text/plain": [
       "Colormap(name='tol:nightfall', <17 colors>)"
      ]
     },
     "metadata": {},
     "output_type": "display_data"
    },
    {
     "name": "stdout",
     "output_type": "stream",
     "text": [
      "Seems like everything went fine enough for /home/joao/Developer/StudioSlab/Lib/Graphics/Styles/colormaps/tol_nightfall.inl\n"
     ]
    },
    {
     "data": {
      "image/png": "[encoded data removed]",
      "text/html": [
       "<div style=\"vertical-align: middle;\"><strong>tol:sunset</strong> </div><div class=\"cmap\"><img alt=\"tol:sunset colormap\" title=\"tol:sunset\" style=\"border: 1px solid #555;\" src=\"data:image/png;base64,iVBORw0KGgoAAAANSUhEUgAAAgAAAAAwCAYAAABnncJ+AAAB6ElEQVR4nO3WQW7DIBAFUOxD9RK9Ye9q00VMKnCoE2//exsEDIOJKvUvX98/tZRSyrI8hvX1WCbry7oex6/qxv31dd1ln3XSrz+/TtdLt74O7757bt6vdH1O90y+92+/PfP1PWP/dew31D37DHXt5zz1P907qRvva989W19ev2+2fq4b332v78d92nvK/piX2s+XNq/H/n70qV39eX3vzy1D34v1q/un39XG+hhL2br5Uo/5sF6e60PdcK7M9o9+ZXJu7FuGc7N7yt7G2p27P69930/nN/vWVjcZZ/vn9f3//e1u3w/3t+NdW19/nu8X++P6u33frL+o24/5Pv65bW3+2N+2Yf95vl/fhnPnfq1udm8d6t67t43HvwUAIIkAAACBBAAACCQAAEAgAQAAAgkAABBIAACAQAIAAAQSAAAgkAAAAIEEAAAIJAAAQCABAAACCQAAEEgAAIBAAgAABBIAACCQAAAAgQQAAAgkAABAIAEAAAIJAAAQSAAAgEACAAAEEgAAIJAAAACBBAAACCQAAEAgAQAAAgkAABBIAACAQAIAAAQSAAAgkAAAAIEEAAAIJAAAQCABAAACCQAAEEgAAIBAAgAABBIAACCQAAAAgQQAAAgkAABAIAEAAAIJAAAQSAAAgEC/RVc5OY5g+cQAAAAASUVORK5CYII=\"></div>"
      ],
      "text/plain": [
       "Colormap(name='tol:sunset', <11 colors>)"
      ]
     },
     "metadata": {},
     "output_type": "display_data"
    },
    {
     "name": "stdout",
     "output_type": "stream",
     "text": [
      "Seems like everything went fine enough for /home/joao/Developer/StudioSlab/Lib/Graphics/Styles/colormaps/tol_sunset.inl\n"
     ]
    },
    {
     "data": {
      "image/png": "[encoded data removed]",
      "text/html": [
       "<div style=\"vertical-align: middle;\"><strong>vispy:diverging</strong> </div><div class=\"cmap\"><img alt=\"vispy:diverging colormap\" title=\"vispy:diverging\" style=\"border: 1px solid #555;\" src=\"data:image/png;base64,iVBORw0KGgoAAAANSUhEUgAAAgAAAAAwCAYAAABnncJ+AAABW0lEQVR4nO3WUU4CMRRA0Tfu15W5R4cPgwkKGQbQoPecH9JQ6LSF5C6vb+/rzMwyH5ZlndPxbIz3zj+O1x+ef9vzzT/bz1+9n9k5/2HP91vrPMnv4NO6nrwux/GsZ9//Nn9r3lz4/o1516/zZR9z5zrX7n9rnY3v2V7ndF97z/nied98zjvvdWNfDzvnp7vPOf+5O/83j77PlwEAcgQAAAQJAAAIEgAAECQAACBIAABAkAAAgCABAABBAgAAggQAAAQJAAAIEgAAECQAACBIAABAkAAAgCABAABBAgAAggQAAAQJAAAIEgAAECQAACBIAABAkAAAgCABAABBAgAAggQAAAQJAAAIEgAAECQAACBIAABAkAAAgCABAABBAgAAggQAAAQJAAAIEgAAECQAACBIAABAkAAAgCABAABBAgAAggQAAAQJAAAIEgAAECQAACBIAABAkAAAgKADZcT1U+ibKVcAAAAASUVORK5CYII=\"></div>"
      ],
      "text/plain": [
       "Colormap(name='vispy:diverging', <3 colors>)"
      ]
     },
     "metadata": {},
     "output_type": "display_data"
    },
    {
     "name": "stdout",
     "output_type": "stream",
     "text": [
      "Seems like everything went fine enough for /home/joao/Developer/StudioSlab/Lib/Graphics/Styles/colormaps/vispy_diverging.inl\n"
     ]
    },
    {
     "data": {
      "image/png": "[encoded data removed]",
      "text/html": [
       "<div style=\"vertical-align: middle;\"><strong>vispy:rdbu</strong> </div><div class=\"cmap\"><img alt=\"vispy:rdbu colormap\" title=\"vispy:rdbu\" style=\"border: 1px solid #555;\" src=\"data:image/png;base64,iVBORw0KGgoAAAANSUhEUgAAAgAAAAAwCAYAAABnncJ+AAABjUlEQVR4nO3WUWqDQBSG0Tvuqvvogruy2ocYS2YyUQuFwH/Oi3gZyehA+NrX58daVVVtqaqqWtrt9n7f2sO1deuG+b5+2W5bt76bd8/9rp/Mh/UX99OtG/czW39yP8vBd+veb/q7/XxYf7Cfs+fYnY9zvHiOV/fzZue41nZd14fr9+0yzmsy3+/r+bwm89n67rlhvj6fv/v+9nn184Pvfp/Xf+/v6Due29/57/i395r/3nvsb37O9Xr9fm6v32u6j7q2v+1fAgBIIgAAIJAAAIBAAgAAAgkAAAgkAAAgkAAAgEACAAACCQAACCQAACCQAACAQAIAAAIJAAAIJAAAIJAAAIBAAgAAAgkAAAgkAAAgkAAAgEACAAACCQAACCQAACCQAACAQAIAAAIJAAAIJAAAIJAAAIBAAgAAAgkAAAgkAAAgkAAAgEACAAACCQAACCQAACCQAACAQAIAAAIJAAAIJAAAIJAAAIBAAgAAAgkAAAgkAAAgkAAAgEACAAACCQAACCQAACCQAACAQD/FUUi7N1o+qwAAAABJRU5ErkJggg==\"></div>"
      ],
      "text/plain": [
       "Colormap(name='vispy:rdbu', <3 colors>)"
      ]
     },
     "metadata": {},
     "output_type": "display_data"
    },
    {
     "name": "stdout",
     "output_type": "stream",
     "text": [
      "Seems like everything went fine enough for /home/joao/Developer/StudioSlab/Lib/Graphics/Styles/colormaps/vispy_RdBu.inl\n"
     ]
    },
    {
     "data": {
      "image/png": "[encoded data removed]",
      "text/html": [
       "<div style=\"vertical-align: middle;\"><strong>vispy:rdyebucy</strong> </div><div class=\"cmap\"><img alt=\"vispy:rdyebucy colormap\" title=\"vispy:rdyebucy\" style=\"border: 1px solid #555;\" src=\"data:image/png;base64,iVBORw0KGgoAAAANSUhEUgAAAgAAAAAwCAYAAABnncJ+AAABRElEQVR4nO3WuU7DQBRA0RcTJPj/r2WzU5AqEg2OiNE9p3nSeJmR3dzTbNs2MzPvM7vmx4OfP+o51vm8ufJ2px1+Ox+9/65znGZdZ2ae5mv2zPP1t+x9z3+fvsN9v8My22m+Pd/M80HWj3KOY537PMvMzLxeV19u5l+v/3Tfvd5zXV8GAMgRAAAQJAAAIEgAAECQAACAIAEAAEECAACCBAAABAkAAAgSAAAQJAAAIEgAAECQAACAIAEAAEECAACCBAAABAkAAAgSAAAQJAAAIEgAAECQAACAIAEAAEECAACCBAAABAkAAAgSAAAQJAAAIEgAAECQAACAIAEAAEECAACCBAAABAkAAAgSAAAQJAAAIEgAAECQAACAIAEAAEECAACCBAAABAkAAAgSAAAQJAAAIEgAAECQAACAIAEAAEECAACCLuP6r12UC/5aAAAAAElFTkSuQmCC\"></div>"
      ],
      "text/plain": [
       "Colormap(name='vispy:rdyebucy', <6 colors>)"
      ]
     },
     "metadata": {},
     "output_type": "display_data"
    },
    {
     "name": "stdout",
     "output_type": "stream",
     "text": [
      "Seems like everything went fine enough for /home/joao/Developer/StudioSlab/Lib/Graphics/Styles/colormaps/vispy_RdYeBuCy.inl\n"
     ]
    },
    {
     "data": {
      "image/png": "[encoded data removed]",
      "text/html": [
       "<div style=\"vertical-align: middle;\"><strong>cmocean:curl</strong> </div><div class=\"cmap\"><img alt=\"cmocean:curl colormap\" title=\"cmocean:curl\" style=\"border: 1px solid #555;\" src=\"data:image/png;base64,iVBORw0KGgoAAAANSUhEUgAAAgAAAAAwCAYAAABnncJ+AAACGElEQVR4nO3WS27cMBAFQFKaI2Sb0+T+N7LILIYjgS3RMbLtqo3QH9KSAcOv/vr9p5dSSt1qKaWUMp7renucn3t10R/n7v1R384t9hf3x/2+vLc+78Xz9XmvL87f+qP88f748ffvnfv1fH5eu4bXf9f7qPct1HXuv0L/FfqvGuuwd5vXMF/1x3st+q/xQef8/K5t3hu/iPM76/bYv+pt2jv3Y39Z74v5/n/17d65v936e9gfe3Ee9lbzXt56O97PYzzbV6jfz3Z8zfvnublf/nHPev/5PW7zsFdu5+K97dufU8a8r/aPFvot3NPCPX3av873sN8X8z7VbdG/9su8t+xPr3ned9ZxHuqr3x/7q2dvde73n52Le8fq/KJe7R+9z/3bfh97oS5xPj9b+b4+yqffQr+F/Rb68/5Vr/bG32uch/rzbwcASEQAAICEBAAASEgAAICEBAAASEgAAICEBAAASEgAAICEBAAASEgAAICEBAAASEgAAICEBAAASEgAAICEBAAASEgAAICEBAAASEgAAICEBAAASEgAAICEBAAASEgAAICEBAAASEgAAICEBAAASEgAAICEBAAASEgAAICEBAAASEgAAICEBAAASEgAAICEBAAASEgAAICEBAAASEgAAICEBAAASEgAAICEBAAASEgAAICEBAAASEgAAICEBAAASEgAAICEBAAASEgAAICEBAAASOgvhRlM45SxVtoAAAAASUVORK5CYII=\"></div>"
      ],
      "text/plain": [
       "Colormap(name='cmocean:curl', <511 colors>)"
      ]
     },
     "metadata": {},
     "output_type": "display_data"
    },
    {
     "name": "stdout",
     "output_type": "stream",
     "text": [
      "Seems like everything went fine enough for /home/joao/Developer/StudioSlab/Lib/Graphics/Styles/colormaps/cmocean_curl.inl\n"
     ]
    },
    {
     "data": {
      "image/png": "[encoded data removed]",
      "text/html": [
       "<div style=\"vertical-align: middle;\"><strong>cmocean:thermal</strong> </div><div class=\"cmap\"><img alt=\"cmocean:thermal colormap\" title=\"cmocean:thermal\" style=\"border: 1px solid #555;\" src=\"data:image/png;base64,iVBORw0KGgoAAAANSUhEUgAAAgAAAAAwCAYAAABnncJ+AAAB+UlEQVR4nO3WQXKjMBAFUDU+yhwh97+amYUxKRpkkmz/exvcUksIU1T9evz7WscYo8YyxhhjVL/W67rNV5+frKvxuOyrU/1o63rf41C/9622flpv/ctkn2W/fh5fbseXw/XR6mWtbfx1Xeo9//43ql238Ro/qve3VOthvt71vm7dxvv6Y1/d7FOnfVrd5mf793PX5HmqPfev1+/rJue73X/yHK3/e/31fW7Pf3u/u7rvN3mPt/Xkfe73m52/z8/Oe9d/rM/nuut7/qhv1n+ar+fH9VWf19/Pr9sftNXL83p8n78eH8vxvY1Z/17P+sZhv+96tPsdx0cfrz7f6l/3HT+ktX8wp/WvH+tk/T5/2ud6fD1/aG283W/fp/7Uv57Oc73Pepofl+O9/31bACCIAAAAgQQAAAgkAABAIAEAAAIJAAAQSAAAgEACAAAEEgAAIJAAAACBBAAACCQAAEAgAQAAAgkAABBIAACAQAIAAAQSAAAgkAAAAIEEAAAIJAAAQCABAAACCQAAEEgAAIBAAgAABBIAACCQAAAAgQQAAAgkAABAIAEAAAIJAAAQSAAAgEACAAAEEgAAIJAAAACBBAAACCQAAEAgAQAAAgkAABBIAACAQAIAAAQSAAAgkAAAAIEEAAAIJAAAQCABAAACCQAAEEgAAIBA/wEQ03Wa5V3d0gAAAABJRU5ErkJggg==\"></div>"
      ],
      "text/plain": [
       "Colormap(name='cmocean:thermal', <256 colors>)"
      ]
     },
     "metadata": {},
     "output_type": "display_data"
    },
    {
     "name": "stdout",
     "output_type": "stream",
     "text": [
      "Seems like everything went fine enough for /home/joao/Developer/StudioSlab/Lib/Graphics/Styles/colormaps/cmocean_thermal.inl\n"
     ]
    },
    {
     "data": {
      "image/png": "[encoded data removed]",
      "text/html": [
       "<div style=\"vertical-align: middle;\"><strong>cmocean:tarn</strong> </div><div class=\"cmap\"><img alt=\"cmocean:tarn colormap\" title=\"cmocean:tarn\" style=\"border: 1px solid #555;\" src=\"data:image/png;base64,iVBORw0KGgoAAAANSUhEUgAAAgAAAAAwCAYAAABnncJ+AAACDUlEQVR4nO3WTZLaMBAG0LbMNttcIPe/IVhZjGRi2YIwNbt+b9PVrR9sqqC+5fefXzUiopSIiIhlWb5q60s59m35n/UY1of9fd9SL+fP9d7Xy3Olz9u+tfVrG/Rael+WyXpczvv+Ms7He2frp8+Lz86f5pPn/KFzz1q+ua8catn7tX0frbZ+KbdjXXu/DrWvj+fWyblbe+HJPW/Off9zXu8vn96/3l7uK2/PHb/38Z7+Q13GH+zu6/dU63as2yMiIrb6aP39q+/z3j+G/lTH85N7Wv8Y+9rn26G/b7X1bb73ta1fz/+73+fxQ/cc++3Te0799XPdp+fi8p779P1iuO/6/Hl+3W/9vXtfj31t66daj+sx1HG+95Nz4/37vPb56+cZ7z3XYf3tvTE83/VzL5P+WbfLGpN+/BcAABIQAAAgIQEAABISAAAgIQEAABISAAAgIQEAABISAAAgIQEAABISAAAgIQEAABISAAAgIQEAABISAAAgIQEAABISAAAgIQEAABISAAAgIQEAABISAAAgIQEAABISAAAgIQEAABISAAAgIQEAABISAAAgIQEAABISAAAgIQEAABISAAAgIQEAABISAAAgIQEAABISAAAgIQEAABISAAAgIQEAABISAAAgIQEAABISAAAgIQEAABISAAAgIQEAABISAAAgIQEAABISAAAgIQEAABL6C1NkW+qrfqKSAAAAAElFTkSuQmCC\"></div>"
      ],
      "text/plain": [
       "Colormap(name='cmocean:tarn', <256 colors>)"
      ]
     },
     "metadata": {},
     "output_type": "display_data"
    },
    {
     "name": "stdout",
     "output_type": "stream",
     "text": [
      "Seems like everything went fine enough for /home/joao/Developer/StudioSlab/Lib/Graphics/Styles/colormaps/cmocean_tarn.inl\n"
     ]
    },
    {
     "data": {
      "image/png": "[encoded data removed]",
      "text/html": [
       "<div style=\"vertical-align: middle;\"><strong>cmocean:turbid</strong> </div><div class=\"cmap\"><img alt=\"cmocean:turbid colormap\" title=\"cmocean:turbid\" style=\"border: 1px solid #555;\" src=\"data:image/png;base64,iVBORw0KGgoAAAANSUhEUgAAAgAAAAAwCAYAAABnncJ+AAABmElEQVR4nO3WPVLDMBRG0WdtgxkK9r9HUiSGiRyN5Djdd05DZOuPUHC3n++v36qqbauqqtrq/uFv/PjwGP6Ph/NP7nN13+k5q+dPnq+es3zvT93j/rO9vV/3/vB8dv8Pzevmt+H60e83uvfF9Sef19VzTr6v5fWv/y7D9cvnPe9bi/ev/j6H728fDvbvzn//+bvz+nttp9bN55983/r5s/u9Hg/ntfaZfbY2ue8+np032qct7Xv83p7PO5xz+tzBPQ7f42zdY9wW79WdM9t3/78BAAQRAAAQSAAAQCABAACBBAAABBIAABBIAABAIAEAAIEEAAAEEgAAEEgAAEAgAQAAgQQAAAQSAAAQSAAAQCABAACBBAAABBIAABBIAABAIAEAAIEEAAAEEgAAEEgAAEAgAQAAgQQAAAQSAAAQSAAAQCABAACBBAAABBIAABBIAABAIAEAAIEEAAAEEgAAEEgAAEAgAQAAgQQAAAQSAAAQSAAAQCABAACBBAAABBIAABBIAABAIAEAAIEEAAAEEgAAEEgAAECgG34uA+fKQmu/AAAAAElFTkSuQmCC\"></div>"
      ],
      "text/plain": [
       "Colormap(name='cmocean:turbid', <256 colors>)"
      ]
     },
     "metadata": {},
     "output_type": "display_data"
    },
    {
     "name": "stdout",
     "output_type": "stream",
     "text": [
      "Seems like everything went fine enough for /home/joao/Developer/StudioSlab/Lib/Graphics/Styles/colormaps/cmocean_turbid.inl\n"
     ]
    },
    {
     "data": {
      "image/png": "[encoded data removed]",
      "text/html": [
       "<div style=\"vertical-align: middle;\"><strong>cmocean:topo</strong> </div><div class=\"cmap\"><img alt=\"cmocean:topo colormap\" title=\"cmocean:topo\" style=\"border: 1px solid #555;\" src=\"data:image/png;base64,iVBORw0KGgoAAAANSUhEUgAAAgAAAAAwCAYAAABnncJ+AAACI0lEQVR4nO3WQY7bMAwFUErKXKDLXqAo0Iv0/geaLiJrajpKUqA7vrcRKNJK4vEkv/34/uszIqK3HhERrY/72u5rX/W532c/z1/qdc7t+Vzqx+rfTvOR5iOdF7t1zn32++eIMddZr/3eZt1OdYy8H+f+i/r4WLnfNte1Tf01v5lree5cX8999/XyOXMdz6+7rs/7/c16t45Nvdb5dm9r//NU31a/bfaP+r7xcanbqT7O+Wi7/X5+vVSv/tp/r/649MfD+W8/f0fE38/N4+dlrfM+RN7fPH+X56g93r+eH6d+T/38PBx/17XO+dHSOi846uN7bxxr3+wf8+vcfM7j1/naj3Od3l+e+3ofcZpb5/Q0fzk/7+f7s9n/x/7l/Pn/dJl/cf1xP9fvwFzX70ZPvxO5Hi/6m7qP/3R+6vd3rx+b+XTd5T7k68bmfqW51T/2AwAoRwAAgIIEAAAoSAAAgIIEAAAoSAAAgIIEAAAoSAAAgIIEAAAoSAAAgIIEAAAoSAAAgIIEAAAoSAAAgIIEAAAoSAAAgIIEAAAoSAAAgIIEAAAoSAAAgIIEAAAoSAAAgIIEAAAoSAAAgIIEAAAoSAAAgIIEAAAoSAAAgIIEAAAoSAAAgIIEAAAoSAAAgIIEAAAoSAAAgIIEAAAoSAAAgIIEAAAoSAAAgIIEAAAoSAAAgIIEAAAoSAAAgIIEAAAoSAAAgIIEAAAoSAAAgIIEAAAo6A8iEg04Qk/vPwAAAABJRU5ErkJggg==\"></div>"
      ],
      "text/plain": [
       "Colormap(name='cmocean:topo', <256 colors>)"
      ]
     },
     "metadata": {},
     "output_type": "display_data"
    },
    {
     "name": "stdout",
     "output_type": "stream",
     "text": [
      "Seems like everything went fine enough for /home/joao/Developer/StudioSlab/Lib/Graphics/Styles/colormaps/cmocean_topo.inl\n"
     ]
    },
    {
     "data": {
      "image/png": "[encoded data removed]",
      "text/html": [
       "<div style=\"vertical-align: middle;\"><strong>cmocean:delta</strong> </div><div class=\"cmap\"><img alt=\"cmocean:delta colormap\" title=\"cmocean:delta\" style=\"border: 1px solid #555;\" src=\"data:image/png;base64,iVBORw0KGgoAAAANSUhEUgAAAgAAAAAwCAYAAABnncJ+AAACRUlEQVR4nO3WwXHjMAwFUEhyAdvBlpL+C9kqYpF7CGUPIWmcO967YABQjKJD8pc/f796RMS6bBERsayjLo+IiFhffarr2N/M3+cfN/tc532kfaR5jPfq47k++rato1+m2o7+51jEax/TuRh9bDHtI+9HXX45X9J8uTm/LNfncr/ezI/+tD9e53TPdb/e7Zd5v53Oj/k4t6Vzr368zyPNH+O5x6kfNT33eP2cuT8/N/fbab9e3rN93K/pvrk/9u+fO9+zpfn7e+Rz+d67c+n3PNWY3n9d/0VERGvPiIjo+6ijb/v31L/nR/99M5/37fR8ei7fk+an59P8Vfu830/z5+X86Pe+j/ppvqf5fjl/5n1vP/OW+lFPfTv6PvY99THui7nvy1T3lvrxh+11rq0f5sfzY9/SPbf99T3H++zp3G0/6vgc0frRz/M++vF53v3Yx6hL7vv1/lz7r+bHC5zmbZ7f9bfzns+1qe+387k/PsjxbwgAKEQAAICCBAAAKEgAAICCBAAAKEgAAICCBAAAKEgAAICCBAAAKEgAAICCBAAAKEgAAICCBAAAKEgAAICCBAAAKEgAAICCBAAAKEgAAICCBAAAKEgAAICCBAAAKEgAAICCBAAAKEgAAICCBAAAKEgAAICCBAAAKEgAAICCBAAAKEgAAICCBAAAKEgAAICCBAAAKEgAAICCBAAAKEgAAICCBAAAKEgAAICCBAAAKEgAAICCBAAAKEgAAICCBAAAKEgAAICCBAAAKEgAAICCBAAAKOg/W6s3uiZlGiQAAAAASUVORK5CYII=\"></div>"
      ],
      "text/plain": [
       "Colormap(name='cmocean:delta', <511 colors>)"
      ]
     },
     "metadata": {},
     "output_type": "display_data"
    },
    {
     "name": "stdout",
     "output_type": "stream",
     "text": [
      "Seems like everything went fine enough for /home/joao/Developer/StudioSlab/Lib/Graphics/Styles/colormaps/cmocean_delta.inl\n"
     ]
    },
    {
     "data": {
      "image/png": "[encoded data removed]",
      "text/html": [
       "<div style=\"vertical-align: middle;\"><strong>cmocean:balance</strong> </div><div class=\"cmap\"><img alt=\"cmocean:balance colormap\" title=\"cmocean:balance\" style=\"border: 1px solid #555;\" src=\"data:image/png;base64,iVBORw0KGgoAAAANSUhEUgAAAgAAAAAwCAYAAABnncJ+AAACI0lEQVR4nO3WQZLbIBAFUMC+QzY5zdz/SoIsDJqAxChVWfZ7G6qbBlsql+vnX7+/Wkop5fxKKaWUS1/zsl7674f591SnbX+95z3Pj7os85t+6ve3/HO/9br286M/6qOMunzqV+79dU3Tfu11K62vqX/+9Fip9P1+/bm+yrzfr/1rvy1z87mznx/mc/qx/3xvnvfXc/n+/Cvfn9vvf+r3ZT7fzr8357/nns49zT/V5Xa/rPPnufLjPWV3f1nvX/tzXdZzefww+++01r4en/U4NvXDXF/TpV9v59N/3pPq/fe89C/31U3/6fvVh/3Rf3je89zuvn/r799HvZ/v9fW+df6pbnN9tE1/vI42z82v6VKPx2516dc87V/6n+vTMeqx3/r/dUvT3Dk/9lPv9/Ws21wfuS1zbTk/12P/u982/WW+v4DLXNucb6OuS32/P/4FAIBABAAACEgAAICABAAACEgAAICABAAACEgAAICABAAACEgAAICABAAACEgAAICABAAACEgAAICABAAACEgAAICABAAACEgAAICABAAACEgAAICABAAACEgAAICABAAACEgAAICABAAACEgAAICABAAACEgAAICABAAACEgAAICABAAACEgAAICABAAACEgAAICABAAACEgAAICABAAACEgAAICABAAACEgAAICABAAACEgAAICABAAACEgAAICABAAACEgAAICABAAACEgAAICA/gAEs1DEe0r0qwAAAABJRU5ErkJggg==\"></div>"
      ],
      "text/plain": [
       "Colormap(name='cmocean:balance', <511 colors>)"
      ]
     },
     "metadata": {},
     "output_type": "display_data"
    },
    {
     "name": "stdout",
     "output_type": "stream",
     "text": [
      "Seems like everything went fine enough for /home/joao/Developer/StudioSlab/Lib/Graphics/Styles/colormaps/cmocean_balance.inl\n"
     ]
    },
    {
     "data": {
      "image/png": "[encoded data removed]",
      "text/html": [
       "<div style=\"vertical-align: middle;\"><strong>cmocean:diff</strong> </div><div class=\"cmap\"><img alt=\"cmocean:diff colormap\" title=\"cmocean:diff\" style=\"border: 1px solid #555;\" src=\"data:image/png;base64,iVBORw0KGgoAAAANSUhEUgAAAgAAAAAwCAYAAABnncJ+AAAB5ElEQVR4nO3WQZLbIBAFUCQvco9cJPc/1IgsLNslpDZKtv+9DdOIBuRxlf/y6/ef3lpry7q2y3H5Pt/W5VZfO80vxX7V82V/PIzv+XWon+Nj7Nvrx6n/uj73r1/X1/3X96vru+fM3rs4d3qf6vzivNP8pL/4PB/V5zzt+/781X9aN9z787zqH+8zzC/j/Owe/3fPsV6Gz3l5j+05tmP90Yfh9cf2HPqz3rZXvY97ve31tv0c57fj/Lk+zveb62Z1v9n3Xte/71u9z+f9x32L8/q4f/He/Xp+el7RN/7fzve/vvdn/b+tK/et7leuG79f43uMz/uxfn9v+7F+z7fJunY537fhedU/2b/fvUdR9+J+s7oP9f6rCwAkEQAAIJAAAACBBAAACCQAAEAgAQAAAgkAABBIAACAQAIAAAQSAAAgkAAAAIEEAAAIJAAAQCABAAACCQAAEEgAAIBAAgAABBIAACCQAAAAgQQAAAgkAABAIAEAAAIJAAAQSAAAgEACAAAEEgAAIJAAAACBBAAACCQAAEAgAQAAAgkAABBIAACAQAIAAAQSAAAgkAAAAIEEAAAIJAAAQCABAAACCQAAEEgAAIBAAgAABBIAACCQAAAAgQQAAAgkAABAIAEAAAIJAAAQ6C+tpXWyH35CUwAAAABJRU5ErkJggg==\"></div>"
      ],
      "text/plain": [
       "Colormap(name='cmocean:diff', <256 colors>)"
      ]
     },
     "metadata": {},
     "output_type": "display_data"
    },
    {
     "name": "stdout",
     "output_type": "stream",
     "text": [
      "Seems like everything went fine enough for /home/joao/Developer/StudioSlab/Lib/Graphics/Styles/colormaps/cmocean_diff.inl\n"
     ]
    }
   ],
   "source": [
    "for map_name in mapped:\n",
    "    generate_for(map_name)\n",
    "\n",
    "wrap_it_up()"
   ]
  },
  {
   "cell_type": "code",
   "execution_count": 149,
   "metadata": {},
   "outputs": [],
   "source": []
  },
  {
   "cell_type": "code",
   "execution_count": null,
   "metadata": {},
   "outputs": [],
   "source": []
  }
 ],
 "metadata": {
  "kernelspec": {
   "display_name": "Python 3 (ipykernel)",
   "language": "python",
   "name": "python3"
  },
  "language_info": {
   "codemirror_mode": {
    "name": "ipython",
    "version": 3
   },
   "file_extension": ".py",
   "mimetype": "text/x-python",
   "name": "python",
   "nbconvert_exporter": "python",
   "pygments_lexer": "ipython3",
   "version": "3.12.3"
  }
 },
 "nbformat": 4,
 "nbformat_minor": 2
}

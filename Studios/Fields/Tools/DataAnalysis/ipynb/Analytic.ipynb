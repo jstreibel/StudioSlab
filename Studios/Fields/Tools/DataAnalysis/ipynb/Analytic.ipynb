{
 "cells": [
  {
   "cell_type": "code",
   "execution_count": 14,
   "metadata": {},
   "source": [
    "from matplotlib import pyplot as plot\n",
    "from py_interface import AnalyticOscillon"
   ],
   "outputs": []
  },
  {
   "cell_type": "code",
   "execution_count": 20,
   "metadata": {},
   "source": [
    "osc1 = AnalyticOscillon(N=1024, vMin=-0.5, vMax=0.1)\n",
    "osc2 = AnalyticOscillon(N=1024, vMin=-0.5, vMax=0.1)\n",
    "x = osc1.getx()"
   ],
   "outputs": []
  },
  {
   "cell_type": "code",
   "execution_count": 22,
   "metadata": {},
   "source": [
    "oscdata1 = osc1.get(t=0, v=0.7, V=0.93, alpha=0.594, d=0, l=1)\n",
    "oscdata2 = osc2.get(t=0, v=0.7, V=0.93, alpha=0.047, d=0, l=1)\n",
    "plot.plot(x, oscdata1, x, oscdata2)"
   ],
   "outputs": []
  },
  {
   "cell_type": "code",
   "execution_count": null,
   "metadata": {},
   "source": [],
   "outputs": []
  }
 ],
 "metadata": {
  "kernelspec": {
   "display_name": "Python 3",
   "language": "python",
   "name": "python3"
  },
  "language_info": {
   "codemirror_mode": {
    "name": "ipython",
    "version": 3
   },
   "file_extension": ".py",
   "mimetype": "text/x-python",
   "name": "python",
   "nbconvert_exporter": "python",
   "pygments_lexer": "ipython3",
   "version": "3.8.5"
  }
 },
 "nbformat": 4,
 "nbformat_minor": 4
}

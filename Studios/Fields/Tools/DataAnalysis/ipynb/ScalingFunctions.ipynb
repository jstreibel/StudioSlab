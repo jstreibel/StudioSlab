{
 "cells": [
  {
   "cell_type": "code",
   "id": "initial_id",
   "metadata": {
    "collapsed": true,
    "ExecuteTime": {
     "end_time": "2024-05-15T21:33:29.576490Z",
     "start_time": "2024-05-15T21:33:29.573333Z"
    }
   },
   "source": [
    "import numpy as np\n",
    "from matplotlib import pyplot as plot\n",
    "\n",
    "import ipywidgets as widgets\n",
    "from ipywidgets import interact\n",
    "from IPython.display import display"
   ],
   "outputs": [],
   "execution_count": 27
  },
  {
   "metadata": {
    "ExecuteTime": {
     "end_time": "2024-05-16T01:58:01.551734Z",
     "start_time": "2024-05-16T01:58:01.549498Z"
    }
   },
   "cell_type": "code",
   "source": "x = np.arange(-2, 2, 0.01)",
   "id": "357e865494cf79f2",
   "outputs": [],
   "execution_count": 144
  },
  {
   "metadata": {
    "ExecuteTime": {
     "end_time": "2024-05-16T01:58:02.289977Z",
     "start_time": "2024-05-16T01:58:02.287455Z"
    }
   },
   "cell_type": "code",
   "source": "e = np.e",
   "id": "c77375a9fe0a09ae",
   "outputs": [],
   "execution_count": 145
  },
  {
   "metadata": {
    "ExecuteTime": {
     "end_time": "2024-05-16T02:55:48.861043Z",
     "start_time": "2024-05-16T02:55:48.856801Z"
    }
   },
   "cell_type": "code",
   "source": [
    "\n",
    "def plot_f(s, a, shift):\n",
    "    global x, e\n",
    "    \n",
    "    ϕ = x\n",
    "    \n",
    "    σ = np.sign(ϕ)\n",
    "    arg = abs(ϕ)/s\n",
    "    \n",
    "    gamma = 0.5* np.log((e-1)*a/s+1)\n",
    "    \n",
    "    f = σ * np.log((e-1)*arg + 1) / gamma - 1\n",
    "    \n",
    "    f = (f+1)/2\n",
    "\n",
    "    plot.plot(x, f)\n",
    "    \n",
    "    plot.plot((-2,2), (1,1), color='k', linestyle='-.')\n",
    "    plot.plot((-2,2), (0,0), color='k', linestyle='-.')\n",
    "    \n",
    "    plot.plot((a,a), (-2,2), color='r')\n",
    "    plot.plot((-a,-a), (-2,2), color='r')\n",
    "    \n",
    "    plot.scatter(0,0.5,marker='*', color='k')\n",
    "    \n",
    "    plot.ylim(-0.5, 1.5)\n",
    "    plot.xlim(-2, 2)\n",
    "    \n",
    "    plot.show()"
   ],
   "id": "a3056f1445ff7ebf",
   "outputs": [],
   "execution_count": 196
  },
  {
   "metadata": {
    "ExecuteTime": {
     "end_time": "2024-05-16T02:55:49.275108Z",
     "start_time": "2024-05-16T02:55:49.145034Z"
    }
   },
   "cell_type": "code",
   "source": [
    "interact(plot_f,  \n",
    "         s=widgets.FloatSlider(value=1, min=0.025, max=10.0, step=0.025, description='s'),\n",
    "         a=widgets.FloatSlider(value=1, min=0.1 , max=3, step=0.1, description='a'),\n",
    "         shift=widgets.FloatSlider(value=0, min=-1 , max=1, step=0.1, description='ϕ₀'))\n"
   ],
   "id": "6bf6514137364a9e",
   "outputs": [
    {
     "data": {
      "text/plain": [
       "interactive(children=(FloatSlider(value=1.0, description='s', max=10.0, min=0.025, step=0.025), FloatSlider(va…"
      ],
      "application/vnd.jupyter.widget-view+json": {
       "version_major": 2,
       "version_minor": 0,
       "model_id": "7413f8a2f10a4620bf70b8a99ff8637a"
      }
     },
     "metadata": {},
     "output_type": "display_data"
    },
    {
     "data": {
      "text/plain": [
       "<function __main__.plot_f(s, a, shift)>"
      ]
     },
     "execution_count": 197,
     "metadata": {},
     "output_type": "execute_result"
    }
   ],
   "execution_count": 197
  },
  {
   "metadata": {
    "ExecuteTime": {
     "end_time": "2024-05-16T02:05:58.035665Z",
     "start_time": "2024-05-16T02:05:58.033522Z"
    }
   },
   "cell_type": "code",
   "source": "",
   "id": "7758ffbf2b795a57",
   "outputs": [],
   "execution_count": 176
  },
  {
   "metadata": {},
   "cell_type": "code",
   "outputs": [],
   "execution_count": null,
   "source": "",
   "id": "5a910a68d7cda36b"
  }
 ],
 "metadata": {
  "kernelspec": {
   "display_name": "Python 3",
   "language": "python",
   "name": "python3"
  },
  "language_info": {
   "codemirror_mode": {
    "name": "ipython",
    "version": 2
   },
   "file_extension": ".py",
   "mimetype": "text/x-python",
   "name": "python",
   "nbconvert_exporter": "python",
   "pygments_lexer": "ipython2",
   "version": "2.7.6"
  }
 },
 "nbformat": 4,
 "nbformat_minor": 5
}

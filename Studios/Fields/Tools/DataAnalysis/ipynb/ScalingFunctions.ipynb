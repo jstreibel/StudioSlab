{
 "cells": [
  {
   "cell_type": "code",
   "id": "initial_id",
   "metadata": {
    "collapsed": true,
    "ExecuteTime": {
     "end_time": "2024-06-21T03:32:40.833584Z",
     "start_time": "2024-06-21T03:32:40.830222Z"
    }
   },
   "source": [
    "import numpy as np\n",
    "from matplotlib import pyplot as plot\n",
    "\n",
    "import ipywidgets as widgets\n",
    "from ipywidgets import interact\n",
    "from IPython.display import display"
   ],
   "execution_count": 2,
   "outputs": []
  },
  {
   "metadata": {
    "ExecuteTime": {
     "end_time": "2024-06-21T03:32:47.884327Z",
     "start_time": "2024-06-21T03:32:47.881350Z"
    }
   },
   "cell_type": "code",
   "source": "x = np.arange(-2, 2, 0.01)",
   "id": "357e865494cf79f2",
   "execution_count": 3,
   "outputs": []
  },
  {
   "metadata": {
    "ExecuteTime": {
     "end_time": "2024-05-21T23:48:15.644583Z",
     "start_time": "2024-05-21T23:48:15.642108Z"
    }
   },
   "cell_type": "code",
   "source": "e = np.e",
   "id": "c77375a9fe0a09ae",
   "execution_count": 3,
   "outputs": []
  },
  {
   "metadata": {
    "ExecuteTime": {
     "end_time": "2024-05-21T23:49:13.999874Z",
     "start_time": "2024-05-21T23:49:13.995178Z"
    }
   },
   "cell_type": "code",
   "source": [
    "\n",
    "def func(x):\n",
    "    return np.log1p(x)\n",
    "    #return e**x - 1\n",
    "    #return np.tanh(x)\n",
    "    #return np.sinh(x)\n",
    "    #return x**0.25\n",
    "\n",
    "def plot_f(s, a):\n",
    "    global x, e, func\n",
    "    \n",
    "    ϕ = x\n",
    "    \n",
    "    σ = np.sign(ϕ)\n",
    "    ϕ_ = abs(ϕ)\n",
    "    k = (e-1)*s\n",
    "    \n",
    "    gamma = func(k*a)\n",
    "    \n",
    "    f     = σ*func(k*ϕ_)/gamma\n",
    "    \n",
    "    f = (f+1)/2\n",
    "\n",
    "    plot.plot(x, f)\n",
    "    \n",
    "    plot.plot((-2,2), (1,1), color='k', linestyle='-.')\n",
    "    plot.plot((-2,2), (0,0), color='k', linestyle='-.')\n",
    "    \n",
    "    plot.plot((a,a), (-2,2), color='r')\n",
    "    plot.plot((-a,-a), (-2,2), color='r')\n",
    "    \n",
    "    plot.scatter(0,0.5,marker='*', color='k')\n",
    "    \n",
    "    plot.ylim(-0.5, 1.5)\n",
    "    plot.xlim(-2, 2)\n",
    "    \n",
    "    plot.show()"
   ],
   "id": "a3056f1445ff7ebf",
   "execution_count": 8,
   "outputs": []
  },
  {
   "metadata": {
    "ExecuteTime": {
     "end_time": "2024-05-21T23:49:29.176980Z",
     "start_time": "2024-05-21T23:49:29.021088Z"
    }
   },
   "cell_type": "code",
   "source": [
    "interact(plot_f,  \n",
    "         s=widgets.FloatSlider(value=1, min=0.025, max=20.0, step=0.025, description='s'),\n",
    "         a=widgets.FloatSlider(value=1, min=0.1 , max=3, step=0.1, description='a'))\n"
   ],
   "id": "6bf6514137364a9e",
   "execution_count": 10,
   "outputs": []
  },
  {
   "metadata": {
    "ExecuteTime": {
     "end_time": "2024-05-16T02:05:58.035665Z",
     "start_time": "2024-05-16T02:05:58.033522Z"
    }
   },
   "cell_type": "code",
   "source": "",
   "id": "7758ffbf2b795a57",
   "execution_count": 176,
   "outputs": []
  },
  {
   "metadata": {},
   "cell_type": "code",
   "execution_count": null,
   "source": "",
   "id": "6c5238cb587e8da1",
   "outputs": []
  }
 ],
 "metadata": {
  "kernelspec": {
   "display_name": "Python 3",
   "language": "python",
   "name": "python3"
  },
  "language_info": {
   "codemirror_mode": {
    "name": "ipython",
    "version": 2
   },
   "file_extension": ".py",
   "mimetype": "text/x-python",
   "name": "python",
   "nbconvert_exporter": "python",
   "pygments_lexer": "ipython2",
   "version": "2.7.6"
  }
 },
 "nbformat": 4,
 "nbformat_minor": 5
}

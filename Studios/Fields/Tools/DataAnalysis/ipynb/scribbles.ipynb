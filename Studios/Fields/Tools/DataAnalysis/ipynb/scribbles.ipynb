{
 "cells": [
  {
   "cell_type": "code",
   "id": "initial_id",
   "metadata": {
    "collapsed": true,
    "ExecuteTime": {
     "end_time": "2024-06-24T02:12:34.231107Z",
     "start_time": "2024-06-24T02:12:34.227779Z"
    }
   },
   "source": [
    "from scipy import special\n",
    "import sympy as sp\n",
    "from sympy.plotting import plot\n",
    "from IPython.display import display, Latex\n",
    "\n",
    "sp.init_printing(fontsize=20)"
   ],
   "execution_count": 288,
   "outputs": []
  },
  {
   "cell_type": "code",
   "id": "2f8f1be732f75712",
   "metadata": {
    "ExecuteTime": {
     "end_time": "2024-06-24T02:12:11.215360Z",
     "start_time": "2024-06-24T02:12:11.212191Z"
    }
   },
   "source": [
    "def C(j,n):\n",
    "    assert j>0\n",
    "    assert j%2\n",
    "    assert n%2\n",
    "    assert n>=j\n",
    "    \n",
    "    return special.comb(n,(j+n)/2,exact=True)"
   ],
   "execution_count": 277,
   "outputs": []
  },
  {
   "cell_type": "code",
   "id": "bc85a2abc71cc96a",
   "metadata": {
    "ExecuteTime": {
     "end_time": "2024-06-24T02:12:11.354381Z",
     "start_time": "2024-06-24T02:12:11.349814Z"
    }
   },
   "source": [
    "N = 21\n",
    "j = 11\n",
    "print(\"j={}; N={}\".format(j, N))\n",
    "for n in range(j,N+1, 2):\n",
    "    print(\"n={} => C(j,n)=C({},{})={}\".format(n,j,n,C(j,n)))"
   ],
   "execution_count": 278,
   "outputs": []
  },
  {
   "cell_type": "code",
   "id": "75923d402348af89",
   "metadata": {
    "ExecuteTime": {
     "end_time": "2024-06-24T02:12:11.528205Z",
     "start_time": "2024-06-24T02:12:11.525358Z"
    }
   },
   "source": [
    "j, n, N = sp.symbols('j, n, N')\n",
    "A = sp.symbols('A', real=True)\n",
    "phi = sp.symbols('\\\\phi')"
   ],
   "execution_count": 279,
   "outputs": []
  },
  {
   "cell_type": "code",
   "id": "1399bd09ba2fedac",
   "metadata": {
    "ExecuteTime": {
     "end_time": "2024-06-24T02:12:12.247528Z",
     "start_time": "2024-06-24T02:12:12.243959Z"
    }
   },
   "source": [
    "l_n = lambda n: sp.symbols(\"\\\\lambda_{{{}}}\".format(n).replace(\" \",\"\"))"
   ],
   "execution_count": 280,
   "outputs": []
  },
  {
   "cell_type": "code",
   "id": "a2d1dd0803426ef",
   "metadata": {
    "ExecuteTime": {
     "end_time": "2024-06-24T02:12:12.474686Z",
     "start_time": "2024-06-24T02:12:12.471594Z"
    }
   },
   "source": [
    "def C(j,n):\n",
    "    k = (j+n)/2\n",
    "    return sp.factorial(n)/(sp.factorial(k)*sp.factorial(n-k))"
   ],
   "execution_count": 281,
   "outputs": []
  },
  {
   "cell_type": "code",
   "id": "c10f1a562c1a14bb",
   "metadata": {
    "ExecuteTime": {
     "end_time": "2024-06-24T02:12:28.872139Z",
     "start_time": "2024-06-24T02:12:28.735748Z"
    }
   },
   "source": [
    "C(N-4, N)"
   ],
   "execution_count": 286,
   "outputs": []
  },
  {
   "cell_type": "code",
   "id": "35cd40e9ce160ca5",
   "metadata": {
    "ExecuteTime": {
     "end_time": "2024-06-24T02:12:28.878046Z",
     "start_time": "2024-06-24T02:12:28.873901Z"
    }
   },
   "source": [
    "def A_num(j, N):\n",
    "    assert j>0\n",
    "    assert j%2\n",
    "    assert N%2\n",
    "    assert N>=j\n",
    "    \n",
    "    summy = sp.zeros(1)[0]\n",
    "    \n",
    "    for n in range(j,N+1, 2):\n",
    "        summy = summy + l_n(n)*A0**n * C(j,n)\n",
    "        \n",
    "    return summy\n",
    "        "
   ],
   "execution_count": 287,
   "outputs": []
  },
  {
   "cell_type": "markdown",
   "id": "d886e2174b9ded30",
   "metadata": {},
   "source": []
  },
  {
   "cell_type": "code",
   "execution_count": 33,
   "id": "259f4ba87395403a",
   "metadata": {
    "ExecuteTime": {
     "end_time": "2024-06-21T19:25:30.355435Z",
     "start_time": "2024-06-21T19:25:30.351474Z"
    }
   },
   "source": [
    "def A_sym(j: sp.Basic, N: sp.Basic):\n",
    "    assert isinstance(j, sp.Basic)\n",
    "    assert isinstance(N, sp.Basic)\n",
    "    \n",
    "    diff = N-j\n",
    "\n",
    "    assert diff>=0\n",
    "    assert isinstance(diff, sp.core.numbers.Integer)\n",
    "    assert diff%2 == 0\n",
    "\n",
    "    summy_sum = sp.Integer(0)\n",
    "    sequence = [j+i-1 for i in range(1, 1+(diff+1), 2)]\n",
    "    \n",
    "    for n in sequence:\n",
    "        c = C(j,n).simplify()\n",
    "        l = l_n(n)\n",
    "    \n",
    "        summy_sum = summy_sum + l*c*(A/sp.Integer(2))**(n)\n",
    "        \n",
    "    return summy_sum"
   ],
   "outputs": []
  },
  {
   "cell_type": "code",
   "execution_count": 61,
   "id": "b8821d17",
   "metadata": {},
   "source": [
    "sp.Equality(j,N-1)"
   ],
   "outputs": []
  },
  {
   "cell_type": "code",
   "execution_count": 435,
   "id": "b8dc9cd9",
   "metadata": {},
   "source": [
    "def j_list(DN: sp.Integer):\n",
    "    '''Generates a list of lhs coefficients, one for each harmonic \\'j\\''''\n",
    "    \n",
    "    listy_list = []\n",
    "    for j_val in [N-i for i in range(DN, -1, -2)]:\n",
    "        lhs = A_sym(j_val, N)\n",
    "        rhs = sp.Integer(2)/(j_val*sp.pi) * (-1)**((j_val-1)/sp.Integer(2))\n",
    "\n",
    "        listy_list.append((j_val, lhs, rhs))\n",
    "    return listy_list"
   ],
   "outputs": []
  },
  {
   "cell_type": "code",
   "execution_count": 436,
   "id": "fe0b7345",
   "metadata": {},
   "source": [
    "_2 = sp.Integer(2)\n",
    "_4 = sp.Integer(4)\n",
    "\n",
    "test_term = (_2 * _2**(_2*N) - _4**N*N + 4**N)"
   ],
   "outputs": []
  },
  {
   "cell_type": "code",
   "execution_count": 437,
   "id": "c767031d",
   "metadata": {},
   "source": [
    "test_term"
   ],
   "outputs": []
  },
  {
   "cell_type": "code",
   "execution_count": 1182,
   "id": "2269faff",
   "metadata": {},
   "source": [
    "substitutions = ( (_2**(_2*N), _4**N), ((1/A)**N, A**(-N)))\n",
    "simplifications = (sp.simplify, sp.factor)\n",
    "\n",
    "def slab_simplify(expr, iter: int = 1):\n",
    "    for n in range(iter):\n",
    "        for old, new in substitutions:\n",
    "            expr = expr.subs(old, new)\n",
    "\n",
    "        for simp in simplifications:\n",
    "            expr = simp(expr)\n",
    "\n",
    "    return expr\n",
    "\n",
    "display(test_term)\n",
    "temp = test_term\n",
    "for old, new in substitutions:\n",
    "    temp = temp.subs(old, new)\n",
    "\n",
    "display(substitutions)\n",
    "temp\n",
    "\n",
    "temp2 = temp\n",
    "for simp in simplifications:\n",
    "    temp2 = simp(temp2)\n",
    "\n",
    "display(simplifications)\n",
    "temp2\n"
   ],
   "outputs": []
  },
  {
   "cell_type": "code",
   "execution_count": null,
   "id": "3b832f7f",
   "metadata": {},
   "source": [],
   "outputs": []
  },
  {
   "cell_type": "code",
   "execution_count": 649,
   "id": "889cae29",
   "metadata": {},
   "source": [
    "DN = sp.Integer(16)\n",
    "\n",
    "listy_wisty = j_list(DN)[::-1]\n",
    "latty_mate = f\"\"\"\\\\begin{{align}}\"\"\"\n",
    "solutions = []\n",
    "for terms in listy_wisty:\n",
    "    j_n, lhs, rhs = terms\n",
    "\n",
    "    eq = sp.Equality(lhs, rhs)\n",
    "\n",
    "    for lamby_damby in solutions:\n",
    "        j, symb, sol = lamby_damby\n",
    "        eq = eq.subs(symb, sol)\n",
    "        eq = slab_simplify(eq)\n",
    "\n",
    "    symb = l_n(j_n)\n",
    "    sol = sp.solve(eq, symb)[0]\n",
    "    \n",
    "    sol = slab_simplify(sol)    \n",
    "\n",
    "    ap = (j_n, symb, sol)\n",
    "    solutions.append(ap)\n",
    "\n",
    "    latty_mate = latty_mate + f\"\"\"\n",
    "j = {sp.latex(j_n)} \\\\qquad &\\\\rightarrow \\\\qquad {sp.latex(lhs)} = {sp.latex(rhs)} \\\\\\\\\n",
    "&\\\\rightarrow {sp.latex(symb)} = {sp.latex(sol)} \\\\\\\\\n",
    "\\\\\\\\ \\\\ \\\\\\\\\n",
    "\"\"\"\n",
    "    \n",
    "latty_mate= latty_mate + f\"\"\"\\\\end{{align}}\"\"\"\n",
    "\n",
    "display(Latex(latty_mate))"
   ],
   "outputs": []
  },
  {
   "cell_type": "code",
   "execution_count": 789,
   "id": "08b8e620",
   "metadata": {},
   "source": [
    "print(\"Total of {} solutions.\".format(len(solutions)))"
   ],
   "outputs": []
  },
  {
   "cell_type": "code",
   "execution_count": 779,
   "id": "db4815c6",
   "metadata": {},
   "source": [
    "def compy(j1, j2):\n",
    "    s1 = solutions[j1]\n",
    "    s2 = solutions[j2]\n",
    "\n",
    "    return s1[0]/s2[0], s1[1]/s2[1], s1[2]/s2[2]"
   ],
   "outputs": []
  },
  {
   "cell_type": "code",
   "execution_count": 799,
   "id": "53629f06",
   "metadata": {},
   "source": [
    "for i in range(1, len(solutions)):\n",
    "    compy_comp = compy(i,0)\n",
    "    simpy = slab_simplify(compy_comp[2])\n",
    "\n",
    "    print(\"i={}\".format(i))\n",
    "\n",
    "    display(compy_comp[1])\n",
    "    display(simpy)\n",
    "\n",
    "    print('--------------------------------')"
   ],
   "outputs": []
  },
  {
   "cell_type": "code",
   "execution_count": 652,
   "id": "4ce0df14",
   "metadata": {},
   "source": [
    "for j, symb, sol in solutions:\n",
    "    display(j, symb, sol)\n",
    "    "
   ],
   "outputs": []
  },
  {
   "cell_type": "code",
   "execution_count": null,
   "id": "b55377e1",
   "metadata": {},
   "source": [],
   "outputs": []
  },
  {
   "cell_type": "code",
   "execution_count": 751,
   "id": "938fe4f9",
   "metadata": {},
   "source": [
    "def subsy(N_num: sp.Integer, A_num: sp.RealNumber = A, no_plot: bool = False):\n",
    "    assert N_num>0\n",
    "    assert N_num%2\n",
    "    \n",
    "    should_plot = isinstance(A_num, (float, int, sp.Number))\n",
    "\n",
    "    V = sp.Integer(0)\n",
    "    \n",
    "    coeffs = []\n",
    "    for j, symb, sol in solutions:\n",
    "        coef = slab_simplify(sol.subs(N, N_num).subs(A, A_num))\n",
    "        exponent = j.subs(N,N_num)\n",
    "\n",
    "        if exponent < 1: break\n",
    "\n",
    "        symb = l_n(exponent)\n",
    "\n",
    "        V += coef*phi**(exponent+1) / sp.Integer(exponent+1)\n",
    "\n",
    "        coeffs.append((exponent+1, symb, coef))\n",
    "\n",
    "        if not should_plot:\n",
    "            display(symb, coef)\n",
    "\n",
    "    dV = V.diff(phi)\n",
    "    square_wave = -dV.subs(phi, sp.cos(x)).simplify()\n",
    "\n",
    "    if not should_plot:\n",
    "        display(V)\n",
    "        display(-dV)\n",
    "        display(square_wave)\n",
    "\n",
    "    if should_plot and not no_plot:\n",
    "        r = sp.RealNumber(1.15) * A_num\n",
    "        phi_range = (phi, -r, r)\n",
    "\n",
    "        one = 1.25\n",
    "\n",
    "        a = sp.plot(V, phi_range, ylim=(-0.1, r), label='$V_{NL}(\\\\phi)$', show=False)\n",
    "        b = sp.plot(-dV, phi_range, ylim=(-one,one), label='$-V\\'(\\\\phi)$', show=False)\n",
    "        c = sp.plot(square_wave, (x, -4*sp.pi, 4*sp.pi), ylim=(-one,one), label='$-V\\'(\\\\cos(x))$', show=False)\n",
    "\n",
    "        a.legend = True\n",
    "        a.xlabel = '$\\\\phi$'\n",
    "        a.ylabel = '$V_{NL}(\\\\phi)$'\n",
    "        a.show()\n",
    "        b.legend = True\n",
    "        b.xlabel = '$\\\\phi$'\n",
    "        b.ylabel = '$-V\\'(\\\\phi)$'\n",
    "        b.show()\n",
    "        c.legend = True\n",
    "        c.xlabel = '$x$'\n",
    "        c.ylabel = '$-V\\'(\\\\cos(x))$'\n",
    "        c.show()\n",
    "\n",
    "    return V, dV, square_wave, coeffs  \n",
    "\n",
    "    "
   ],
   "outputs": []
  },
  {
   "cell_type": "code",
   "execution_count": 1245,
   "id": "d34bfaa3",
   "metadata": {},
   "source": [
    "V, dV, square_wave, coeffs = subsy(15, A)"
   ],
   "outputs": []
  },
  {
   "cell_type": "code",
   "execution_count": 759,
   "id": "335a6bc1",
   "metadata": {},
   "source": [
    "N_max = 17\n",
    "\n",
    "V1 = subsy(N_max, 0.5, no_plot=True)[0]\n",
    "#V2 = subsy(15, 1.0, no_plot=True)[0]\n",
    "#V3 = subsy(15, 1.5, no_plot=True)[0]\n",
    "V4 = subsy(N_max, 2.0, no_plot=True)[0]\n",
    "\n",
    "r = sp.RealNumber(1.15) * 2\n",
    "phi_range = (phi, -r, r)\n",
    "\n",
    "a = sp.plot(V1, V4, phi_range, ylim=(-0.1, 2.5))\n",
    "a.legend = True\n"
   ],
   "outputs": []
  },
  {
   "cell_type": "code",
   "execution_count": 824,
   "id": "c1960937",
   "metadata": {},
   "source": [
    "\n"
   ],
   "outputs": []
  },
  {
   "cell_type": "code",
   "execution_count": null,
   "id": "06d7b50e",
   "metadata": {},
   "source": [],
   "outputs": []
  },
  {
   "cell_type": "code",
   "execution_count": 806,
   "id": "23826fd9",
   "metadata": {},
   "source": [
    "plots = []\n",
    "labels = []\n",
    "plo = plot(show=False, ylim=(-10,10))\n",
    "for p, label, coef in coeffs:\n",
    "    display(label)\n",
    "    display(coef)\n",
    "    r = 4\n",
    "    \n",
    "    plo.extend(plot(coef, (A,1.e-2,r), adaptive=False, n=2, label=label, show=False))\n",
    "\n",
    "plo.legend = True\n",
    "plo.xlabel = 'A'\n",
    "plo.ylabel = '$\\lambda_n(A)$'\n",
    "plo.show()\n"
   ],
   "outputs": []
  },
  {
   "cell_type": "markdown",
   "id": "8cbfd241",
   "metadata": {},
   "source": [
    "One can determine the coefficients as $\\lambda_{N-2k}=\\lambda_{N}$ can"
   ]
  },
  {
   "cell_type": "code",
   "execution_count": 829,
   "id": "076c09fa",
   "metadata": {},
   "source": [
    "lambda_N = sp.Eq(sp.symbols('\\\\lambda_N'), (-1)**((N-1)/2)*(2/A)**N*2/N/sp.pi)\n",
    "lambda_N"
   ],
   "outputs": []
  },
  {
   "cell_type": "code",
   "execution_count": 918,
   "id": "46d9733f",
   "metadata": {},
   "source": [
    "k, s1, s2 = sp.symbols('k, \\\\lambda_{{N-2k}}, \\\\lambda_N')\n",
    "propy_symbol = s1/s2\n",
    "propy = (-1)**k*sp.factorial(N-k)/sp.factorial(N-2*k)*A**(2*k)*N/4**k/sp.factorial(k)/(N-2*k)\n",
    "def prop__lambda_Nm2k__lambda_N(k_num:int):\n",
    "    propy_subsy = propy.subs(k, k_num)\n",
    "    index = N-sp.Integer(2)*k_num\n",
    "    s1b = sp.symbols('\\\\lambda_{{{}}}'.format(index).replace(' ',''))\n",
    "    return sp.Eq(s1b/s2, propy_subsy)\n",
    "\n",
    "print(\"This is a heuristic:\")\n",
    "prop__lambda_Nm2k__lambda_N(k)"
   ],
   "outputs": []
  },
  {
   "cell_type": "code",
   "execution_count": 1152,
   "id": "5ce05477",
   "metadata": {},
   "source": [
    "assert not (lambda_N.rhs-solutions[0][2]).simplify().factor().subs((1/A)**N, A**(-N))"
   ],
   "outputs": []
  },
  {
   "cell_type": "code",
   "execution_count": 1183,
   "id": "d3daa242",
   "metadata": {},
   "source": [
    "def lambda_Nm2k(k_num): \n",
    "    propy = prop__lambda_Nm2k__lambda_N(k_num)\n",
    "    propy_lhs, propy_rhs = propy.lhs, propy.rhs\n",
    "\n",
    "    lhs = propy_lhs*lambda_N.lhs\n",
    "    rhs = propy_rhs*lambda_N.rhs\n",
    "    rhs = slab_simplify(rhs)\n",
    "\n",
    "    return sp.Eq(lhs, rhs)"
   ],
   "outputs": []
  },
  {
   "cell_type": "code",
   "execution_count": 1184,
   "id": "fd96ddd4",
   "metadata": {},
   "source": [
    "lambda_Nm2k(k)"
   ],
   "outputs": []
  },
  {
   "cell_type": "code",
   "execution_count": 1193,
   "id": "74d1099d",
   "metadata": {},
   "source": [],
   "outputs": []
  },
  {
   "cell_type": "code",
   "execution_count": 1221,
   "id": "62bc137a",
   "metadata": {},
   "source": [
    "def lambda_Nm2k_version2(k_num):\n",
    "    n = N-2*k_num\n",
    "\n",
    "    coef = 2*(-1)**((N+1)/2)*(2/A)**n/sp.pi/n * sp.binomial(N-k, k)\n",
    "\n",
    "    symb = sp.symbols('\\\\lambda_{{{}}}'.format(N-2*k_num).replace(' ', ''))\n",
    "\n",
    "    return sp.Eq(symb,coef)\n"
   ],
   "outputs": []
  },
  {
   "cell_type": "code",
   "execution_count": 1222,
   "id": "5d11ced3",
   "metadata": {},
   "source": [
    "lambda_Nm2k_version2(k)"
   ],
   "outputs": []
  },
  {
   "cell_type": "code",
   "execution_count": 1253,
   "id": "6a193710",
   "metadata": {},
   "source": [
    "for i in range(1, 9, 2):\n",
    "    print(i)\n",
    "    expo = (i-1)/2\n",
    "    print((-1)**(expo))\n",
    "    print('---')"
   ],
   "outputs": []
  },
  {
   "cell_type": "code",
   "execution_count": 1332,
   "id": "e6037a67",
   "metadata": {},
   "source": [
    "def lambda_n(n_num: sp.Integer, A_num: sp.RealNumber=A, N_num: sp.Integer=N):\n",
    "    symb = sp.symbols('\\\\lambda_{{{}}}'.format(n_num).replace(' ',''))\n",
    "    coef = 2*(-1)**((n_num-1)/2)/n_num/sp.pi * (2/A_num)**n_num * sp.binomial((N_num+n_num)/2,(N_num-n_num)/2)\n",
    "\n",
    "    return sp.Eq(symb,coef)"
   ],
   "outputs": []
  },
  {
   "cell_type": "code",
   "execution_count": 1334,
   "id": "12b1bbd6",
   "metadata": {},
   "source": [
    "N_num = 15\n",
    "display(lambda_n(n))\n",
    "for n_num in range(1, N_num+1, 2):\n",
    "    display(lambda_n(n_num, N_num=N_num))"
   ],
   "outputs": []
  },
  {
   "cell_type": "code",
   "execution_count": 1335,
   "id": "1e8b2be5",
   "metadata": {},
   "source": [
    "def  build_potential(N_num, A_num):\n",
    "    V = sp.Integer(0)\n",
    "    for n_num in range(1, N_num+1, 2):\n",
    "        lambda_n_num = lambda_n(n_num, A_num=A_num, N_num=N_num).rhs\n",
    "        V += sp.Rational(1,n_num+1)*lambda_n_num*phi**(n_num+1)\n",
    "\n",
    "    return V    "
   ],
   "outputs": []
  },
  {
   "cell_type": "code",
   "execution_count": 1338,
   "id": "aa982592",
   "metadata": {},
   "source": [
    "A_num = 10\n",
    "V = build_potential(N_num=41, A_num=A_num)\n",
    "\n",
    "plotty = sp.plot(V, (phi,-1.2*A_num,1.2*A_num), show=False)\n",
    "\n",
    "\n",
    "plotty.ylim = (-0.1, 1.2*A_num)\n",
    "plotty.show()\n"
   ],
   "outputs": []
  },
  {
   "cell_type": "code",
   "execution_count": 1107,
   "id": "faac73f5",
   "metadata": {},
   "source": [
    "from matplotlib import pyplot\n",
    "\n",
    "propy_equy = prop__lambda_Nm2k__lambda_N((N-1)/2).simplify()\n",
    "display(propy_equy)\n",
    "\n",
    "def get_lambda1_coeffs(N_num_max : int, A_num : sp.RealNumber = A):\n",
    "    eqs = []\n",
    "    for N_num in range(1, N_num_max+1, 2):\n",
    "        funky = propy_equy.rhs.subs(N, N_num)\n",
    "        if A_num != A:\n",
    "            funky = funky.subs(A, A_num)\n",
    "        propy_symby = sp.symbols('\\\\lambda_1')/sp.symbols('\\\\lambda_{{N={}}}'.format(N_num))\n",
    "        \n",
    "        eqs.append((N_num, sp.Eq(propy_symby, funky)))\n",
    "        \n",
    "    return eqs    \n",
    "\n",
    "def plot_lambda1_coeffs(N_num_max : int, A_num = sp.RealNumber(1)):\n",
    "    coeffs = get_lambda1_coeffs(N_num_max, A_num)\n",
    "    points_x = []\n",
    "    points_y = []\n",
    "    for N_num, coef in coeffs:\n",
    "        points_x.append(N_num)\n",
    "        points_y.append(abs(coef.rhs))\n",
    "\n",
    "    pyplot.semilogy(points_x, points_y, marker=',')\n",
    "    pyplot.xlabel('N')\n",
    "    pyplot.ylabel('$\\\\dfrac{\\\\lambda_1}{\\\\lambda_N}$')\n",
    "\n"
   ],
   "outputs": []
  },
  {
   "cell_type": "code",
   "execution_count": 1117,
   "id": "336f53da",
   "metadata": {},
   "source": [
    "A_num = 1.95\n",
    "plot_lambda1_coeffs(500, A_num)\n",
    "print('A_num={}'.format(A_num))"
   ],
   "outputs": []
  },
  {
   "cell_type": "code",
   "execution_count": 1151,
   "id": "d1c73d5c",
   "metadata": {},
   "source": [
    "display(solutions[0][1])\n",
    "display(solutions[0][2])\n",
    "display(propy_equy)\n",
    "propy_equy.rhs*solutions[0][2]"
   ],
   "outputs": []
  },
  {
   "cell_type": "code",
   "execution_count": 1140,
   "id": "c7c90e8b",
   "metadata": {},
   "source": [
    "\n",
    "def get_lambdas(N_num: sp.Integer, A_num: sp.RealNumber):\n",
    "    assert N_num>0\n",
    "    assert N_num%2\n",
    "\n",
    "    \n",
    "\n",
    "    for k in range(int((N_num-1)/2), -1, -1):\n",
    "        display(prop__lambda_Nm2k__lambda_N(k).subs(N, N_num).subs(A, A_num))\n",
    "        \n",
    "\n",
    "get_lambdas(5, 1)\n",
    "    "
   ],
   "outputs": []
  },
  {
   "cell_type": "code",
   "execution_count": 1340,
   "id": "2168cec8",
   "metadata": {},
   "source": [
    "lambda_1 = (propy_equy.rhs*solutions[0][2]).simplify()\n",
    "display(sp.Eq(sp.symbols('\\\\lambda_1^(N)'), lambda_1))\n",
    "\n",
    "funky = lambda_1.subs(A,1)\n",
    "funky "
   ],
   "outputs": []
  },
  {
   "cell_type": "code",
   "execution_count": 1089,
   "id": "b924da24",
   "metadata": {},
   "source": [],
   "outputs": []
  },
  {
   "cell_type": "code",
   "execution_count": 1091,
   "id": "5d0c693a",
   "metadata": {},
   "source": [
    "coeffs = get_coeffs(13, 1-1.e-4)\n",
    "V_the_final = sp.Integer(0)\n",
    "\n",
    "for N_num, coef in coeffs:\n",
    "    print(N_num)\n",
    "    display(coef)\n",
    "    V_the_final += coef.rhs*phi**(N_num+1)/(N_num+1)\n",
    "\n",
    "V_the_final"
   ],
   "outputs": []
  },
  {
   "cell_type": "code",
   "execution_count": null,
   "id": "28342781",
   "metadata": {},
   "source": [
    "for k in range(1, 15):\n",
    "    "
   ],
   "outputs": []
  },
  {
   "cell_type": "code",
   "execution_count": null,
   "id": "5b6cab8e",
   "metadata": {},
   "source": [
    "from bokeh.io import output_notebook"
   ],
   "outputs": []
  },
  {
   "cell_type": "code",
   "execution_count": 391,
   "id": "13447b23",
   "metadata": {},
   "source": [
    "_1 = sp.Integer(1)\n",
    "\n",
    "# https://oeis.org/A051711\n",
    "def a(n: sp.Integer):\n",
    "    assert n>=0\n",
    "\n",
    "    if n==0: return _1\n",
    "\n",
    "    return sp.factorial(n) * _4**n/_2"
   ],
   "outputs": []
  },
  {
   "cell_type": "code",
   "execution_count": null,
   "id": "ac5c3412",
   "metadata": {},
   "source": [],
   "outputs": []
  }
 ],
 "metadata": {
  "kernelspec": {
   "display_name": "Python 3 (ipykernel)",
   "language": "python",
   "name": "python3"
  },
  "language_info": {
   "codemirror_mode": {
    "name": "ipython",
    "version": 3
   },
   "file_extension": ".py",
   "mimetype": "text/x-python",
   "name": "python",
   "nbconvert_exporter": "python",
   "pygments_lexer": "ipython3",
   "version": "3.12.3"
  }
 },
 "nbformat": 4,
 "nbformat_minor": 5
}

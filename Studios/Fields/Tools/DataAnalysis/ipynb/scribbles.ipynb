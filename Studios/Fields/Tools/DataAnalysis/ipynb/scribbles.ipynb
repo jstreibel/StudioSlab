{
 "cells": [
  {
   "cell_type": "code",
   "id": "initial_id",
   "metadata": {
    "collapsed": true,
    "ExecuteTime": {
     "end_time": "2024-06-24T02:12:34.231107Z",
     "start_time": "2024-06-24T02:12:34.227779Z"
    }
   },
   "source": [
    "from scipy import special\n",
    "import sympy as sp\n",
    "from sympy.plotting import plot\n",
    "from IPython.display import display, Latex\n",
    "\n",
    "sp.init_printing(fontsize=20)"
   ],
   "outputs": [],
   "execution_count": 288
  },
  {
   "cell_type": "code",
   "id": "2f8f1be732f75712",
   "metadata": {
    "ExecuteTime": {
     "end_time": "2024-06-24T02:12:11.215360Z",
     "start_time": "2024-06-24T02:12:11.212191Z"
    }
   },
   "source": [
    "def C(j,n):\n",
    "    assert j>0\n",
    "    assert j%2\n",
    "    assert n%2\n",
    "    assert n>=j\n",
    "    \n",
    "    return special.comb(n,(j+n)/2,exact=True)"
   ],
   "outputs": [],
   "execution_count": 277
  },
  {
   "cell_type": "code",
   "id": "bc85a2abc71cc96a",
   "metadata": {
    "ExecuteTime": {
     "end_time": "2024-06-24T02:12:11.354381Z",
     "start_time": "2024-06-24T02:12:11.349814Z"
    }
   },
   "source": [
    "N = 21\n",
    "j = 11\n",
    "print(\"j={}; N={}\".format(j, N))\n",
    "for n in range(j,N+1, 2):\n",
    "    print(\"n={} => C(j,n)=C({},{})={}\".format(n,j,n,C(j,n)))"
   ],
   "outputs": [
    {
     "name": "stdout",
     "output_type": "stream",
     "text": [
      "j=11; N=21\n",
      "n=11 => C(j,n)=C(11,11)=1\n",
      "n=13 => C(j,n)=C(11,13)=13\n",
      "n=15 => C(j,n)=C(11,15)=105\n",
      "n=17 => C(j,n)=C(11,17)=680\n",
      "n=19 => C(j,n)=C(11,19)=3876\n",
      "n=21 => C(j,n)=C(11,21)=20349\n"
     ]
    }
   ],
   "execution_count": 278
  },
  {
   "cell_type": "code",
   "id": "75923d402348af89",
   "metadata": {
    "ExecuteTime": {
     "end_time": "2024-06-24T02:12:11.528205Z",
     "start_time": "2024-06-24T02:12:11.525358Z"
    }
   },
   "source": [
    "j, n, N = sp.symbols('j, n, N')\n",
    "A = sp.symbols('A', real=True)\n",
    "phi = sp.symbols('\\\\phi')"
   ],
   "outputs": [],
   "execution_count": 279
  },
  {
   "cell_type": "code",
   "id": "1399bd09ba2fedac",
   "metadata": {
    "ExecuteTime": {
     "end_time": "2024-06-24T02:12:12.247528Z",
     "start_time": "2024-06-24T02:12:12.243959Z"
    }
   },
   "source": [
    "l_n = lambda n: sp.symbols(\"\\\\lambda_{{{}}}\".format(n).replace(\" \",\"\"))"
   ],
   "outputs": [],
   "execution_count": 280
  },
  {
   "cell_type": "code",
   "id": "a2d1dd0803426ef",
   "metadata": {
    "ExecuteTime": {
     "end_time": "2024-06-24T02:12:12.474686Z",
     "start_time": "2024-06-24T02:12:12.471594Z"
    }
   },
   "source": [
    "def C(j,n):\n",
    "    k = (j+n)/2\n",
    "    return sp.factorial(n)/(sp.factorial(k)*sp.factorial(n-k))"
   ],
   "outputs": [],
   "execution_count": 281
  },
  {
   "cell_type": "code",
   "id": "c10f1a562c1a14bb",
   "metadata": {
    "ExecuteTime": {
     "end_time": "2024-06-24T02:12:28.872139Z",
     "start_time": "2024-06-24T02:12:28.735748Z"
    }
   },
   "source": [
    "C(N-4, N)"
   ],
   "outputs": [
    {
     "data": {
      "text/plain": [
       "    N!    \n",
       "──────────\n",
       "2⋅(N - 2)!"
      ],
      "image/png": "[encoded data removed]",
      "text/latex": "$\\displaystyle \\frac{N!}{2 \\left(N - 2\\right)!}$"
     },
     "execution_count": 286,
     "metadata": {},
     "output_type": "execute_result"
    }
   ],
   "execution_count": 286
  },
  {
   "cell_type": "code",
   "id": "35cd40e9ce160ca5",
   "metadata": {
    "ExecuteTime": {
     "end_time": "2024-06-24T02:12:28.878046Z",
     "start_time": "2024-06-24T02:12:28.873901Z"
    }
   },
   "source": [
    "def A_num(j, N):\n",
    "    assert j>0\n",
    "    assert j%2\n",
    "    assert N%2\n",
    "    assert N>=j\n",
    "    \n",
    "    summy = sp.zeros(1)[0]\n",
    "    \n",
    "    for n in range(j,N+1, 2):\n",
    "        summy = summy + l_n(n)*A0**n * C(j,n)\n",
    "        \n",
    "    return summy\n",
    "        "
   ],
   "outputs": [],
   "execution_count": 287
  },
  {
   "cell_type": "markdown",
   "id": "d886e2174b9ded30",
   "metadata": {},
   "source": []
  },
  {
   "cell_type": "code",
   "execution_count": 33,
   "id": "259f4ba87395403a",
   "metadata": {
    "ExecuteTime": {
     "end_time": "2024-06-21T19:25:30.355435Z",
     "start_time": "2024-06-21T19:25:30.351474Z"
    }
   },
   "outputs": [],
   "source": [
    "def A_sym(j: sp.Basic, N: sp.Basic):\n",
    "    assert isinstance(j, sp.Basic)\n",
    "    assert isinstance(N, sp.Basic)\n",
    "    \n",
    "    diff = N-j\n",
    "\n",
    "    assert diff>=0\n",
    "    assert isinstance(diff, sp.core.numbers.Integer)\n",
    "    assert diff%2 == 0\n",
    "\n",
    "    summy_sum = sp.Integer(0)\n",
    "    sequence = [j+i-1 for i in range(1, 1+(diff+1), 2)]\n",
    "    \n",
    "    for n in sequence:\n",
    "        c = C(j,n).simplify()\n",
    "        l = l_n(n)\n",
    "    \n",
    "        summy_sum = summy_sum + l*c*(A/sp.Integer(2))**(n)\n",
    "        \n",
    "    return summy_sum"
   ]
  },
  {
   "cell_type": "code",
   "execution_count": 61,
   "id": "b8821d17",
   "metadata": {},
   "outputs": [
    {
     "data": {
      "image/png": "[encoded data removed]",
      "text/latex": [
       "$\\displaystyle j = N - 1$"
      ],
      "text/plain": [
       "j = N - 1"
      ]
     },
     "execution_count": 61,
     "metadata": {},
     "output_type": "execute_result"
    }
   ],
   "source": [
    "sp.Equality(j,N-1)"
   ]
  },
  {
   "cell_type": "code",
   "execution_count": 435,
   "id": "b8dc9cd9",
   "metadata": {},
   "outputs": [],
   "source": [
    "def j_list(DN: sp.Integer):\n",
    "    '''Generates a list of lhs coefficients, one for each harmonic \\'j\\''''\n",
    "    \n",
    "    listy_list = []\n",
    "    for j_val in [N-i for i in range(DN, -1, -2)]:\n",
    "        lhs = A_sym(j_val, N)\n",
    "        rhs = sp.Integer(2)/(j_val*sp.pi) * (-1)**((j_val-1)/sp.Integer(2))\n",
    "\n",
    "        listy_list.append((j_val, lhs, rhs))\n",
    "    return listy_list"
   ]
  },
  {
   "cell_type": "code",
   "execution_count": 436,
   "id": "fe0b7345",
   "metadata": {},
   "outputs": [],
   "source": [
    "_2 = sp.Integer(2)\n",
    "_4 = sp.Integer(4)\n",
    "\n",
    "test_term = (_2 * _2**(_2*N) - _4**N*N + 4**N)"
   ]
  },
  {
   "cell_type": "code",
   "execution_count": 437,
   "id": "c767031d",
   "metadata": {},
   "outputs": [
    {
     "data": {
      "image/png": "[encoded data removed]",
      "text/latex": [
       "$\\displaystyle 2 \\cdot 2^{2 N} - 4^{N} N + 4^{N}$"
      ],
      "text/plain": [
       "   2⋅N    N      N\n",
       "2⋅2    - 4 ⋅N + 4 "
      ]
     },
     "execution_count": 437,
     "metadata": {},
     "output_type": "execute_result"
    }
   ],
   "source": [
    "test_term"
   ]
  },
  {
   "cell_type": "code",
   "execution_count": 1182,
   "id": "2269faff",
   "metadata": {},
   "outputs": [
    {
     "data": {
      "image/png": "[encoded data removed]",
      "text/latex": [
       "$\\displaystyle 2 \\cdot 2^{2 N} - 4^{N} N + 4^{N}$"
      ],
      "text/plain": [
       "   2⋅N    N      N\n",
       "2⋅2    - 4 ⋅N + 4 "
      ]
     },
     "metadata": {},
     "output_type": "display_data"
    },
    {
     "data": {
      "image/png": "[encoded data removed]",
      "text/latex": [
       "$\\displaystyle \\left( \\left( 2^{2 N}, \\  4^{N}\\right), \\  \\left( \\left(\\frac{1}{A}\\right)^{N}, \\  A^{- N}\\right)\\right)$"
      ],
      "text/plain": [
       "⎛            ⎛   N     ⎞⎞\n",
       "⎜⎛ 2⋅N   N⎞  ⎜⎛1⎞    -N⎟⎟\n",
       "⎜⎝2   , 4 ⎠, ⎜⎜─⎟ , A  ⎟⎟\n",
       "⎝            ⎝⎝A⎠      ⎠⎠"
      ]
     },
     "metadata": {},
     "output_type": "display_data"
    },
    {
     "data": {
      "text/plain": [
       "(<function sympy.simplify.simplify.simplify(expr, ratio=1.7, measure=<function count_ops at 0x7f4bfd94c2c0>, rational=False, inverse=False, doit=True, **kwargs)>,\n",
       " <function sympy.polys.polytools.factor(f, *gens, deep=False, **args)>)"
      ]
     },
     "metadata": {},
     "output_type": "display_data"
    },
    {
     "data": {
      "image/png": "[encoded data removed]",
      "text/latex": [
       "$\\displaystyle - 4^{N} \\left(N - 3\\right)$"
      ],
      "text/plain": [
       "  N        \n",
       "-4 ⋅(N - 3)"
      ]
     },
     "execution_count": 1182,
     "metadata": {},
     "output_type": "execute_result"
    }
   ],
   "source": [
    "substitutions = ( (_2**(_2*N), _4**N), ((1/A)**N, A**(-N)))\n",
    "simplifications = (sp.simplify, sp.factor)\n",
    "\n",
    "def slab_simplify(expr, iter: int = 1):\n",
    "    for n in range(iter):\n",
    "        for old, new in substitutions:\n",
    "            expr = expr.subs(old, new)\n",
    "\n",
    "        for simp in simplifications:\n",
    "            expr = simp(expr)\n",
    "\n",
    "    return expr\n",
    "\n",
    "display(test_term)\n",
    "temp = test_term\n",
    "for old, new in substitutions:\n",
    "    temp = temp.subs(old, new)\n",
    "\n",
    "display(substitutions)\n",
    "temp\n",
    "\n",
    "temp2 = temp\n",
    "for simp in simplifications:\n",
    "    temp2 = simp(temp2)\n",
    "\n",
    "display(simplifications)\n",
    "temp2\n"
   ]
  },
  {
   "cell_type": "code",
   "execution_count": null,
   "id": "3b832f7f",
   "metadata": {},
   "outputs": [],
   "source": []
  },
  {
   "cell_type": "code",
   "execution_count": 649,
   "id": "889cae29",
   "metadata": {},
   "outputs": [
    {
     "data": {
      "text/latex": [
       "\\begin{align}\n",
       "j = N \\qquad &\\rightarrow \\qquad \\lambda_{N} \\left(\\frac{A}{2}\\right)^{N} = \\frac{2 \\left(-1\\right)^{\\frac{N}{2} - \\frac{1}{2}}}{\\pi N} \\\\\n",
       "&\\rightarrow \\lambda_{N} = \\frac{\\left(-1\\right)^{\\frac{N}{2} + \\frac{3}{2}} \\cdot 2^{N + 1} A^{- N}}{\\pi N} \\\\\n",
       "\\\\ \\ \\\\\n",
       "\n",
       "j = N - 2 \\qquad &\\rightarrow \\qquad N \\lambda_{N} \\left(\\frac{A}{2}\\right)^{N} + \\lambda_{N-2} \\left(\\frac{A}{2}\\right)^{N - 2} = \\frac{2 \\left(-1\\right)^{\\frac{N}{2} - \\frac{3}{2}}}{\\pi \\left(N - 2\\right)} \\\\\n",
       "&\\rightarrow \\lambda_{N-2} = \\frac{\\left(-1\\right)^{\\frac{N}{2}} \\cdot 2^{N} i A^{2 - N} \\left(N - 1\\right)}{2 \\pi \\left(N - 2\\right)} \\\\\n",
       "\\\\ \\ \\\\\n",
       "\n",
       "j = N - 4 \\qquad &\\rightarrow \\qquad \\frac{N \\lambda_{N} \\left(\\frac{A}{2}\\right)^{N} \\left(N - 1\\right)}{2} + \\lambda_{N-2} \\left(\\frac{A}{2}\\right)^{N - 2} \\left(N - 2\\right) + \\lambda_{N-4} \\left(\\frac{A}{2}\\right)^{N - 4} = \\frac{2 \\left(-1\\right)^{\\frac{N}{2} - \\frac{5}{2}}}{\\pi \\left(N - 4\\right)} \\\\\n",
       "&\\rightarrow \\lambda_{N-4} = - \\frac{\\left(-1\\right)^{\\frac{N}{2}} \\cdot 2^{N} i A^{4 - N} \\left(N - 3\\right) \\left(N - 2\\right)}{16 \\pi \\left(N - 4\\right)} \\\\\n",
       "\\\\ \\ \\\\\n",
       "\n",
       "j = N - 6 \\qquad &\\rightarrow \\qquad \\frac{N \\lambda_{N} \\left(\\frac{A}{2}\\right)^{N} \\left(N - 2\\right) \\left(N - 1\\right)}{6} + \\frac{\\lambda_{N-2} \\left(\\frac{A}{2}\\right)^{N - 2} \\left(N - 3\\right) \\left(N - 2\\right)}{2} + \\lambda_{N-4} \\left(\\frac{A}{2}\\right)^{N - 4} \\left(N - 4\\right) + \\lambda_{N-6} \\left(\\frac{A}{2}\\right)^{N - 6} = \\frac{2 \\left(-1\\right)^{\\frac{N}{2} - \\frac{7}{2}}}{\\pi \\left(N - 6\\right)} \\\\\n",
       "&\\rightarrow \\lambda_{N-6} = \\frac{\\left(-1\\right)^{\\frac{N}{2}} \\cdot 2^{N} i A^{6 - N} \\left(N - 5\\right) \\left(N - 4\\right) \\left(N - 3\\right)}{192 \\pi \\left(N - 6\\right)} \\\\\n",
       "\\\\ \\ \\\\\n",
       "\n",
       "j = N - 8 \\qquad &\\rightarrow \\qquad \\frac{N \\lambda_{N} \\left(\\frac{A}{2}\\right)^{N} \\left(N - 3\\right) \\left(N - 2\\right) \\left(N - 1\\right)}{24} + \\frac{\\lambda_{N-2} \\left(\\frac{A}{2}\\right)^{N - 2} \\left(N - 4\\right) \\left(N - 3\\right) \\left(N - 2\\right)}{6} + \\frac{\\lambda_{N-4} \\left(\\frac{A}{2}\\right)^{N - 4} \\left(N - 5\\right) \\left(N - 4\\right)}{2} + \\lambda_{N-6} \\left(\\frac{A}{2}\\right)^{N - 6} \\left(N - 6\\right) + \\lambda_{N-8} \\left(\\frac{A}{2}\\right)^{N - 8} = \\frac{2 \\left(-1\\right)^{\\frac{N}{2} - \\frac{9}{2}}}{\\pi \\left(N - 8\\right)} \\\\\n",
       "&\\rightarrow \\lambda_{N-8} = - \\frac{\\left(-1\\right)^{\\frac{N}{2}} \\cdot 2^{N} i A^{8 - N} \\left(N - 7\\right) \\left(N - 6\\right) \\left(N - 5\\right) \\left(N - 4\\right)}{3072 \\pi \\left(N - 8\\right)} \\\\\n",
       "\\\\ \\ \\\\\n",
       "\n",
       "j = N - 10 \\qquad &\\rightarrow \\qquad \\lambda_{N-10} \\left(\\frac{A}{2}\\right)^{N - 10} + \\frac{\\lambda_{N-2} \\left(\\frac{A}{2}\\right)^{N - 2} \\left(N - 5\\right) \\left(N - 4\\right) \\left(N - 3\\right) \\left(N - 2\\right)}{24} + \\frac{\\lambda_{N-4} \\left(\\frac{A}{2}\\right)^{N - 4} \\left(N - 6\\right) \\left(N - 5\\right) \\left(N - 4\\right)}{6} + \\frac{\\lambda_{N-6} \\left(\\frac{A}{2}\\right)^{N - 6} \\left(N - 7\\right) \\left(N - 6\\right)}{2} + \\lambda_{N-8} \\left(\\frac{A}{2}\\right)^{N - 8} \\left(N - 8\\right) + \\frac{\\lambda_{N} \\left(\\frac{A}{2}\\right)^{N} N!}{120 \\left(N - 5\\right)!} = \\frac{2 \\left(-1\\right)^{\\frac{N}{2} - \\frac{11}{2}}}{\\pi \\left(N - 10\\right)} \\\\\n",
       "&\\rightarrow \\lambda_{N-10} = \\frac{\\left(-1\\right)^{\\frac{N}{2}} \\cdot 2^{N} i A^{10 - N} \\left(N - 9\\right) \\left(N - 8\\right) \\left(N - 7\\right) \\left(N - 6\\right) \\left(N - 5\\right)}{61440 \\pi \\left(N - 10\\right)} \\\\\n",
       "\\\\ \\ \\\\\n",
       "\n",
       "j = N - 12 \\qquad &\\rightarrow \\qquad \\lambda_{N-10} \\left(\\frac{A}{2}\\right)^{N - 10} \\left(N - 10\\right) + \\lambda_{N-12} \\left(\\frac{A}{2}\\right)^{N - 12} + \\frac{\\lambda_{N-2} \\left(\\frac{A}{2}\\right)^{N - 2} \\left(N - 6\\right) \\left(N - 5\\right) \\left(N - 4\\right) \\left(N - 3\\right) \\left(N - 2\\right)}{120} + \\frac{\\lambda_{N-4} \\left(\\frac{A}{2}\\right)^{N - 4} \\left(N - 7\\right) \\left(N - 6\\right) \\left(N - 5\\right) \\left(N - 4\\right)}{24} + \\frac{\\lambda_{N-6} \\left(\\frac{A}{2}\\right)^{N - 6} \\left(N - 8\\right) \\left(N - 7\\right) \\left(N - 6\\right)}{6} + \\frac{\\lambda_{N-8} \\left(\\frac{A}{2}\\right)^{N - 8} \\left(N - 9\\right) \\left(N - 8\\right)}{2} + \\frac{\\lambda_{N} \\left(\\frac{A}{2}\\right)^{N} N!}{720 \\left(N - 6\\right)!} = \\frac{2 \\left(-1\\right)^{\\frac{N}{2} - \\frac{13}{2}}}{\\pi \\left(N - 12\\right)} \\\\\n",
       "&\\rightarrow \\lambda_{N-12} = - \\frac{\\left(-1\\right)^{\\frac{N}{2}} \\cdot 2^{N} i A^{12 - N} \\left(N - 11\\right) \\left(N - 10\\right) \\left(N - 9\\right) \\left(N - 8\\right) \\left(N - 7\\right) \\left(N - 6\\right)}{1474560 \\pi \\left(N - 12\\right)} \\\\\n",
       "\\\\ \\ \\\\\n",
       "\n",
       "j = N - 14 \\qquad &\\rightarrow \\qquad \\frac{\\lambda_{N-10} \\left(\\frac{A}{2}\\right)^{N - 10} \\left(N - 11\\right) \\left(N - 10\\right)}{2} + \\lambda_{N-12} \\left(\\frac{A}{2}\\right)^{N - 12} \\left(N - 12\\right) + \\lambda_{N-14} \\left(\\frac{A}{2}\\right)^{N - 14} + \\frac{\\lambda_{N-2} \\left(\\frac{A}{2}\\right)^{N - 2} \\left(N - 2\\right)!}{720 \\left(N - 8\\right)!} + \\frac{\\lambda_{N-4} \\left(\\frac{A}{2}\\right)^{N - 4} \\left(N - 8\\right) \\left(N - 7\\right) \\left(N - 6\\right) \\left(N - 5\\right) \\left(N - 4\\right)}{120} + \\frac{\\lambda_{N-6} \\left(\\frac{A}{2}\\right)^{N - 6} \\left(N - 9\\right) \\left(N - 8\\right) \\left(N - 7\\right) \\left(N - 6\\right)}{24} + \\frac{\\lambda_{N-8} \\left(\\frac{A}{2}\\right)^{N - 8} \\left(N - 10\\right) \\left(N - 9\\right) \\left(N - 8\\right)}{6} + \\frac{\\lambda_{N} \\left(\\frac{A}{2}\\right)^{N} N!}{5040 \\left(N - 7\\right)!} = \\frac{2 \\left(-1\\right)^{\\frac{N}{2} - \\frac{15}{2}}}{\\pi \\left(N - 14\\right)} \\\\\n",
       "&\\rightarrow \\lambda_{N-14} = \\frac{\\left(-1\\right)^{\\frac{N}{2}} \\cdot 2^{N} i A^{14 - N} \\left(N - 13\\right) \\left(N - 12\\right) \\left(N - 11\\right) \\left(N - 10\\right) \\left(N - 9\\right) \\left(N - 8\\right) \\left(N - 7\\right)}{41287680 \\pi \\left(N - 14\\right)} \\\\\n",
       "\\\\ \\ \\\\\n",
       "\n",
       "j = N - 16 \\qquad &\\rightarrow \\qquad \\frac{\\lambda_{N-10} \\left(\\frac{A}{2}\\right)^{N - 10} \\left(N - 12\\right) \\left(N - 11\\right) \\left(N - 10\\right)}{6} + \\frac{\\lambda_{N-12} \\left(\\frac{A}{2}\\right)^{N - 12} \\left(N - 13\\right) \\left(N - 12\\right)}{2} + \\lambda_{N-14} \\left(\\frac{A}{2}\\right)^{N - 14} \\left(N - 14\\right) + \\lambda_{N-16} \\left(\\frac{A}{2}\\right)^{N - 16} + \\frac{\\lambda_{N-2} \\left(\\frac{A}{2}\\right)^{N - 2} \\left(N - 2\\right)!}{5040 \\left(N - 9\\right)!} + \\frac{\\lambda_{N-4} \\left(\\frac{A}{2}\\right)^{N - 4} \\left(N - 4\\right)!}{720 \\left(N - 10\\right)!} + \\frac{\\lambda_{N-6} \\left(\\frac{A}{2}\\right)^{N - 6} \\left(N - 10\\right) \\left(N - 9\\right) \\left(N - 8\\right) \\left(N - 7\\right) \\left(N - 6\\right)}{120} + \\frac{\\lambda_{N-8} \\left(\\frac{A}{2}\\right)^{N - 8} \\left(N - 11\\right) \\left(N - 10\\right) \\left(N - 9\\right) \\left(N - 8\\right)}{24} + \\frac{\\lambda_{N} \\left(\\frac{A}{2}\\right)^{N} N!}{40320 \\left(N - 8\\right)!} = \\frac{2 \\left(-1\\right)^{\\frac{N}{2} - \\frac{17}{2}}}{\\pi \\left(N - 16\\right)} \\\\\n",
       "&\\rightarrow \\lambda_{N-16} = - \\frac{\\left(-1\\right)^{\\frac{N}{2}} \\cdot 2^{N} i A^{16 - N} \\left(N - 15\\right) \\left(N - 14\\right) \\left(N - 13\\right) \\left(N - 12\\right) \\left(N - 11\\right) \\left(N - 10\\right) \\left(N - 9\\right) \\left(N - 8\\right)}{1321205760 \\pi \\left(N - 16\\right)} \\\\\n",
       "\\\\ \\ \\\\\n",
       "\\end{align}"
      ],
      "text/plain": [
       "<IPython.core.display.Latex object>"
      ]
     },
     "metadata": {},
     "output_type": "display_data"
    }
   ],
   "source": [
    "DN = sp.Integer(16)\n",
    "\n",
    "listy_wisty = j_list(DN)[::-1]\n",
    "latty_mate = f\"\"\"\\\\begin{{align}}\"\"\"\n",
    "solutions = []\n",
    "for terms in listy_wisty:\n",
    "    j_n, lhs, rhs = terms\n",
    "\n",
    "    eq = sp.Equality(lhs, rhs)\n",
    "\n",
    "    for lamby_damby in solutions:\n",
    "        j, symb, sol = lamby_damby\n",
    "        eq = eq.subs(symb, sol)\n",
    "        eq = slab_simplify(eq)\n",
    "\n",
    "    symb = l_n(j_n)\n",
    "    sol = sp.solve(eq, symb)[0]\n",
    "    \n",
    "    sol = slab_simplify(sol)    \n",
    "\n",
    "    ap = (j_n, symb, sol)\n",
    "    solutions.append(ap)\n",
    "\n",
    "    latty_mate = latty_mate + f\"\"\"\n",
    "j = {sp.latex(j_n)} \\\\qquad &\\\\rightarrow \\\\qquad {sp.latex(lhs)} = {sp.latex(rhs)} \\\\\\\\\n",
    "&\\\\rightarrow {sp.latex(symb)} = {sp.latex(sol)} \\\\\\\\\n",
    "\\\\\\\\ \\\\ \\\\\\\\\n",
    "\"\"\"\n",
    "    \n",
    "latty_mate= latty_mate + f\"\"\"\\\\end{{align}}\"\"\"\n",
    "\n",
    "display(Latex(latty_mate))"
   ]
  },
  {
   "cell_type": "code",
   "execution_count": 789,
   "id": "08b8e620",
   "metadata": {},
   "outputs": [
    {
     "name": "stdout",
     "output_type": "stream",
     "text": [
      "Total of 9 solutions.\n"
     ]
    }
   ],
   "source": [
    "print(\"Total of {} solutions.\".format(len(solutions)))"
   ]
  },
  {
   "cell_type": "code",
   "execution_count": 779,
   "id": "db4815c6",
   "metadata": {},
   "outputs": [],
   "source": [
    "def compy(j1, j2):\n",
    "    s1 = solutions[j1]\n",
    "    s2 = solutions[j2]\n",
    "\n",
    "    return s1[0]/s2[0], s1[1]/s2[1], s1[2]/s2[2]"
   ]
  },
  {
   "cell_type": "code",
   "execution_count": 799,
   "id": "53629f06",
   "metadata": {},
   "outputs": [
    {
     "name": "stdout",
     "output_type": "stream",
     "text": [
      "i=1\n"
     ]
    },
    {
     "data": {
      "image/png": "[encoded data removed]",
      "text/latex": [
       "$\\displaystyle \\frac{\\lambda_{N-2}}{\\lambda_{N}}$"
      ],
      "text/plain": [
       "\\lambda_{N-2}\n",
       "─────────────\n",
       " \\lambda_{N} "
      ]
     },
     "metadata": {},
     "output_type": "display_data"
    },
    {
     "data": {
      "image/png": "[encoded data removed]",
      "text/latex": [
       "$\\displaystyle - \\frac{A^{2} N \\left(N - 1\\right)}{4 \\left(N - 2\\right)}$"
      ],
      "text/plain": [
       "  2           \n",
       "-A ⋅N⋅(N - 1) \n",
       "──────────────\n",
       "  4⋅(N - 2)   "
      ]
     },
     "metadata": {},
     "output_type": "display_data"
    },
    {
     "name": "stdout",
     "output_type": "stream",
     "text": [
      "--------------------------------\n",
      "i=2\n"
     ]
    },
    {
     "data": {
      "image/png": "[encoded data removed]",
      "text/latex": [
       "$\\displaystyle \\frac{\\lambda_{N-4}}{\\lambda_{N}}$"
      ],
      "text/plain": [
       "\\lambda_{N-4}\n",
       "─────────────\n",
       " \\lambda_{N} "
      ]
     },
     "metadata": {},
     "output_type": "display_data"
    },
    {
     "data": {
      "image/png": "[encoded data removed]",
      "text/latex": [
       "$\\displaystyle \\frac{A^{4} N \\left(N - 3\\right) \\left(N - 2\\right)}{32 \\left(N - 4\\right)}$"
      ],
      "text/plain": [
       " 4                  \n",
       "A ⋅N⋅(N - 3)⋅(N - 2)\n",
       "────────────────────\n",
       "     32⋅(N - 4)     "
      ]
     },
     "metadata": {},
     "output_type": "display_data"
    },
    {
     "name": "stdout",
     "output_type": "stream",
     "text": [
      "--------------------------------\n",
      "i=3\n"
     ]
    },
    {
     "data": {
      "image/png": "[encoded data removed]",
      "text/latex": [
       "$\\displaystyle \\frac{\\lambda_{N-6}}{\\lambda_{N}}$"
      ],
      "text/plain": [
       "\\lambda_{N-6}\n",
       "─────────────\n",
       " \\lambda_{N} "
      ]
     },
     "metadata": {},
     "output_type": "display_data"
    },
    {
     "data": {
      "image/png": "[encoded data removed]",
      "text/latex": [
       "$\\displaystyle - \\frac{A^{6} N \\left(N - 5\\right) \\left(N - 4\\right) \\left(N - 3\\right)}{384 \\left(N - 6\\right)}$"
      ],
      "text/plain": [
       "  6                           \n",
       "-A ⋅N⋅(N - 5)⋅(N - 4)⋅(N - 3) \n",
       "──────────────────────────────\n",
       "         384⋅(N - 6)          "
      ]
     },
     "metadata": {},
     "output_type": "display_data"
    },
    {
     "name": "stdout",
     "output_type": "stream",
     "text": [
      "--------------------------------\n",
      "i=4\n"
     ]
    },
    {
     "data": {
      "image/png": "[encoded data removed]",
      "text/latex": [
       "$\\displaystyle \\frac{\\lambda_{N-8}}{\\lambda_{N}}$"
      ],
      "text/plain": [
       "\\lambda_{N-8}\n",
       "─────────────\n",
       " \\lambda_{N} "
      ]
     },
     "metadata": {},
     "output_type": "display_data"
    },
    {
     "data": {
      "image/png": "[encoded data removed]",
      "text/latex": [
       "$\\displaystyle \\frac{A^{8} N \\left(N - 7\\right) \\left(N - 6\\right) \\left(N - 5\\right) \\left(N - 4\\right)}{6144 \\left(N - 8\\right)}$"
      ],
      "text/plain": [
       " 8                                  \n",
       "A ⋅N⋅(N - 7)⋅(N - 6)⋅(N - 5)⋅(N - 4)\n",
       "────────────────────────────────────\n",
       "            6144⋅(N - 8)            "
      ]
     },
     "metadata": {},
     "output_type": "display_data"
    },
    {
     "name": "stdout",
     "output_type": "stream",
     "text": [
      "--------------------------------\n",
      "i=5\n"
     ]
    },
    {
     "data": {
      "image/png": "[encoded data removed]",
      "text/latex": [
       "$\\displaystyle \\frac{\\lambda_{N-10}}{\\lambda_{N}}$"
      ],
      "text/plain": [
       "\\lambda_{N-10}\n",
       "──────────────\n",
       " \\lambda_{N}  "
      ]
     },
     "metadata": {},
     "output_type": "display_data"
    },
    {
     "data": {
      "image/png": "[encoded data removed]",
      "text/latex": [
       "$\\displaystyle - \\frac{A^{10} N \\left(N - 9\\right) \\left(N - 8\\right) \\left(N - 7\\right) \\left(N - 6\\right) \\left(N - 5\\right)}{122880 \\left(N - 10\\right)}$"
      ],
      "text/plain": [
       "  10                                           \n",
       "-A  ⋅N⋅(N - 9)⋅(N - 8)⋅(N - 7)⋅(N - 6)⋅(N - 5) \n",
       "───────────────────────────────────────────────\n",
       "                122880⋅(N - 10)                "
      ]
     },
     "metadata": {},
     "output_type": "display_data"
    },
    {
     "name": "stdout",
     "output_type": "stream",
     "text": [
      "--------------------------------\n",
      "i=6\n"
     ]
    },
    {
     "data": {
      "image/png": "[encoded data removed]",
      "text/latex": [
       "$\\displaystyle \\frac{\\lambda_{N-12}}{\\lambda_{N}}$"
      ],
      "text/plain": [
       "\\lambda_{N-12}\n",
       "──────────────\n",
       " \\lambda_{N}  "
      ]
     },
     "metadata": {},
     "output_type": "display_data"
    },
    {
     "data": {
      "image/png": "[encoded data removed]",
      "text/latex": [
       "$\\displaystyle \\frac{A^{12} N \\left(N - 11\\right) \\left(N - 10\\right) \\left(N - 9\\right) \\left(N - 8\\right) \\left(N - 7\\right) \\left(N - 6\\right)}{2949120 \\left(N - 12\\right)}$"
      ],
      "text/plain": [
       " 12                                                    \n",
       "A  ⋅N⋅(N - 11)⋅(N - 10)⋅(N - 9)⋅(N - 8)⋅(N - 7)⋅(N - 6)\n",
       "───────────────────────────────────────────────────────\n",
       "                    2949120⋅(N - 12)                   "
      ]
     },
     "metadata": {},
     "output_type": "display_data"
    },
    {
     "name": "stdout",
     "output_type": "stream",
     "text": [
      "--------------------------------\n",
      "i=7\n"
     ]
    },
    {
     "data": {
      "image/png": "[encoded data removed]",
      "text/latex": [
       "$\\displaystyle \\frac{\\lambda_{N-14}}{\\lambda_{N}}$"
      ],
      "text/plain": [
       "\\lambda_{N-14}\n",
       "──────────────\n",
       " \\lambda_{N}  "
      ]
     },
     "metadata": {},
     "output_type": "display_data"
    },
    {
     "data": {
      "image/png": "[encoded data removed]",
      "text/latex": [
       "$\\displaystyle - \\frac{A^{14} N \\left(N - 13\\right) \\left(N - 12\\right) \\left(N - 11\\right) \\left(N - 10\\right) \\left(N - 9\\right) \\left(N - 8\\right) \\left(N - 7\\right)}{82575360 \\left(N - 14\\right)}$"
      ],
      "text/plain": [
       "  14                                                               \n",
       "-A  ⋅N⋅(N - 13)⋅(N - 12)⋅(N - 11)⋅(N - 10)⋅(N - 9)⋅(N - 8)⋅(N - 7) \n",
       "───────────────────────────────────────────────────────────────────\n",
       "                         82575360⋅(N - 14)                         "
      ]
     },
     "metadata": {},
     "output_type": "display_data"
    },
    {
     "name": "stdout",
     "output_type": "stream",
     "text": [
      "--------------------------------\n",
      "i=8\n"
     ]
    },
    {
     "data": {
      "image/png": "[encoded data removed]",
      "text/latex": [
       "$\\displaystyle \\frac{\\lambda_{N-16}}{\\lambda_{N}}$"
      ],
      "text/plain": [
       "\\lambda_{N-16}\n",
       "──────────────\n",
       " \\lambda_{N}  "
      ]
     },
     "metadata": {},
     "output_type": "display_data"
    },
    {
     "data": {
      "image/png": "[encoded data removed]",
      "text/latex": [
       "$\\displaystyle \\frac{A^{16} N \\left(N - 15\\right) \\left(N - 14\\right) \\left(N - 13\\right) \\left(N - 12\\right) \\left(N - 11\\right) \\left(N - 10\\right) \\left(N - 9\\right) \\left(N - 8\\right)}{2642411520 \\left(N - 16\\right)}$"
      ],
      "text/plain": [
       " 16                                                                        \n",
       "A  ⋅N⋅(N - 15)⋅(N - 14)⋅(N - 13)⋅(N - 12)⋅(N - 11)⋅(N - 10)⋅(N - 9)⋅(N - 8)\n",
       "───────────────────────────────────────────────────────────────────────────\n",
       "                            2642411520⋅(N - 16)                            "
      ]
     },
     "metadata": {},
     "output_type": "display_data"
    },
    {
     "name": "stdout",
     "output_type": "stream",
     "text": [
      "--------------------------------\n"
     ]
    }
   ],
   "source": [
    "for i in range(1, len(solutions)):\n",
    "    compy_comp = compy(i,0)\n",
    "    simpy = slab_simplify(compy_comp[2])\n",
    "\n",
    "    print(\"i={}\".format(i))\n",
    "\n",
    "    display(compy_comp[1])\n",
    "    display(simpy)\n",
    "\n",
    "    print('--------------------------------')"
   ]
  },
  {
   "cell_type": "code",
   "execution_count": 652,
   "id": "4ce0df14",
   "metadata": {},
   "outputs": [
    {
     "data": {
      "image/png": "[encoded data removed]",
      "text/latex": [
       "$\\displaystyle N$"
      ],
      "text/plain": [
       "N"
      ]
     },
     "metadata": {},
     "output_type": "display_data"
    },
    {
     "data": {
      "image/png": "[encoded data removed]",
      "text/latex": [
       "$\\displaystyle \\lambda_{N}$"
      ],
      "text/plain": [
       "\\lambda_{N}"
      ]
     },
     "metadata": {},
     "output_type": "display_data"
    },
    {
     "data": {
      "image/png": "[encoded data removed]",
      "text/latex": [
       "$\\displaystyle \\frac{\\left(-1\\right)^{\\frac{N}{2} + \\frac{3}{2}} \\cdot 2^{N + 1} A^{- N}}{\\pi N}$"
      ],
      "text/plain": [
       "    N   3           \n",
       "    ─ + ─           \n",
       "    2   2  N + 1  -N\n",
       "(-1)     ⋅2     ⋅A  \n",
       "────────────────────\n",
       "        π⋅N         "
      ]
     },
     "metadata": {},
     "output_type": "display_data"
    },
    {
     "data": {
      "image/png": "[encoded data removed]",
      "text/latex": [
       "$\\displaystyle N - 2$"
      ],
      "text/plain": [
       "N - 2"
      ]
     },
     "metadata": {},
     "output_type": "display_data"
    },
    {
     "data": {
      "image/png": "[encoded data removed]",
      "text/latex": [
       "$\\displaystyle \\lambda_{N-2}$"
      ],
      "text/plain": [
       "\\lambda_{N-2}"
      ]
     },
     "metadata": {},
     "output_type": "display_data"
    },
    {
     "data": {
      "image/png": "[encoded data removed]",
      "text/latex": [
       "$\\displaystyle \\frac{\\left(-1\\right)^{\\frac{N}{2}} \\cdot 2^{N} i A^{2 - N} \\left(N - 1\\right)}{2 \\pi \\left(N - 2\\right)}$"
      ],
      "text/plain": [
       "    N                    \n",
       "    ─                    \n",
       "    2  N    2 - N        \n",
       "(-1) ⋅2 ⋅ⅈ⋅A     ⋅(N - 1)\n",
       "─────────────────────────\n",
       "       2⋅π⋅(N - 2)       "
      ]
     },
     "metadata": {},
     "output_type": "display_data"
    },
    {
     "data": {
      "image/png": "[encoded data removed]",
      "text/latex": [
       "$\\displaystyle N - 4$"
      ],
      "text/plain": [
       "N - 4"
      ]
     },
     "metadata": {},
     "output_type": "display_data"
    },
    {
     "data": {
      "image/png": "[encoded data removed]",
      "text/latex": [
       "$\\displaystyle \\lambda_{N-4}$"
      ],
      "text/plain": [
       "\\lambda_{N-4}"
      ]
     },
     "metadata": {},
     "output_type": "display_data"
    },
    {
     "data": {
      "image/png": "[encoded data removed]",
      "text/latex": [
       "$\\displaystyle - \\frac{\\left(-1\\right)^{\\frac{N}{2}} \\cdot 2^{N} i A^{4 - N} \\left(N - 3\\right) \\left(N - 2\\right)}{16 \\pi \\left(N - 4\\right)}$"
      ],
      "text/plain": [
       "     N                             \n",
       "     ─                             \n",
       "     2  N    4 - N                 \n",
       "-(-1) ⋅2 ⋅ⅈ⋅A     ⋅(N - 3)⋅(N - 2) \n",
       "───────────────────────────────────\n",
       "            16⋅π⋅(N - 4)           "
      ]
     },
     "metadata": {},
     "output_type": "display_data"
    },
    {
     "data": {
      "image/png": "[encoded data removed]",
      "text/latex": [
       "$\\displaystyle N - 6$"
      ],
      "text/plain": [
       "N - 6"
      ]
     },
     "metadata": {},
     "output_type": "display_data"
    },
    {
     "data": {
      "image/png": "[encoded data removed]",
      "text/latex": [
       "$\\displaystyle \\lambda_{N-6}$"
      ],
      "text/plain": [
       "\\lambda_{N-6}"
      ]
     },
     "metadata": {},
     "output_type": "display_data"
    },
    {
     "data": {
      "image/png": "[encoded data removed]",
      "text/latex": [
       "$\\displaystyle \\frac{\\left(-1\\right)^{\\frac{N}{2}} \\cdot 2^{N} i A^{6 - N} \\left(N - 5\\right) \\left(N - 4\\right) \\left(N - 3\\right)}{192 \\pi \\left(N - 6\\right)}$"
      ],
      "text/plain": [
       "    N                                    \n",
       "    ─                                    \n",
       "    2  N    6 - N                        \n",
       "(-1) ⋅2 ⋅ⅈ⋅A     ⋅(N - 5)⋅(N - 4)⋅(N - 3)\n",
       "─────────────────────────────────────────\n",
       "              192⋅π⋅(N - 6)              "
      ]
     },
     "metadata": {},
     "output_type": "display_data"
    },
    {
     "data": {
      "image/png": "[encoded data removed]",
      "text/latex": [
       "$\\displaystyle N - 8$"
      ],
      "text/plain": [
       "N - 8"
      ]
     },
     "metadata": {},
     "output_type": "display_data"
    },
    {
     "data": {
      "image/png": "[encoded data removed]",
      "text/latex": [
       "$\\displaystyle \\lambda_{N-8}$"
      ],
      "text/plain": [
       "\\lambda_{N-8}"
      ]
     },
     "metadata": {},
     "output_type": "display_data"
    },
    {
     "data": {
      "image/png": "[encoded data removed]",
      "text/latex": [
       "$\\displaystyle - \\frac{\\left(-1\\right)^{\\frac{N}{2}} \\cdot 2^{N} i A^{8 - N} \\left(N - 7\\right) \\left(N - 6\\right) \\left(N - 5\\right) \\left(N - 4\\right)}{3072 \\pi \\left(N - 8\\right)}$"
      ],
      "text/plain": [
       "     N                                             \n",
       "     ─                                             \n",
       "     2  N    8 - N                                 \n",
       "-(-1) ⋅2 ⋅ⅈ⋅A     ⋅(N - 7)⋅(N - 6)⋅(N - 5)⋅(N - 4) \n",
       "───────────────────────────────────────────────────\n",
       "                   3072⋅π⋅(N - 8)                  "
      ]
     },
     "metadata": {},
     "output_type": "display_data"
    },
    {
     "data": {
      "image/png": "[encoded data removed]",
      "text/latex": [
       "$\\displaystyle N - 10$"
      ],
      "text/plain": [
       "N - 10"
      ]
     },
     "metadata": {},
     "output_type": "display_data"
    },
    {
     "data": {
      "image/png": "[encoded data removed]",
      "text/latex": [
       "$\\displaystyle \\lambda_{N-10}$"
      ],
      "text/plain": [
       "\\lambda_{N-10}"
      ]
     },
     "metadata": {},
     "output_type": "display_data"
    },
    {
     "data": {
      "image/png": "[encoded data removed]",
      "text/latex": [
       "$\\displaystyle \\frac{\\left(-1\\right)^{\\frac{N}{2}} \\cdot 2^{N} i A^{10 - N} \\left(N - 9\\right) \\left(N - 8\\right) \\left(N - 7\\right) \\left(N - 6\\right) \\left(N - 5\\right)}{61440 \\pi \\left(N - 10\\right)}$"
      ],
      "text/plain": [
       "    N                                                     \n",
       "    ─                                                     \n",
       "    2  N    10 - N                                        \n",
       "(-1) ⋅2 ⋅ⅈ⋅A      ⋅(N - 9)⋅(N - 8)⋅(N - 7)⋅(N - 6)⋅(N - 5)\n",
       "──────────────────────────────────────────────────────────\n",
       "                     61440⋅π⋅(N - 10)                     "
      ]
     },
     "metadata": {},
     "output_type": "display_data"
    },
    {
     "data": {
      "image/png": "[encoded data removed]",
      "text/latex": [
       "$\\displaystyle N - 12$"
      ],
      "text/plain": [
       "N - 12"
      ]
     },
     "metadata": {},
     "output_type": "display_data"
    },
    {
     "data": {
      "image/png": "[encoded data removed]",
      "text/latex": [
       "$\\displaystyle \\lambda_{N-12}$"
      ],
      "text/plain": [
       "\\lambda_{N-12}"
      ]
     },
     "metadata": {},
     "output_type": "display_data"
    },
    {
     "data": {
      "image/png": "[encoded data removed]",
      "text/latex": [
       "$\\displaystyle - \\frac{\\left(-1\\right)^{\\frac{N}{2}} \\cdot 2^{N} i A^{12 - N} \\left(N - 11\\right) \\left(N - 10\\right) \\left(N - 9\\right) \\left(N - 8\\right) \\left(N - 7\\right) \\left(N - 6\\right)}{1474560 \\pi \\left(N - 12\\right)}$"
      ],
      "text/plain": [
       "     N                                                                \n",
       "     ─                                                                \n",
       "     2  N    12 - N                                                   \n",
       "-(-1) ⋅2 ⋅ⅈ⋅A      ⋅(N - 11)⋅(N - 10)⋅(N - 9)⋅(N - 8)⋅(N - 7)⋅(N - 6) \n",
       "──────────────────────────────────────────────────────────────────────\n",
       "                          1474560⋅π⋅(N - 12)                          "
      ]
     },
     "metadata": {},
     "output_type": "display_data"
    },
    {
     "data": {
      "image/png": "[encoded data removed]",
      "text/latex": [
       "$\\displaystyle N - 14$"
      ],
      "text/plain": [
       "N - 14"
      ]
     },
     "metadata": {},
     "output_type": "display_data"
    },
    {
     "data": {
      "image/png": "[encoded data removed]",
      "text/latex": [
       "$\\displaystyle \\lambda_{N-14}$"
      ],
      "text/plain": [
       "\\lambda_{N-14}"
      ]
     },
     "metadata": {},
     "output_type": "display_data"
    },
    {
     "data": {
      "image/png": "[encoded data removed]",
      "text/latex": [
       "$\\displaystyle \\frac{\\left(-1\\right)^{\\frac{N}{2}} \\cdot 2^{N} i A^{14 - N} \\left(N - 13\\right) \\left(N - 12\\right) \\left(N - 11\\right) \\left(N - 10\\right) \\left(N - 9\\right) \\left(N - 8\\right) \\left(N - 7\\right)}{41287680 \\pi \\left(N - 14\\right)}$"
      ],
      "text/plain": [
       "    N                                                                         \n",
       "    ─                                                                         \n",
       "    2  N    14 - N                                                            \n",
       "(-1) ⋅2 ⋅ⅈ⋅A      ⋅(N - 13)⋅(N - 12)⋅(N - 11)⋅(N - 10)⋅(N - 9)⋅(N - 8)⋅(N - 7)\n",
       "──────────────────────────────────────────────────────────────────────────────\n",
       "                             41287680⋅π⋅(N - 14)                              "
      ]
     },
     "metadata": {},
     "output_type": "display_data"
    },
    {
     "data": {
      "image/png": "[encoded data removed]",
      "text/latex": [
       "$\\displaystyle N - 16$"
      ],
      "text/plain": [
       "N - 16"
      ]
     },
     "metadata": {},
     "output_type": "display_data"
    },
    {
     "data": {
      "image/png": "[encoded data removed]",
      "text/latex": [
       "$\\displaystyle \\lambda_{N-16}$"
      ],
      "text/plain": [
       "\\lambda_{N-16}"
      ]
     },
     "metadata": {},
     "output_type": "display_data"
    },
    {
     "data": {
      "image/png": "[encoded data removed]",
      "text/latex": [
       "$\\displaystyle - \\frac{\\left(-1\\right)^{\\frac{N}{2}} \\cdot 2^{N} i A^{16 - N} \\left(N - 15\\right) \\left(N - 14\\right) \\left(N - 13\\right) \\left(N - 12\\right) \\left(N - 11\\right) \\left(N - 10\\right) \\left(N - 9\\right) \\left(N - 8\\right)}{1321205760 \\pi \\left(N - 16\\right)}$"
      ],
      "text/plain": [
       "     N                                                                                    \n",
       "     ─                                                                                    \n",
       "     2  N    16 - N                                                                       \n",
       "-(-1) ⋅2 ⋅ⅈ⋅A      ⋅(N - 15)⋅(N - 14)⋅(N - 13)⋅(N - 12)⋅(N - 11)⋅(N - 10)⋅(N - 9)⋅(N - 8) \n",
       "──────────────────────────────────────────────────────────────────────────────────────────\n",
       "                                  1321205760⋅π⋅(N - 16)                                   "
      ]
     },
     "metadata": {},
     "output_type": "display_data"
    }
   ],
   "source": [
    "for j, symb, sol in solutions:\n",
    "    display(j, symb, sol)\n",
    "    "
   ]
  },
  {
   "cell_type": "code",
   "execution_count": null,
   "id": "b55377e1",
   "metadata": {},
   "outputs": [],
   "source": []
  },
  {
   "cell_type": "code",
   "execution_count": 751,
   "id": "938fe4f9",
   "metadata": {},
   "outputs": [],
   "source": [
    "def subsy(N_num: sp.Integer, A_num: sp.RealNumber = A, no_plot: bool = False):\n",
    "    assert N_num>0\n",
    "    assert N_num%2\n",
    "    \n",
    "    should_plot = isinstance(A_num, (float, int, sp.Number))\n",
    "\n",
    "    V = sp.Integer(0)\n",
    "    \n",
    "    coeffs = []\n",
    "    for j, symb, sol in solutions:\n",
    "        coef = slab_simplify(sol.subs(N, N_num).subs(A, A_num))\n",
    "        exponent = j.subs(N,N_num)\n",
    "\n",
    "        if exponent < 1: break\n",
    "\n",
    "        symb = l_n(exponent)\n",
    "\n",
    "        V += coef*phi**(exponent+1) / sp.Integer(exponent+1)\n",
    "\n",
    "        coeffs.append((exponent+1, symb, coef))\n",
    "\n",
    "        if not should_plot:\n",
    "            display(symb, coef)\n",
    "\n",
    "    dV = V.diff(phi)\n",
    "    square_wave = -dV.subs(phi, sp.cos(x)).simplify()\n",
    "\n",
    "    if not should_plot:\n",
    "        display(V)\n",
    "        display(-dV)\n",
    "        display(square_wave)\n",
    "\n",
    "    if should_plot and not no_plot:\n",
    "        r = sp.RealNumber(1.15) * A_num\n",
    "        phi_range = (phi, -r, r)\n",
    "\n",
    "        one = 1.25\n",
    "\n",
    "        a = sp.plot(V, phi_range, ylim=(-0.1, r), label='$V_{NL}(\\\\phi)$', show=False)\n",
    "        b = sp.plot(-dV, phi_range, ylim=(-one,one), label='$-V\\'(\\\\phi)$', show=False)\n",
    "        c = sp.plot(square_wave, (x, -4*sp.pi, 4*sp.pi), ylim=(-one,one), label='$-V\\'(\\\\cos(x))$', show=False)\n",
    "\n",
    "        a.legend = True\n",
    "        a.xlabel = '$\\\\phi$'\n",
    "        a.ylabel = '$V_{NL}(\\\\phi)$'\n",
    "        a.show()\n",
    "        b.legend = True\n",
    "        b.xlabel = '$\\\\phi$'\n",
    "        b.ylabel = '$-V\\'(\\\\phi)$'\n",
    "        b.show()\n",
    "        c.legend = True\n",
    "        c.xlabel = '$x$'\n",
    "        c.ylabel = '$-V\\'(\\\\cos(x))$'\n",
    "        c.show()\n",
    "\n",
    "    return V, dV, square_wave, coeffs  \n",
    "\n",
    "    "
   ]
  },
  {
   "cell_type": "code",
   "execution_count": 1245,
   "id": "d34bfaa3",
   "metadata": {},
   "outputs": [
    {
     "data": {
      "image/png": "[encoded data removed]",
      "text/latex": [
       "$\\displaystyle \\lambda_{15}$"
      ],
      "text/plain": [
       "\\lambda_{15}"
      ]
     },
     "metadata": {},
     "output_type": "display_data"
    },
    {
     "data": {
      "image/png": "[encoded data removed]",
      "text/latex": [
       "$\\displaystyle - \\frac{65536}{15 \\pi A^{15}}$"
      ],
      "text/plain": [
       "-65536  \n",
       "────────\n",
       "      15\n",
       "15⋅π⋅A  "
      ]
     },
     "metadata": {},
     "output_type": "display_data"
    },
    {
     "data": {
      "image/png": "[encoded data removed]",
      "text/latex": [
       "$\\displaystyle \\lambda_{13}$"
      ],
      "text/plain": [
       "\\lambda_{13}"
      ]
     },
     "metadata": {},
     "output_type": "display_data"
    },
    {
     "data": {
      "image/png": "[encoded data removed]",
      "text/latex": [
       "$\\displaystyle \\frac{229376}{13 \\pi A^{13}}$"
      ],
      "text/plain": [
       " 229376 \n",
       "────────\n",
       "      13\n",
       "13⋅π⋅A  "
      ]
     },
     "metadata": {},
     "output_type": "display_data"
    },
    {
     "data": {
      "image/png": "[encoded data removed]",
      "text/latex": [
       "$\\displaystyle \\lambda_{11}$"
      ],
      "text/plain": [
       "\\lambda_{11}"
      ]
     },
     "metadata": {},
     "output_type": "display_data"
    },
    {
     "data": {
      "image/png": "[encoded data removed]",
      "text/latex": [
       "$\\displaystyle - \\frac{319488}{11 \\pi A^{11}}$"
      ],
      "text/plain": [
       "-319488 \n",
       "────────\n",
       "      11\n",
       "11⋅π⋅A  "
      ]
     },
     "metadata": {},
     "output_type": "display_data"
    },
    {
     "data": {
      "image/png": "[encoded data removed]",
      "text/latex": [
       "$\\displaystyle \\lambda_{9}$"
      ],
      "text/plain": [
       "\\lambda_{9}"
      ]
     },
     "metadata": {},
     "output_type": "display_data"
    },
    {
     "data": {
      "image/png": "[encoded data removed]",
      "text/latex": [
       "$\\displaystyle \\frac{225280}{9 \\pi A^{9}}$"
      ],
      "text/plain": [
       "225280\n",
       "──────\n",
       "     9\n",
       "9⋅π⋅A "
      ]
     },
     "metadata": {},
     "output_type": "display_data"
    },
    {
     "data": {
      "image/png": "[encoded data removed]",
      "text/latex": [
       "$\\displaystyle \\lambda_{7}$"
      ],
      "text/plain": [
       "\\lambda_{7}"
      ]
     },
     "metadata": {},
     "output_type": "display_data"
    },
    {
     "data": {
      "image/png": "[encoded data removed]",
      "text/latex": [
       "$\\displaystyle - \\frac{84480}{7 \\pi A^{7}}$"
      ],
      "text/plain": [
       "-84480 \n",
       "───────\n",
       "      7\n",
       " 7⋅π⋅A "
      ]
     },
     "metadata": {},
     "output_type": "display_data"
    },
    {
     "data": {
      "image/png": "[encoded data removed]",
      "text/latex": [
       "$\\displaystyle \\lambda_{5}$"
      ],
      "text/plain": [
       "\\lambda_{5}"
      ]
     },
     "metadata": {},
     "output_type": "display_data"
    },
    {
     "data": {
      "image/png": "[encoded data removed]",
      "text/latex": [
       "$\\displaystyle \\frac{16128}{5 \\pi A^{5}}$"
      ],
      "text/plain": [
       "16128 \n",
       "──────\n",
       "     5\n",
       "5⋅π⋅A "
      ]
     },
     "metadata": {},
     "output_type": "display_data"
    },
    {
     "data": {
      "image/png": "[encoded data removed]",
      "text/latex": [
       "$\\displaystyle \\lambda_{3}$"
      ],
      "text/plain": [
       "\\lambda_{3}"
      ]
     },
     "metadata": {},
     "output_type": "display_data"
    },
    {
     "data": {
      "image/png": "[encoded data removed]",
      "text/latex": [
       "$\\displaystyle - \\frac{448}{\\pi A^{3}}$"
      ],
      "text/plain": [
       "-448 \n",
       "─────\n",
       "    3\n",
       " π⋅A "
      ]
     },
     "metadata": {},
     "output_type": "display_data"
    },
    {
     "data": {
      "image/png": "[encoded data removed]",
      "text/latex": [
       "$\\displaystyle \\lambda_{1}$"
      ],
      "text/plain": [
       "\\lambda_{1}"
      ]
     },
     "metadata": {},
     "output_type": "display_data"
    },
    {
     "data": {
      "image/png": "[encoded data removed]",
      "text/latex": [
       "$\\displaystyle \\frac{32}{\\pi A}$"
      ],
      "text/plain": [
       " 32\n",
       "───\n",
       "π⋅A"
      ]
     },
     "metadata": {},
     "output_type": "display_data"
    },
    {
     "data": {
      "image/png": "[encoded data removed]",
      "text/latex": [
       "$\\displaystyle \\frac{16 \\phi^{2}}{\\pi A} - \\frac{112 \\phi^{4}}{\\pi A^{3}} + \\frac{2688 \\phi^{6}}{5 \\pi A^{5}} - \\frac{10560 \\phi^{8}}{7 \\pi A^{7}} + \\frac{22528 \\phi^{10}}{9 \\pi A^{9}} - \\frac{26624 \\phi^{12}}{11 \\pi A^{11}} + \\frac{16384 \\phi^{14}}{13 \\pi A^{13}} - \\frac{4096 \\phi^{16}}{15 \\pi A^{15}}$"
      ],
      "text/plain": [
       "       2           4            6             8             10             12             14            16\n",
       "16⋅\\phi    112⋅\\phi    2688⋅\\phi    10560⋅\\phi    22528⋅\\phi     26624⋅\\phi     16384⋅\\phi     4096⋅\\phi  \n",
       "──────── - ───────── + ────────── - ─────────── + ──────────── - ──────────── + ──────────── - ───────────\n",
       "  π⋅A            3            5             7             9              11             13             15 \n",
       "              π⋅A        5⋅π⋅A         7⋅π⋅A         9⋅π⋅A         11⋅π⋅A         13⋅π⋅A         15⋅π⋅A   "
      ]
     },
     "metadata": {},
     "output_type": "display_data"
    },
    {
     "data": {
      "image/png": "[encoded data removed]",
      "text/latex": [
       "$\\displaystyle - \\frac{32 \\phi}{\\pi A} + \\frac{448 \\phi^{3}}{\\pi A^{3}} - \\frac{16128 \\phi^{5}}{5 \\pi A^{5}} + \\frac{84480 \\phi^{7}}{7 \\pi A^{7}} - \\frac{225280 \\phi^{9}}{9 \\pi A^{9}} + \\frac{319488 \\phi^{11}}{11 \\pi A^{11}} - \\frac{229376 \\phi^{13}}{13 \\pi A^{13}} + \\frac{65536 \\phi^{15}}{15 \\pi A^{15}}$"
      ],
      "text/plain": [
       "                    3             5             7              9              11              13             15\n",
       "  32⋅\\phi   448⋅\\phi    16128⋅\\phi    84480⋅\\phi    225280⋅\\phi    319488⋅\\phi     229376⋅\\phi     65536⋅\\phi  \n",
       "- ─────── + ───────── - ─────────── + ─────────── - ──────────── + ───────────── - ───────────── + ────────────\n",
       "    π⋅A           3             5             7             9               11              13             15  \n",
       "               π⋅A         5⋅π⋅A         7⋅π⋅A         9⋅π⋅A          11⋅π⋅A          13⋅π⋅A         15⋅π⋅A    "
      ]
     },
     "metadata": {},
     "output_type": "display_data"
    },
    {
     "data": {
      "image/png": "[encoded data removed]",
      "text/latex": [
       "$\\displaystyle - \\frac{1441440 A^{14} \\cos{\\left(x \\right)} - 20180160 A^{12} \\cos^{3}{\\left(x \\right)} + 145297152 A^{10} \\cos^{5}{\\left(x \\right)} - 543628800 A^{8} \\cos^{7}{\\left(x \\right)} + 1127526400 A^{6} \\cos^{9}{\\left(x \\right)} - 1308303360 A^{4} \\cos^{11}{\\left(x \\right)} + 794787840 A^{2} \\cos^{13}{\\left(x \\right)} - 196804608 \\cos^{15}{\\left(x \\right)}}{45045 \\pi A^{15}}$"
      ],
      "text/plain": [
       " ⎛         14                    12    3                 10    5                 8    7                  6    9      \n",
       "-⎝1441440⋅A  ⋅cos(x) - 20180160⋅A  ⋅cos (x) + 145297152⋅A  ⋅cos (x) - 543628800⋅A ⋅cos (x) + 1127526400⋅A ⋅cos (x) - \n",
       "─────────────────────────────────────────────────────────────────────────────────────────────────────────────────────\n",
       "                                                                                                15                   \n",
       "                                                                                       45045⋅π⋅A                     \n",
       "\n",
       "            4    11                 2    13                   15   ⎞ \n",
       "1308303360⋅A ⋅cos  (x) + 794787840⋅A ⋅cos  (x) - 196804608⋅cos  (x)⎠ \n",
       "─────────────────────────────────────────────────────────────────────\n",
       "                                                                     \n",
       "                                                                     "
      ]
     },
     "metadata": {},
     "output_type": "display_data"
    }
   ],
   "source": [
    "V, dV, square_wave, coeffs = subsy(15, A)"
   ]
  },
  {
   "cell_type": "code",
   "execution_count": 759,
   "id": "335a6bc1",
   "metadata": {},
   "outputs": [
    {
     "data": {
      "image/png": "[encoded data removed]",
      "text/plain": [
       "<Figure size 640x480 with 1 Axes>"
      ]
     },
     "metadata": {},
     "output_type": "display_data"
    }
   ],
   "source": [
    "N_max = 17\n",
    "\n",
    "V1 = subsy(N_max, 0.5, no_plot=True)[0]\n",
    "#V2 = subsy(15, 1.0, no_plot=True)[0]\n",
    "#V3 = subsy(15, 1.5, no_plot=True)[0]\n",
    "V4 = subsy(N_max, 2.0, no_plot=True)[0]\n",
    "\n",
    "r = sp.RealNumber(1.15) * 2\n",
    "phi_range = (phi, -r, r)\n",
    "\n",
    "a = sp.plot(V1, V4, phi_range, ylim=(-0.1, 2.5))\n",
    "a.legend = True\n"
   ]
  },
  {
   "cell_type": "code",
   "execution_count": 824,
   "id": "c1960937",
   "metadata": {},
   "outputs": [
    {
     "data": {
      "image/png": "[encoded data removed]",
      "text/latex": [
       "$\\displaystyle \\frac{2 \\left(-1\\right)^{\\frac{N}{2} - \\frac{1}{2}} \\left(\\frac{2}{A}\\right)^{N}}{\\pi N}$"
      ],
      "text/plain": [
       "      N   1     \n",
       "      ─ - ─    N\n",
       "      2   2 ⎛2⎞ \n",
       "2⋅(-1)     ⋅⎜─⎟ \n",
       "            ⎝A⎠ \n",
       "────────────────\n",
       "      π⋅N       "
      ]
     },
     "execution_count": 824,
     "metadata": {},
     "output_type": "execute_result"
    }
   ],
   "source": [
    "\n"
   ]
  },
  {
   "cell_type": "code",
   "execution_count": null,
   "id": "06d7b50e",
   "metadata": {},
   "outputs": [],
   "source": []
  },
  {
   "cell_type": "code",
   "execution_count": 806,
   "id": "23826fd9",
   "metadata": {},
   "outputs": [
    {
     "name": "stderr",
     "output_type": "stream",
     "text": [
      "<>:13: SyntaxWarning: invalid escape sequence '\\l'\n",
      "<>:13: SyntaxWarning: invalid escape sequence '\\l'\n",
      "/tmp/ipykernel_2587499/763996525.py:13: SyntaxWarning: invalid escape sequence '\\l'\n",
      "  plo.ylabel = '$\\lambda_n(A)$'\n"
     ]
    },
    {
     "data": {
      "image/png": "[encoded data removed]",
      "text/latex": [
       "$\\displaystyle \\lambda_{17}$"
      ],
      "text/plain": [
       "\\lambda_{17}"
      ]
     },
     "metadata": {},
     "output_type": "display_data"
    },
    {
     "data": {
      "image/png": "[encoded data removed]",
      "text/latex": [
       "$\\displaystyle \\frac{262144}{17 \\pi A^{17}}$"
      ],
      "text/plain": [
       " 262144 \n",
       "────────\n",
       "      17\n",
       "17⋅π⋅A  "
      ]
     },
     "metadata": {},
     "output_type": "display_data"
    },
    {
     "data": {
      "image/png": "[encoded data removed]",
      "text/latex": [
       "$\\displaystyle \\lambda_{15}$"
      ],
      "text/plain": [
       "\\lambda_{15}"
      ]
     },
     "metadata": {},
     "output_type": "display_data"
    },
    {
     "data": {
      "image/png": "[encoded data removed]",
      "text/latex": [
       "$\\displaystyle - \\frac{1048576}{15 \\pi A^{15}}$"
      ],
      "text/plain": [
       "-1048576 \n",
       "─────────\n",
       "       15\n",
       " 15⋅π⋅A  "
      ]
     },
     "metadata": {},
     "output_type": "display_data"
    },
    {
     "data": {
      "image/png": "[encoded data removed]",
      "text/latex": [
       "$\\displaystyle \\lambda_{13}$"
      ],
      "text/plain": [
       "\\lambda_{13}"
      ]
     },
     "metadata": {},
     "output_type": "display_data"
    },
    {
     "data": {
      "image/png": "[encoded data removed]",
      "text/latex": [
       "$\\displaystyle \\frac{1720320}{13 \\pi A^{13}}$"
      ],
      "text/plain": [
       "1720320 \n",
       "────────\n",
       "      13\n",
       "13⋅π⋅A  "
      ]
     },
     "metadata": {},
     "output_type": "display_data"
    },
    {
     "data": {
      "image/png": "[encoded data removed]",
      "text/latex": [
       "$\\displaystyle \\lambda_{11}$"
      ],
      "text/plain": [
       "\\lambda_{11}"
      ]
     },
     "metadata": {},
     "output_type": "display_data"
    },
    {
     "data": {
      "image/png": "[encoded data removed]",
      "text/latex": [
       "$\\displaystyle - \\frac{1490944}{11 \\pi A^{11}}$"
      ],
      "text/plain": [
       "-1490944 \n",
       "─────────\n",
       "       11\n",
       " 11⋅π⋅A  "
      ]
     },
     "metadata": {},
     "output_type": "display_data"
    },
    {
     "data": {
      "image/png": "[encoded data removed]",
      "text/latex": [
       "$\\displaystyle \\lambda_{9}$"
      ],
      "text/plain": [
       "\\lambda_{9}"
      ]
     },
     "metadata": {},
     "output_type": "display_data"
    },
    {
     "data": {
      "image/png": "[encoded data removed]",
      "text/latex": [
       "$\\displaystyle \\frac{732160}{9 \\pi A^{9}}$"
      ],
      "text/plain": [
       "732160\n",
       "──────\n",
       "     9\n",
       "9⋅π⋅A "
      ]
     },
     "metadata": {},
     "output_type": "display_data"
    },
    {
     "data": {
      "image/png": "[encoded data removed]",
      "text/latex": [
       "$\\displaystyle \\lambda_{7}$"
      ],
      "text/plain": [
       "\\lambda_{7}"
      ]
     },
     "metadata": {},
     "output_type": "display_data"
    },
    {
     "data": {
      "image/png": "[encoded data removed]",
      "text/latex": [
       "$\\displaystyle - \\frac{202752}{7 \\pi A^{7}}$"
      ],
      "text/plain": [
       "-202752 \n",
       "────────\n",
       "      7 \n",
       " 7⋅π⋅A  "
      ]
     },
     "metadata": {},
     "output_type": "display_data"
    },
    {
     "data": {
      "image/png": "[encoded data removed]",
      "text/latex": [
       "$\\displaystyle \\lambda_{5}$"
      ],
      "text/plain": [
       "\\lambda_{5}"
      ]
     },
     "metadata": {},
     "output_type": "display_data"
    },
    {
     "data": {
      "image/png": "[encoded data removed]",
      "text/latex": [
       "$\\displaystyle \\frac{29568}{5 \\pi A^{5}}$"
      ],
      "text/plain": [
       "29568 \n",
       "──────\n",
       "     5\n",
       "5⋅π⋅A "
      ]
     },
     "metadata": {},
     "output_type": "display_data"
    },
    {
     "data": {
      "image/png": "[encoded data removed]",
      "text/latex": [
       "$\\displaystyle \\lambda_{3}$"
      ],
      "text/plain": [
       "\\lambda_{3}"
      ]
     },
     "metadata": {},
     "output_type": "display_data"
    },
    {
     "data": {
      "image/png": "[encoded data removed]",
      "text/latex": [
       "$\\displaystyle - \\frac{640}{\\pi A^{3}}$"
      ],
      "text/plain": [
       "-640 \n",
       "─────\n",
       "    3\n",
       " π⋅A "
      ]
     },
     "metadata": {},
     "output_type": "display_data"
    },
    {
     "data": {
      "image/png": "[encoded data removed]",
      "text/latex": [
       "$\\displaystyle \\lambda_{1}$"
      ],
      "text/plain": [
       "\\lambda_{1}"
      ]
     },
     "metadata": {},
     "output_type": "display_data"
    },
    {
     "data": {
      "image/png": "[encoded data removed]",
      "text/latex": [
       "$\\displaystyle \\frac{36}{\\pi A}$"
      ],
      "text/plain": [
       " 36\n",
       "───\n",
       "π⋅A"
      ]
     },
     "metadata": {},
     "output_type": "display_data"
    },
    {
     "data": {
      "image/png": "[encoded data removed]",
      "text/plain": [
       "<Figure size 640x480 with 1 Axes>"
      ]
     },
     "metadata": {},
     "output_type": "display_data"
    }
   ],
   "source": [
    "plots = []\n",
    "labels = []\n",
    "plo = plot(show=False, ylim=(-10,10))\n",
    "for p, label, coef in coeffs:\n",
    "    display(label)\n",
    "    display(coef)\n",
    "    r = 4\n",
    "    \n",
    "    plo.extend(plot(coef, (A,1.e-2,r), adaptive=False, n=2, label=label, show=False))\n",
    "\n",
    "plo.legend = True\n",
    "plo.xlabel = 'A'\n",
    "plo.ylabel = '$\\lambda_n(A)$'\n",
    "plo.show()\n"
   ]
  },
  {
   "cell_type": "markdown",
   "id": "8cbfd241",
   "metadata": {},
   "source": [
    "One can determine the coefficients as $\\lambda_{N-2k}=\\lambda_{N}$ can"
   ]
  },
  {
   "cell_type": "code",
   "execution_count": 829,
   "id": "076c09fa",
   "metadata": {},
   "outputs": [
    {
     "data": {
      "image/png": "[encoded data removed]",
      "text/latex": [
       "$\\displaystyle \\lambda_{N} = \\frac{2 \\left(-1\\right)^{\\frac{N}{2} - \\frac{1}{2}} \\left(\\frac{2}{A}\\right)^{N}}{\\pi N}$"
      ],
      "text/plain": [
       "                  N   1     \n",
       "                  ─ - ─    N\n",
       "                  2   2 ⎛2⎞ \n",
       "            2⋅(-1)     ⋅⎜─⎟ \n",
       "                        ⎝A⎠ \n",
       "\\lambda_N = ────────────────\n",
       "                  π⋅N       "
      ]
     },
     "execution_count": 829,
     "metadata": {},
     "output_type": "execute_result"
    }
   ],
   "source": [
    "lambda_N = sp.Eq(sp.symbols('\\\\lambda_N'), (-1)**((N-1)/2)*(2/A)**N*2/N/sp.pi)\n",
    "lambda_N"
   ]
  },
  {
   "cell_type": "code",
   "execution_count": 918,
   "id": "46d9733f",
   "metadata": {},
   "outputs": [
    {
     "name": "stdout",
     "output_type": "stream",
     "text": [
      "This is a heuristic:\n"
     ]
    },
    {
     "data": {
      "image/png": "[encoded data removed]",
      "text/latex": [
       "$\\displaystyle \\frac{\\lambda_{N-2*k}}{\\lambda_{N}} = \\frac{\\left(-1\\right)^{k} 4^{- k} A^{2 k} N \\left(N - k\\right)!}{\\left(N - 2 k\\right) k! \\left(N - 2 k\\right)!}$"
      ],
      "text/plain": [
       "                      k  -k  2⋅k           \n",
       "\\lambda_{N-2*k}   (-1) ⋅4  ⋅A   ⋅N⋅(N - k)!\n",
       "─────────────── = ─────────────────────────\n",
       "   \\lambda_N       (N - 2⋅k)⋅k!⋅(N - 2⋅k)! "
      ]
     },
     "execution_count": 918,
     "metadata": {},
     "output_type": "execute_result"
    }
   ],
   "source": [
    "k, s1, s2 = sp.symbols('k, \\\\lambda_{{N-2k}}, \\\\lambda_N')\n",
    "propy_symbol = s1/s2\n",
    "propy = (-1)**k*sp.factorial(N-k)/sp.factorial(N-2*k)*A**(2*k)*N/4**k/sp.factorial(k)/(N-2*k)\n",
    "def prop__lambda_Nm2k__lambda_N(k_num:int):\n",
    "    propy_subsy = propy.subs(k, k_num)\n",
    "    index = N-sp.Integer(2)*k_num\n",
    "    s1b = sp.symbols('\\\\lambda_{{{}}}'.format(index).replace(' ',''))\n",
    "    return sp.Eq(s1b/s2, propy_subsy)\n",
    "\n",
    "print(\"This is a heuristic:\")\n",
    "prop__lambda_Nm2k__lambda_N(k)"
   ]
  },
  {
   "cell_type": "code",
   "execution_count": 1152,
   "id": "5ce05477",
   "metadata": {},
   "outputs": [],
   "source": [
    "assert not (lambda_N.rhs-solutions[0][2]).simplify().factor().subs((1/A)**N, A**(-N))"
   ]
  },
  {
   "cell_type": "code",
   "execution_count": 1183,
   "id": "d3daa242",
   "metadata": {},
   "outputs": [],
   "source": [
    "def lambda_Nm2k(k_num): \n",
    "    propy = prop__lambda_Nm2k__lambda_N(k_num)\n",
    "    propy_lhs, propy_rhs = propy.lhs, propy.rhs\n",
    "\n",
    "    lhs = propy_lhs*lambda_N.lhs\n",
    "    rhs = propy_rhs*lambda_N.rhs\n",
    "    rhs = slab_simplify(rhs)\n",
    "\n",
    "    return sp.Eq(lhs, rhs)"
   ]
  },
  {
   "cell_type": "code",
   "execution_count": 1184,
   "id": "fd96ddd4",
   "metadata": {},
   "outputs": [
    {
     "data": {
      "image/png": "[encoded data removed]",
      "text/latex": [
       "$\\displaystyle \\lambda_{N-2*k} = \\frac{\\left(-1\\right)^{\\frac{N}{2} + k + \\frac{1}{2}} \\cdot 2^{N - 2 k + 1} A^{2 k} \\left(\\frac{1}{A}\\right)^{N} \\Gamma\\left(N - k + 1\\right)}{\\pi \\left(- N + 2 k\\right) \\Gamma\\left(k + 1\\right) \\Gamma\\left(N - 2 k + 1\\right)}$"
      ],
      "text/plain": [
       "                      N       1                                    \n",
       "                      ─ + k + ─                      N             \n",
       "                      2       2  N - 2⋅k + 1  2⋅k ⎛1⎞              \n",
       "                  (-1)         ⋅2           ⋅A   ⋅⎜─⎟ ⋅Γ(N - k + 1)\n",
       "                                                  ⎝A⎠              \n",
       "\\lambda_{N-2*k} = ─────────────────────────────────────────────────\n",
       "                         π⋅(-N + 2⋅k)⋅Γ(k + 1)⋅Γ(N - 2⋅k + 1)      "
      ]
     },
     "execution_count": 1184,
     "metadata": {},
     "output_type": "execute_result"
    }
   ],
   "source": [
    "lambda_Nm2k(k)"
   ]
  },
  {
   "cell_type": "code",
   "execution_count": 1193,
   "id": "74d1099d",
   "metadata": {},
   "outputs": [
    {
     "data": {
      "image/png": "[encoded data removed]",
      "text/latex": [
       "$\\displaystyle {\\binom{n}{k}}$"
      ],
      "text/plain": [
       "⎛n⎞\n",
       "⎜ ⎟\n",
       "⎝k⎠"
      ]
     },
     "execution_count": 1193,
     "metadata": {},
     "output_type": "execute_result"
    }
   ],
   "source": []
  },
  {
   "cell_type": "code",
   "execution_count": 1221,
   "id": "62bc137a",
   "metadata": {},
   "outputs": [],
   "source": [
    "def lambda_Nm2k_version2(k_num):\n",
    "    n = N-2*k_num\n",
    "\n",
    "    coef = 2*(-1)**((N+1)/2)*(2/A)**n/sp.pi/n * sp.binomial(N-k, k)\n",
    "\n",
    "    symb = sp.symbols('\\\\lambda_{{{}}}'.format(N-2*k_num).replace(' ', ''))\n",
    "\n",
    "    return sp.Eq(symb,coef)\n"
   ]
  },
  {
   "cell_type": "code",
   "execution_count": 1222,
   "id": "5d11ced3",
   "metadata": {},
   "outputs": [
    {
     "data": {
      "image/png": "[encoded data removed]",
      "text/latex": [
       "$\\displaystyle \\lambda_{N-2*k} = \\frac{2 \\left(-1\\right)^{\\frac{N}{2} + \\frac{1}{2}} \\left(\\frac{2}{A}\\right)^{N - 2 k} {\\binom{N - k}{k}}}{\\pi \\left(N - 2 k\\right)}$"
      ],
      "text/plain": [
       "                        N   1                   \n",
       "                        ─ + ─    N - 2⋅k        \n",
       "                        2   2 ⎛2⎞        ⎛N - k⎞\n",
       "                  2⋅(-1)     ⋅⎜─⎟       ⋅⎜     ⎟\n",
       "                              ⎝A⎠        ⎝  k  ⎠\n",
       "\\lambda_{N-2*k} = ──────────────────────────────\n",
       "                           π⋅(N - 2⋅k)          "
      ]
     },
     "execution_count": 1222,
     "metadata": {},
     "output_type": "execute_result"
    }
   ],
   "source": [
    "lambda_Nm2k_version2(k)"
   ]
  },
  {
   "cell_type": "code",
   "execution_count": 1253,
   "id": "6a193710",
   "metadata": {},
   "outputs": [
    {
     "name": "stdout",
     "output_type": "stream",
     "text": [
      "1\n",
      "1.0\n",
      "---\n",
      "3\n",
      "-1.0\n",
      "---\n",
      "5\n",
      "1.0\n",
      "---\n",
      "7\n",
      "-1.0\n",
      "---\n"
     ]
    }
   ],
   "source": [
    "for i in range(1, 9, 2):\n",
    "    print(i)\n",
    "    expo = (i-1)/2\n",
    "    print((-1)**(expo))\n",
    "    print('---')"
   ]
  },
  {
   "cell_type": "code",
   "execution_count": 1332,
   "id": "e6037a67",
   "metadata": {},
   "outputs": [],
   "source": [
    "def lambda_n(n_num: sp.Integer, A_num: sp.RealNumber=A, N_num: sp.Integer=N):\n",
    "    symb = sp.symbols('\\\\lambda_{{{}}}'.format(n_num).replace(' ',''))\n",
    "    coef = 2*(-1)**((n_num-1)/2)/n_num/sp.pi * (2/A_num)**n_num * sp.binomial((N_num+n_num)/2,(N_num-n_num)/2)\n",
    "\n",
    "    return sp.Eq(symb,coef)"
   ]
  },
  {
   "cell_type": "code",
   "execution_count": 1334,
   "id": "12b1bbd6",
   "metadata": {},
   "outputs": [
    {
     "data": {
      "image/png": "[encoded data removed]",
      "text/latex": [
       "$\\displaystyle \\lambda_{n} = \\frac{2 \\left(-1\\right)^{\\frac{n}{2} - \\frac{1}{2}} \\left(\\frac{2}{A}\\right)^{n} {\\binom{\\frac{N}{2} + \\frac{n}{2}}{\\frac{N}{2} - \\frac{n}{2}}}}{\\pi n}$"
      ],
      "text/plain": [
       "                    n   1      ⎛N   n⎞\n",
       "                    ─ - ─    n ⎜─ + ─⎟\n",
       "                    2   2 ⎛2⎞  ⎜2   2⎟\n",
       "              2⋅(-1)     ⋅⎜─⎟ ⋅⎜     ⎟\n",
       "                          ⎝A⎠  ⎜N   n⎟\n",
       "                               ⎜─ - ─⎟\n",
       "                               ⎝2   2⎠\n",
       "\\lambda_{n} = ────────────────────────\n",
       "                        π⋅n           "
      ]
     },
     "metadata": {},
     "output_type": "display_data"
    },
    {
     "data": {
      "image/png": "[encoded data removed]",
      "text/latex": [
       "$\\displaystyle \\lambda_{1} = \\frac{32.0}{\\pi A}$"
      ],
      "text/plain": [
       "              32.0\n",
       "\\lambda_{1} = ────\n",
       "              π⋅A "
      ]
     },
     "metadata": {},
     "output_type": "display_data"
    },
    {
     "data": {
      "image/png": "[encoded data removed]",
      "text/latex": [
       "$\\displaystyle \\lambda_{3} = - \\frac{448.0}{\\pi A^{3}}$"
      ],
      "text/plain": [
       "              -448.0 \n",
       "\\lambda_{3} = ───────\n",
       "                   3 \n",
       "                π⋅A  "
      ]
     },
     "metadata": {},
     "output_type": "display_data"
    },
    {
     "data": {
      "image/png": "[encoded data removed]",
      "text/latex": [
       "$\\displaystyle \\lambda_{5} = \\frac{3225.6}{\\pi A^{5}}$"
      ],
      "text/plain": [
       "              3225.6\n",
       "\\lambda_{5} = ──────\n",
       "                  5 \n",
       "               π⋅A  "
      ]
     },
     "metadata": {},
     "output_type": "display_data"
    },
    {
     "data": {
      "image/png": "[encoded data removed]",
      "text/latex": [
       "$\\displaystyle \\lambda_{7} = - \\frac{12068.5714285714}{\\pi A^{7}}$"
      ],
      "text/plain": [
       "              -12068.5714285714 \n",
       "\\lambda_{7} = ──────────────────\n",
       "                        7       \n",
       "                     π⋅A        "
      ]
     },
     "metadata": {},
     "output_type": "display_data"
    },
    {
     "data": {
      "image/png": "[encoded data removed]",
      "text/latex": [
       "$\\displaystyle \\lambda_{9} = \\frac{25031.1111111111}{\\pi A^{9}}$"
      ],
      "text/plain": [
       "              25031.1111111111\n",
       "\\lambda_{9} = ────────────────\n",
       "                       9      \n",
       "                    π⋅A       "
      ]
     },
     "metadata": {},
     "output_type": "display_data"
    },
    {
     "data": {
      "image/png": "[encoded data removed]",
      "text/latex": [
       "$\\displaystyle \\lambda_{11} = - \\frac{29044.3636363636}{\\pi A^{11}}$"
      ],
      "text/plain": [
       "               -29044.3636363636 \n",
       "\\lambda_{11} = ──────────────────\n",
       "                        11       \n",
       "                     π⋅A         "
      ]
     },
     "metadata": {},
     "output_type": "display_data"
    },
    {
     "data": {
      "image/png": "[encoded data removed]",
      "text/latex": [
       "$\\displaystyle \\lambda_{13} = \\frac{17644.3076923077}{\\pi A^{13}}$"
      ],
      "text/plain": [
       "               17644.3076923077\n",
       "\\lambda_{13} = ────────────────\n",
       "                       13      \n",
       "                    π⋅A        "
      ]
     },
     "metadata": {},
     "output_type": "display_data"
    },
    {
     "data": {
      "image/png": "[encoded data removed]",
      "text/latex": [
       "$\\displaystyle \\lambda_{15} = - \\frac{4369.06666666667}{\\pi A^{15}}$"
      ],
      "text/plain": [
       "               -4369.06666666667 \n",
       "\\lambda_{15} = ──────────────────\n",
       "                        15       \n",
       "                     π⋅A         "
      ]
     },
     "metadata": {},
     "output_type": "display_data"
    }
   ],
   "source": [
    "N_num = 15\n",
    "display(lambda_n(n))\n",
    "for n_num in range(1, N_num+1, 2):\n",
    "    display(lambda_n(n_num, N_num=N_num))"
   ]
  },
  {
   "cell_type": "code",
   "execution_count": 1335,
   "id": "1e8b2be5",
   "metadata": {},
   "outputs": [],
   "source": [
    "def  build_potential(N_num, A_num):\n",
    "    V = sp.Integer(0)\n",
    "    for n_num in range(1, N_num+1, 2):\n",
    "        lambda_n_num = lambda_n(n_num, A_num=A_num, N_num=N_num).rhs\n",
    "        V += sp.Rational(1,n_num+1)*lambda_n_num*phi**(n_num+1)\n",
    "\n",
    "    return V    "
   ]
  },
  {
   "cell_type": "code",
   "execution_count": 1338,
   "id": "aa982592",
   "metadata": {},
   "outputs": [
    {
     "data": {
      "image/png": "[encoded data removed]",
      "text/plain": [
       "<Figure size 640x480 with 1 Axes>"
      ]
     },
     "metadata": {},
     "output_type": "display_data"
    }
   ],
   "source": [
    "A_num = 10\n",
    "V = build_potential(N_num=41, A_num=A_num)\n",
    "\n",
    "plotty = sp.plot(V, (phi,-1.2*A_num,1.2*A_num), show=False)\n",
    "\n",
    "\n",
    "plotty.ylim = (-0.1, 1.2*A_num)\n",
    "plotty.show()\n"
   ]
  },
  {
   "cell_type": "code",
   "execution_count": 1107,
   "id": "faac73f5",
   "metadata": {},
   "outputs": [
    {
     "data": {
      "image/png": "[encoded data removed]",
      "text/latex": [
       "$\\displaystyle \\frac{\\lambda_{1}}{\\lambda_{N}} = - \\frac{2 \\left(-1\\right)^{\\frac{N}{2} + \\frac{1}{2}} \\cdot 2^{- N} A^{N - 1} N \\Gamma\\left(\\frac{N}{2} + \\frac{3}{2}\\right)}{\\Gamma\\left(\\frac{N}{2} + \\frac{1}{2}\\right)}$"
      ],
      "text/plain": [
       "                     N   1                       \n",
       "                     ─ + ─                       \n",
       "                     2   2  -N  N - 1    ⎛N   3⎞ \n",
       "              -2⋅(-1)     ⋅2  ⋅A     ⋅N⋅Γ⎜─ + ─⎟ \n",
       "\\lambda_{1}                              ⎝2   2⎠ \n",
       "─────────── = ───────────────────────────────────\n",
       " \\lambda_N                   ⎛N   1⎞             \n",
       "                            Γ⎜─ + ─⎟             \n",
       "                             ⎝2   2⎠             "
      ]
     },
     "metadata": {},
     "output_type": "display_data"
    }
   ],
   "source": [
    "from matplotlib import pyplot\n",
    "\n",
    "propy_equy = prop__lambda_Nm2k__lambda_N((N-1)/2).simplify()\n",
    "display(propy_equy)\n",
    "\n",
    "def get_lambda1_coeffs(N_num_max : int, A_num : sp.RealNumber = A):\n",
    "    eqs = []\n",
    "    for N_num in range(1, N_num_max+1, 2):\n",
    "        funky = propy_equy.rhs.subs(N, N_num)\n",
    "        if A_num != A:\n",
    "            funky = funky.subs(A, A_num)\n",
    "        propy_symby = sp.symbols('\\\\lambda_1')/sp.symbols('\\\\lambda_{{N={}}}'.format(N_num))\n",
    "        \n",
    "        eqs.append((N_num, sp.Eq(propy_symby, funky)))\n",
    "        \n",
    "    return eqs    \n",
    "\n",
    "def plot_lambda1_coeffs(N_num_max : int, A_num = sp.RealNumber(1)):\n",
    "    coeffs = get_lambda1_coeffs(N_num_max, A_num)\n",
    "    points_x = []\n",
    "    points_y = []\n",
    "    for N_num, coef in coeffs:\n",
    "        points_x.append(N_num)\n",
    "        points_y.append(abs(coef.rhs))\n",
    "\n",
    "    pyplot.semilogy(points_x, points_y, marker=',')\n",
    "    pyplot.xlabel('N')\n",
    "    pyplot.ylabel('$\\\\dfrac{\\\\lambda_1}{\\\\lambda_N}$')\n",
    "\n"
   ]
  },
  {
   "cell_type": "code",
   "execution_count": 1117,
   "id": "336f53da",
   "metadata": {},
   "outputs": [
    {
     "name": "stdout",
     "output_type": "stream",
     "text": [
      "A_num=1.95\n"
     ]
    },
    {
     "data": {
      "image/png": "[encoded data removed]",
      "text/plain": [
       "<Figure size 640x480 with 1 Axes>"
      ]
     },
     "metadata": {},
     "output_type": "display_data"
    }
   ],
   "source": [
    "A_num = 1.95\n",
    "plot_lambda1_coeffs(500, A_num)\n",
    "print('A_num={}'.format(A_num))"
   ]
  },
  {
   "cell_type": "code",
   "execution_count": 1151,
   "id": "d1c73d5c",
   "metadata": {},
   "outputs": [
    {
     "data": {
      "image/png": "[encoded data removed]",
      "text/latex": [
       "$\\displaystyle \\lambda_{N}$"
      ],
      "text/plain": [
       "\\lambda_{N}"
      ]
     },
     "metadata": {},
     "output_type": "display_data"
    },
    {
     "data": {
      "image/png": "[encoded data removed]",
      "text/latex": [
       "$\\displaystyle \\frac{\\left(-1\\right)^{\\frac{N}{2} + \\frac{3}{2}} \\cdot 2^{N + 1} A^{- N}}{\\pi N}$"
      ],
      "text/plain": [
       "    N   3           \n",
       "    ─ + ─           \n",
       "    2   2  N + 1  -N\n",
       "(-1)     ⋅2     ⋅A  \n",
       "────────────────────\n",
       "        π⋅N         "
      ]
     },
     "metadata": {},
     "output_type": "display_data"
    },
    {
     "data": {
      "image/png": "[encoded data removed]",
      "text/latex": [
       "$\\displaystyle \\frac{\\lambda_{1}}{\\lambda_{N}} = - \\frac{2 \\left(-1\\right)^{\\frac{N}{2} + \\frac{1}{2}} \\cdot 2^{- N} A^{N - 1} N \\Gamma\\left(\\frac{N}{2} + \\frac{3}{2}\\right)}{\\Gamma\\left(\\frac{N}{2} + \\frac{1}{2}\\right)}$"
      ],
      "text/plain": [
       "                     N   1                       \n",
       "                     ─ + ─                       \n",
       "                     2   2  -N  N - 1    ⎛N   3⎞ \n",
       "              -2⋅(-1)     ⋅2  ⋅A     ⋅N⋅Γ⎜─ + ─⎟ \n",
       "\\lambda_{1}                              ⎝2   2⎠ \n",
       "─────────── = ───────────────────────────────────\n",
       " \\lambda_N                   ⎛N   1⎞             \n",
       "                            Γ⎜─ + ─⎟             \n",
       "                             ⎝2   2⎠             "
      ]
     },
     "metadata": {},
     "output_type": "display_data"
    },
    {
     "data": {
      "image/png": "[encoded data removed]",
      "text/latex": [
       "$\\displaystyle - \\frac{2 \\left(-1\\right)^{\\frac{N}{2} + \\frac{1}{2}} \\left(-1\\right)^{\\frac{N}{2} + \\frac{3}{2}} \\cdot 2^{- N} 2^{N + 1} A^{- N} A^{N - 1} \\Gamma\\left(\\frac{N}{2} + \\frac{3}{2}\\right)}{\\pi \\Gamma\\left(\\frac{N}{2} + \\frac{1}{2}\\right)}$"
      ],
      "text/plain": [
       "       N   1     N   3                                \n",
       "       ─ + ─     ─ + ─                                \n",
       "       2   2     2   2  -N  N + 1  -N  N - 1  ⎛N   3⎞ \n",
       "-2⋅(-1)     ⋅(-1)     ⋅2  ⋅2     ⋅A  ⋅A     ⋅Γ⎜─ + ─⎟ \n",
       "                                              ⎝2   2⎠ \n",
       "──────────────────────────────────────────────────────\n",
       "                         ⎛N   1⎞                      \n",
       "                      π⋅Γ⎜─ + ─⎟                      \n",
       "                         ⎝2   2⎠                      "
      ]
     },
     "execution_count": 1151,
     "metadata": {},
     "output_type": "execute_result"
    }
   ],
   "source": [
    "display(solutions[0][1])\n",
    "display(solutions[0][2])\n",
    "display(propy_equy)\n",
    "propy_equy.rhs*solutions[0][2]"
   ]
  },
  {
   "cell_type": "code",
   "execution_count": 1140,
   "id": "c7c90e8b",
   "metadata": {},
   "outputs": [
    {
     "data": {
      "image/png": "[encoded data removed]",
      "text/latex": [
       "$\\displaystyle \\frac{\\lambda_{N-4}}{\\lambda_{N}} = \\frac{15}{16}$"
      ],
      "text/plain": [
       "\\lambda_{N-4}   15\n",
       "───────────── = ──\n",
       "  \\lambda_N     16"
      ]
     },
     "metadata": {},
     "output_type": "display_data"
    },
    {
     "data": {
      "image/png": "[encoded data removed]",
      "text/latex": [
       "$\\displaystyle \\frac{\\lambda_{N-2}}{\\lambda_{N}} = - \\frac{5}{3}$"
      ],
      "text/plain": [
       "\\lambda_{N-2}       \n",
       "───────────── = -5/3\n",
       "  \\lambda_N         "
      ]
     },
     "metadata": {},
     "output_type": "display_data"
    },
    {
     "data": {
      "image/png": "[encoded data removed]",
      "text/latex": [
       "$\\displaystyle \\frac{\\lambda_{N}}{\\lambda_{N}} = 1$"
      ],
      "text/plain": [
       "\\lambda_{N}    \n",
       "─────────── = 1\n",
       " \\lambda_N     "
      ]
     },
     "metadata": {},
     "output_type": "display_data"
    }
   ],
   "source": [
    "\n",
    "def get_lambdas(N_num: sp.Integer, A_num: sp.RealNumber):\n",
    "    assert N_num>0\n",
    "    assert N_num%2\n",
    "\n",
    "    \n",
    "\n",
    "    for k in range(int((N_num-1)/2), -1, -1):\n",
    "        display(prop__lambda_Nm2k__lambda_N(k).subs(N, N_num).subs(A, A_num))\n",
    "        \n",
    "\n",
    "get_lambdas(5, 1)\n",
    "    "
   ]
  },
  {
   "cell_type": "code",
   "execution_count": 1340,
   "id": "2168cec8",
   "metadata": {},
   "outputs": [
    {
     "data": {
      "image/png": "[encoded data removed]",
      "text/latex": [
       "$\\displaystyle \\lambda^{(N)}_{1} = - \\frac{4 \\left(-1\\right)^{N} \\Gamma\\left(\\frac{N}{2} + \\frac{3}{2}\\right)}{\\pi A \\Gamma\\left(\\frac{N}{2} + \\frac{1}{2}\\right)}$"
      ],
      "text/plain": [
       "                        N  ⎛N   3⎞ \n",
       "                 -4⋅(-1) ⋅Γ⎜─ + ─⎟ \n",
       "                           ⎝2   2⎠ \n",
       "\\lambda_1__(N) = ──────────────────\n",
       "                         ⎛N   1⎞   \n",
       "                    π⋅A⋅Γ⎜─ + ─⎟   \n",
       "                         ⎝2   2⎠   "
      ]
     },
     "metadata": {},
     "output_type": "display_data"
    },
    {
     "data": {
      "image/png": "[encoded data removed]",
      "text/latex": [
       "$\\displaystyle - \\frac{4 \\left(-1\\right)^{N} \\Gamma\\left(\\frac{N}{2} + \\frac{3}{2}\\right)}{\\pi \\Gamma\\left(\\frac{N}{2} + \\frac{1}{2}\\right)}$"
      ],
      "text/plain": [
       "       N  ⎛N   3⎞ \n",
       "-4⋅(-1) ⋅Γ⎜─ + ─⎟ \n",
       "          ⎝2   2⎠ \n",
       "──────────────────\n",
       "       ⎛N   1⎞    \n",
       "    π⋅Γ⎜─ + ─⎟    \n",
       "       ⎝2   2⎠    "
      ]
     },
     "execution_count": 1340,
     "metadata": {},
     "output_type": "execute_result"
    }
   ],
   "source": [
    "lambda_1 = (propy_equy.rhs*solutions[0][2]).simplify()\n",
    "display(sp.Eq(sp.symbols('\\\\lambda_1^(N)'), lambda_1))\n",
    "\n",
    "funky = lambda_1.subs(A,1)\n",
    "funky "
   ]
  },
  {
   "cell_type": "code",
   "execution_count": 1089,
   "id": "b924da24",
   "metadata": {},
   "outputs": [
    {
     "data": {
      "image/png": "[encoded data removed]",
      "text/latex": [
       "$\\displaystyle \\phi$"
      ],
      "text/plain": [
       "\\phi"
      ]
     },
     "execution_count": 1089,
     "metadata": {},
     "output_type": "execute_result"
    }
   ],
   "source": []
  },
  {
   "cell_type": "code",
   "execution_count": 1091,
   "id": "5d0c693a",
   "metadata": {},
   "outputs": [
    {
     "name": "stdout",
     "output_type": "stream",
     "text": [
      "1\n"
     ]
    },
    {
     "data": {
      "image/png": "[encoded data removed]",
      "text/latex": [
       "$\\displaystyle \\frac{\\lambda_{1}}{\\lambda_{N=1}} = 1$"
      ],
      "text/plain": [
       "   \\lambda₁      \n",
       "───────────── = 1\n",
       "\\lambda_{N=1}    "
      ]
     },
     "metadata": {},
     "output_type": "display_data"
    },
    {
     "name": "stdout",
     "output_type": "stream",
     "text": [
      "3\n"
     ]
    },
    {
     "data": {
      "image/png": "[encoded data removed]",
      "text/latex": [
       "$\\displaystyle \\frac{\\lambda_{1}}{\\lambda_{N=3}} = -1.499700015$"
      ],
      "text/plain": [
       "   \\lambda₁                 \n",
       "───────────── = -1.499700015\n",
       "\\lambda_{N=3}               "
      ]
     },
     "metadata": {},
     "output_type": "display_data"
    },
    {
     "name": "stdout",
     "output_type": "stream",
     "text": [
      "5\n"
     ]
    },
    {
     "data": {
      "image/png": "[encoded data removed]",
      "text/latex": [
       "$\\displaystyle \\frac{\\lambda_{1}}{\\lambda_{N=5}} = 0.93712505624625$"
      ],
      "text/plain": [
       "   \\lambda₁                     \n",
       "───────────── = 0.93712505624625\n",
       "\\lambda_{N=5}                   "
      ]
     },
     "metadata": {},
     "output_type": "display_data"
    },
    {
     "name": "stdout",
     "output_type": "stream",
     "text": [
      "7\n"
     ]
    },
    {
     "data": {
      "image/png": "[encoded data removed]",
      "text/latex": [
       "$\\displaystyle \\frac{\\lambda_{1}}{\\lambda_{N=7}} = -0.437237565616251$"
      ],
      "text/plain": [
       "   \\lambda₁                       \n",
       "───────────── = -0.437237565616251\n",
       "\\lambda_{N=7}                     "
      ]
     },
     "metadata": {},
     "output_type": "display_data"
    },
    {
     "name": "stdout",
     "output_type": "stream",
     "text": [
      "9\n"
     ]
    },
    {
     "data": {
      "image/png": "[encoded data removed]",
      "text/latex": [
       "$\\displaystyle \\frac{\\lambda_{1}}{\\lambda_{N=9}} = 0.175640674208907$"
      ],
      "text/plain": [
       "   \\lambda₁                      \n",
       "───────────── = 0.175640674208907\n",
       "\\lambda_{N=9}                    "
      ]
     },
     "metadata": {},
     "output_type": "display_data"
    },
    {
     "name": "stdout",
     "output_type": "stream",
     "text": [
      "11\n"
     ]
    },
    {
     "data": {
      "image/png": "[encoded data removed]",
      "text/latex": [
       "$\\displaystyle \\frac{\\lambda_{1}}{\\lambda_{N=11}} = -0.0643887008711732$"
      ],
      "text/plain": [
       "   \\lambda₁                         \n",
       "────────────── = -0.0643887008711732\n",
       "\\lambda_{N=11}                      "
      ]
     },
     "metadata": {},
     "output_type": "display_data"
    },
    {
     "name": "stdout",
     "output_type": "stream",
     "text": [
      "13\n"
     ]
    },
    {
     "data": {
      "image/png": "[encoded data removed]",
      "text/latex": [
       "$\\displaystyle \\frac{\\lambda_{1}}{\\lambda_{N=13}} = 0.0221901513769493$"
      ],
      "text/plain": [
       "   \\lambda₁                        \n",
       "────────────── = 0.0221901513769493\n",
       "\\lambda_{N=13}                     "
      ]
     },
     "metadata": {},
     "output_type": "display_data"
    },
    {
     "data": {
      "image/png": "[encoded data removed]",
      "text/latex": [
       "$\\displaystyle 0.00158501081263924 \\phi^{14} - 0.00536572507259777 \\phi^{12} + 0.0175640674208908 \\phi^{10} - 0.0546546957020313 \\phi^{8} + 0.156187509374375 \\phi^{6} - 0.37492500375 \\phi^{4} + \\frac{\\phi^{2}}{2}$"
      ],
      "text/plain": [
       "                                                                                                                     \n",
       "                        14                           12                          10                          8       \n",
       "0.00158501081263924⋅\\phi   - 0.00536572507259777⋅\\phi   + 0.0175640674208908⋅\\phi   - 0.0546546957020313⋅\\phi  + 0.15\n",
       "                                                                                                                     \n",
       "\n",
       "                                                2\n",
       "                  6                     4   \\phi \n",
       "6187509374375⋅\\phi  - 0.37492500375⋅\\phi  + ─────\n",
       "                                              2  "
      ]
     },
     "execution_count": 1091,
     "metadata": {},
     "output_type": "execute_result"
    }
   ],
   "source": [
    "coeffs = get_coeffs(13, 1-1.e-4)\n",
    "V_the_final = sp.Integer(0)\n",
    "\n",
    "for N_num, coef in coeffs:\n",
    "    print(N_num)\n",
    "    display(coef)\n",
    "    V_the_final += coef.rhs*phi**(N_num+1)/(N_num+1)\n",
    "\n",
    "V_the_final"
   ]
  },
  {
   "cell_type": "code",
   "execution_count": null,
   "id": "28342781",
   "metadata": {},
   "outputs": [],
   "source": [
    "for k in range(1, 15):\n",
    "    "
   ]
  },
  {
   "cell_type": "code",
   "execution_count": null,
   "id": "5b6cab8e",
   "metadata": {},
   "outputs": [],
   "source": [
    "from bokeh.io import output_notebook"
   ]
  },
  {
   "cell_type": "code",
   "execution_count": 391,
   "id": "13447b23",
   "metadata": {},
   "outputs": [],
   "source": [
    "_1 = sp.Integer(1)\n",
    "\n",
    "# https://oeis.org/A051711\n",
    "def a(n: sp.Integer):\n",
    "    assert n>=0\n",
    "\n",
    "    if n==0: return _1\n",
    "\n",
    "    return sp.factorial(n) * _4**n/_2"
   ]
  },
  {
   "cell_type": "code",
   "execution_count": null,
   "id": "ac5c3412",
   "metadata": {},
   "outputs": [],
   "source": []
  }
 ],
 "metadata": {
  "kernelspec": {
   "display_name": "Python 3 (ipykernel)",
   "language": "python",
   "name": "python3"
  },
  "language_info": {
   "codemirror_mode": {
    "name": "ipython",
    "version": 3
   },
   "file_extension": ".py",
   "mimetype": "text/x-python",
   "name": "python",
   "nbconvert_exporter": "python",
   "pygments_lexer": "ipython3",
   "version": "3.12.3"
  }
 },
 "nbformat": 4,
 "nbformat_minor": 5
}

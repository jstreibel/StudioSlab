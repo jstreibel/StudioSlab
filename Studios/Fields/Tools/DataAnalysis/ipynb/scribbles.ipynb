{
 "cells": [
  {
   "cell_type": "code",
   "id": "initial_id",
   "metadata": {
    "collapsed": true,
    "ExecuteTime": {
     "end_time": "2024-07-08T11:22:42.836043Z",
     "start_time": "2024-07-08T11:22:42.832701Z"
    }
   },
   "source": [
    "from scipy import special\n",
    "import sympy as sp\n",
    "from sympy.plotting import plot\n",
    "from IPython.display import display, Latex\n",
    "\n",
    "sp.init_printing(fontsize=20)"
   ],
   "outputs": [],
   "execution_count": 17
  },
  {
   "cell_type": "code",
   "id": "2f8f1be732f75712",
   "metadata": {
    "ExecuteTime": {
     "end_time": "2024-07-08T11:22:43.205461Z",
     "start_time": "2024-07-08T11:22:43.201897Z"
    }
   },
   "source": [
    "def C(j,n):\n",
    "    assert j>0\n",
    "    assert j%2\n",
    "    assert n%2\n",
    "    assert n>=j\n",
    "    \n",
    "    return special.comb(n,(j+n)/2,exact=True)"
   ],
   "outputs": [],
   "execution_count": 18
  },
  {
   "cell_type": "code",
   "id": "bc85a2abc71cc96a",
   "metadata": {
    "ExecuteTime": {
     "end_time": "2024-07-08T11:22:43.255047Z",
     "start_time": "2024-07-08T11:22:43.251489Z"
    }
   },
   "source": [
    "N = 21\n",
    "j = 11\n",
    "print(\"j={}; N={}\".format(j, N))\n",
    "for n in range(j,N+1, 2):\n",
    "    print(\"n={} => C(j,n)=C({},{})={}\".format(n,j,n,C(j,n)))"
   ],
   "outputs": [
    {
     "name": "stdout",
     "output_type": "stream",
     "text": [
      "j=11; N=21\n",
      "n=11 => C(j,n)=C(11,11)=1\n",
      "n=13 => C(j,n)=C(11,13)=13\n",
      "n=15 => C(j,n)=C(11,15)=105\n",
      "n=17 => C(j,n)=C(11,17)=680\n",
      "n=19 => C(j,n)=C(11,19)=3876\n",
      "n=21 => C(j,n)=C(11,21)=20349\n"
     ]
    }
   ],
   "execution_count": 19
  },
  {
   "cell_type": "code",
   "id": "75923d402348af89",
   "metadata": {
    "ExecuteTime": {
     "end_time": "2024-07-08T11:22:43.314150Z",
     "start_time": "2024-07-08T11:22:43.311099Z"
    }
   },
   "source": [
    "j, n, N = sp.symbols('j, n, N')\n",
    "A = sp.symbols('A', real=True)\n",
    "phi = sp.symbols('\\\\phi')"
   ],
   "outputs": [],
   "execution_count": 20
  },
  {
   "cell_type": "code",
   "id": "1399bd09ba2fedac",
   "metadata": {
    "ExecuteTime": {
     "end_time": "2024-07-08T11:22:43.339490Z",
     "start_time": "2024-07-08T11:22:43.336261Z"
    }
   },
   "source": [
    "l_n = lambda n: sp.symbols(\"\\\\lambda_{{{}}}\".format(n).replace(\" \",\"\"))"
   ],
   "outputs": [],
   "execution_count": 21
  },
  {
   "cell_type": "code",
   "id": "a2d1dd0803426ef",
   "metadata": {
    "ExecuteTime": {
     "end_time": "2024-07-08T11:22:43.383487Z",
     "start_time": "2024-07-08T11:22:43.380859Z"
    }
   },
   "source": [
    "def C(j,n):\n",
    "    k = (j+n)/2\n",
    "    return sp.factorial(n)/(sp.factorial(k)*sp.factorial(n-k))"
   ],
   "outputs": [],
   "execution_count": 22
  },
  {
   "cell_type": "code",
   "id": "c10f1a562c1a14bb",
   "metadata": {
    "ExecuteTime": {
     "end_time": "2024-07-08T11:22:43.554234Z",
     "start_time": "2024-07-08T11:22:43.428329Z"
    }
   },
   "source": [
    "C(N-4, N)"
   ],
   "outputs": [
    {
     "data": {
      "text/plain": [
       "    N!    \n",
       "──────────\n",
       "2⋅(N - 2)!"
      ],
      "image/png": "[encoded data removed]",
      "text/latex": "$\\displaystyle \\frac{N!}{2 \\left(N - 2\\right)!}$"
     },
     "execution_count": 23,
     "metadata": {},
     "output_type": "execute_result"
    }
   ],
   "execution_count": 23
  },
  {
   "cell_type": "code",
   "id": "35cd40e9ce160ca5",
   "metadata": {
    "ExecuteTime": {
     "end_time": "2024-07-08T11:22:43.559764Z",
     "start_time": "2024-07-08T11:22:43.555659Z"
    }
   },
   "source": [
    "def A_num(j, N):\n",
    "    assert j>0\n",
    "    assert j%2\n",
    "    assert N%2\n",
    "    assert N>=j\n",
    "    \n",
    "    summy = sp.zeros(1)[0]\n",
    "    \n",
    "    for n in range(j,N+1, 2):\n",
    "        summy = summy + l_n(n)*A0**n * C(j,n)\n",
    "        \n",
    "    return summy\n",
    "        "
   ],
   "outputs": [],
   "execution_count": 24
  },
  {
   "cell_type": "markdown",
   "id": "d886e2174b9ded30",
   "metadata": {},
   "source": []
  },
  {
   "cell_type": "code",
   "id": "259f4ba87395403a",
   "metadata": {
    "ExecuteTime": {
     "end_time": "2024-07-08T11:22:43.575857Z",
     "start_time": "2024-07-08T11:22:43.561256Z"
    }
   },
   "source": [
    "def A_sym(j: sp.Basic, N: sp.Basic):\n",
    "    assert isinstance(j, sp.Basic)\n",
    "    assert isinstance(N, sp.Basic)\n",
    "    \n",
    "    diff = N-j\n",
    "\n",
    "    assert diff>=0\n",
    "    assert isinstance(diff, sp.core.numbers.Integer)\n",
    "    assert diff%2 == 0\n",
    "\n",
    "    summy_sum = sp.Integer(0)\n",
    "    sequence = [j+i-1 for i in range(1, 1+(diff+1), 2)]\n",
    "    \n",
    "    for n in sequence:\n",
    "        c = C(j,n).simplify()\n",
    "        l = l_n(n)\n",
    "    \n",
    "        summy_sum = summy_sum + l*c*(A/sp.Integer(2))**(n)\n",
    "        \n",
    "    return summy_sum"
   ],
   "outputs": [],
   "execution_count": 25
  },
  {
   "cell_type": "code",
   "id": "b8821d17",
   "metadata": {
    "ExecuteTime": {
     "end_time": "2024-07-08T11:22:43.723036Z",
     "start_time": "2024-07-08T11:22:43.593257Z"
    }
   },
   "source": [
    "sp.Equality(j,N-1)"
   ],
   "outputs": [
    {
     "data": {
      "text/plain": [
       "j = N - 1"
      ],
      "image/png": "[encoded data removed]",
      "text/latex": "$\\displaystyle j = N - 1$"
     },
     "execution_count": 26,
     "metadata": {},
     "output_type": "execute_result"
    }
   ],
   "execution_count": 26
  },
  {
   "cell_type": "code",
   "id": "b8dc9cd9",
   "metadata": {
    "ExecuteTime": {
     "end_time": "2024-07-08T11:22:43.728117Z",
     "start_time": "2024-07-08T11:22:43.724674Z"
    }
   },
   "source": [
    "def j_list(DN: sp.Integer):\n",
    "    '''Generates a list of lhs coefficients, one for each harmonic \\'j\\''''\n",
    "    \n",
    "    listy_list = []\n",
    "    for j_val in [N-i for i in range(DN, -1, -2)]:\n",
    "        lhs = A_sym(j_val, N)\n",
    "        rhs = sp.Integer(2)/(j_val*sp.pi) * (-1)**((j_val-1)/sp.Integer(2))\n",
    "\n",
    "        listy_list.append((j_val, lhs, rhs))\n",
    "    return listy_list"
   ],
   "outputs": [],
   "execution_count": 27
  },
  {
   "cell_type": "code",
   "id": "fe0b7345",
   "metadata": {
    "ExecuteTime": {
     "end_time": "2024-07-08T11:22:43.743156Z",
     "start_time": "2024-07-08T11:22:43.729226Z"
    }
   },
   "source": [
    "_2 = sp.Integer(2)\n",
    "_4 = sp.Integer(4)\n",
    "\n",
    "test_term = (_2 * _2**(_2*N) - _4**N*N + 4**N)"
   ],
   "outputs": [],
   "execution_count": 28
  },
  {
   "cell_type": "code",
   "id": "c767031d",
   "metadata": {
    "ExecuteTime": {
     "end_time": "2024-07-08T11:22:43.890430Z",
     "start_time": "2024-07-08T11:22:43.747297Z"
    }
   },
   "source": [
    "test_term"
   ],
   "outputs": [
    {
     "data": {
      "text/plain": [
       "   2⋅N    N      N\n",
       "2⋅2    - 4 ⋅N + 4 "
      ],
      "image/png": "[encoded data removed]",
      "text/latex": "$\\displaystyle 2 \\cdot 2^{2 N} - 4^{N} N + 4^{N}$"
     },
     "execution_count": 29,
     "metadata": {},
     "output_type": "execute_result"
    }
   ],
   "execution_count": 29
  },
  {
   "cell_type": "code",
   "id": "2269faff",
   "metadata": {
    "ExecuteTime": {
     "end_time": "2024-07-08T11:22:44.306996Z",
     "start_time": "2024-07-08T11:22:43.892192Z"
    }
   },
   "source": [
    "substitutions = ( (_2**(_2*N), _4**N), ((1/A)**N, A**(-N)))\n",
    "simplifications = (sp.simplify, sp.factor)\n",
    "\n",
    "def slab_simplify(expr, iter: int = 1):\n",
    "    for n in range(iter):\n",
    "        for old, new in substitutions:\n",
    "            expr = expr.subs(old, new)\n",
    "\n",
    "        for simp in simplifications:\n",
    "            expr = simp(expr)\n",
    "\n",
    "    return expr\n",
    "\n",
    "display(test_term)\n",
    "temp = test_term\n",
    "for old, new in substitutions:\n",
    "    temp = temp.subs(old, new)\n",
    "\n",
    "display(substitutions)\n",
    "temp\n",
    "\n",
    "temp2 = temp\n",
    "for simp in simplifications:\n",
    "    temp2 = simp(temp2)\n",
    "\n",
    "display(simplifications)\n",
    "temp2\n"
   ],
   "outputs": [
    {
     "data": {
      "text/plain": [
       "   2⋅N    N      N\n",
       "2⋅2    - 4 ⋅N + 4 "
      ],
      "image/png": "[encoded data removed]",
      "text/latex": "$\\displaystyle 2 \\cdot 2^{2 N} - 4^{N} N + 4^{N}$"
     },
     "metadata": {},
     "output_type": "display_data"
    },
    {
     "data": {
      "text/plain": [
       "⎛            ⎛   N     ⎞⎞\n",
       "⎜⎛ 2⋅N   N⎞  ⎜⎛1⎞    -N⎟⎟\n",
       "⎜⎝2   , 4 ⎠, ⎜⎜─⎟ , A  ⎟⎟\n",
       "⎝            ⎝⎝A⎠      ⎠⎠"
      ],
      "image/png": "[encoded data removed]",
      "text/latex": "$\\displaystyle \\left( \\left( 2^{2 N}, \\  4^{N}\\right), \\  \\left( \\left(\\frac{1}{A}\\right)^{N}, \\  A^{- N}\\right)\\right)$"
     },
     "metadata": {},
     "output_type": "display_data"
    },
    {
     "data": {
      "text/plain": [
       "(<function sympy.simplify.simplify.simplify(expr, ratio=1.7, measure=<function count_ops at 0x7f55fc2351c0>, rational=False, inverse=False, doit=True, **kwargs)>,\n",
       " <function sympy.polys.polytools.factor(f, *gens, deep=False, **args)>)"
      ]
     },
     "metadata": {},
     "output_type": "display_data"
    },
    {
     "data": {
      "text/plain": [
       "  N        \n",
       "-4 ⋅(N - 3)"
      ],
      "image/png": "[encoded data removed]",
      "text/latex": "$\\displaystyle - 4^{N} \\left(N - 3\\right)$"
     },
     "execution_count": 30,
     "metadata": {},
     "output_type": "execute_result"
    }
   ],
   "execution_count": 30
  },
  {
   "cell_type": "code",
   "id": "3b832f7f",
   "metadata": {
    "ExecuteTime": {
     "end_time": "2024-07-08T11:22:44.311160Z",
     "start_time": "2024-07-08T11:22:44.308433Z"
    }
   },
   "source": [],
   "outputs": [],
   "execution_count": 30
  },
  {
   "cell_type": "code",
   "id": "889cae29",
   "metadata": {
    "ExecuteTime": {
     "end_time": "2024-07-08T11:23:21.836741Z",
     "start_time": "2024-07-08T11:23:21.797665Z"
    }
   },
   "source": [
    "DN = sp.Integer(9)\n",
    "\n",
    "listy_wisty = j_list(DN)[::-1]\n",
    "latty_mate = f\"\"\"\\\\begin{{align}}\"\"\"\n",
    "solutions = []\n",
    "for terms in listy_wisty:\n",
    "    j_n, lhs, rhs = terms\n",
    "\n",
    "    eq = sp.Equality(lhs, rhs)\n",
    "\n",
    "    for lamby_damby in solutions:\n",
    "        j, symb, sol = lamby_damby\n",
    "        eq = eq.subs(symb, sol)\n",
    "        eq = slab_simplify(eq)\n",
    "\n",
    "    symb = l_n(j_n)\n",
    "    sol = sp.solve(eq, symb)[0]\n",
    "    \n",
    "    sol = slab_simplify(sol)    \n",
    "\n",
    "    ap = (j_n, symb, sol)\n",
    "    solutions.append(ap)\n",
    "\n",
    "    latty_mate = latty_mate + f\"\"\"\n",
    "j = {sp.latex(j_n)} \\\\qquad &\\\\rightarrow \\\\qquad {sp.latex(lhs)} = {sp.latex(rhs)} \\\\\\\\\n",
    "&\\\\rightarrow {sp.latex(symb)} = {sp.latex(sol)} \\\\\\\\\n",
    "\\\\\\\\ \\\\ \\\\\\\\\n",
    "\"\"\"\n",
    "    \n",
    "latty_mate= latty_mate + f\"\"\"\\\\end{{align}}\"\"\"\n",
    "\n",
    "display(Latex(latty_mate))"
   ],
   "outputs": [
    {
     "ename": "AssertionError",
     "evalue": "",
     "output_type": "error",
     "traceback": [
      "\u001B[0;31m---------------------------------------------------------------------------\u001B[0m",
      "\u001B[0;31mAssertionError\u001B[0m                            Traceback (most recent call last)",
      "Cell \u001B[0;32mIn[37], line 3\u001B[0m\n\u001B[1;32m      1\u001B[0m DN \u001B[38;5;241m=\u001B[39m sp\u001B[38;5;241m.\u001B[39mInteger(\u001B[38;5;241m9\u001B[39m)\n\u001B[0;32m----> 3\u001B[0m listy_wisty \u001B[38;5;241m=\u001B[39m \u001B[43mj_list\u001B[49m\u001B[43m(\u001B[49m\u001B[43mDN\u001B[49m\u001B[43m)\u001B[49m[::\u001B[38;5;241m-\u001B[39m\u001B[38;5;241m1\u001B[39m]\n\u001B[1;32m      4\u001B[0m latty_mate \u001B[38;5;241m=\u001B[39m \u001B[38;5;124mf\u001B[39m\u001B[38;5;124m\"\"\"\u001B[39m\u001B[38;5;130;01m\\\\\u001B[39;00m\u001B[38;5;124mbegin\u001B[39m\u001B[38;5;130;01m{{\u001B[39;00m\u001B[38;5;124malign\u001B[39m\u001B[38;5;130;01m}}\u001B[39;00m\u001B[38;5;124m\"\"\"\u001B[39m\n\u001B[1;32m      5\u001B[0m solutions \u001B[38;5;241m=\u001B[39m []\n",
      "Cell \u001B[0;32mIn[27], line 6\u001B[0m, in \u001B[0;36mj_list\u001B[0;34m(DN)\u001B[0m\n\u001B[1;32m      4\u001B[0m listy_list \u001B[38;5;241m=\u001B[39m []\n\u001B[1;32m      5\u001B[0m \u001B[38;5;28;01mfor\u001B[39;00m j_val \u001B[38;5;129;01min\u001B[39;00m [N\u001B[38;5;241m-\u001B[39mi \u001B[38;5;28;01mfor\u001B[39;00m i \u001B[38;5;129;01min\u001B[39;00m \u001B[38;5;28mrange\u001B[39m(DN, \u001B[38;5;241m-\u001B[39m\u001B[38;5;241m1\u001B[39m, \u001B[38;5;241m-\u001B[39m\u001B[38;5;241m2\u001B[39m)]:\n\u001B[0;32m----> 6\u001B[0m     lhs \u001B[38;5;241m=\u001B[39m \u001B[43mA_sym\u001B[49m\u001B[43m(\u001B[49m\u001B[43mj_val\u001B[49m\u001B[43m,\u001B[49m\u001B[43m \u001B[49m\u001B[43mN\u001B[49m\u001B[43m)\u001B[49m\n\u001B[1;32m      7\u001B[0m     rhs \u001B[38;5;241m=\u001B[39m sp\u001B[38;5;241m.\u001B[39mInteger(\u001B[38;5;241m2\u001B[39m)\u001B[38;5;241m/\u001B[39m(j_val\u001B[38;5;241m*\u001B[39msp\u001B[38;5;241m.\u001B[39mpi) \u001B[38;5;241m*\u001B[39m (\u001B[38;5;241m-\u001B[39m\u001B[38;5;241m1\u001B[39m)\u001B[38;5;241m*\u001B[39m\u001B[38;5;241m*\u001B[39m((j_val\u001B[38;5;241m-\u001B[39m\u001B[38;5;241m1\u001B[39m)\u001B[38;5;241m/\u001B[39msp\u001B[38;5;241m.\u001B[39mInteger(\u001B[38;5;241m2\u001B[39m))\n\u001B[1;32m      9\u001B[0m     listy_list\u001B[38;5;241m.\u001B[39mappend((j_val, lhs, rhs))\n",
      "Cell \u001B[0;32mIn[25], line 9\u001B[0m, in \u001B[0;36mA_sym\u001B[0;34m(j, N)\u001B[0m\n\u001B[1;32m      7\u001B[0m \u001B[38;5;28;01massert\u001B[39;00m diff\u001B[38;5;241m>\u001B[39m\u001B[38;5;241m=\u001B[39m\u001B[38;5;241m0\u001B[39m\n\u001B[1;32m      8\u001B[0m \u001B[38;5;28;01massert\u001B[39;00m \u001B[38;5;28misinstance\u001B[39m(diff, sp\u001B[38;5;241m.\u001B[39mcore\u001B[38;5;241m.\u001B[39mnumbers\u001B[38;5;241m.\u001B[39mInteger)\n\u001B[0;32m----> 9\u001B[0m \u001B[38;5;28;01massert\u001B[39;00m diff\u001B[38;5;241m%\u001B[39m\u001B[38;5;241m2\u001B[39m \u001B[38;5;241m==\u001B[39m \u001B[38;5;241m0\u001B[39m\n\u001B[1;32m     11\u001B[0m summy_sum \u001B[38;5;241m=\u001B[39m sp\u001B[38;5;241m.\u001B[39mInteger(\u001B[38;5;241m0\u001B[39m)\n\u001B[1;32m     12\u001B[0m sequence \u001B[38;5;241m=\u001B[39m [j\u001B[38;5;241m+\u001B[39mi\u001B[38;5;241m-\u001B[39m\u001B[38;5;241m1\u001B[39m \u001B[38;5;28;01mfor\u001B[39;00m i \u001B[38;5;129;01min\u001B[39;00m \u001B[38;5;28mrange\u001B[39m(\u001B[38;5;241m1\u001B[39m, \u001B[38;5;241m1\u001B[39m\u001B[38;5;241m+\u001B[39m(diff\u001B[38;5;241m+\u001B[39m\u001B[38;5;241m1\u001B[39m), \u001B[38;5;241m2\u001B[39m)]\n",
      "\u001B[0;31mAssertionError\u001B[0m: "
     ]
    }
   ],
   "execution_count": 37
  },
  {
   "cell_type": "code",
   "id": "08b8e620",
   "metadata": {},
   "source": [
    "print(\"Total of {} solutions.\".format(len(solutions)))"
   ],
   "outputs": [],
   "execution_count": null
  },
  {
   "cell_type": "code",
   "id": "db4815c6",
   "metadata": {},
   "source": [
    "def compy(j1, j2):\n",
    "    s1 = solutions[j1]\n",
    "    s2 = solutions[j2]\n",
    "\n",
    "    return s1[0]/s2[0], s1[1]/s2[1], s1[2]/s2[2]"
   ],
   "outputs": [],
   "execution_count": null
  },
  {
   "cell_type": "code",
   "id": "53629f06",
   "metadata": {},
   "source": [
    "for i in range(1, len(solutions)):\n",
    "    compy_comp = compy(i,0)\n",
    "    simpy = slab_simplify(compy_comp[2])\n",
    "\n",
    "    print(\"i={}\".format(i))\n",
    "\n",
    "    display(compy_comp[1])\n",
    "    display(simpy)\n",
    "\n",
    "    print('--------------------------------')"
   ],
   "outputs": [],
   "execution_count": null
  },
  {
   "cell_type": "code",
   "id": "4ce0df14",
   "metadata": {},
   "source": [
    "for j, symb, sol in solutions:\n",
    "    display(j, symb, sol)\n",
    "    "
   ],
   "outputs": [],
   "execution_count": null
  },
  {
   "cell_type": "code",
   "id": "b55377e1",
   "metadata": {},
   "source": [],
   "outputs": [],
   "execution_count": null
  },
  {
   "cell_type": "code",
   "id": "938fe4f9",
   "metadata": {},
   "source": [
    "def subsy(N_num: sp.Integer, A_num: sp.RealNumber = A, no_plot: bool = False):\n",
    "    assert N_num>0\n",
    "    assert N_num%2\n",
    "    \n",
    "    should_plot = isinstance(A_num, (float, int, sp.Number))\n",
    "\n",
    "    V = sp.Integer(0)\n",
    "    \n",
    "    coeffs = []\n",
    "    for j, symb, sol in solutions:\n",
    "        coef = slab_simplify(sol.subs(N, N_num).subs(A, A_num))\n",
    "        exponent = j.subs(N,N_num)\n",
    "\n",
    "        if exponent < 1: break\n",
    "\n",
    "        symb = l_n(exponent)\n",
    "\n",
    "        V += coef*phi**(exponent+1) / sp.Integer(exponent+1)\n",
    "\n",
    "        coeffs.append((exponent+1, symb, coef))\n",
    "\n",
    "        if not should_plot:\n",
    "            display(symb, coef)\n",
    "\n",
    "    dV = V.diff(phi)\n",
    "    square_wave = -dV.subs(phi, sp.cos(x)).simplify()\n",
    "\n",
    "    if not should_plot:\n",
    "        display(V)\n",
    "        display(-dV)\n",
    "        display(square_wave)\n",
    "\n",
    "    if should_plot and not no_plot:\n",
    "        r = sp.RealNumber(1.15) * A_num\n",
    "        phi_range = (phi, -r, r)\n",
    "\n",
    "        one = 1.25\n",
    "\n",
    "        a = sp.plot(V, phi_range, ylim=(-0.1, r), label='$V_{NL}(\\\\phi)$', show=False)\n",
    "        b = sp.plot(-dV, phi_range, ylim=(-one,one), label='$-V\\'(\\\\phi)$', show=False)\n",
    "        c = sp.plot(square_wave, (x, -4*sp.pi, 4*sp.pi), ylim=(-one,one), label='$-V\\'(\\\\cos(x))$', show=False)\n",
    "\n",
    "        a.legend = True\n",
    "        a.xlabel = '$\\\\phi$'\n",
    "        a.ylabel = '$V_{NL}(\\\\phi)$'\n",
    "        a.show()\n",
    "        b.legend = True\n",
    "        b.xlabel = '$\\\\phi$'\n",
    "        b.ylabel = '$-V\\'(\\\\phi)$'\n",
    "        b.show()\n",
    "        c.legend = True\n",
    "        c.xlabel = '$x$'\n",
    "        c.ylabel = '$-V\\'(\\\\cos(x))$'\n",
    "        c.show()\n",
    "\n",
    "    return V, dV, square_wave, coeffs  \n",
    "\n",
    "    "
   ],
   "outputs": [],
   "execution_count": null
  },
  {
   "cell_type": "code",
   "id": "d34bfaa3",
   "metadata": {},
   "source": [
    "V, dV, square_wave, coeffs = subsy(15, A)"
   ],
   "outputs": [],
   "execution_count": null
  },
  {
   "cell_type": "code",
   "id": "335a6bc1",
   "metadata": {},
   "source": [
    "N_max = 17\n",
    "\n",
    "V1 = subsy(N_max, 0.5, no_plot=True)[0]\n",
    "#V2 = subsy(15, 1.0, no_plot=True)[0]\n",
    "#V3 = subsy(15, 1.5, no_plot=True)[0]\n",
    "V4 = subsy(N_max, 2.0, no_plot=True)[0]\n",
    "\n",
    "r = sp.RealNumber(1.15) * 2\n",
    "phi_range = (phi, -r, r)\n",
    "\n",
    "a = sp.plot(V1, V4, phi_range, ylim=(-0.1, 2.5))\n",
    "a.legend = True\n"
   ],
   "outputs": [],
   "execution_count": null
  },
  {
   "cell_type": "code",
   "id": "c1960937",
   "metadata": {},
   "source": [
    "\n"
   ],
   "outputs": [],
   "execution_count": null
  },
  {
   "cell_type": "code",
   "id": "06d7b50e",
   "metadata": {},
   "source": [],
   "outputs": [],
   "execution_count": null
  },
  {
   "cell_type": "code",
   "id": "23826fd9",
   "metadata": {},
   "source": [
    "plots = []\n",
    "labels = []\n",
    "plo = plot(show=False, ylim=(-10,10))\n",
    "for p, label, coef in coeffs:\n",
    "    display(label)\n",
    "    display(coef)\n",
    "    r = 4\n",
    "    \n",
    "    plo.extend(plot(coef, (A,1.e-2,r), adaptive=False, n=2, label=label, show=False))\n",
    "\n",
    "plo.legend = True\n",
    "plo.xlabel = 'A'\n",
    "plo.ylabel = '$\\lambda_n(A)$'\n",
    "plo.show()\n"
   ],
   "outputs": [],
   "execution_count": null
  },
  {
   "cell_type": "markdown",
   "id": "8cbfd241",
   "metadata": {},
   "source": [
    "One can determine the coefficients as $\\lambda_{N-2k}=\\lambda_{N}$ can"
   ]
  },
  {
   "cell_type": "code",
   "id": "076c09fa",
   "metadata": {},
   "source": [
    "lambda_N = sp.Eq(sp.symbols('\\\\lambda_N'), (-1)**((N-1)/2)*(2/A)**N*2/N/sp.pi)\n",
    "lambda_N"
   ],
   "outputs": [],
   "execution_count": null
  },
  {
   "cell_type": "code",
   "id": "46d9733f",
   "metadata": {},
   "source": [
    "k, s1, s2 = sp.symbols('k, \\\\lambda_{{N-2k}}, \\\\lambda_N')\n",
    "propy_symbol = s1/s2\n",
    "propy = (-1)**k*sp.factorial(N-k)/sp.factorial(N-2*k)*A**(2*k)*N/4**k/sp.factorial(k)/(N-2*k)\n",
    "def prop__lambda_Nm2k__lambda_N(k_num:int):\n",
    "    propy_subsy = propy.subs(k, k_num)\n",
    "    index = N-sp.Integer(2)*k_num\n",
    "    s1b = sp.symbols('\\\\lambda_{{{}}}'.format(index).replace(' ',''))\n",
    "    return sp.Eq(s1b/s2, propy_subsy)\n",
    "\n",
    "print(\"This is a heuristic:\")\n",
    "prop__lambda_Nm2k__lambda_N(k)"
   ],
   "outputs": [],
   "execution_count": null
  },
  {
   "cell_type": "code",
   "id": "5ce05477",
   "metadata": {},
   "source": [
    "assert not (lambda_N.rhs-solutions[0][2]).simplify().factor().subs((1/A)**N, A**(-N))"
   ],
   "outputs": [],
   "execution_count": null
  },
  {
   "cell_type": "code",
   "id": "d3daa242",
   "metadata": {},
   "source": [
    "def lambda_Nm2k(k_num): \n",
    "    propy = prop__lambda_Nm2k__lambda_N(k_num)\n",
    "    propy_lhs, propy_rhs = propy.lhs, propy.rhs\n",
    "\n",
    "    lhs = propy_lhs*lambda_N.lhs\n",
    "    rhs = propy_rhs*lambda_N.rhs\n",
    "    rhs = slab_simplify(rhs)\n",
    "\n",
    "    return sp.Eq(lhs, rhs)"
   ],
   "outputs": [],
   "execution_count": null
  },
  {
   "cell_type": "code",
   "id": "fd96ddd4",
   "metadata": {},
   "source": [
    "lambda_Nm2k(k)"
   ],
   "outputs": [],
   "execution_count": null
  },
  {
   "cell_type": "code",
   "id": "74d1099d",
   "metadata": {},
   "source": [],
   "outputs": [],
   "execution_count": null
  },
  {
   "cell_type": "code",
   "id": "62bc137a",
   "metadata": {},
   "source": [
    "def lambda_Nm2k_version2(k_num):\n",
    "    n = N-2*k_num\n",
    "\n",
    "    coef = 2*(-1)**((N+1)/2)*(2/A)**n/sp.pi/n * sp.binomial(N-k, k)\n",
    "\n",
    "    symb = sp.symbols('\\\\lambda_{{{}}}'.format(N-2*k_num).replace(' ', ''))\n",
    "\n",
    "    return sp.Eq(symb,coef)\n"
   ],
   "outputs": [],
   "execution_count": null
  },
  {
   "cell_type": "code",
   "id": "5d11ced3",
   "metadata": {},
   "source": [
    "lambda_Nm2k_version2(k)"
   ],
   "outputs": [],
   "execution_count": null
  },
  {
   "cell_type": "code",
   "id": "6a193710",
   "metadata": {},
   "source": [
    "for i in range(1, 9, 2):\n",
    "    print(i)\n",
    "    expo = (i-1)/2\n",
    "    print((-1)**(expo))\n",
    "    print('---')"
   ],
   "outputs": [],
   "execution_count": null
  },
  {
   "cell_type": "code",
   "id": "e6037a67",
   "metadata": {
    "ExecuteTime": {
     "end_time": "2024-07-08T11:22:44.433971Z",
     "start_time": "2024-07-08T11:22:44.429490Z"
    }
   },
   "source": [
    "def lambda_n(n_num: sp.Integer, A_num: sp.RealNumber=A, N_num: sp.Integer=N):\n",
    "    symb = sp.symbols('\\\\lambda_{{{}}}'.format(n_num).replace(' ',''))\n",
    "    coef = 2*(-1)**((n_num-1)/2)/n_num/sp.pi * (2/A_num)**n_num * sp.binomial((N_num+n_num)/2,(N_num-n_num)/2)\n",
    "\n",
    "    return sp.Eq(symb,coef)"
   ],
   "outputs": [],
   "execution_count": 32
  },
  {
   "cell_type": "code",
   "id": "12b1bbd6",
   "metadata": {
    "ExecuteTime": {
     "end_time": "2024-07-08T11:22:45.760512Z",
     "start_time": "2024-07-08T11:22:44.480331Z"
    }
   },
   "source": [
    "N_num = 15\n",
    "display(lambda_n(n))\n",
    "for n_num in range(1, N_num+1, 2):\n",
    "    display(lambda_n(n_num, N_num=N_num))"
   ],
   "outputs": [
    {
     "data": {
      "text/plain": [
       "                    n   1      ⎛N   n⎞\n",
       "                    ─ - ─    n ⎜─ + ─⎟\n",
       "                    2   2 ⎛2⎞  ⎜2   2⎟\n",
       "              2⋅(-1)     ⋅⎜─⎟ ⋅⎜     ⎟\n",
       "                          ⎝A⎠  ⎜N   n⎟\n",
       "                               ⎜─ - ─⎟\n",
       "                               ⎝2   2⎠\n",
       "\\lambda_{n} = ────────────────────────\n",
       "                        π⋅n           "
      ],
      "image/png": "[encoded data removed]",
      "text/latex": "$\\displaystyle \\lambda_{n} = \\frac{2 \\left(-1\\right)^{\\frac{n}{2} - \\frac{1}{2}} \\left(\\frac{2}{A}\\right)^{n} {\\binom{\\frac{N}{2} + \\frac{n}{2}}{\\frac{N}{2} - \\frac{n}{2}}}}{\\pi n}$"
     },
     "metadata": {},
     "output_type": "display_data"
    },
    {
     "data": {
      "text/plain": [
       "              32.0\n",
       "\\lambda_{1} = ────\n",
       "              π⋅A "
      ],
      "image/png": "[encoded data removed]",
      "text/latex": "$\\displaystyle \\lambda_{1} = \\frac{32.0}{\\pi A}$"
     },
     "metadata": {},
     "output_type": "display_data"
    },
    {
     "data": {
      "text/plain": [
       "              -448.0 \n",
       "\\lambda_{3} = ───────\n",
       "                   3 \n",
       "                π⋅A  "
      ],
      "image/png": "[encoded data removed]",
      "text/latex": "$\\displaystyle \\lambda_{3} = - \\frac{448.0}{\\pi A^{3}}$"
     },
     "metadata": {},
     "output_type": "display_data"
    },
    {
     "data": {
      "text/plain": [
       "              3225.6\n",
       "\\lambda_{5} = ──────\n",
       "                  5 \n",
       "               π⋅A  "
      ],
      "image/png": "[encoded data removed]",
      "text/latex": "$\\displaystyle \\lambda_{5} = \\frac{3225.6}{\\pi A^{5}}$"
     },
     "metadata": {},
     "output_type": "display_data"
    },
    {
     "data": {
      "text/plain": [
       "              -12068.5714285714 \n",
       "\\lambda_{7} = ──────────────────\n",
       "                        7       \n",
       "                     π⋅A        "
      ],
      "image/png": "[encoded data removed]",
      "text/latex": "$\\displaystyle \\lambda_{7} = - \\frac{12068.5714285714}{\\pi A^{7}}$"
     },
     "metadata": {},
     "output_type": "display_data"
    },
    {
     "data": {
      "text/plain": [
       "              25031.1111111111\n",
       "\\lambda_{9} = ────────────────\n",
       "                       9      \n",
       "                    π⋅A       "
      ],
      "image/png": "[encoded data removed]",
      "text/latex": "$\\displaystyle \\lambda_{9} = \\frac{25031.1111111111}{\\pi A^{9}}$"
     },
     "metadata": {},
     "output_type": "display_data"
    },
    {
     "data": {
      "text/plain": [
       "               -29044.3636363636 \n",
       "\\lambda_{11} = ──────────────────\n",
       "                        11       \n",
       "                     π⋅A         "
      ],
      "image/png": "[encoded data removed]",
      "text/latex": "$\\displaystyle \\lambda_{11} = - \\frac{29044.3636363636}{\\pi A^{11}}$"
     },
     "metadata": {},
     "output_type": "display_data"
    },
    {
     "data": {
      "text/plain": [
       "               17644.3076923077\n",
       "\\lambda_{13} = ────────────────\n",
       "                       13      \n",
       "                    π⋅A        "
      ],
      "image/png": "[encoded data removed]",
      "text/latex": "$\\displaystyle \\lambda_{13} = \\frac{17644.3076923077}{\\pi A^{13}}$"
     },
     "metadata": {},
     "output_type": "display_data"
    },
    {
     "data": {
      "text/plain": [
       "               -4369.06666666667 \n",
       "\\lambda_{15} = ──────────────────\n",
       "                        15       \n",
       "                     π⋅A         "
      ],
      "image/png": "[encoded data removed]",
      "text/latex": "$\\displaystyle \\lambda_{15} = - \\frac{4369.06666666667}{\\pi A^{15}}$"
     },
     "metadata": {},
     "output_type": "display_data"
    }
   ],
   "execution_count": 33
  },
  {
   "cell_type": "code",
   "id": "1e8b2be5",
   "metadata": {
    "ExecuteTime": {
     "end_time": "2024-07-08T11:22:45.764745Z",
     "start_time": "2024-07-08T11:22:45.761772Z"
    }
   },
   "source": [
    "def  build_potential(N_num, A_num):\n",
    "    V = sp.Integer(0)\n",
    "    for n_num in range(1, N_num+1, 2):\n",
    "        lambda_n_num = lambda_n(n_num, A_num=A_num, N_num=N_num).rhs\n",
    "        V += sp.Rational(1,n_num+1)*lambda_n_num*phi**(n_num+1)\n",
    "\n",
    "    return V    "
   ],
   "outputs": [],
   "execution_count": 34
  },
  {
   "cell_type": "code",
   "id": "aa982592",
   "metadata": {
    "ExecuteTime": {
     "end_time": "2024-07-08T11:28:37.351798Z",
     "start_time": "2024-07-08T11:28:37.090310Z"
    }
   },
   "source": [
    "A_num = 10\n",
    "\n",
    "V = build_potential(N_num=1, A_num=A_num)\n",
    "plotty = sp.plot(V, (phi,-1.2*A_num,1.2*A_num), show=False)\n",
    "\n",
    "for i in range(5, 21, 4):\n",
    "    V = build_potential(N_num=i, A_num=A_num)\n",
    "\n",
    "    plotty.extend(sp.plot(V, (phi,-1.2*A_num,1.2*A_num), show=False))\n",
    "\n",
    "\n",
    "plotty.ylim = (-0.1, 1.2*A_num)\n",
    "plotty.show()\n"
   ],
   "outputs": [
    {
     "data": {
      "text/plain": [
       "<Figure size 640x480 with 1 Axes>"
      ],
      "image/png": "[encoded data removed]"
     },
     "metadata": {},
     "output_type": "display_data"
    }
   ],
   "execution_count": 47
  },
  {
   "metadata": {
    "ExecuteTime": {
     "end_time": "2024-07-08T11:36:21.366369Z",
     "start_time": "2024-07-08T11:36:20.932403Z"
    }
   },
   "cell_type": "code",
   "source": [
    "A_num = 10\n",
    "N_num = 51\n",
    "\n",
    "V = build_potential(N_num=N_num, A_num=A_num)\n",
    "plotty = sp.plot(V, (phi,-1.2*A_num,1.2*A_num), show=False)\n",
    "\n",
    "m2 = lambda_n(sp.Integer(1), A_num=A_num, N_num=sp.Integer(N_num)).rhs\n",
    "\n",
    "mass_term = phi**2 * m2/2\n",
    "display(mass_term)\n",
    "plotty.extend(sp.plot(mass_term, (phi,-1.2*A_num,1.2*A_num), show=False))\n",
    "\n",
    "plotty.ylim = (-0.1, 1.2*A_num)\n",
    "plotty.show()"
   ],
   "id": "6263811723bae9d8",
   "outputs": [
    {
     "data": {
      "text/plain": [
       "        2\n",
       "5.2⋅\\phi \n",
       "─────────\n",
       "    π    "
      ],
      "image/png": "[encoded data removed]",
      "text/latex": "$\\displaystyle \\frac{5.2 \\phi^{2}}{\\pi}$"
     },
     "metadata": {},
     "output_type": "display_data"
    },
    {
     "data": {
      "text/plain": [
       "<Figure size 640x480 with 1 Axes>"
      ],
      "image/png": "[encoded data removed]"
     },
     "metadata": {},
     "output_type": "display_data"
    }
   ],
   "execution_count": 65
  },
  {
   "metadata": {
    "ExecuteTime": {
     "end_time": "2024-07-08T12:55:21.572237Z",
     "start_time": "2024-07-08T12:55:21.132940Z"
    }
   },
   "cell_type": "code",
   "source": [
    "A_num = 4/sp.pi\n",
    "N_num = 1\n",
    "\n",
    "lambda_ = lambda_n(sp.Integer(1), A_num, N_num).rhs\n",
    "term = phi * lambda_\n",
    "plotty = sp.plot(term, (phi,-1.2*A_num,1.2*A_num), show=False)\n",
    "\n",
    "for n in range(1, N_num, 2):\n",
    "    lambda_ = lambda_n(sp.Integer(n), A_num, N_num).rhs\n",
    "    term = phi**n * lambda_\n",
    "    plotty.extend(sp.plot(term, (phi,-1.2*A_num,1.2*A_num), show=False))\n",
    "    \n",
    "plotty.ylim = (-0.1, 1.2*A_num)\n",
    "\n",
    "plotty.show()"
   ],
   "id": "4442ba9a7e91ceb9",
   "outputs": [
    {
     "ename": "TypeError",
     "evalue": "ufunc 'isfinite' not supported for the input types, and the inputs could not be safely coerced to any supported types according to the casting rule ''safe''",
     "output_type": "error",
     "traceback": [
      "\u001B[0;31m---------------------------------------------------------------------------\u001B[0m",
      "\u001B[0;31mTypeError\u001B[0m                                 Traceback (most recent call last)",
      "Cell \u001B[0;32mIn[85], line 14\u001B[0m\n\u001B[1;32m     11\u001B[0m     plotty\u001B[38;5;241m.\u001B[39mextend(sp\u001B[38;5;241m.\u001B[39mplot(term, (phi,\u001B[38;5;241m-\u001B[39m\u001B[38;5;241m1.2\u001B[39m\u001B[38;5;241m*\u001B[39mA_num,\u001B[38;5;241m1.2\u001B[39m\u001B[38;5;241m*\u001B[39mA_num), show\u001B[38;5;241m=\u001B[39m\u001B[38;5;28;01mFalse\u001B[39;00m))\n\u001B[1;32m     13\u001B[0m plotty\u001B[38;5;241m.\u001B[39mylim \u001B[38;5;241m=\u001B[39m (\u001B[38;5;241m-\u001B[39m\u001B[38;5;241m0.1\u001B[39m, \u001B[38;5;241m1.2\u001B[39m\u001B[38;5;241m*\u001B[39mA_num)\n\u001B[0;32m---> 14\u001B[0m \u001B[43mplotty\u001B[49m\u001B[38;5;241;43m.\u001B[39;49m\u001B[43mshow\u001B[49m\u001B[43m(\u001B[49m\u001B[43m)\u001B[49m\n",
      "File \u001B[0;32m~/.local/lib/python3.12/site-packages/sympy/plotting/plot.py:251\u001B[0m, in \u001B[0;36mPlot.show\u001B[0;34m(self)\u001B[0m\n\u001B[1;32m    249\u001B[0m     \u001B[38;5;28mself\u001B[39m\u001B[38;5;241m.\u001B[39m_backend\u001B[38;5;241m.\u001B[39mclose()\n\u001B[1;32m    250\u001B[0m \u001B[38;5;28mself\u001B[39m\u001B[38;5;241m.\u001B[39m_backend \u001B[38;5;241m=\u001B[39m \u001B[38;5;28mself\u001B[39m\u001B[38;5;241m.\u001B[39mbackend(\u001B[38;5;28mself\u001B[39m)\n\u001B[0;32m--> 251\u001B[0m \u001B[38;5;28;43mself\u001B[39;49m\u001B[38;5;241;43m.\u001B[39;49m\u001B[43m_backend\u001B[49m\u001B[38;5;241;43m.\u001B[39;49m\u001B[43mshow\u001B[49m\u001B[43m(\u001B[49m\u001B[43m)\u001B[49m\n",
      "File \u001B[0;32m~/.local/lib/python3.12/site-packages/sympy/plotting/plot.py:1549\u001B[0m, in \u001B[0;36mMatplotlibBackend.show\u001B[0;34m(self)\u001B[0m\n\u001B[1;32m   1548\u001B[0m \u001B[38;5;28;01mdef\u001B[39;00m \u001B[38;5;21mshow\u001B[39m(\u001B[38;5;28mself\u001B[39m):\n\u001B[0;32m-> 1549\u001B[0m     \u001B[38;5;28;43mself\u001B[39;49m\u001B[38;5;241;43m.\u001B[39;49m\u001B[43mprocess_series\u001B[49m\u001B[43m(\u001B[49m\u001B[43m)\u001B[49m\n\u001B[1;32m   1550\u001B[0m     \u001B[38;5;66;03m#TODO after fixing https://github.com/ipython/ipython/issues/1255\u001B[39;00m\n\u001B[1;32m   1551\u001B[0m     \u001B[38;5;66;03m# you can uncomment the next line and remove the pyplot.show() call\u001B[39;00m\n\u001B[1;32m   1552\u001B[0m     \u001B[38;5;66;03m#self.fig.show()\u001B[39;00m\n\u001B[1;32m   1553\u001B[0m     \u001B[38;5;28;01mif\u001B[39;00m _show:\n",
      "File \u001B[0;32m~/.local/lib/python3.12/site-packages/sympy/plotting/plot.py:1546\u001B[0m, in \u001B[0;36mMatplotlibBackend.process_series\u001B[0;34m(self)\u001B[0m\n\u001B[1;32m   1544\u001B[0m \u001B[38;5;28;01mif\u001B[39;00m \u001B[38;5;28misinstance\u001B[39m(\u001B[38;5;28mself\u001B[39m\u001B[38;5;241m.\u001B[39mparent, PlotGrid):\n\u001B[1;32m   1545\u001B[0m     parent \u001B[38;5;241m=\u001B[39m \u001B[38;5;28mself\u001B[39m\u001B[38;5;241m.\u001B[39mparent\u001B[38;5;241m.\u001B[39margs[i]\n\u001B[0;32m-> 1546\u001B[0m \u001B[38;5;28;43mself\u001B[39;49m\u001B[38;5;241;43m.\u001B[39;49m\u001B[43m_process_series\u001B[49m\u001B[43m(\u001B[49m\u001B[43mseries\u001B[49m\u001B[43m,\u001B[49m\u001B[43m \u001B[49m\u001B[43max\u001B[49m\u001B[43m,\u001B[49m\u001B[43m \u001B[49m\u001B[43mparent\u001B[49m\u001B[43m)\u001B[49m\n",
      "File \u001B[0;32m~/.local/lib/python3.12/site-packages/sympy/plotting/plot.py:1529\u001B[0m, in \u001B[0;36mMatplotlibBackend._process_series\u001B[0;34m(self, series, ax, parent)\u001B[0m\n\u001B[1;32m   1527\u001B[0m     ax\u001B[38;5;241m.\u001B[39mset_xlim(parent\u001B[38;5;241m.\u001B[39mxlim)\n\u001B[1;32m   1528\u001B[0m \u001B[38;5;28;01mif\u001B[39;00m parent\u001B[38;5;241m.\u001B[39mylim:\n\u001B[0;32m-> 1529\u001B[0m     \u001B[43max\u001B[49m\u001B[38;5;241;43m.\u001B[39;49m\u001B[43mset_ylim\u001B[49m\u001B[43m(\u001B[49m\u001B[43mparent\u001B[49m\u001B[38;5;241;43m.\u001B[39;49m\u001B[43mylim\u001B[49m\u001B[43m)\u001B[49m\n",
      "File \u001B[0;32m/usr/lib64/python3.12/site-packages/matplotlib/axes/_base.py:3898\u001B[0m, in \u001B[0;36m_AxesBase.set_ylim\u001B[0;34m(self, bottom, top, emit, auto, ymin, ymax)\u001B[0m\n\u001B[1;32m   3896\u001B[0m         \u001B[38;5;28;01mraise\u001B[39;00m \u001B[38;5;167;01mTypeError\u001B[39;00m(\u001B[38;5;124m\"\u001B[39m\u001B[38;5;124mCannot pass both \u001B[39m\u001B[38;5;124m'\u001B[39m\u001B[38;5;124mtop\u001B[39m\u001B[38;5;124m'\u001B[39m\u001B[38;5;124m and \u001B[39m\u001B[38;5;124m'\u001B[39m\u001B[38;5;124mymax\u001B[39m\u001B[38;5;124m'\u001B[39m\u001B[38;5;124m\"\u001B[39m)\n\u001B[1;32m   3897\u001B[0m     top \u001B[38;5;241m=\u001B[39m ymax\n\u001B[0;32m-> 3898\u001B[0m \u001B[38;5;28;01mreturn\u001B[39;00m \u001B[38;5;28;43mself\u001B[39;49m\u001B[38;5;241;43m.\u001B[39;49m\u001B[43myaxis\u001B[49m\u001B[38;5;241;43m.\u001B[39;49m\u001B[43m_set_lim\u001B[49m\u001B[43m(\u001B[49m\u001B[43mbottom\u001B[49m\u001B[43m,\u001B[49m\u001B[43m \u001B[49m\u001B[43mtop\u001B[49m\u001B[43m,\u001B[49m\u001B[43m \u001B[49m\u001B[43memit\u001B[49m\u001B[38;5;241;43m=\u001B[39;49m\u001B[43memit\u001B[49m\u001B[43m,\u001B[49m\u001B[43m \u001B[49m\u001B[43mauto\u001B[49m\u001B[38;5;241;43m=\u001B[39;49m\u001B[43mauto\u001B[49m\u001B[43m)\u001B[49m\n",
      "File \u001B[0;32m/usr/lib64/python3.12/site-packages/matplotlib/axis.py:1239\u001B[0m, in \u001B[0;36mAxis._set_lim\u001B[0;34m(self, v0, v1, emit, auto)\u001B[0m\n\u001B[1;32m   1235\u001B[0m     _api\u001B[38;5;241m.\u001B[39mwarn_external(\n\u001B[1;32m   1236\u001B[0m         \u001B[38;5;124mf\u001B[39m\u001B[38;5;124m\"\u001B[39m\u001B[38;5;124mAttempting to set identical low and high \u001B[39m\u001B[38;5;132;01m{\u001B[39;00mname\u001B[38;5;132;01m}\u001B[39;00m\u001B[38;5;124mlims \u001B[39m\u001B[38;5;124m\"\u001B[39m\n\u001B[1;32m   1237\u001B[0m         \u001B[38;5;124mf\u001B[39m\u001B[38;5;124m\"\u001B[39m\u001B[38;5;124mmakes transformation singular; automatically expanding.\u001B[39m\u001B[38;5;124m\"\u001B[39m)\n\u001B[1;32m   1238\u001B[0m reverse \u001B[38;5;241m=\u001B[39m \u001B[38;5;28mbool\u001B[39m(v0 \u001B[38;5;241m>\u001B[39m v1)  \u001B[38;5;66;03m# explicit cast needed for python3.8+np.bool_.\u001B[39;00m\n\u001B[0;32m-> 1239\u001B[0m v0, v1 \u001B[38;5;241m=\u001B[39m \u001B[38;5;28;43mself\u001B[39;49m\u001B[38;5;241;43m.\u001B[39;49m\u001B[43mget_major_locator\u001B[49m\u001B[43m(\u001B[49m\u001B[43m)\u001B[49m\u001B[38;5;241;43m.\u001B[39;49m\u001B[43mnonsingular\u001B[49m\u001B[43m(\u001B[49m\u001B[43mv0\u001B[49m\u001B[43m,\u001B[49m\u001B[43m \u001B[49m\u001B[43mv1\u001B[49m\u001B[43m)\u001B[49m\n\u001B[1;32m   1240\u001B[0m v0, v1 \u001B[38;5;241m=\u001B[39m \u001B[38;5;28mself\u001B[39m\u001B[38;5;241m.\u001B[39mlimit_range_for_scale(v0, v1)\n\u001B[1;32m   1241\u001B[0m v0, v1 \u001B[38;5;241m=\u001B[39m \u001B[38;5;28msorted\u001B[39m([v0, v1], reverse\u001B[38;5;241m=\u001B[39m\u001B[38;5;28mbool\u001B[39m(reverse))\n",
      "File \u001B[0;32m/usr/lib64/python3.12/site-packages/matplotlib/ticker.py:1647\u001B[0m, in \u001B[0;36mLocator.nonsingular\u001B[0;34m(self, v0, v1)\u001B[0m\n\u001B[1;32m   1633\u001B[0m \u001B[38;5;28;01mdef\u001B[39;00m \u001B[38;5;21mnonsingular\u001B[39m(\u001B[38;5;28mself\u001B[39m, v0, v1):\n\u001B[1;32m   1634\u001B[0m \u001B[38;5;250m    \u001B[39m\u001B[38;5;124;03m\"\"\"\u001B[39;00m\n\u001B[1;32m   1635\u001B[0m \u001B[38;5;124;03m    Adjust a range as needed to avoid singularities.\u001B[39;00m\n\u001B[1;32m   1636\u001B[0m \n\u001B[0;32m   (...)\u001B[0m\n\u001B[1;32m   1645\u001B[0m \u001B[38;5;124;03m    - Otherwise, ``(v0, v1)`` is returned without modification.\u001B[39;00m\n\u001B[1;32m   1646\u001B[0m \u001B[38;5;124;03m    \"\"\"\u001B[39;00m\n\u001B[0;32m-> 1647\u001B[0m     \u001B[38;5;28;01mreturn\u001B[39;00m \u001B[43mmtransforms\u001B[49m\u001B[38;5;241;43m.\u001B[39;49m\u001B[43mnonsingular\u001B[49m\u001B[43m(\u001B[49m\u001B[43mv0\u001B[49m\u001B[43m,\u001B[49m\u001B[43m \u001B[49m\u001B[43mv1\u001B[49m\u001B[43m,\u001B[49m\u001B[43m \u001B[49m\u001B[43mexpander\u001B[49m\u001B[38;5;241;43m=\u001B[39;49m\u001B[38;5;241;43m.05\u001B[39;49m\u001B[43m)\u001B[49m\n",
      "File \u001B[0;32m/usr/lib64/python3.12/site-packages/matplotlib/transforms.py:2845\u001B[0m, in \u001B[0;36mnonsingular\u001B[0;34m(vmin, vmax, expander, tiny, increasing)\u001B[0m\n\u001B[1;32m   2817\u001B[0m \u001B[38;5;28;01mdef\u001B[39;00m \u001B[38;5;21mnonsingular\u001B[39m(vmin, vmax, expander\u001B[38;5;241m=\u001B[39m\u001B[38;5;241m0.001\u001B[39m, tiny\u001B[38;5;241m=\u001B[39m\u001B[38;5;241m1e-15\u001B[39m, increasing\u001B[38;5;241m=\u001B[39m\u001B[38;5;28;01mTrue\u001B[39;00m):\n\u001B[1;32m   2818\u001B[0m \u001B[38;5;250m    \u001B[39m\u001B[38;5;124;03m\"\"\"\u001B[39;00m\n\u001B[1;32m   2819\u001B[0m \u001B[38;5;124;03m    Modify the endpoints of a range as needed to avoid singularities.\u001B[39;00m\n\u001B[1;32m   2820\u001B[0m \n\u001B[0;32m   (...)\u001B[0m\n\u001B[1;32m   2842\u001B[0m \u001B[38;5;124;03m        close to zero, it returns -*expander*, *expander*.\u001B[39;00m\n\u001B[1;32m   2843\u001B[0m \u001B[38;5;124;03m    \"\"\"\u001B[39;00m\n\u001B[0;32m-> 2845\u001B[0m     \u001B[38;5;28;01mif\u001B[39;00m (\u001B[38;5;129;01mnot\u001B[39;00m np\u001B[38;5;241m.\u001B[39misfinite(vmin)) \u001B[38;5;129;01mor\u001B[39;00m (\u001B[38;5;129;01mnot\u001B[39;00m \u001B[43mnp\u001B[49m\u001B[38;5;241;43m.\u001B[39;49m\u001B[43misfinite\u001B[49m\u001B[43m(\u001B[49m\u001B[43mvmax\u001B[49m\u001B[43m)\u001B[49m):\n\u001B[1;32m   2846\u001B[0m         \u001B[38;5;28;01mreturn\u001B[39;00m \u001B[38;5;241m-\u001B[39mexpander, expander\n\u001B[1;32m   2848\u001B[0m     swapped \u001B[38;5;241m=\u001B[39m \u001B[38;5;28;01mFalse\u001B[39;00m\n",
      "\u001B[0;31mTypeError\u001B[0m: ufunc 'isfinite' not supported for the input types, and the inputs could not be safely coerced to any supported types according to the casting rule ''safe''"
     ]
    },
    {
     "data": {
      "text/plain": [
       "<Figure size 640x480 with 1 Axes>"
      ],
      "image/png": "[encoded data removed]"
     },
     "metadata": {},
     "output_type": "display_data"
    }
   ],
   "execution_count": 85
  },
  {
   "cell_type": "code",
   "id": "faac73f5",
   "metadata": {
    "ExecuteTime": {
     "end_time": "2024-07-08T11:40:02.096080Z",
     "start_time": "2024-07-08T11:40:02.077513Z"
    }
   },
   "source": [
    "from matplotlib import pyplot\n",
    "\n",
    "propy_equy = prop__lambda_Nm2k__lambda_N((N-1)/2).simplify()\n",
    "display(propy_equy)\n",
    "\n",
    "def get_lambda1_coeffs(N_num_max : int, A_num : sp.RealNumber = A):\n",
    "    eqs = []\n",
    "    for N_num in range(1, N_num_max+1, 2):\n",
    "        funky = propy_equy.rhs.subs(N, N_num)\n",
    "        if A_num != A:\n",
    "            funky = funky.subs(A, A_num)\n",
    "        propy_symby = sp.symbols('\\\\lambda_1')/sp.symbols('\\\\lambda_{{N={}}}'.format(N_num))\n",
    "        \n",
    "        eqs.append((N_num, sp.Eq(propy_symby, funky)))\n",
    "        \n",
    "    return eqs    \n",
    "\n",
    "def plot_lambda1_coeffs(N_num_max : int, A_num = sp.RealNumber(1)):\n",
    "    coeffs = get_lambda1_coeffs(N_num_max, A_num)\n",
    "    points_x = []\n",
    "    points_y = []\n",
    "    for N_num, coef in coeffs:\n",
    "        points_x.append(N_num)\n",
    "        points_y.append(abs(coef.rhs))\n",
    "\n",
    "    pyplot.semilogy(points_x, points_y, marker=',')\n",
    "    pyplot.xlabel('N')\n",
    "    pyplot.ylabel('$\\\\dfrac{\\\\lambda_1}{\\\\lambda_N}$')\n",
    "\n"
   ],
   "outputs": [
    {
     "ename": "NameError",
     "evalue": "name 'prop__lambda_Nm2k__lambda_N' is not defined",
     "output_type": "error",
     "traceback": [
      "\u001B[0;31m---------------------------------------------------------------------------\u001B[0m",
      "\u001B[0;31mNameError\u001B[0m                                 Traceback (most recent call last)",
      "Cell \u001B[0;32mIn[66], line 3\u001B[0m\n\u001B[1;32m      1\u001B[0m \u001B[38;5;28;01mfrom\u001B[39;00m \u001B[38;5;21;01mmatplotlib\u001B[39;00m \u001B[38;5;28;01mimport\u001B[39;00m pyplot\n\u001B[0;32m----> 3\u001B[0m propy_equy \u001B[38;5;241m=\u001B[39m \u001B[43mprop__lambda_Nm2k__lambda_N\u001B[49m((N\u001B[38;5;241m-\u001B[39m\u001B[38;5;241m1\u001B[39m)\u001B[38;5;241m/\u001B[39m\u001B[38;5;241m2\u001B[39m)\u001B[38;5;241m.\u001B[39msimplify()\n\u001B[1;32m      4\u001B[0m display(propy_equy)\n\u001B[1;32m      6\u001B[0m \u001B[38;5;28;01mdef\u001B[39;00m \u001B[38;5;21mget_lambda1_coeffs\u001B[39m(N_num_max : \u001B[38;5;28mint\u001B[39m, A_num : sp\u001B[38;5;241m.\u001B[39mRealNumber \u001B[38;5;241m=\u001B[39m A):\n",
      "\u001B[0;31mNameError\u001B[0m: name 'prop__lambda_Nm2k__lambda_N' is not defined"
     ]
    }
   ],
   "execution_count": 66
  },
  {
   "cell_type": "code",
   "id": "336f53da",
   "metadata": {
    "ExecuteTime": {
     "end_time": "2024-07-08T11:40:04.444174Z",
     "start_time": "2024-07-08T11:40:04.430382Z"
    }
   },
   "source": [
    "A_num = 1.95\n",
    "plot_lambda1_coeffs(500, A_num)\n",
    "print('A_num={}'.format(A_num))"
   ],
   "outputs": [
    {
     "ename": "NameError",
     "evalue": "name 'plot_lambda1_coeffs' is not defined",
     "output_type": "error",
     "traceback": [
      "\u001B[0;31m---------------------------------------------------------------------------\u001B[0m",
      "\u001B[0;31mNameError\u001B[0m                                 Traceback (most recent call last)",
      "Cell \u001B[0;32mIn[67], line 2\u001B[0m\n\u001B[1;32m      1\u001B[0m A_num \u001B[38;5;241m=\u001B[39m \u001B[38;5;241m1.95\u001B[39m\n\u001B[0;32m----> 2\u001B[0m \u001B[43mplot_lambda1_coeffs\u001B[49m(\u001B[38;5;241m500\u001B[39m, A_num)\n\u001B[1;32m      3\u001B[0m \u001B[38;5;28mprint\u001B[39m(\u001B[38;5;124m'\u001B[39m\u001B[38;5;124mA_num=\u001B[39m\u001B[38;5;132;01m{}\u001B[39;00m\u001B[38;5;124m'\u001B[39m\u001B[38;5;241m.\u001B[39mformat(A_num))\n",
      "\u001B[0;31mNameError\u001B[0m: name 'plot_lambda1_coeffs' is not defined"
     ]
    }
   ],
   "execution_count": 67
  },
  {
   "cell_type": "code",
   "id": "d1c73d5c",
   "metadata": {
    "ExecuteTime": {
     "end_time": "2024-07-08T11:40:07.926166Z",
     "start_time": "2024-07-08T11:40:07.674218Z"
    }
   },
   "source": [
    "display(solutions[0][1])\n",
    "display(solutions[0][2])\n",
    "display(propy_equy)\n",
    "propy_equy.rhs*solutions[0][2]"
   ],
   "outputs": [
    {
     "data": {
      "text/plain": [
       "\\lambda_{N}"
      ],
      "image/png": "[encoded data removed]",
      "text/latex": "$\\displaystyle \\lambda_{N}$"
     },
     "metadata": {},
     "output_type": "display_data"
    },
    {
     "data": {
      "text/plain": [
       "    N   3           \n",
       "    ─ + ─           \n",
       "    2   2  N + 1  -N\n",
       "(-1)     ⋅2     ⋅A  \n",
       "────────────────────\n",
       "        π⋅N         "
      ],
      "image/png": "[encoded data removed]",
      "text/latex": "$\\displaystyle \\frac{\\left(-1\\right)^{\\frac{N}{2} + \\frac{3}{2}} \\cdot 2^{N + 1} A^{- N}}{\\pi N}$"
     },
     "metadata": {},
     "output_type": "display_data"
    },
    {
     "ename": "NameError",
     "evalue": "name 'propy_equy' is not defined",
     "output_type": "error",
     "traceback": [
      "\u001B[0;31m---------------------------------------------------------------------------\u001B[0m",
      "\u001B[0;31mNameError\u001B[0m                                 Traceback (most recent call last)",
      "Cell \u001B[0;32mIn[68], line 3\u001B[0m\n\u001B[1;32m      1\u001B[0m display(solutions[\u001B[38;5;241m0\u001B[39m][\u001B[38;5;241m1\u001B[39m])\n\u001B[1;32m      2\u001B[0m display(solutions[\u001B[38;5;241m0\u001B[39m][\u001B[38;5;241m2\u001B[39m])\n\u001B[0;32m----> 3\u001B[0m display(\u001B[43mpropy_equy\u001B[49m)\n\u001B[1;32m      4\u001B[0m propy_equy\u001B[38;5;241m.\u001B[39mrhs\u001B[38;5;241m*\u001B[39msolutions[\u001B[38;5;241m0\u001B[39m][\u001B[38;5;241m2\u001B[39m]\n",
      "\u001B[0;31mNameError\u001B[0m: name 'propy_equy' is not defined"
     ]
    }
   ],
   "execution_count": 68
  },
  {
   "cell_type": "code",
   "id": "c7c90e8b",
   "metadata": {
    "ExecuteTime": {
     "end_time": "2024-07-08T11:40:08.515405Z",
     "start_time": "2024-07-08T11:40:08.475436Z"
    }
   },
   "source": [
    "\n",
    "def get_lambdas(N_num: sp.Integer, A_num: sp.RealNumber):\n",
    "    assert N_num>0\n",
    "    assert N_num%2\n",
    "\n",
    "    \n",
    "\n",
    "    for k in range(int((N_num-1)/2), -1, -1):\n",
    "        display(prop__lambda_Nm2k__lambda_N(k).subs(N, N_num).subs(A, A_num))\n",
    "        \n",
    "\n",
    "get_lambdas(5, 1)\n",
    "    "
   ],
   "outputs": [
    {
     "ename": "NameError",
     "evalue": "name 'prop__lambda_Nm2k__lambda_N' is not defined",
     "output_type": "error",
     "traceback": [
      "\u001B[0;31m---------------------------------------------------------------------------\u001B[0m",
      "\u001B[0;31mNameError\u001B[0m                                 Traceback (most recent call last)",
      "Cell \u001B[0;32mIn[69], line 11\u001B[0m\n\u001B[1;32m      7\u001B[0m     \u001B[38;5;28;01mfor\u001B[39;00m k \u001B[38;5;129;01min\u001B[39;00m \u001B[38;5;28mrange\u001B[39m(\u001B[38;5;28mint\u001B[39m((N_num\u001B[38;5;241m-\u001B[39m\u001B[38;5;241m1\u001B[39m)\u001B[38;5;241m/\u001B[39m\u001B[38;5;241m2\u001B[39m), \u001B[38;5;241m-\u001B[39m\u001B[38;5;241m1\u001B[39m, \u001B[38;5;241m-\u001B[39m\u001B[38;5;241m1\u001B[39m):\n\u001B[1;32m      8\u001B[0m         display(prop__lambda_Nm2k__lambda_N(k)\u001B[38;5;241m.\u001B[39msubs(N, N_num)\u001B[38;5;241m.\u001B[39msubs(A, A_num))\n\u001B[0;32m---> 11\u001B[0m \u001B[43mget_lambdas\u001B[49m\u001B[43m(\u001B[49m\u001B[38;5;241;43m5\u001B[39;49m\u001B[43m,\u001B[49m\u001B[43m \u001B[49m\u001B[38;5;241;43m1\u001B[39;49m\u001B[43m)\u001B[49m\n",
      "Cell \u001B[0;32mIn[69], line 8\u001B[0m, in \u001B[0;36mget_lambdas\u001B[0;34m(N_num, A_num)\u001B[0m\n\u001B[1;32m      3\u001B[0m \u001B[38;5;28;01massert\u001B[39;00m N_num\u001B[38;5;241m%\u001B[39m\u001B[38;5;241m2\u001B[39m\n\u001B[1;32m      7\u001B[0m \u001B[38;5;28;01mfor\u001B[39;00m k \u001B[38;5;129;01min\u001B[39;00m \u001B[38;5;28mrange\u001B[39m(\u001B[38;5;28mint\u001B[39m((N_num\u001B[38;5;241m-\u001B[39m\u001B[38;5;241m1\u001B[39m)\u001B[38;5;241m/\u001B[39m\u001B[38;5;241m2\u001B[39m), \u001B[38;5;241m-\u001B[39m\u001B[38;5;241m1\u001B[39m, \u001B[38;5;241m-\u001B[39m\u001B[38;5;241m1\u001B[39m):\n\u001B[0;32m----> 8\u001B[0m     display(\u001B[43mprop__lambda_Nm2k__lambda_N\u001B[49m(k)\u001B[38;5;241m.\u001B[39msubs(N, N_num)\u001B[38;5;241m.\u001B[39msubs(A, A_num))\n",
      "\u001B[0;31mNameError\u001B[0m: name 'prop__lambda_Nm2k__lambda_N' is not defined"
     ]
    }
   ],
   "execution_count": 69
  },
  {
   "cell_type": "code",
   "id": "2168cec8",
   "metadata": {
    "ExecuteTime": {
     "end_time": "2024-07-08T11:40:09.593486Z",
     "start_time": "2024-07-08T11:40:09.575049Z"
    }
   },
   "source": [
    "lambda_1 = (propy_equy.rhs*solutions[0][2]).simplify()\n",
    "display(sp.Eq(sp.symbols('\\\\lambda_1^(N)'), lambda_1))\n",
    "\n",
    "funky = lambda_1.subs(A,1)\n",
    "funky "
   ],
   "outputs": [
    {
     "ename": "NameError",
     "evalue": "name 'propy_equy' is not defined",
     "output_type": "error",
     "traceback": [
      "\u001B[0;31m---------------------------------------------------------------------------\u001B[0m",
      "\u001B[0;31mNameError\u001B[0m                                 Traceback (most recent call last)",
      "Cell \u001B[0;32mIn[70], line 1\u001B[0m\n\u001B[0;32m----> 1\u001B[0m lambda_1 \u001B[38;5;241m=\u001B[39m (\u001B[43mpropy_equy\u001B[49m\u001B[38;5;241m.\u001B[39mrhs\u001B[38;5;241m*\u001B[39msolutions[\u001B[38;5;241m0\u001B[39m][\u001B[38;5;241m2\u001B[39m])\u001B[38;5;241m.\u001B[39msimplify()\n\u001B[1;32m      2\u001B[0m display(sp\u001B[38;5;241m.\u001B[39mEq(sp\u001B[38;5;241m.\u001B[39msymbols(\u001B[38;5;124m'\u001B[39m\u001B[38;5;130;01m\\\\\u001B[39;00m\u001B[38;5;124mlambda_1^(N)\u001B[39m\u001B[38;5;124m'\u001B[39m), lambda_1))\n\u001B[1;32m      4\u001B[0m funky \u001B[38;5;241m=\u001B[39m lambda_1\u001B[38;5;241m.\u001B[39msubs(A,\u001B[38;5;241m1\u001B[39m)\n",
      "\u001B[0;31mNameError\u001B[0m: name 'propy_equy' is not defined"
     ]
    }
   ],
   "execution_count": 70
  },
  {
   "cell_type": "code",
   "id": "b924da24",
   "metadata": {
    "ExecuteTime": {
     "end_time": "2024-07-08T11:40:10.269209Z",
     "start_time": "2024-07-08T11:40:10.267126Z"
    }
   },
   "source": [],
   "outputs": [],
   "execution_count": 70
  },
  {
   "cell_type": "code",
   "id": "5d0c693a",
   "metadata": {
    "ExecuteTime": {
     "end_time": "2024-07-08T11:40:10.773077Z",
     "start_time": "2024-07-08T11:40:10.754612Z"
    }
   },
   "source": [
    "coeffs = get_coeffs(13, 1-1.e-4)\n",
    "V_the_final = sp.Integer(0)\n",
    "\n",
    "for N_num, coef in coeffs:\n",
    "    print(N_num)\n",
    "    display(coef)\n",
    "    V_the_final += coef.rhs*phi**(N_num+1)/(N_num+1)\n",
    "\n",
    "V_the_final"
   ],
   "outputs": [
    {
     "ename": "NameError",
     "evalue": "name 'get_coeffs' is not defined",
     "output_type": "error",
     "traceback": [
      "\u001B[0;31m---------------------------------------------------------------------------\u001B[0m",
      "\u001B[0;31mNameError\u001B[0m                                 Traceback (most recent call last)",
      "Cell \u001B[0;32mIn[71], line 1\u001B[0m\n\u001B[0;32m----> 1\u001B[0m coeffs \u001B[38;5;241m=\u001B[39m \u001B[43mget_coeffs\u001B[49m(\u001B[38;5;241m13\u001B[39m, \u001B[38;5;241m1\u001B[39m\u001B[38;5;241m-\u001B[39m\u001B[38;5;241m1.e-4\u001B[39m)\n\u001B[1;32m      2\u001B[0m V_the_final \u001B[38;5;241m=\u001B[39m sp\u001B[38;5;241m.\u001B[39mInteger(\u001B[38;5;241m0\u001B[39m)\n\u001B[1;32m      4\u001B[0m \u001B[38;5;28;01mfor\u001B[39;00m N_num, coef \u001B[38;5;129;01min\u001B[39;00m coeffs:\n",
      "\u001B[0;31mNameError\u001B[0m: name 'get_coeffs' is not defined"
     ]
    }
   ],
   "execution_count": 71
  },
  {
   "cell_type": "code",
   "id": "28342781",
   "metadata": {
    "ExecuteTime": {
     "end_time": "2024-07-08T11:40:11.522976Z",
     "start_time": "2024-07-08T11:40:11.519544Z"
    }
   },
   "source": [
    "for k in range(1, 15):\n",
    "    "
   ],
   "outputs": [
    {
     "ename": "SyntaxError",
     "evalue": "incomplete input (1578848007.py, line 2)",
     "output_type": "error",
     "traceback": [
      "\u001B[0;36m  Cell \u001B[0;32mIn[72], line 2\u001B[0;36m\u001B[0m\n\u001B[0;31m    \u001B[0m\n\u001B[0m    ^\u001B[0m\n\u001B[0;31mSyntaxError\u001B[0m\u001B[0;31m:\u001B[0m incomplete input\n"
     ]
    }
   ],
   "execution_count": 72
  },
  {
   "cell_type": "code",
   "id": "5b6cab8e",
   "metadata": {},
   "source": [
    "from bokeh.io import output_notebook"
   ],
   "outputs": [],
   "execution_count": null
  },
  {
   "cell_type": "code",
   "id": "13447b23",
   "metadata": {},
   "source": [
    "_1 = sp.Integer(1)\n",
    "\n",
    "# https://oeis.org/A051711\n",
    "def a(n: sp.Integer):\n",
    "    assert n>=0\n",
    "\n",
    "    if n==0: return _1\n",
    "\n",
    "    return sp.factorial(n) * _4**n/_2"
   ],
   "outputs": [],
   "execution_count": null
  },
  {
   "cell_type": "code",
   "id": "ac5c3412",
   "metadata": {},
   "source": [],
   "outputs": [],
   "execution_count": null
  }
 ],
 "metadata": {
  "kernelspec": {
   "display_name": "Python 3 (ipykernel)",
   "language": "python",
   "name": "python3"
  },
  "language_info": {
   "codemirror_mode": {
    "name": "ipython",
    "version": 3
   },
   "file_extension": ".py",
   "mimetype": "text/x-python",
   "name": "python",
   "nbconvert_exporter": "python",
   "pygments_lexer": "ipython3",
   "version": "3.12.3"
  }
 },
 "nbformat": 4,
 "nbformat_minor": 5
}

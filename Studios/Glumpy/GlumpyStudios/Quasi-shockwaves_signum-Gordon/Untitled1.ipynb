{
 "cells": [
  {
   "cell_type": "code",
   "execution_count": 43,
   "id": "97437d93",
   "metadata": {},
   "outputs": [],
   "source": [
    "import numpy as np\n",
    "from matplotlib import pyplot\n",
    "from numpy import asarray as arr"
   ]
  },
  {
   "cell_type": "code",
   "execution_count": 5,
   "id": "56cc9a07",
   "metadata": {},
   "outputs": [],
   "source": [
    "theta = np.arange(0, 2*np.pi+0.1, 0.1)\n",
    "def f(theta, R):\n",
    "    return R*np.cos(theta), R*np.sin(theta)"
   ]
  },
  {
   "cell_type": "code",
   "execution_count": 95,
   "id": "13e79f14",
   "metadata": {},
   "outputs": [],
   "source": [
    "t0 = 1.2\n",
    "t = 0.2"
   ]
  },
  {
   "cell_type": "code",
   "execution_count": 96,
   "id": "753c3d19",
   "metadata": {},
   "outputs": [],
   "source": [
    "center_cone_x, center_cone_y = f(theta, t0)\n",
    "innercone_of_cone = f(theta, t0+t)\n",
    "outercone_of_cone = f(theta, t0-t)"
   ]
  },
  {
   "cell_type": "code",
   "execution_count": 109,
   "id": "8acad40a",
   "metadata": {},
   "outputs": [
    {
     "ename": "TypeError",
     "evalue": "add_patch() got an unexpected keyword argument 'label'",
     "output_type": "error",
     "traceback": [
      "\u001b[0;31m---------------------------------------------------------------------------\u001b[0m",
      "\u001b[0;31mTypeError\u001b[0m                                 Traceback (most recent call last)",
      "\u001b[0;32m<ipython-input-109-bd64bf564390>\u001b[0m in \u001b[0;36m<module>\u001b[0;34m\u001b[0m\n\u001b[1;32m     10\u001b[0m \u001b[0mcircle_small\u001b[0m \u001b[0;34m=\u001b[0m \u001b[0mpyplot\u001b[0m\u001b[0;34m.\u001b[0m\u001b[0mCircle\u001b[0m\u001b[0;34m(\u001b[0m\u001b[0;34m(\u001b[0m\u001b[0;36m0\u001b[0m\u001b[0;34m,\u001b[0m\u001b[0;36m0\u001b[0m\u001b[0;34m)\u001b[0m\u001b[0;34m,\u001b[0m \u001b[0mt0\u001b[0m\u001b[0;34m-\u001b[0m\u001b[0mt\u001b[0m\u001b[0;34m,\u001b[0m \u001b[0mcolor\u001b[0m\u001b[0;34m=\u001b[0m\u001b[0mcolors\u001b[0m\u001b[0;34m[\u001b[0m\u001b[0;36m1\u001b[0m\u001b[0;34m]\u001b[0m\u001b[0;34m)\u001b[0m\u001b[0;34m\u001b[0m\u001b[0;34m\u001b[0m\u001b[0m\n\u001b[1;32m     11\u001b[0m \u001b[0;34m\u001b[0m\u001b[0m\n\u001b[0;32m---> 12\u001b[0;31m \u001b[0max\u001b[0m\u001b[0;34m.\u001b[0m\u001b[0madd_patch\u001b[0m\u001b[0;34m(\u001b[0m\u001b[0mcircle_big\u001b[0m\u001b[0;34m,\u001b[0m \u001b[0mlabel\u001b[0m\u001b[0;34m=\u001b[0m\u001b[0;34m'sds'\u001b[0m\u001b[0;34m)\u001b[0m\u001b[0;34m\u001b[0m\u001b[0;34m\u001b[0m\u001b[0m\n\u001b[0m\u001b[1;32m     13\u001b[0m \u001b[0max\u001b[0m\u001b[0;34m.\u001b[0m\u001b[0madd_patch\u001b[0m\u001b[0;34m(\u001b[0m\u001b[0mcircle_small\u001b[0m\u001b[0;34m)\u001b[0m\u001b[0;34m\u001b[0m\u001b[0;34m\u001b[0m\u001b[0m\n\u001b[1;32m     14\u001b[0m \u001b[0;34m\u001b[0m\u001b[0m\n",
      "\u001b[0;31mTypeError\u001b[0m: add_patch() got an unexpected keyword argument 'label'"
     ]
    },
    {
     "data": {
      "image/png": "[encoded data removed]",
      "text/plain": [
       "<Figure size 700x700 with 1 Axes>"
      ]
     },
     "metadata": {
      "needs_background": "light"
     },
     "output_type": "display_data"
    }
   ],
   "source": [
    "fig = pyplot.figure(figsize=(7,7), dpi=100)\n",
    "ax = fig.add_subplot(111)\n",
    "\n",
    "\n",
    "colors = arr((255,255,204))/255., arr((199,233,180))/255., \\\n",
    "         arr((127,205,187))/255., arr((65,182,196))/255., arr((29,145,192))/255., arr((34,94,168))/255., arr((12,44,132))/255.\n",
    "\n",
    "\n",
    "circle_big = pyplot.Circle((0,0), t0+t, color=colors[0])\n",
    "circle_small = pyplot.Circle((0,0), t0-t, color=colors[1])\n",
    "\n",
    "ax.add_patch(circle_big, label='sds')\n",
    "ax.add_patch(circle_small)\n",
    "\n",
    "ax.plot(center_cone_x,center_cone_y, linewidth=0.5, color=colors[2])\n",
    "\n",
    "ax.plot(outercone_of_cone[0],outercone_of_cone[1], linewidth=1, color=colors[2], linestyle='--')\n",
    "ax.plot(innercone_of_cone[0],innercone_of_cone[1], linewidth=1, color=colors[2], linestyle='--')\n",
    "\n",
    "ax.text(-0.2, t0+t, \"$r=t_0+t$\", horizontalalignment='left', verticalalignment='bottom')\n",
    "ax.text(0, t0, \"$r=t_0$\", horizontalalignment='left', verticalalignment='bottom')\n",
    "ax.text(+0.2, t0-t, \"$r=t_0-t$\", horizontalalignment='left', verticalalignment='bottom')\n",
    "ax.text(0, 0, \"Exact match\\nbetween numerical and\\nexact solutions\", horizontalalignment='center', verticalalignment='center')\n",
    "ax.text(0, -t0, \"Noise\", horizontalalignment='center', verticalalignment='center')\n",
    "\n",
    "ax.set_aspect(1)\n",
    "ax.set_xlim(-2,2)\n",
    "ax.set_ylim(-2,2)\n",
    "\n",
    "ax.grid(which='major', axis='both', color=(0.8,0.8,0.8))"
   ]
  },
  {
   "cell_type": "code",
   "execution_count": null,
   "id": "5636f7c6",
   "metadata": {},
   "outputs": [],
   "source": [
    "\n"
   ]
  }
 ],
 "metadata": {
  "kernelspec": {
   "display_name": "Python 3",
   "language": "python",
   "name": "python3"
  },
  "language_info": {
   "codemirror_mode": {
    "name": "ipython",
    "version": 3
   },
   "file_extension": ".py",
   "mimetype": "text/x-python",
   "name": "python",
   "nbconvert_exporter": "python",
   "pygments_lexer": "ipython3",
   "version": "3.8.8"
  }
 },
 "nbformat": 4,
 "nbformat_minor": 5
}

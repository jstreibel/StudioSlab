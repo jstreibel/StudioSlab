{
 "cells": [
  {
   "cell_type": "code",
   "execution_count": 4,
   "metadata": {},
   "outputs": [],
   "source": [
    "eps = .1\n",
    "a = 1\n",
    "v=-1+eps**2/a"
   ]
  },
  {
   "cell_type": "code",
   "execution_count": 5,
   "metadata": {},
   "outputs": [],
   "source": [
    "def u_C1(t,x):\n",
    "    return ((2+v)*t**2 - 2*eps*t -v*x**2 + eps**2) / (2*(1+v)**2)\n",
    "\n",
    "def u_C2(t,x):\n",
    "    return (v*t**2 - 2*t*eps + (2-v)*x**2) / (2*(1-v)**2) + ((3-v)*eps**2) / (2*(1-v)**2*(v+1))\n",
    "\n",
    "def u_L1(t,x):\n",
    "    return (t**2 + (x+eps)**2) / (2*(1+v)**2)\n",
    "\n",
    "def u_L2(t,x):\n",
    "    return (x+eps-v*t)**2 / (1-v**2)**2\n",
    "\n",
    "def u_L3(t,x):\n",
    "    return (1/(2*(1-v**2)**2)) * (-v*(1-v**2)*(t**2-x**2) + (1+v**2)*(t**2+x**2) - 2*t*((1+v**2)*eps + 2*v*x) + 2*(1 + (2-v)*v)*x*eps + 2*eps**2)"
   ]
  },
  {
   "cell_type": "code",
   "execution_count": 7,
   "metadata": {},
   "outputs": [],
   "source": [
    "def isIn(val:float, vMin:float, vMax:float):\n",
    "    return True if val>=vMin and val<=vMax else False\n",
    "\n",
    "def E_C1(t):\n",
    "    if isIn(t, 0, eps/2):\n",
    "        return t*(2*t**2*(v+3) - 6*t*eps + 3*eps**2) / (3*(v+1)**2)\n",
    "    elif isIn(t, eps/2, eps):\n",
    "        return (eps-t)*(2*t**2*(v+3) + 2*t*(v-3)*eps - (v-3)*eps**2) / (3*(v+1)**2)        \n",
    "    \n",
    "    return .0\n",
    "\n",
    "def E_L1(t):\n",
    "    return (-8*t**3 + 6*t**2*eps - 3*t*eps**2 + eps**3) / (6*(v+1)**2)\n",
    "\n",
    "def E_L2(t):\n",
    "    if isIn(t, 0, eps/2):\n",
    "        return -(t**3*(v-1)) / (3*(v+1)**2)\n",
    "    elif isIn(t, eps/2, eps):\n",
    "        return -((1+v)*t - eps)**3 / (3*(v**2-1)**2)**2\n",
    "    \n",
    "    return .0\n",
    "\n",
    "def E_L3(t):\n",
    "    if isIn(t, eps/2, eps):\n",
    "        return (2*t-eps)*(2*t**2*(v*(v*(v+2)-1)+2) + t*(v*(v*(v-7)+5)-7)*eps - (v*(v*(v-4)+5)-4)*eps**2) / (6*(v**2-1)**2)\n",
    "    elif t>eps:\n",
    "        return eps*(6*t**2*(v+1)**2 + 3*t*(v*(v-2)-5)*(v+1)*eps - (v*(v*(v+2)-7)-10)*eps**2) / (6*(v**2-1)**2)\n",
    "    \n",
    "    return .0"
   ]
  },
  {
   "cell_type": "code",
   "execution_count": 8,
   "metadata": {},
   "outputs": [],
   "source": [
    "from numpy import arange\n",
    "from matplotlib import pyplot"
   ]
  },
  {
   "cell_type": "code",
   "execution_count": 10,
   "metadata": {},
   "outputs": [],
   "source": [
    "x = arange(-10*eps, 10*eps, .5*eps/10000)"
   ]
  },
  {
   "cell_type": "code",
   "execution_count": 12,
   "metadata": {},
   "outputs": [
    {
     "data": {
      "text/plain": [
       "[<matplotlib.lines.Line2D at 0x7fd5ec7f1b80>]"
      ]
     },
     "execution_count": 12,
     "metadata": {},
     "output_type": "execute_result"
    },
    {
     "data": {
      "image/png": "[encoded data removed]",
      "text/plain": [
       "<Figure size 432x288 with 1 Axes>"
      ]
     },
     "metadata": {
      "needs_background": "light"
     },
     "output_type": "display_data"
    }
   ],
   "source": [
    "pyplot.plot(x, u_L1(0, x))"
   ]
  },
  {
   "cell_type": "code",
   "execution_count": null,
   "metadata": {},
   "outputs": [],
   "source": []
  }
 ],
 "metadata": {
  "kernelspec": {
   "display_name": "Python 3",
   "language": "python",
   "name": "python3"
  },
  "language_info": {
   "codemirror_mode": {
    "name": "ipython",
    "version": 3
   },
   "file_extension": ".py",
   "mimetype": "text/x-python",
   "name": "python",
   "nbconvert_exporter": "python",
   "pygments_lexer": "ipython3",
   "version": "3.8.5"
  }
 },
 "nbformat": 4,
 "nbformat_minor": 4
}

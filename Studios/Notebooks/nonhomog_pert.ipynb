{
 "cells": [
  {
   "cell_type": "code",
   "execution_count": null,
   "metadata": {},
   "outputs": [],
   "source": [
    "import numpy as np\n",
    "import matplotlib.pyplot as plt\n",
    "\n",
    "# Parameters\n",
    "r0 = 5.0        # Characteristic radius of the skyrmion\n",
    "grid_size = 100  # Number of points along each axis\n",
    "x_max = 10      # Extent of the grid\n",
    "\n",
    "# Create a grid of points\n",
    "x = np.linspace(-x_max, x_max, grid_size)\n",
    "y = np.linspace(-x_max, x_max, grid_size)\n",
    "X, Y = np.meshgrid(x, y)\n",
    "\n",
    "# Convert to polar coordinates\n",
    "r = np.sqrt(X**2 + Y**2) + 1e-12  # Add a small number to avoid division by zero\n",
    "phi = np.arctan2(Y, X)\n",
    "\n",
    "# Skyrmion profile function\n",
    "theta = 2 * np.arctan(r0 / r)\n",
    "\n",
    "# Magnetization components\n",
    "mx = np.sin(theta) * np.cos(phi)\n",
    "my = np.sin(theta) * np.sin(phi)\n",
    "mz = np.cos(theta)\n",
    "\n",
    "# Plotting\n",
    "plt.figure(figsize=(8, 8))\n",
    "strm = plt.streamplot(X, Y, mx, my, color=mz, linewidth=1, cmap='seismic', density=2)\n",
    "plt.colorbar(strm.lines, label='$m_z$')\n",
    "plt.title('2D Skyrmion')\n",
    "plt.xlabel('x')\n",
    "plt.ylabel('y')\n",
    "plt.axis('equal')\n",
    "plt.tight_layout()\n",
    "plt.show()\n"
   ]
  }
 ],
 "metadata": {
  "kernelspec": {
   "display_name": "Julia 1.10.5",
   "language": "julia",
   "name": "julia-1.10"
  },
  "language_info": {
   "file_extension": ".jl",
   "mimetype": "application/julia",
   "name": "julia",
   "version": "1.10.5"
  }
 },
 "nbformat": 4,
 "nbformat_minor": 2
}

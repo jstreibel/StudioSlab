{
 "cells": [
  {
   "cell_type": "markdown",
   "id": "4a040f0d",
   "metadata": {},
   "source": [
    "# Mineracao vs servicos"
   ]
  },
  {
   "cell_type": "markdown",
   "id": "c504eaac",
   "metadata": {},
   "source": [
    "### Escalas de moeda"
   ]
  },
  {
   "cell_type": "code",
   "execution_count": 3,
   "id": "995816bf",
   "metadata": {},
   "outputs": [],
   "source": [
    "real = 6\n",
    "dolar = 1"
   ]
  },
  {
   "cell_type": "markdown",
   "id": "9118abdf",
   "metadata": {},
   "source": [
    "### Escalas de tempo"
   ]
  },
  {
   "cell_type": "code",
   "execution_count": 2,
   "id": "030ab7ff",
   "metadata": {},
   "outputs": [],
   "source": [
    "horas = 720\n",
    "meses = 1"
   ]
  },
  {
   "cell_type": "markdown",
   "id": "9ed7ffc4",
   "metadata": {},
   "source": [
    "### Estimativas preliminares"
   ]
  },
  {
   "cell_type": "markdown",
   "id": "01be95c8",
   "metadata": {},
   "source": [
    "#### Mineração"
   ]
  },
  {
   "cell_type": "markdown",
   "id": "fbb07b86",
   "metadata": {},
   "source": [
    "##### Em dolar por mes `m_dpm`"
   ]
  },
  {
   "cell_type": "code",
   "execution_count": null,
   "id": "040f1c76",
   "metadata": {},
   "outputs": [],
   "source": [
    "mdpm = "
   ]
  }
 ],
 "metadata": {
  "kernelspec": {
   "display_name": "Python 3 (ipykernel)",
   "language": "python",
   "name": "python3"
  },
  "language_info": {
   "codemirror_mode": {
    "name": "ipython",
    "version": 3
   },
   "file_extension": ".py",
   "mimetype": "text/x-python",
   "name": "python",
   "nbconvert_exporter": "python",
   "pygments_lexer": "ipython3",
   "version": "3.9.7"
  }
 },
 "nbformat": 4,
 "nbformat_minor": 5
}

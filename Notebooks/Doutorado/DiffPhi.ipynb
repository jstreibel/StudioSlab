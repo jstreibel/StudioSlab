{
 "cells": [
  {
   "cell_type": "code",
   "execution_count": 18,
   "id": "6c295407-4205-465b-9013-2960530316dd",
   "metadata": {},
   "outputs": [],
   "source": [
    "using Symbolics, SymbolicUtils"
   ]
  },
  {
   "cell_type": "code",
   "execution_count": 27,
   "id": "cd358c42-4a33-4ef8-b285-daa04d8582ed",
   "metadata": {},
   "outputs": [
    {
     "data": {
      "text/latex": [
       "$$ \\begin{equation}\n",
       "\\left[\n",
       "\\begin{array}{c}\n",
       "t \\\\\n",
       "r \\\\\n",
       "\\end{array}\n",
       "\\right]\n",
       "\\end{equation}\n",
       " $$"
      ],
      "text/plain": [
       "2-element Vector{Num}:\n",
       " t\n",
       " r"
      ]
     },
     "execution_count": 27,
     "metadata": {},
     "output_type": "execute_result"
    }
   ],
   "source": [
    "@variables t r"
   ]
  },
  {
   "cell_type": "code",
   "execution_count": 28,
   "id": "75225fb0-7fc6-47bb-98db-2778801e49fe",
   "metadata": {},
   "outputs": [
    {
     "data": {
      "text/plain": [
       "(::Differential) (generic function with 2 methods)"
      ]
     },
     "execution_count": 28,
     "metadata": {},
     "output_type": "execute_result"
    }
   ],
   "source": [
    "ddt=Differential(t)"
   ]
  },
  {
   "cell_type": "code",
   "execution_count": 30,
   "id": "5a9aabb3-8ff9-42ab-ad76-86a0bb99febd",
   "metadata": {},
   "outputs": [
    {
     "data": {
      "text/latex": [
       "$$ \\begin{equation}\n",
       "\\frac{1}{4} \\left( r^{2} - t^{2} \\right)\n",
       "\\end{equation}\n",
       " $$"
      ],
      "text/plain": [
       "(1//4)*(r^2 - (t^2))"
      ]
     },
     "execution_count": 30,
     "metadata": {},
     "output_type": "execute_result"
    }
   ],
   "source": [
    "z = (r^2-t^2)/4"
   ]
  },
  {
   "cell_type": "code",
   "execution_count": 31,
   "id": "9bce54e5-a1ca-4234-b22e-fed563b13d2d",
   "metadata": {},
   "outputs": [
    {
     "data": {
      "text/latex": [
       "$$ \\begin{equation}\n",
       "\\left[\n",
       "\\begin{array}{c}\n",
       "\\varphi\\left( \\frac{1}{4} \\left( r^{2} - t^{2} \\right) \\right) \\\\\n",
       "\\theta\\left(  - \\frac{1}{4} \\left( r^{2} - t^{2} \\right) \\right) \\\\\n",
       "\\end{array}\n",
       "\\right]\n",
       "\\end{equation}\n",
       " $$"
      ],
      "text/plain": [
       "2-element Vector{Num}:\n",
       "  φ((1//4)*(r^2 - (t^2)))\n",
       " θ((-1//4)*(r^2 - (t^2)))"
      ]
     },
     "execution_count": 31,
     "metadata": {},
     "output_type": "execute_result"
    }
   ],
   "source": [
    "@variables φ(z) θ(-z)"
   ]
  },
  {
   "cell_type": "code",
   "execution_count": 32,
   "id": "6127e088-ea96-470f-a239-12bfc8b70e6c",
   "metadata": {},
   "outputs": [
    {
     "data": {
      "text/latex": [
       "$$ \\begin{equation}\n",
       "\\theta\\left(  - \\frac{1}{4} \\left( r^{2} - t^{2} \\right) \\right) \\varphi\\left( \\frac{1}{4} \\left( r^{2} - t^{2} \\right) \\right)\n",
       "\\end{equation}\n",
       " $$"
      ],
      "text/plain": [
       "θ((-1//4)*(r^2 - (t^2)))*φ((1//4)*(r^2 - (t^2)))"
      ]
     },
     "execution_count": 32,
     "metadata": {},
     "output_type": "execute_result"
    }
   ],
   "source": [
    "ϕ = θ * φ"
   ]
  },
  {
   "cell_type": "code",
   "execution_count": 34,
   "id": "807b35ad-6b96-4def-95eb-72281220e4d0",
   "metadata": {},
   "outputs": [
    {
     "data": {
      "text/latex": [
       "$$ \\begin{equation}\n",
       " - \\frac{1}{2} \\theta\\left(  - \\frac{1}{4} \\left( r^{2} - t^{2} \\right) \\right) \\frac{\\mathrm{d} \\varphi\\left( \\frac{1}{4} \\left( r^{2} - t^{2} \\right) \\right)}{\\mathrm{d}r^2 - (t^2)} + \\frac{1}{2} \\varphi\\left( \\frac{1}{4} \\left( r^{2} - t^{2} \\right) \\right) \\frac{\\mathrm{d} \\theta\\left(  - \\frac{1}{4} \\left( r^{2} - t^{2} \\right) \\right)}{\\mathrm{d}r^2 - (t^2)} - \\frac{1}{2} t^{2} \\frac{\\mathrm{d} \\theta\\left(  - \\frac{1}{4} \\left( r^{2} - t^{2} \\right) \\right)}{\\mathrm{d}r^2 - (t^2)} \\frac{\\mathrm{d} \\varphi\\left( \\frac{1}{4} \\left( r^{2} - t^{2} \\right) \\right)}{\\mathrm{d}r^2 - (t^2)} + \\frac{1}{4} t^{2} \\theta\\left(  - \\frac{1}{4} \\left( r^{2} - t^{2} \\right) \\right) \\frac{\\mathrm{d}}{\\mathrm{d}r^2 - (t^2)} \\frac{\\mathrm{d} \\varphi\\left( \\frac{1}{4} \\left( r^{2} - t^{2} \\right) \\right)}{\\mathrm{d}r^2 - (t^2)} + \\frac{1}{4} t^{2} \\varphi\\left( \\frac{1}{4} \\left( r^{2} - t^{2} \\right) \\right) \\frac{\\mathrm{d}}{\\mathrm{d}r^2 - (t^2)} \\frac{\\mathrm{d} \\theta\\left(  - \\frac{1}{4} \\left( r^{2} - t^{2} \\right) \\right)}{\\mathrm{d}r^2 - (t^2)}\n",
       "\\end{equation}\n",
       " $$"
      ],
      "text/plain": [
       "(1//2)*φ((1//4)*(r^2 - (t^2)))*Differential((-1//4)*(r^2 - (t^2)))(θ((-1//4)*(r^2 - (t^2)))) + (1//4)*(t^2)*θ((-1//4)*(r^2 - (t^2)))*Differential((1//4)*(r^2 - (t^2)))(Differential((1//4)*(r^2 - (t^2)))(φ((1//4)*(r^2 - (t^2))))) + (1//4)*(t^2)*φ((1//4)*(r^2 - (t^2)))*Differential((-1//4)*(r^2 - (t^2)))(Differential((-1//4)*(r^2 - (t^2)))(θ((-1//4)*(r^2 - (t^2))))) - (1//2)*θ((-1//4)*(r^2 - (t^2)))*Differential((1//4)*(r^2 - (t^2)))(φ((1//4)*(r^2 - (t^2)))) - (1//2)*(t^2)*Differential((-1//4)*(r^2 - (t^2)))(θ((-1//4)*(r^2 - (t^2))))*Differential((1//4)*(r^2 - (t^2)))(φ((1//4)*(r^2 - (t^2))))"
      ]
     },
     "execution_count": 34,
     "metadata": {},
     "output_type": "execute_result"
    }
   ],
   "source": [
    "simplify(expand_derivatives(ddt(ddt(ϕ))))"
   ]
  },
  {
   "cell_type": "code",
   "execution_count": null,
   "id": "07f4d9cf-c7e1-4476-9b56-473a7b98ed21",
   "metadata": {},
   "outputs": [],
   "source": []
  }
 ],
 "metadata": {
  "kernelspec": {
   "display_name": "Julia 1.9.1",
   "language": "julia",
   "name": "julia-1.9"
  },
  "language_info": {
   "file_extension": ".jl",
   "mimetype": "application/julia",
   "name": "julia",
   "version": "1.9.1"
  }
 },
 "nbformat": 4,
 "nbformat_minor": 5
}

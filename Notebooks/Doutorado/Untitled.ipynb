{
 "cells": [
  {
   "cell_type": "code",
   "execution_count": 3,
   "id": "95865fde-f49e-446c-b83a-347c1e084df7",
   "metadata": {},
   "outputs": [
    {
     "name": "stderr",
     "output_type": "stream",
     "text": [
      "\u001b[36m\u001b[1m[ \u001b[22m\u001b[39m\u001b[36m\u001b[1mInfo: \u001b[22m\u001b[39mPrecompiling DifferentialEquations [0c46a032-eb83-5123-abaf-570d42b7fbaa]\n"
     ]
    }
   ],
   "source": [
    "using DifferentialEquations, Symbolics"
   ]
  },
  {
   "cell_type": "code",
   "execution_count": 27,
   "id": "0f4d0f44-34e6-40ad-8a4d-4240a4f6f181",
   "metadata": {},
   "outputs": [],
   "source": [
    "@variables r t n\n",
    "@variables ϕ(t,r) τ(t) ρ(r) a(n)"
   ]
  },
  {
   "cell_type": "code",
   "execution_count": 24,
   "id": "d917a3e4-ccf3-4639-ad78-a31972bc4626",
   "metadata": {},
   "outputs": [
    {
     "data": {
      "text/plain": [
       "Differential(t) ∘ Differential(t)"
      ]
     },
     "execution_count": 24,
     "metadata": {},
     "output_type": "execute_result"
    }
   ],
   "source": [
    "Dᵣ = Differential(r)\n",
    "Dᵣ²= Dᵣ*Dᵣ\n",
    "Dₜ = Differential(t)\n",
    "Dₜ² = Dₜ*Dₜ"
   ]
  },
  {
   "cell_type": "code",
   "execution_count": 26,
   "id": "2ec67c2b-12c5-4fc4-ba61-431590bbaf4a",
   "metadata": {},
   "outputs": [
    {
     "data": {
      "text/latex": [
       "$$ \\begin{equation}\n",
       "\\tau\\left( t \\right) \\frac{\\mathrm{d}}{\\mathrm{d}r} \\frac{\\mathrm{d} \\rho\\left( r \\right)}{\\mathrm{d}r}\n",
       "\\end{equation}\n",
       " $$"
      ],
      "text/plain": [
       "τ(t)*Differential(r)(Differential(r)(ρ(r)))"
      ]
     },
     "execution_count": 26,
     "metadata": {},
     "output_type": "execute_result"
    }
   ],
   "source": [
    "expand_derivatives(Dᵣ²(ϕ))"
   ]
  },
  {
   "cell_type": "code",
   "execution_count": null,
   "id": "7dd1face-1b73-4dde-bfef-89e9da50a3a8",
   "metadata": {},
   "outputs": [],
   "source": [
    "f = "
   ]
  }
 ],
 "metadata": {
  "kernelspec": {
   "display_name": "Julia 1.9.1",
   "language": "julia",
   "name": "julia-1.9"
  },
  "language_info": {
   "file_extension": ".jl",
   "mimetype": "application/julia",
   "name": "julia",
   "version": "1.9.1"
  }
 },
 "nbformat": 4,
 "nbformat_minor": 5
}
